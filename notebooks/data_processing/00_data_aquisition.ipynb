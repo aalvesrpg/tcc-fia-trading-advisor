version https://git-lfs.github.com/spec/v1
oid sha256:e09741427620d85f31d9d652b5e71645c4df77dbbf5ab152f0d6330ce197adb1
size 28955
