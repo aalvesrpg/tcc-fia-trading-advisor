version https://git-lfs.github.com/spec/v1
oid sha256:070fb8722cb92af2520fbba47b1f3463d3719f9d3e2400d99be7a60930d57409
size 110099
