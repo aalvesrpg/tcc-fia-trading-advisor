version https://git-lfs.github.com/spec/v1
oid sha256:d8ed036453c00a33f328163ee7c8bcf102d52b9a5652b7923057394a8ab44ff3
size 226468
