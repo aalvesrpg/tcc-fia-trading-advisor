version https://git-lfs.github.com/spec/v1
oid sha256:22c81bb9ade3e415bff2436fd6b618a23555996e99bdd3166ce5272e69df191f
size 911611
