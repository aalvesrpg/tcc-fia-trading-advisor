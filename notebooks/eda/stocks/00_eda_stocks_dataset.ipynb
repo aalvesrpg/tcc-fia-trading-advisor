{
 "cells": [
  {
   "cell_type": "markdown",
   "metadata": {},
   "source": [
    "# **Exploratory Data Analisys: Stocks**"
   ]
  },
  {
   "cell_type": "markdown",
   "metadata": {},
   "source": []
  },
  {
   "cell_type": "markdown",
   "metadata": {},
   "source": [
    "## **Initial Setup**"
   ]
  },
  {
   "cell_type": "markdown",
   "metadata": {},
   "source": [
    "### Install Packages"
   ]
  },
  {
   "cell_type": "code",
   "execution_count": 13,
   "metadata": {},
   "outputs": [
    {
     "name": "stdout",
     "output_type": "stream",
     "text": [
      "Note: you may need to restart the kernel to use updated packages.\n",
      "Note: you may need to restart the kernel to use updated packages.\n"
     ]
    }
   ],
   "source": [
    "%pip install pandas -q\n",
    "%pip install plotly -q"
   ]
  },
  {
   "cell_type": "markdown",
   "metadata": {},
   "source": [
    "### Import libs"
   ]
  },
  {
   "cell_type": "code",
   "execution_count": 14,
   "metadata": {},
   "outputs": [],
   "source": [
    "import os\n",
    "import pandas as pd\n",
    "from pathlib import Path\n",
    "import plotly.express as px\n",
    "import plotly.graph_objects as go\n",
    "import plotly.subplots as sp\n",
    "import warnings\n",
    "warnings.filterwarnings('ignore')"
   ]
  },
  {
   "cell_type": "markdown",
   "metadata": {},
   "source": [
    "### Pandas Config"
   ]
  },
  {
   "cell_type": "code",
   "execution_count": 15,
   "metadata": {},
   "outputs": [],
   "source": [
    "pd.set_option('display.max_columns', None)\n",
    "pd.set_option('display.max_rows', None)"
   ]
  },
  {
   "cell_type": "markdown",
   "metadata": {},
   "source": [
    "### Create a file path default"
   ]
  },
  {
   "cell_type": "code",
   "execution_count": 16,
   "metadata": {},
   "outputs": [],
   "source": [
    "file_path_book = str(Path(os.getcwd()).parent.parent.parent / \"data/book\")"
   ]
  },
  {
   "cell_type": "markdown",
   "metadata": {},
   "source": [
    "## Stocks"
   ]
  },
  {
   "cell_type": "markdown",
   "metadata": {},
   "source": [
    "### Load data"
   ]
  },
  {
   "cell_type": "code",
   "execution_count": 17,
   "metadata": {},
   "outputs": [
    {
     "data": {
      "text/html": [
       "<div>\n",
       "<style scoped>\n",
       "    .dataframe tbody tr th:only-of-type {\n",
       "        vertical-align: middle;\n",
       "    }\n",
       "\n",
       "    .dataframe tbody tr th {\n",
       "        vertical-align: top;\n",
       "    }\n",
       "\n",
       "    .dataframe thead th {\n",
       "        text-align: right;\n",
       "    }\n",
       "</style>\n",
       "<table border=\"1\" class=\"dataframe\">\n",
       "  <thead>\n",
       "    <tr style=\"text-align: right;\">\n",
       "      <th></th>\n",
       "      <th>ticker</th>\n",
       "      <th>adj_close</th>\n",
       "      <th>close</th>\n",
       "      <th>high</th>\n",
       "      <th>low</th>\n",
       "      <th>open</th>\n",
       "      <th>volume</th>\n",
       "      <th>daily_return</th>\n",
       "      <th>short_term_moving_average</th>\n",
       "      <th>moving_average_mean</th>\n",
       "      <th>long_term_moving_average</th>\n",
       "      <th>rsi</th>\n",
       "      <th>volatility</th>\n",
       "      <th>average_volume</th>\n",
       "      <th>daily_range</th>\n",
       "      <th>open_close_difference</th>\n",
       "      <th>high_low_difference</th>\n",
       "      <th>acceleration</th>\n",
       "      <th>cagr</th>\n",
       "      <th>date</th>\n",
       "      <th>hammer</th>\n",
       "    </tr>\n",
       "  </thead>\n",
       "  <tbody>\n",
       "    <tr>\n",
       "      <th>0</th>\n",
       "      <td>AALR3.SA</td>\n",
       "      <td>13.116831</td>\n",
       "      <td>13.250000</td>\n",
       "      <td>13.500000</td>\n",
       "      <td>13.250000</td>\n",
       "      <td>13.310000</td>\n",
       "      <td>264200.0</td>\n",
       "      <td>-0.244840</td>\n",
       "      <td>24.336316</td>\n",
       "      <td>26.882742</td>\n",
       "      <td>40.073211</td>\n",
       "      <td>49.558445</td>\n",
       "      <td>2.608253</td>\n",
       "      <td>1350674.45</td>\n",
       "      <td>0.250000</td>\n",
       "      <td>0.193170</td>\n",
       "      <td>0.250000</td>\n",
       "      <td>1.183744</td>\n",
       "      <td>2.691226</td>\n",
       "      <td>2019-01-02</td>\n",
       "      <td>True</td>\n",
       "    </tr>\n",
       "    <tr>\n",
       "      <th>1</th>\n",
       "      <td>ABCB4.SA</td>\n",
       "      <td>13.077144</td>\n",
       "      <td>17.120001</td>\n",
       "      <td>17.200001</td>\n",
       "      <td>16.350000</td>\n",
       "      <td>16.469999</td>\n",
       "      <td>571700.0</td>\n",
       "      <td>-0.003026</td>\n",
       "      <td>15.501511</td>\n",
       "      <td>16.783712</td>\n",
       "      <td>28.646179</td>\n",
       "      <td>51.147690</td>\n",
       "      <td>4.124473</td>\n",
       "      <td>1511679.60</td>\n",
       "      <td>0.850000</td>\n",
       "      <td>3.392856</td>\n",
       "      <td>0.850000</td>\n",
       "      <td>2.168210</td>\n",
       "      <td>2.691226</td>\n",
       "      <td>2019-01-02</td>\n",
       "      <td>True</td>\n",
       "    </tr>\n",
       "    <tr>\n",
       "      <th>2</th>\n",
       "      <td>ABEV3.SA</td>\n",
       "      <td>13.950425</td>\n",
       "      <td>16.150000</td>\n",
       "      <td>16.299999</td>\n",
       "      <td>15.400000</td>\n",
       "      <td>15.400000</td>\n",
       "      <td>18692900.0</td>\n",
       "      <td>0.066779</td>\n",
       "      <td>25.572333</td>\n",
       "      <td>56.099967</td>\n",
       "      <td>34.152325</td>\n",
       "      <td>48.063222</td>\n",
       "      <td>3.768121</td>\n",
       "      <td>4272660.23</td>\n",
       "      <td>0.900000</td>\n",
       "      <td>1.449574</td>\n",
       "      <td>0.900000</td>\n",
       "      <td>1.332295</td>\n",
       "      <td>2.691226</td>\n",
       "      <td>2019-01-02</td>\n",
       "      <td>True</td>\n",
       "    </tr>\n",
       "    <tr>\n",
       "      <th>3</th>\n",
       "      <td>ADHM3.SA</td>\n",
       "      <td>1.243981</td>\n",
       "      <td>1.243981</td>\n",
       "      <td>1.243981</td>\n",
       "      <td>1.235687</td>\n",
       "      <td>1.235687</td>\n",
       "      <td>2170.0</td>\n",
       "      <td>-0.910828</td>\n",
       "      <td>12.369824</td>\n",
       "      <td>42.135039</td>\n",
       "      <td>42.000483</td>\n",
       "      <td>44.749070</td>\n",
       "      <td>3.297899</td>\n",
       "      <td>5065109.77</td>\n",
       "      <td>0.008294</td>\n",
       "      <td>-0.008294</td>\n",
       "      <td>0.008294</td>\n",
       "      <td>1.057600</td>\n",
       "      <td>2.691226</td>\n",
       "      <td>2019-01-02</td>\n",
       "      <td>False</td>\n",
       "    </tr>\n",
       "    <tr>\n",
       "      <th>4</th>\n",
       "      <td>AFLT3.SA</td>\n",
       "      <td>4.572968</td>\n",
       "      <td>5.400000</td>\n",
       "      <td>5.480000</td>\n",
       "      <td>5.400000</td>\n",
       "      <td>5.480000</td>\n",
       "      <td>500.0</td>\n",
       "      <td>2.676076</td>\n",
       "      <td>9.915576</td>\n",
       "      <td>14.427780</td>\n",
       "      <td>19.353762</td>\n",
       "      <td>38.464328</td>\n",
       "      <td>1.412944</td>\n",
       "      <td>3458030.38</td>\n",
       "      <td>0.080000</td>\n",
       "      <td>0.907032</td>\n",
       "      <td>0.080000</td>\n",
       "      <td>0.279716</td>\n",
       "      <td>2.691226</td>\n",
       "      <td>2019-01-02</td>\n",
       "      <td>True</td>\n",
       "    </tr>\n",
       "  </tbody>\n",
       "</table>\n",
       "</div>"
      ],
      "text/plain": [
       "     ticker  adj_close      close       high        low       open  \\\n",
       "0  AALR3.SA  13.116831  13.250000  13.500000  13.250000  13.310000   \n",
       "1  ABCB4.SA  13.077144  17.120001  17.200001  16.350000  16.469999   \n",
       "2  ABEV3.SA  13.950425  16.150000  16.299999  15.400000  15.400000   \n",
       "3  ADHM3.SA   1.243981   1.243981   1.243981   1.235687   1.235687   \n",
       "4  AFLT3.SA   4.572968   5.400000   5.480000   5.400000   5.480000   \n",
       "\n",
       "       volume  daily_return  short_term_moving_average  moving_average_mean  \\\n",
       "0    264200.0     -0.244840                  24.336316            26.882742   \n",
       "1    571700.0     -0.003026                  15.501511            16.783712   \n",
       "2  18692900.0      0.066779                  25.572333            56.099967   \n",
       "3      2170.0     -0.910828                  12.369824            42.135039   \n",
       "4       500.0      2.676076                   9.915576            14.427780   \n",
       "\n",
       "   long_term_moving_average        rsi  volatility  average_volume  \\\n",
       "0                 40.073211  49.558445    2.608253      1350674.45   \n",
       "1                 28.646179  51.147690    4.124473      1511679.60   \n",
       "2                 34.152325  48.063222    3.768121      4272660.23   \n",
       "3                 42.000483  44.749070    3.297899      5065109.77   \n",
       "4                 19.353762  38.464328    1.412944      3458030.38   \n",
       "\n",
       "   daily_range  open_close_difference  high_low_difference  acceleration  \\\n",
       "0     0.250000               0.193170             0.250000      1.183744   \n",
       "1     0.850000               3.392856             0.850000      2.168210   \n",
       "2     0.900000               1.449574             0.900000      1.332295   \n",
       "3     0.008294              -0.008294             0.008294      1.057600   \n",
       "4     0.080000               0.907032             0.080000      0.279716   \n",
       "\n",
       "       cagr        date  hammer  \n",
       "0  2.691226  2019-01-02    True  \n",
       "1  2.691226  2019-01-02    True  \n",
       "2  2.691226  2019-01-02    True  \n",
       "3  2.691226  2019-01-02   False  \n",
       "4  2.691226  2019-01-02    True  "
      ]
     },
     "execution_count": 17,
     "metadata": {},
     "output_type": "execute_result"
    }
   ],
   "source": [
    "df_stocks_book = pd.read_csv(file_path_book + \"/stocks_book.csv\")\n",
    "df_stocks_book.head()"
   ]
  },
  {
   "cell_type": "code",
   "execution_count": 18,
   "metadata": {},
   "outputs": [
    {
     "data": {
      "text/html": [
       "<div>\n",
       "<style scoped>\n",
       "    .dataframe tbody tr th:only-of-type {\n",
       "        vertical-align: middle;\n",
       "    }\n",
       "\n",
       "    .dataframe tbody tr th {\n",
       "        vertical-align: top;\n",
       "    }\n",
       "\n",
       "    .dataframe thead th {\n",
       "        text-align: right;\n",
       "    }\n",
       "</style>\n",
       "<table border=\"1\" class=\"dataframe\">\n",
       "  <thead>\n",
       "    <tr style=\"text-align: right;\">\n",
       "      <th></th>\n",
       "      <th>adj_close</th>\n",
       "      <th>close</th>\n",
       "      <th>high</th>\n",
       "      <th>low</th>\n",
       "      <th>open</th>\n",
       "      <th>volume</th>\n",
       "      <th>daily_return</th>\n",
       "      <th>short_term_moving_average</th>\n",
       "      <th>moving_average_mean</th>\n",
       "      <th>long_term_moving_average</th>\n",
       "      <th>rsi</th>\n",
       "      <th>volatility</th>\n",
       "      <th>average_volume</th>\n",
       "      <th>daily_range</th>\n",
       "      <th>open_close_difference</th>\n",
       "      <th>high_low_difference</th>\n",
       "      <th>acceleration</th>\n",
       "      <th>cagr</th>\n",
       "    </tr>\n",
       "  </thead>\n",
       "  <tbody>\n",
       "    <tr>\n",
       "      <th>0</th>\n",
       "      <td>13.116831</td>\n",
       "      <td>13.250000</td>\n",
       "      <td>13.500000</td>\n",
       "      <td>13.250000</td>\n",
       "      <td>13.310000</td>\n",
       "      <td>264200.0</td>\n",
       "      <td>-0.244840</td>\n",
       "      <td>24.336316</td>\n",
       "      <td>26.882742</td>\n",
       "      <td>40.073211</td>\n",
       "      <td>49.558445</td>\n",
       "      <td>2.608253</td>\n",
       "      <td>1350674.45</td>\n",
       "      <td>0.250000</td>\n",
       "      <td>0.193170</td>\n",
       "      <td>0.250000</td>\n",
       "      <td>1.183744</td>\n",
       "      <td>2.691226</td>\n",
       "    </tr>\n",
       "    <tr>\n",
       "      <th>1</th>\n",
       "      <td>13.077144</td>\n",
       "      <td>17.120001</td>\n",
       "      <td>17.200001</td>\n",
       "      <td>16.350000</td>\n",
       "      <td>16.469999</td>\n",
       "      <td>571700.0</td>\n",
       "      <td>-0.003026</td>\n",
       "      <td>15.501511</td>\n",
       "      <td>16.783712</td>\n",
       "      <td>28.646179</td>\n",
       "      <td>51.147690</td>\n",
       "      <td>4.124473</td>\n",
       "      <td>1511679.60</td>\n",
       "      <td>0.850000</td>\n",
       "      <td>3.392856</td>\n",
       "      <td>0.850000</td>\n",
       "      <td>2.168210</td>\n",
       "      <td>2.691226</td>\n",
       "    </tr>\n",
       "    <tr>\n",
       "      <th>2</th>\n",
       "      <td>13.950425</td>\n",
       "      <td>16.150000</td>\n",
       "      <td>16.299999</td>\n",
       "      <td>15.400000</td>\n",
       "      <td>15.400000</td>\n",
       "      <td>18692900.0</td>\n",
       "      <td>0.066779</td>\n",
       "      <td>25.572333</td>\n",
       "      <td>56.099967</td>\n",
       "      <td>34.152325</td>\n",
       "      <td>48.063222</td>\n",
       "      <td>3.768121</td>\n",
       "      <td>4272660.23</td>\n",
       "      <td>0.900000</td>\n",
       "      <td>1.449574</td>\n",
       "      <td>0.900000</td>\n",
       "      <td>1.332295</td>\n",
       "      <td>2.691226</td>\n",
       "    </tr>\n",
       "    <tr>\n",
       "      <th>3</th>\n",
       "      <td>1.243981</td>\n",
       "      <td>1.243981</td>\n",
       "      <td>1.243981</td>\n",
       "      <td>1.235687</td>\n",
       "      <td>1.235687</td>\n",
       "      <td>2170.0</td>\n",
       "      <td>-0.910828</td>\n",
       "      <td>12.369824</td>\n",
       "      <td>42.135039</td>\n",
       "      <td>42.000483</td>\n",
       "      <td>44.749070</td>\n",
       "      <td>3.297899</td>\n",
       "      <td>5065109.77</td>\n",
       "      <td>0.008294</td>\n",
       "      <td>-0.008294</td>\n",
       "      <td>0.008294</td>\n",
       "      <td>1.057600</td>\n",
       "      <td>2.691226</td>\n",
       "    </tr>\n",
       "    <tr>\n",
       "      <th>4</th>\n",
       "      <td>4.572968</td>\n",
       "      <td>5.400000</td>\n",
       "      <td>5.480000</td>\n",
       "      <td>5.400000</td>\n",
       "      <td>5.480000</td>\n",
       "      <td>500.0</td>\n",
       "      <td>2.676076</td>\n",
       "      <td>9.915576</td>\n",
       "      <td>14.427780</td>\n",
       "      <td>19.353762</td>\n",
       "      <td>38.464328</td>\n",
       "      <td>1.412944</td>\n",
       "      <td>3458030.38</td>\n",
       "      <td>0.080000</td>\n",
       "      <td>0.907032</td>\n",
       "      <td>0.080000</td>\n",
       "      <td>0.279716</td>\n",
       "      <td>2.691226</td>\n",
       "    </tr>\n",
       "  </tbody>\n",
       "</table>\n",
       "</div>"
      ],
      "text/plain": [
       "   adj_close      close       high        low       open      volume  \\\n",
       "0  13.116831  13.250000  13.500000  13.250000  13.310000    264200.0   \n",
       "1  13.077144  17.120001  17.200001  16.350000  16.469999    571700.0   \n",
       "2  13.950425  16.150000  16.299999  15.400000  15.400000  18692900.0   \n",
       "3   1.243981   1.243981   1.243981   1.235687   1.235687      2170.0   \n",
       "4   4.572968   5.400000   5.480000   5.400000   5.480000       500.0   \n",
       "\n",
       "   daily_return  short_term_moving_average  moving_average_mean  \\\n",
       "0     -0.244840                  24.336316            26.882742   \n",
       "1     -0.003026                  15.501511            16.783712   \n",
       "2      0.066779                  25.572333            56.099967   \n",
       "3     -0.910828                  12.369824            42.135039   \n",
       "4      2.676076                   9.915576            14.427780   \n",
       "\n",
       "   long_term_moving_average        rsi  volatility  average_volume  \\\n",
       "0                 40.073211  49.558445    2.608253      1350674.45   \n",
       "1                 28.646179  51.147690    4.124473      1511679.60   \n",
       "2                 34.152325  48.063222    3.768121      4272660.23   \n",
       "3                 42.000483  44.749070    3.297899      5065109.77   \n",
       "4                 19.353762  38.464328    1.412944      3458030.38   \n",
       "\n",
       "   daily_range  open_close_difference  high_low_difference  acceleration  \\\n",
       "0     0.250000               0.193170             0.250000      1.183744   \n",
       "1     0.850000               3.392856             0.850000      2.168210   \n",
       "2     0.900000               1.449574             0.900000      1.332295   \n",
       "3     0.008294              -0.008294             0.008294      1.057600   \n",
       "4     0.080000               0.907032             0.080000      0.279716   \n",
       "\n",
       "       cagr  \n",
       "0  2.691226  \n",
       "1  2.691226  \n",
       "2  2.691226  \n",
       "3  2.691226  \n",
       "4  2.691226  "
      ]
     },
     "execution_count": 18,
     "metadata": {},
     "output_type": "execute_result"
    }
   ],
   "source": [
    "df_stocks_book_numeric_cols = df_stocks_book.select_dtypes(include=[\"int\", \"number\", \"float64\"])\n",
    "df_stocks_book_numeric_cols.head(5)"
   ]
  },
  {
   "cell_type": "markdown",
   "metadata": {},
   "source": [
    "### Stocks Analisys"
   ]
  },
  {
   "cell_type": "markdown",
   "metadata": {},
   "source": [
    "#### Dataset Infos"
   ]
  },
  {
   "cell_type": "markdown",
   "metadata": {},
   "source": [
    "##### Data Table"
   ]
  },
  {
   "cell_type": "code",
   "execution_count": 19,
   "metadata": {},
   "outputs": [
    {
     "data": {
      "text/plain": [
       "(363820, 21)"
      ]
     },
     "execution_count": 19,
     "metadata": {},
     "output_type": "execute_result"
    }
   ],
   "source": [
    "df_stocks_book.shape"
   ]
  },
  {
   "cell_type": "code",
   "execution_count": 20,
   "metadata": {},
   "outputs": [
    {
     "name": "stdout",
     "output_type": "stream",
     "text": [
      "<class 'pandas.core.frame.DataFrame'>\n",
      "RangeIndex: 363820 entries, 0 to 363819\n",
      "Data columns (total 21 columns):\n",
      " #   Column                     Non-Null Count   Dtype  \n",
      "---  ------                     --------------   -----  \n",
      " 0   ticker                     363820 non-null  object \n",
      " 1   adj_close                  363820 non-null  float64\n",
      " 2   close                      363820 non-null  float64\n",
      " 3   high                       363820 non-null  float64\n",
      " 4   low                        363820 non-null  float64\n",
      " 5   open                       363820 non-null  float64\n",
      " 6   volume                     363820 non-null  float64\n",
      " 7   daily_return               363820 non-null  float64\n",
      " 8   short_term_moving_average  363820 non-null  float64\n",
      " 9   moving_average_mean        363820 non-null  float64\n",
      " 10  long_term_moving_average   363820 non-null  float64\n",
      " 11  rsi                        363820 non-null  float64\n",
      " 12  volatility                 363820 non-null  float64\n",
      " 13  average_volume             363820 non-null  float64\n",
      " 14  daily_range                363820 non-null  float64\n",
      " 15  open_close_difference      363820 non-null  float64\n",
      " 16  high_low_difference        363820 non-null  float64\n",
      " 17  acceleration               363820 non-null  float64\n",
      " 18  cagr                       363820 non-null  float64\n",
      " 19  date                       363820 non-null  object \n",
      " 20  hammer                     363820 non-null  bool   \n",
      "dtypes: bool(1), float64(18), object(2)\n",
      "memory usage: 55.9+ MB\n"
     ]
    }
   ],
   "source": [
    "df_stocks_book.info()"
   ]
  },
  {
   "cell_type": "code",
   "execution_count": 21,
   "metadata": {},
   "outputs": [
    {
     "data": {
      "text/plain": [
       "ticker                          306\n",
       "adj_close                    177618\n",
       "close                         36187\n",
       "high                          37093\n",
       "low                           36764\n",
       "open                          36919\n",
       "volume                       112123\n",
       "daily_return                 336485\n",
       "short_term_moving_average    363710\n",
       "moving_average_mean          363790\n",
       "long_term_moving_average     363795\n",
       "rsi                          363795\n",
       "volatility                   363820\n",
       "average_volume               351972\n",
       "daily_range                   29332\n",
       "open_close_difference        220481\n",
       "high_low_difference           29332\n",
       "acceleration                 363733\n",
       "cagr                              1\n",
       "date                           1226\n",
       "hammer                            2\n",
       "dtype: int64"
      ]
     },
     "execution_count": 21,
     "metadata": {},
     "output_type": "execute_result"
    }
   ],
   "source": [
    "df_stocks_book.nunique()"
   ]
  },
  {
   "cell_type": "code",
   "execution_count": 22,
   "metadata": {},
   "outputs": [
    {
     "data": {
      "text/plain": [
       "ticker                       363820\n",
       "adj_close                    363820\n",
       "close                        363820\n",
       "high                         363820\n",
       "low                          363820\n",
       "open                         363820\n",
       "volume                       363820\n",
       "daily_return                 363820\n",
       "short_term_moving_average    363820\n",
       "moving_average_mean          363820\n",
       "long_term_moving_average     363820\n",
       "rsi                          363820\n",
       "volatility                   363820\n",
       "average_volume               363820\n",
       "daily_range                  363820\n",
       "open_close_difference        363820\n",
       "high_low_difference          363820\n",
       "acceleration                 363820\n",
       "cagr                         363820\n",
       "date                         363820\n",
       "hammer                       363820\n",
       "dtype: int64"
      ]
     },
     "execution_count": 22,
     "metadata": {},
     "output_type": "execute_result"
    }
   ],
   "source": [
    "df_stocks_book.isna().count()"
   ]
  },
  {
   "cell_type": "code",
   "execution_count": 23,
   "metadata": {},
   "outputs": [
    {
     "data": {
      "text/html": [
       "<div>\n",
       "<style scoped>\n",
       "    .dataframe tbody tr th:only-of-type {\n",
       "        vertical-align: middle;\n",
       "    }\n",
       "\n",
       "    .dataframe tbody tr th {\n",
       "        vertical-align: top;\n",
       "    }\n",
       "\n",
       "    .dataframe thead th {\n",
       "        text-align: right;\n",
       "    }\n",
       "</style>\n",
       "<table border=\"1\" class=\"dataframe\">\n",
       "  <thead>\n",
       "    <tr style=\"text-align: right;\">\n",
       "      <th></th>\n",
       "      <th>adj_close</th>\n",
       "      <th>close</th>\n",
       "      <th>high</th>\n",
       "      <th>low</th>\n",
       "      <th>open</th>\n",
       "      <th>volume</th>\n",
       "      <th>daily_return</th>\n",
       "      <th>short_term_moving_average</th>\n",
       "      <th>moving_average_mean</th>\n",
       "      <th>long_term_moving_average</th>\n",
       "      <th>rsi</th>\n",
       "      <th>volatility</th>\n",
       "      <th>average_volume</th>\n",
       "      <th>daily_range</th>\n",
       "      <th>open_close_difference</th>\n",
       "      <th>high_low_difference</th>\n",
       "      <th>acceleration</th>\n",
       "      <th>cagr</th>\n",
       "    </tr>\n",
       "  </thead>\n",
       "  <tbody>\n",
       "    <tr>\n",
       "      <th>count</th>\n",
       "      <td>363820.000000</td>\n",
       "      <td>363820.000000</td>\n",
       "      <td>363820.000000</td>\n",
       "      <td>363820.000000</td>\n",
       "      <td>363820.000000</td>\n",
       "      <td>3.638200e+05</td>\n",
       "      <td>363820.000000</td>\n",
       "      <td>363820.000000</td>\n",
       "      <td>363820.000000</td>\n",
       "      <td>363820.000000</td>\n",
       "      <td>363820.000000</td>\n",
       "      <td>363820.000000</td>\n",
       "      <td>3.638200e+05</td>\n",
       "      <td>363820.000000</td>\n",
       "      <td>363820.000000</td>\n",
       "      <td>363820.000000</td>\n",
       "      <td>363820.000000</td>\n",
       "      <td>3.638200e+05</td>\n",
       "    </tr>\n",
       "    <tr>\n",
       "      <th>mean</th>\n",
       "      <td>45.425353</td>\n",
       "      <td>50.081582</td>\n",
       "      <td>50.859794</td>\n",
       "      <td>49.273789</td>\n",
       "      <td>50.110377</td>\n",
       "      <td>3.230378e+06</td>\n",
       "      <td>2.691218</td>\n",
       "      <td>45.425340</td>\n",
       "      <td>45.428094</td>\n",
       "      <td>45.424652</td>\n",
       "      <td>49.910753</td>\n",
       "      <td>9.524282</td>\n",
       "      <td>3.230433e+06</td>\n",
       "      <td>1.586005</td>\n",
       "      <td>4.685024</td>\n",
       "      <td>1.586005</td>\n",
       "      <td>2.691224</td>\n",
       "      <td>2.691226e+00</td>\n",
       "    </tr>\n",
       "    <tr>\n",
       "      <th>std</th>\n",
       "      <td>461.036153</td>\n",
       "      <td>501.158462</td>\n",
       "      <td>509.431326</td>\n",
       "      <td>492.223360</td>\n",
       "      <td>501.753183</td>\n",
       "      <td>1.081284e+07</td>\n",
       "      <td>21.779886</td>\n",
       "      <td>143.230842</td>\n",
       "      <td>61.199423</td>\n",
       "      <td>21.583298</td>\n",
       "      <td>8.494915</td>\n",
       "      <td>19.648080</td>\n",
       "      <td>2.534743e+06</td>\n",
       "      <td>19.587336</td>\n",
       "      <td>42.595625</td>\n",
       "      <td>19.587336</td>\n",
       "      <td>9.510205</td>\n",
       "      <td>1.332269e-15</td>\n",
       "    </tr>\n",
       "    <tr>\n",
       "      <th>min</th>\n",
       "      <td>-8.933279</td>\n",
       "      <td>0.100000</td>\n",
       "      <td>0.000000</td>\n",
       "      <td>0.000000</td>\n",
       "      <td>0.000000</td>\n",
       "      <td>0.000000e+00</td>\n",
       "      <td>-10.588787</td>\n",
       "      <td>4.735756</td>\n",
       "      <td>8.049108</td>\n",
       "      <td>12.653517</td>\n",
       "      <td>0.689683</td>\n",
       "      <td>0.714846</td>\n",
       "      <td>1.339655e+05</td>\n",
       "      <td>0.000000</td>\n",
       "      <td>-310.000000</td>\n",
       "      <td>0.000000</td>\n",
       "      <td>-2.314080</td>\n",
       "      <td>2.691226e+00</td>\n",
       "    </tr>\n",
       "    <tr>\n",
       "      <th>25%</th>\n",
       "      <td>6.095949</td>\n",
       "      <td>6.800000</td>\n",
       "      <td>6.950000</td>\n",
       "      <td>6.680000</td>\n",
       "      <td>6.800000</td>\n",
       "      <td>1.200000e+03</td>\n",
       "      <td>-0.541874</td>\n",
       "      <td>13.961986</td>\n",
       "      <td>17.383726</td>\n",
       "      <td>21.384255</td>\n",
       "      <td>47.336374</td>\n",
       "      <td>2.159905</td>\n",
       "      <td>1.417786e+06</td>\n",
       "      <td>0.080000</td>\n",
       "      <td>0.040000</td>\n",
       "      <td>0.080000</td>\n",
       "      <td>0.309653</td>\n",
       "      <td>2.691226e+00</td>\n",
       "    </tr>\n",
       "    <tr>\n",
       "      <th>50%</th>\n",
       "      <td>12.669119</td>\n",
       "      <td>14.100000</td>\n",
       "      <td>14.400000</td>\n",
       "      <td>13.850000</td>\n",
       "      <td>14.105958</td>\n",
       "      <td>9.640000e+04</td>\n",
       "      <td>-0.035863</td>\n",
       "      <td>18.237952</td>\n",
       "      <td>21.222654</td>\n",
       "      <td>52.781723</td>\n",
       "      <td>50.014820</td>\n",
       "      <td>3.149106</td>\n",
       "      <td>2.554443e+06</td>\n",
       "      <td>0.320000</td>\n",
       "      <td>0.689189</td>\n",
       "      <td>0.320000</td>\n",
       "      <td>0.859126</td>\n",
       "      <td>2.691226e+00</td>\n",
       "    </tr>\n",
       "    <tr>\n",
       "      <th>75%</th>\n",
       "      <td>24.243753</td>\n",
       "      <td>27.860001</td>\n",
       "      <td>28.280001</td>\n",
       "      <td>27.450001</td>\n",
       "      <td>27.889999</td>\n",
       "      <td>1.929200e+06</td>\n",
       "      <td>1.080373</td>\n",
       "      <td>25.316998</td>\n",
       "      <td>26.336294</td>\n",
       "      <td>62.149627</td>\n",
       "      <td>52.377848</td>\n",
       "      <td>6.655450</td>\n",
       "      <td>4.266911e+06</td>\n",
       "      <td>0.730000</td>\n",
       "      <td>2.417337</td>\n",
       "      <td>0.730000</td>\n",
       "      <td>1.729894</td>\n",
       "      <td>2.691226e+00</td>\n",
       "    </tr>\n",
       "    <tr>\n",
       "      <th>max</th>\n",
       "      <td>15119.101562</td>\n",
       "      <td>16460.000000</td>\n",
       "      <td>16900.000000</td>\n",
       "      <td>16270.000000</td>\n",
       "      <td>16810.000000</td>\n",
       "      <td>5.530806e+08</td>\n",
       "      <td>1005.257649</td>\n",
       "      <td>1529.201570</td>\n",
       "      <td>331.767181</td>\n",
       "      <td>103.964857</td>\n",
       "      <td>99.419100</td>\n",
       "      <td>224.855811</td>\n",
       "      <td>3.644379e+07</td>\n",
       "      <td>1510.000000</td>\n",
       "      <td>2315.502930</td>\n",
       "      <td>1510.000000</td>\n",
       "      <td>201.116256</td>\n",
       "      <td>2.691226e+00</td>\n",
       "    </tr>\n",
       "  </tbody>\n",
       "</table>\n",
       "</div>"
      ],
      "text/plain": [
       "           adj_close          close           high            low  \\\n",
       "count  363820.000000  363820.000000  363820.000000  363820.000000   \n",
       "mean       45.425353      50.081582      50.859794      49.273789   \n",
       "std       461.036153     501.158462     509.431326     492.223360   \n",
       "min        -8.933279       0.100000       0.000000       0.000000   \n",
       "25%         6.095949       6.800000       6.950000       6.680000   \n",
       "50%        12.669119      14.100000      14.400000      13.850000   \n",
       "75%        24.243753      27.860001      28.280001      27.450001   \n",
       "max     15119.101562   16460.000000   16900.000000   16270.000000   \n",
       "\n",
       "                open        volume   daily_return  short_term_moving_average  \\\n",
       "count  363820.000000  3.638200e+05  363820.000000              363820.000000   \n",
       "mean       50.110377  3.230378e+06       2.691218                  45.425340   \n",
       "std       501.753183  1.081284e+07      21.779886                 143.230842   \n",
       "min         0.000000  0.000000e+00     -10.588787                   4.735756   \n",
       "25%         6.800000  1.200000e+03      -0.541874                  13.961986   \n",
       "50%        14.105958  9.640000e+04      -0.035863                  18.237952   \n",
       "75%        27.889999  1.929200e+06       1.080373                  25.316998   \n",
       "max     16810.000000  5.530806e+08    1005.257649                1529.201570   \n",
       "\n",
       "       moving_average_mean  long_term_moving_average            rsi  \\\n",
       "count        363820.000000             363820.000000  363820.000000   \n",
       "mean             45.428094                 45.424652      49.910753   \n",
       "std              61.199423                 21.583298       8.494915   \n",
       "min               8.049108                 12.653517       0.689683   \n",
       "25%              17.383726                 21.384255      47.336374   \n",
       "50%              21.222654                 52.781723      50.014820   \n",
       "75%              26.336294                 62.149627      52.377848   \n",
       "max             331.767181                103.964857      99.419100   \n",
       "\n",
       "          volatility  average_volume    daily_range  open_close_difference  \\\n",
       "count  363820.000000    3.638200e+05  363820.000000          363820.000000   \n",
       "mean        9.524282    3.230433e+06       1.586005               4.685024   \n",
       "std        19.648080    2.534743e+06      19.587336              42.595625   \n",
       "min         0.714846    1.339655e+05       0.000000            -310.000000   \n",
       "25%         2.159905    1.417786e+06       0.080000               0.040000   \n",
       "50%         3.149106    2.554443e+06       0.320000               0.689189   \n",
       "75%         6.655450    4.266911e+06       0.730000               2.417337   \n",
       "max       224.855811    3.644379e+07    1510.000000            2315.502930   \n",
       "\n",
       "       high_low_difference   acceleration          cagr  \n",
       "count        363820.000000  363820.000000  3.638200e+05  \n",
       "mean              1.586005       2.691224  2.691226e+00  \n",
       "std              19.587336       9.510205  1.332269e-15  \n",
       "min               0.000000      -2.314080  2.691226e+00  \n",
       "25%               0.080000       0.309653  2.691226e+00  \n",
       "50%               0.320000       0.859126  2.691226e+00  \n",
       "75%               0.730000       1.729894  2.691226e+00  \n",
       "max            1510.000000     201.116256  2.691226e+00  "
      ]
     },
     "execution_count": 23,
     "metadata": {},
     "output_type": "execute_result"
    }
   ],
   "source": [
    "df_stocks_book.describe()"
   ]
  },
  {
   "cell_type": "markdown",
   "metadata": {},
   "source": [
    "#### Coefficient of variation"
   ]
  },
  {
   "cell_type": "code",
   "execution_count": 27,
   "metadata": {},
   "outputs": [
    {
     "data": {
      "application/vnd.plotly.v1+json": {
       "config": {
        "plotlyServerURL": "https://plot.ly"
       },
       "data": [
        {
         "alignmentgroup": "True",
         "hovertemplate": "<b>%{hovertext}</b><br><br>coefficient_variation=%{x}<br>column=%{y}<extra></extra>",
         "hovertext": [
          "high_low_difference",
          "daily_range",
          "adj_close",
          "high",
          "open",
          "close",
          "low",
          "open_close_difference",
          "daily_return",
          "acceleration",
          "volume",
          "short_term_moving_average",
          "volatility",
          "moving_average_mean",
          "average_volume",
          "long_term_moving_average",
          "rsi",
          "cagr"
         ],
         "legendgroup": "",
         "marker": {
          "color": "rgb(100, 195, 181)",
          "pattern": {
           "shape": ""
          }
         },
         "name": "",
         "offsetgroup": "",
         "orientation": "h",
         "showlegend": false,
         "text": [
          "1235%",
          "1235%",
          "1015%",
          "1002%",
          "1001%",
          "1001%",
          "999%",
          "909%",
          "809%",
          "353%",
          "335%",
          "315%",
          "206%",
          "135%",
          "78%",
          "48%",
          "17%",
          "0%"
         ],
         "textposition": "outside",
         "type": "bar",
         "x": [
          1235.0106353063866,
          1235.0106353063866,
          1014.9313611050155,
          1001.6385910462049,
          1001.2959744246828,
          1000.6841594918664,
          998.9557779684374,
          909.1869911205272,
          809.294722747436,
          353.37847365294783,
          334.7235369555432,
          315.31044773173534,
          206.29461252993937,
          134.7171248865319,
          78.46451201151037,
          47.514502385141896,
          17.020210180420417,
          4.9504179656795425e-14
         ],
         "xaxis": "x",
         "y": [
          "high_low_difference",
          "daily_range",
          "adj_close",
          "high",
          "open",
          "close",
          "low",
          "open_close_difference",
          "daily_return",
          "acceleration",
          "volume",
          "short_term_moving_average",
          "volatility",
          "moving_average_mean",
          "average_volume",
          "long_term_moving_average",
          "rsi",
          "cagr"
         ],
         "yaxis": "y"
        }
       ],
       "layout": {
        "barmode": "relative",
        "font": {
         "color": "white"
        },
        "height": 800,
        "hovermode": "y",
        "legend": {
         "tracegroupgap": 0
        },
        "template": {
         "data": {
          "bar": [
           {
            "error_x": {
             "color": "#f2f5fa"
            },
            "error_y": {
             "color": "#f2f5fa"
            },
            "marker": {
             "line": {
              "color": "rgb(17,17,17)",
              "width": 0.5
             },
             "pattern": {
              "fillmode": "overlay",
              "size": 10,
              "solidity": 0.2
             }
            },
            "type": "bar"
           }
          ],
          "barpolar": [
           {
            "marker": {
             "line": {
              "color": "rgb(17,17,17)",
              "width": 0.5
             },
             "pattern": {
              "fillmode": "overlay",
              "size": 10,
              "solidity": 0.2
             }
            },
            "type": "barpolar"
           }
          ],
          "carpet": [
           {
            "aaxis": {
             "endlinecolor": "#A2B1C6",
             "gridcolor": "#506784",
             "linecolor": "#506784",
             "minorgridcolor": "#506784",
             "startlinecolor": "#A2B1C6"
            },
            "baxis": {
             "endlinecolor": "#A2B1C6",
             "gridcolor": "#506784",
             "linecolor": "#506784",
             "minorgridcolor": "#506784",
             "startlinecolor": "#A2B1C6"
            },
            "type": "carpet"
           }
          ],
          "choropleth": [
           {
            "colorbar": {
             "outlinewidth": 0,
             "ticks": ""
            },
            "type": "choropleth"
           }
          ],
          "contour": [
           {
            "colorbar": {
             "outlinewidth": 0,
             "ticks": ""
            },
            "colorscale": [
             [
              0,
              "#0d0887"
             ],
             [
              0.1111111111111111,
              "#46039f"
             ],
             [
              0.2222222222222222,
              "#7201a8"
             ],
             [
              0.3333333333333333,
              "#9c179e"
             ],
             [
              0.4444444444444444,
              "#bd3786"
             ],
             [
              0.5555555555555556,
              "#d8576b"
             ],
             [
              0.6666666666666666,
              "#ed7953"
             ],
             [
              0.7777777777777778,
              "#fb9f3a"
             ],
             [
              0.8888888888888888,
              "#fdca26"
             ],
             [
              1,
              "#f0f921"
             ]
            ],
            "type": "contour"
           }
          ],
          "contourcarpet": [
           {
            "colorbar": {
             "outlinewidth": 0,
             "ticks": ""
            },
            "type": "contourcarpet"
           }
          ],
          "heatmap": [
           {
            "colorbar": {
             "outlinewidth": 0,
             "ticks": ""
            },
            "colorscale": [
             [
              0,
              "#0d0887"
             ],
             [
              0.1111111111111111,
              "#46039f"
             ],
             [
              0.2222222222222222,
              "#7201a8"
             ],
             [
              0.3333333333333333,
              "#9c179e"
             ],
             [
              0.4444444444444444,
              "#bd3786"
             ],
             [
              0.5555555555555556,
              "#d8576b"
             ],
             [
              0.6666666666666666,
              "#ed7953"
             ],
             [
              0.7777777777777778,
              "#fb9f3a"
             ],
             [
              0.8888888888888888,
              "#fdca26"
             ],
             [
              1,
              "#f0f921"
             ]
            ],
            "type": "heatmap"
           }
          ],
          "heatmapgl": [
           {
            "colorbar": {
             "outlinewidth": 0,
             "ticks": ""
            },
            "colorscale": [
             [
              0,
              "#0d0887"
             ],
             [
              0.1111111111111111,
              "#46039f"
             ],
             [
              0.2222222222222222,
              "#7201a8"
             ],
             [
              0.3333333333333333,
              "#9c179e"
             ],
             [
              0.4444444444444444,
              "#bd3786"
             ],
             [
              0.5555555555555556,
              "#d8576b"
             ],
             [
              0.6666666666666666,
              "#ed7953"
             ],
             [
              0.7777777777777778,
              "#fb9f3a"
             ],
             [
              0.8888888888888888,
              "#fdca26"
             ],
             [
              1,
              "#f0f921"
             ]
            ],
            "type": "heatmapgl"
           }
          ],
          "histogram": [
           {
            "marker": {
             "pattern": {
              "fillmode": "overlay",
              "size": 10,
              "solidity": 0.2
             }
            },
            "type": "histogram"
           }
          ],
          "histogram2d": [
           {
            "colorbar": {
             "outlinewidth": 0,
             "ticks": ""
            },
            "colorscale": [
             [
              0,
              "#0d0887"
             ],
             [
              0.1111111111111111,
              "#46039f"
             ],
             [
              0.2222222222222222,
              "#7201a8"
             ],
             [
              0.3333333333333333,
              "#9c179e"
             ],
             [
              0.4444444444444444,
              "#bd3786"
             ],
             [
              0.5555555555555556,
              "#d8576b"
             ],
             [
              0.6666666666666666,
              "#ed7953"
             ],
             [
              0.7777777777777778,
              "#fb9f3a"
             ],
             [
              0.8888888888888888,
              "#fdca26"
             ],
             [
              1,
              "#f0f921"
             ]
            ],
            "type": "histogram2d"
           }
          ],
          "histogram2dcontour": [
           {
            "colorbar": {
             "outlinewidth": 0,
             "ticks": ""
            },
            "colorscale": [
             [
              0,
              "#0d0887"
             ],
             [
              0.1111111111111111,
              "#46039f"
             ],
             [
              0.2222222222222222,
              "#7201a8"
             ],
             [
              0.3333333333333333,
              "#9c179e"
             ],
             [
              0.4444444444444444,
              "#bd3786"
             ],
             [
              0.5555555555555556,
              "#d8576b"
             ],
             [
              0.6666666666666666,
              "#ed7953"
             ],
             [
              0.7777777777777778,
              "#fb9f3a"
             ],
             [
              0.8888888888888888,
              "#fdca26"
             ],
             [
              1,
              "#f0f921"
             ]
            ],
            "type": "histogram2dcontour"
           }
          ],
          "mesh3d": [
           {
            "colorbar": {
             "outlinewidth": 0,
             "ticks": ""
            },
            "type": "mesh3d"
           }
          ],
          "parcoords": [
           {
            "line": {
             "colorbar": {
              "outlinewidth": 0,
              "ticks": ""
             }
            },
            "type": "parcoords"
           }
          ],
          "pie": [
           {
            "automargin": true,
            "type": "pie"
           }
          ],
          "scatter": [
           {
            "marker": {
             "line": {
              "color": "#283442"
             }
            },
            "type": "scatter"
           }
          ],
          "scatter3d": [
           {
            "line": {
             "colorbar": {
              "outlinewidth": 0,
              "ticks": ""
             }
            },
            "marker": {
             "colorbar": {
              "outlinewidth": 0,
              "ticks": ""
             }
            },
            "type": "scatter3d"
           }
          ],
          "scattercarpet": [
           {
            "marker": {
             "colorbar": {
              "outlinewidth": 0,
              "ticks": ""
             }
            },
            "type": "scattercarpet"
           }
          ],
          "scattergeo": [
           {
            "marker": {
             "colorbar": {
              "outlinewidth": 0,
              "ticks": ""
             }
            },
            "type": "scattergeo"
           }
          ],
          "scattergl": [
           {
            "marker": {
             "line": {
              "color": "#283442"
             }
            },
            "type": "scattergl"
           }
          ],
          "scattermapbox": [
           {
            "marker": {
             "colorbar": {
              "outlinewidth": 0,
              "ticks": ""
             }
            },
            "type": "scattermapbox"
           }
          ],
          "scatterpolar": [
           {
            "marker": {
             "colorbar": {
              "outlinewidth": 0,
              "ticks": ""
             }
            },
            "type": "scatterpolar"
           }
          ],
          "scatterpolargl": [
           {
            "marker": {
             "colorbar": {
              "outlinewidth": 0,
              "ticks": ""
             }
            },
            "type": "scatterpolargl"
           }
          ],
          "scatterternary": [
           {
            "marker": {
             "colorbar": {
              "outlinewidth": 0,
              "ticks": ""
             }
            },
            "type": "scatterternary"
           }
          ],
          "surface": [
           {
            "colorbar": {
             "outlinewidth": 0,
             "ticks": ""
            },
            "colorscale": [
             [
              0,
              "#0d0887"
             ],
             [
              0.1111111111111111,
              "#46039f"
             ],
             [
              0.2222222222222222,
              "#7201a8"
             ],
             [
              0.3333333333333333,
              "#9c179e"
             ],
             [
              0.4444444444444444,
              "#bd3786"
             ],
             [
              0.5555555555555556,
              "#d8576b"
             ],
             [
              0.6666666666666666,
              "#ed7953"
             ],
             [
              0.7777777777777778,
              "#fb9f3a"
             ],
             [
              0.8888888888888888,
              "#fdca26"
             ],
             [
              1,
              "#f0f921"
             ]
            ],
            "type": "surface"
           }
          ],
          "table": [
           {
            "cells": {
             "fill": {
              "color": "#506784"
             },
             "line": {
              "color": "rgb(17,17,17)"
             }
            },
            "header": {
             "fill": {
              "color": "#2a3f5f"
             },
             "line": {
              "color": "rgb(17,17,17)"
             }
            },
            "type": "table"
           }
          ]
         },
         "layout": {
          "annotationdefaults": {
           "arrowcolor": "#f2f5fa",
           "arrowhead": 0,
           "arrowwidth": 1
          },
          "autotypenumbers": "strict",
          "coloraxis": {
           "colorbar": {
            "outlinewidth": 0,
            "ticks": ""
           }
          },
          "colorscale": {
           "diverging": [
            [
             0,
             "#8e0152"
            ],
            [
             0.1,
             "#c51b7d"
            ],
            [
             0.2,
             "#de77ae"
            ],
            [
             0.3,
             "#f1b6da"
            ],
            [
             0.4,
             "#fde0ef"
            ],
            [
             0.5,
             "#f7f7f7"
            ],
            [
             0.6,
             "#e6f5d0"
            ],
            [
             0.7,
             "#b8e186"
            ],
            [
             0.8,
             "#7fbc41"
            ],
            [
             0.9,
             "#4d9221"
            ],
            [
             1,
             "#276419"
            ]
           ],
           "sequential": [
            [
             0,
             "#0d0887"
            ],
            [
             0.1111111111111111,
             "#46039f"
            ],
            [
             0.2222222222222222,
             "#7201a8"
            ],
            [
             0.3333333333333333,
             "#9c179e"
            ],
            [
             0.4444444444444444,
             "#bd3786"
            ],
            [
             0.5555555555555556,
             "#d8576b"
            ],
            [
             0.6666666666666666,
             "#ed7953"
            ],
            [
             0.7777777777777778,
             "#fb9f3a"
            ],
            [
             0.8888888888888888,
             "#fdca26"
            ],
            [
             1,
             "#f0f921"
            ]
           ],
           "sequentialminus": [
            [
             0,
             "#0d0887"
            ],
            [
             0.1111111111111111,
             "#46039f"
            ],
            [
             0.2222222222222222,
             "#7201a8"
            ],
            [
             0.3333333333333333,
             "#9c179e"
            ],
            [
             0.4444444444444444,
             "#bd3786"
            ],
            [
             0.5555555555555556,
             "#d8576b"
            ],
            [
             0.6666666666666666,
             "#ed7953"
            ],
            [
             0.7777777777777778,
             "#fb9f3a"
            ],
            [
             0.8888888888888888,
             "#fdca26"
            ],
            [
             1,
             "#f0f921"
            ]
           ]
          },
          "colorway": [
           "#636efa",
           "#EF553B",
           "#00cc96",
           "#ab63fa",
           "#FFA15A",
           "#19d3f3",
           "#FF6692",
           "#B6E880",
           "#FF97FF",
           "#FECB52"
          ],
          "font": {
           "color": "#f2f5fa"
          },
          "geo": {
           "bgcolor": "rgb(17,17,17)",
           "lakecolor": "rgb(17,17,17)",
           "landcolor": "rgb(17,17,17)",
           "showlakes": true,
           "showland": true,
           "subunitcolor": "#506784"
          },
          "hoverlabel": {
           "align": "left"
          },
          "hovermode": "closest",
          "mapbox": {
           "style": "dark"
          },
          "paper_bgcolor": "rgb(17,17,17)",
          "plot_bgcolor": "rgb(17,17,17)",
          "polar": {
           "angularaxis": {
            "gridcolor": "#506784",
            "linecolor": "#506784",
            "ticks": ""
           },
           "bgcolor": "rgb(17,17,17)",
           "radialaxis": {
            "gridcolor": "#506784",
            "linecolor": "#506784",
            "ticks": ""
           }
          },
          "scene": {
           "xaxis": {
            "backgroundcolor": "rgb(17,17,17)",
            "gridcolor": "#506784",
            "gridwidth": 2,
            "linecolor": "#506784",
            "showbackground": true,
            "ticks": "",
            "zerolinecolor": "#C8D4E3"
           },
           "yaxis": {
            "backgroundcolor": "rgb(17,17,17)",
            "gridcolor": "#506784",
            "gridwidth": 2,
            "linecolor": "#506784",
            "showbackground": true,
            "ticks": "",
            "zerolinecolor": "#C8D4E3"
           },
           "zaxis": {
            "backgroundcolor": "rgb(17,17,17)",
            "gridcolor": "#506784",
            "gridwidth": 2,
            "linecolor": "#506784",
            "showbackground": true,
            "ticks": "",
            "zerolinecolor": "#C8D4E3"
           }
          },
          "shapedefaults": {
           "line": {
            "color": "#f2f5fa"
           }
          },
          "sliderdefaults": {
           "bgcolor": "#C8D4E3",
           "bordercolor": "rgb(17,17,17)",
           "borderwidth": 1,
           "tickwidth": 0
          },
          "ternary": {
           "aaxis": {
            "gridcolor": "#506784",
            "linecolor": "#506784",
            "ticks": ""
           },
           "baxis": {
            "gridcolor": "#506784",
            "linecolor": "#506784",
            "ticks": ""
           },
           "bgcolor": "rgb(17,17,17)",
           "caxis": {
            "gridcolor": "#506784",
            "linecolor": "#506784",
            "ticks": ""
           }
          },
          "title": {
           "x": 0.05
          },
          "updatemenudefaults": {
           "bgcolor": "#506784",
           "borderwidth": 0
          },
          "xaxis": {
           "automargin": true,
           "gridcolor": "#283442",
           "linecolor": "#506784",
           "ticks": "",
           "title": {
            "standoff": 15
           },
           "zerolinecolor": "#283442",
           "zerolinewidth": 2
          },
          "yaxis": {
           "automargin": true,
           "gridcolor": "#283442",
           "linecolor": "#506784",
           "ticks": "",
           "title": {
            "standoff": 15
           },
           "zerolinecolor": "#283442",
           "zerolinewidth": 2
          }
         }
        },
        "title": {
         "text": "Coefficient of Variation (%)"
        },
        "xaxis": {
         "anchor": "y",
         "domain": [
          0,
          1
         ],
         "title": {
          "text": "Coefficient of Variation (Log Scale)"
         },
         "type": "log"
        },
        "yaxis": {
         "anchor": "x",
         "domain": [
          0,
          1
         ],
         "title": {
          "text": "Columns"
         }
        }
       }
      }
     },
     "metadata": {},
     "output_type": "display_data"
    }
   ],
   "source": [
    "df_stocks_book_numeric_cols['daily_return'] = pd.to_numeric(df_stocks_book_numeric_cols['daily_return'])\n",
    "df_stocks_book_numeric_cols_var = ((df_stocks_book_numeric_cols.std(ddof=1) / df_stocks_book_numeric_cols.mean().sort_values(ascending=True)) * 100).sort_values(ascending=True).reset_index()\n",
    "df_stocks_book_numeric_cols_var.columns = ['column', 'coefficient_variation']\n",
    "df_stocks_book_numeric_cols_var['coefficient_variation'] = df_stocks_book_numeric_cols_var['coefficient_variation'].abs().sort_values(ascending=True)\n",
    "df_stocks_book_numeric_cols_var.fillna(method='ffill', inplace=True)\n",
    "df_stocks_book_numeric_cols_var = df_stocks_book_numeric_cols_var.sort_values(by='coefficient_variation', ascending=False)\n",
    "\n",
    "\n",
    "fig = px.bar(df_stocks_book_numeric_cols_var, title='Coefficient of Variation (%)',y='column', x='coefficient_variation', orientation='h', color_discrete_sequence=['rgb(100, 195, 181)'],hover_name='column', height=800)\n",
    "fig.update_traces(text=[f'{x:.0f}%' for x in df_stocks_book_numeric_cols_var['coefficient_variation']], textposition='outside')\n",
    "fig.update_layout(xaxis_title='Coefficient of Variation (%)', yaxis_title='Columns', template='plotly_dark', font=dict(color='white'), xaxis={'type':'log', 'title':'Coefficient of Variation (Log Scale)'}, hovermode='y')\n",
    "\n",
    "fig.show()"
   ]
  },
  {
   "cell_type": "markdown",
   "metadata": {},
   "source": []
  },
  {
   "cell_type": "markdown",
   "metadata": {},
   "source": [
    "#### Correlation"
   ]
  },
  {
   "cell_type": "code",
   "execution_count": 29,
   "metadata": {},
   "outputs": [
    {
     "data": {
      "application/vnd.plotly.v1+json": {
       "config": {
        "plotlyServerURL": "https://plot.ly"
       },
       "data": [
        {
         "coloraxis": "coloraxis",
         "hovertemplate": "x: %{x}<br>y: %{y}<br>color: %{z}<extra></extra>",
         "name": "0",
         "texttemplate": "%{z}",
         "type": "heatmap",
         "x": [
          "adj_close",
          "close",
          "high",
          "low",
          "open",
          "volume",
          "daily_return",
          "short_term_moving_average",
          "moving_average_mean",
          "long_term_moving_average",
          "rsi",
          "volatility",
          "average_volume",
          "daily_range",
          "open_close_difference",
          "high_low_difference",
          "acceleration",
          "cagr"
         ],
         "xaxis": "x",
         "y": [
          "adj_close",
          "close",
          "high",
          "low",
          "open",
          "volume",
          "daily_return",
          "short_term_moving_average",
          "moving_average_mean",
          "long_term_moving_average",
          "rsi",
          "volatility",
          "average_volume",
          "daily_range",
          "open_close_difference",
          "high_low_difference",
          "acceleration",
          "cagr"
         ],
         "yaxis": "y",
         "z": [
          [
           1,
           0.9999077604920127,
           0.9997978335878255,
           0.9997697629827639,
           0.9996617101183933,
           -0.019164710277059155,
           0.8144054053327613,
           0.3094310683108074,
           0.13078678854348094,
           0.04427595523505661,
           0.345669682970221,
           0.17861895269451314,
           -0.04742335848619317,
           0.8790528970093225,
           0.9519121277684665,
           0.8790528970093225,
           0.3635796648023281,
           null
          ],
          [
           0.9999077604920127,
           1,
           0.9998842056770016,
           0.9998652566180356,
           0.9997547217149985,
           -0.018830735646293395,
           0.8127938856436834,
           0.3098831050089971,
           0.13299384734810774,
           0.04511071017803124,
           0.3452787332881768,
           0.17928931432556536,
           -0.0476517585541885,
           0.8788995555784829,
           0.9540061130735954,
           0.8788995555784829,
           0.36301390876948575,
           null
          ],
          [
           0.9997978335878255,
           0.9998842056770016,
           1,
           0.9998254272613959,
           0.9998791933146974,
           -0.01875720816828695,
           0.8135987807667248,
           0.3098384913549455,
           0.13288676738019042,
           0.04504474651984694,
           0.3452411963499542,
           0.17941267307952624,
           -0.047623439452196846,
           0.8829120561154238,
           0.9566621205548644,
           0.8829120561154238,
           0.3633682826958362,
           null
          ],
          [
           0.9997697629827639,
           0.9998652566180356,
           0.9998254272613959,
           1,
           0.9998662664472064,
           -0.0189084044577034,
           0.8118890457994997,
           0.3098454776450149,
           0.13304512610255187,
           0.045125638883869446,
           0.34539222825577665,
           0.17913174926626588,
           -0.04770104289368133,
           0.8739847776054873,
           0.9568136729002096,
           0.8739847776054873,
           0.3626139120656533,
           null
          ],
          [
           0.9996617101183933,
           0.9997547217149985,
           0.9998791933146974,
           0.9998662664472064,
           1,
           -0.0188204951167915,
           0.8129327412895622,
           0.3098094903418364,
           0.13294756900593288,
           0.045085608027059014,
           0.34515794011488243,
           0.1793187208089058,
           -0.04764251777432799,
           0.878743816385707,
           0.9595584973507284,
           0.878743816385707,
           0.3630821695966897,
           null
          ],
          [
           -0.019164710277059155,
           -0.018830735646293395,
           -0.01875720816828695,
           -0.0189084044577034,
           -0.0188204951167915,
           1,
           -0.025298997955383894,
           -0.021630806259313955,
           -0.0005895420504088204,
           0.010592031203618724,
           -0.027949265317192825,
           -0.006523563627134841,
           0.2234479759616111,
           -0.01267916474080538,
           -0.014264822538863112,
           -0.01267916474080538,
           0.009241663291857948,
           null
          ],
          [
           0.8144054053327613,
           0.8127938856436834,
           0.8135987807667248,
           0.8118890457994997,
           0.8129327412895622,
           -0.025298997955383894,
           1,
           0.23869092840314096,
           0.0986191919109188,
           0.05420371780663903,
           0.3677834627149616,
           0.20035295762555938,
           -0.03715853928370392,
           0.7577320324662548,
           0.7611405042404668,
           0.7577320324662548,
           0.4396418278318129,
           null
          ],
          [
           0.3094310683108074,
           0.3098831050089971,
           0.3098384913549455,
           0.3098454776450149,
           0.3098094903418364,
           -0.021630806259313955,
           0.23869092840314096,
           1,
           0.4199631541484928,
           0.13839097548521923,
           0.11667342036283578,
           0.5647980031611841,
           -0.12535951457013866,
           0.2720253284499568,
           0.3002418339141921,
           0.2720253284499568,
           0.5533583944924989,
           null
          ],
          [
           0.13078678854348094,
           0.13299384734810774,
           0.13288676738019042,
           0.13304512610255187,
           0.13294756900593288,
           -0.0005895420504088204,
           0.0986191919109188,
           0.4199631541484928,
           1,
           0.3444637522456178,
           0.013783288119842025,
           0.503602997702782,
           -0.016902160954367987,
           0.11276485757099683,
           0.15047151150385601,
           0.11276485757099683,
           0.22694039122204715,
           null
          ],
          [
           0.04427595523505661,
           0.04511071017803124,
           0.04504474651984694,
           0.045125638883869446,
           0.045085608027059014,
           0.010592031203618724,
           0.05420371780663903,
           0.13839097548521923,
           0.3444637522456178,
           1,
           0.015654810525245796,
           0.2748233355744807,
           0.060876866174343854,
           0.03754014172008424,
           0.05186052009972093,
           0.03754014172008424,
           0.12158333732191097,
           null
          ],
          [
           0.345669682970221,
           0.3452787332881768,
           0.3452411963499542,
           0.34539222825577665,
           0.34515794011488243,
           -0.027949265317192825,
           0.3677834627149616,
           0.11667342036283578,
           0.013783288119842025,
           0.015654810525245796,
           1,
           0.06511662350994839,
           -0.09523301261289441,
           0.2995076740538006,
           0.32439656097546193,
           0.2995076740538006,
           0.1691622842006761,
           null
          ],
          [
           0.17861895269451314,
           0.17928931432556536,
           0.17941267307952624,
           0.17913174926626588,
           0.1793187208089058,
           -0.006523563627134841,
           0.20035295762555938,
           0.5647980031611841,
           0.503602997702782,
           0.2748233355744807,
           0.06511662350994839,
           1,
           -0.07607249666872162,
           0.16467806039038904,
           0.1789842065822721,
           0.16467806039038904,
           0.4595424936761958,
           null
          ],
          [
           -0.04742335848619317,
           -0.0476517585541885,
           -0.047623439452196846,
           -0.04770104289368133,
           -0.04764251777432799,
           0.2234479759616111,
           -0.03715853928370392,
           -0.12535951457013866,
           -0.016902160954367987,
           0.060876866174343854,
           -0.09523301261289441,
           -0.07607249666872162,
           1,
           -0.039888237737436535,
           -0.04791342264304345,
           -0.039888237737436535,
           -0.06719008876203682,
           null
          ],
          [
           0.8790528970093225,
           0.8788995555784829,
           0.8829120561154238,
           0.8739847776054873,
           0.878743816385707,
           -0.01267916474080538,
           0.7577320324662548,
           0.2720253284499568,
           0.11276485757099683,
           0.03754014172008424,
           0.2995076740538006,
           0.16467806039038904,
           -0.039888237737436535,
           1,
           0.8366432242354781,
           1,
           0.33818524485154233,
           null
          ],
          [
           0.9519121277684665,
           0.9540061130735954,
           0.9566621205548644,
           0.9568136729002096,
           0.9595584973507284,
           -0.014264822538863112,
           0.7611405042404668,
           0.3002418339141921,
           0.15047151150385601,
           0.05186052009972093,
           0.32439656097546193,
           0.1789842065822721,
           -0.04791342264304345,
           0.8366432242354781,
           1,
           0.8366432242354779,
           0.34168448836503024,
           null
          ],
          [
           0.8790528970093225,
           0.8788995555784829,
           0.8829120561154238,
           0.8739847776054873,
           0.878743816385707,
           -0.01267916474080538,
           0.7577320324662548,
           0.2720253284499568,
           0.11276485757099683,
           0.03754014172008424,
           0.2995076740538006,
           0.16467806039038904,
           -0.039888237737436535,
           1,
           0.8366432242354779,
           1,
           0.33818524485154233,
           null
          ],
          [
           0.3635796648023281,
           0.36301390876948575,
           0.3633682826958362,
           0.3626139120656533,
           0.3630821695966897,
           0.009241663291857948,
           0.4396418278318129,
           0.5533583944924989,
           0.22694039122204715,
           0.12158333732191097,
           0.1691622842006761,
           0.4595424936761958,
           -0.06719008876203682,
           0.33818524485154233,
           0.34168448836503024,
           0.33818524485154233,
           1,
           null
          ],
          [
           null,
           null,
           null,
           null,
           null,
           null,
           null,
           null,
           null,
           null,
           null,
           null,
           null,
           null,
           null,
           null,
           null,
           null
          ]
         ]
        }
       ],
       "layout": {
        "coloraxis": {
         "colorscale": [
          [
           0,
           "rgb(150, 245, 231)"
          ],
          [
           0.5,
           "rgb(100, 195, 181)"
          ],
          [
           1,
           "rgb(50, 145, 131)"
          ]
         ]
        },
        "template": {
         "data": {
          "bar": [
           {
            "error_x": {
             "color": "#f2f5fa"
            },
            "error_y": {
             "color": "#f2f5fa"
            },
            "marker": {
             "line": {
              "color": "rgb(17,17,17)",
              "width": 0.5
             },
             "pattern": {
              "fillmode": "overlay",
              "size": 10,
              "solidity": 0.2
             }
            },
            "type": "bar"
           }
          ],
          "barpolar": [
           {
            "marker": {
             "line": {
              "color": "rgb(17,17,17)",
              "width": 0.5
             },
             "pattern": {
              "fillmode": "overlay",
              "size": 10,
              "solidity": 0.2
             }
            },
            "type": "barpolar"
           }
          ],
          "carpet": [
           {
            "aaxis": {
             "endlinecolor": "#A2B1C6",
             "gridcolor": "#506784",
             "linecolor": "#506784",
             "minorgridcolor": "#506784",
             "startlinecolor": "#A2B1C6"
            },
            "baxis": {
             "endlinecolor": "#A2B1C6",
             "gridcolor": "#506784",
             "linecolor": "#506784",
             "minorgridcolor": "#506784",
             "startlinecolor": "#A2B1C6"
            },
            "type": "carpet"
           }
          ],
          "choropleth": [
           {
            "colorbar": {
             "outlinewidth": 0,
             "ticks": ""
            },
            "type": "choropleth"
           }
          ],
          "contour": [
           {
            "colorbar": {
             "outlinewidth": 0,
             "ticks": ""
            },
            "colorscale": [
             [
              0,
              "#0d0887"
             ],
             [
              0.1111111111111111,
              "#46039f"
             ],
             [
              0.2222222222222222,
              "#7201a8"
             ],
             [
              0.3333333333333333,
              "#9c179e"
             ],
             [
              0.4444444444444444,
              "#bd3786"
             ],
             [
              0.5555555555555556,
              "#d8576b"
             ],
             [
              0.6666666666666666,
              "#ed7953"
             ],
             [
              0.7777777777777778,
              "#fb9f3a"
             ],
             [
              0.8888888888888888,
              "#fdca26"
             ],
             [
              1,
              "#f0f921"
             ]
            ],
            "type": "contour"
           }
          ],
          "contourcarpet": [
           {
            "colorbar": {
             "outlinewidth": 0,
             "ticks": ""
            },
            "type": "contourcarpet"
           }
          ],
          "heatmap": [
           {
            "colorbar": {
             "outlinewidth": 0,
             "ticks": ""
            },
            "colorscale": [
             [
              0,
              "#0d0887"
             ],
             [
              0.1111111111111111,
              "#46039f"
             ],
             [
              0.2222222222222222,
              "#7201a8"
             ],
             [
              0.3333333333333333,
              "#9c179e"
             ],
             [
              0.4444444444444444,
              "#bd3786"
             ],
             [
              0.5555555555555556,
              "#d8576b"
             ],
             [
              0.6666666666666666,
              "#ed7953"
             ],
             [
              0.7777777777777778,
              "#fb9f3a"
             ],
             [
              0.8888888888888888,
              "#fdca26"
             ],
             [
              1,
              "#f0f921"
             ]
            ],
            "type": "heatmap"
           }
          ],
          "heatmapgl": [
           {
            "colorbar": {
             "outlinewidth": 0,
             "ticks": ""
            },
            "colorscale": [
             [
              0,
              "#0d0887"
             ],
             [
              0.1111111111111111,
              "#46039f"
             ],
             [
              0.2222222222222222,
              "#7201a8"
             ],
             [
              0.3333333333333333,
              "#9c179e"
             ],
             [
              0.4444444444444444,
              "#bd3786"
             ],
             [
              0.5555555555555556,
              "#d8576b"
             ],
             [
              0.6666666666666666,
              "#ed7953"
             ],
             [
              0.7777777777777778,
              "#fb9f3a"
             ],
             [
              0.8888888888888888,
              "#fdca26"
             ],
             [
              1,
              "#f0f921"
             ]
            ],
            "type": "heatmapgl"
           }
          ],
          "histogram": [
           {
            "marker": {
             "pattern": {
              "fillmode": "overlay",
              "size": 10,
              "solidity": 0.2
             }
            },
            "type": "histogram"
           }
          ],
          "histogram2d": [
           {
            "colorbar": {
             "outlinewidth": 0,
             "ticks": ""
            },
            "colorscale": [
             [
              0,
              "#0d0887"
             ],
             [
              0.1111111111111111,
              "#46039f"
             ],
             [
              0.2222222222222222,
              "#7201a8"
             ],
             [
              0.3333333333333333,
              "#9c179e"
             ],
             [
              0.4444444444444444,
              "#bd3786"
             ],
             [
              0.5555555555555556,
              "#d8576b"
             ],
             [
              0.6666666666666666,
              "#ed7953"
             ],
             [
              0.7777777777777778,
              "#fb9f3a"
             ],
             [
              0.8888888888888888,
              "#fdca26"
             ],
             [
              1,
              "#f0f921"
             ]
            ],
            "type": "histogram2d"
           }
          ],
          "histogram2dcontour": [
           {
            "colorbar": {
             "outlinewidth": 0,
             "ticks": ""
            },
            "colorscale": [
             [
              0,
              "#0d0887"
             ],
             [
              0.1111111111111111,
              "#46039f"
             ],
             [
              0.2222222222222222,
              "#7201a8"
             ],
             [
              0.3333333333333333,
              "#9c179e"
             ],
             [
              0.4444444444444444,
              "#bd3786"
             ],
             [
              0.5555555555555556,
              "#d8576b"
             ],
             [
              0.6666666666666666,
              "#ed7953"
             ],
             [
              0.7777777777777778,
              "#fb9f3a"
             ],
             [
              0.8888888888888888,
              "#fdca26"
             ],
             [
              1,
              "#f0f921"
             ]
            ],
            "type": "histogram2dcontour"
           }
          ],
          "mesh3d": [
           {
            "colorbar": {
             "outlinewidth": 0,
             "ticks": ""
            },
            "type": "mesh3d"
           }
          ],
          "parcoords": [
           {
            "line": {
             "colorbar": {
              "outlinewidth": 0,
              "ticks": ""
             }
            },
            "type": "parcoords"
           }
          ],
          "pie": [
           {
            "automargin": true,
            "type": "pie"
           }
          ],
          "scatter": [
           {
            "marker": {
             "line": {
              "color": "#283442"
             }
            },
            "type": "scatter"
           }
          ],
          "scatter3d": [
           {
            "line": {
             "colorbar": {
              "outlinewidth": 0,
              "ticks": ""
             }
            },
            "marker": {
             "colorbar": {
              "outlinewidth": 0,
              "ticks": ""
             }
            },
            "type": "scatter3d"
           }
          ],
          "scattercarpet": [
           {
            "marker": {
             "colorbar": {
              "outlinewidth": 0,
              "ticks": ""
             }
            },
            "type": "scattercarpet"
           }
          ],
          "scattergeo": [
           {
            "marker": {
             "colorbar": {
              "outlinewidth": 0,
              "ticks": ""
             }
            },
            "type": "scattergeo"
           }
          ],
          "scattergl": [
           {
            "marker": {
             "line": {
              "color": "#283442"
             }
            },
            "type": "scattergl"
           }
          ],
          "scattermapbox": [
           {
            "marker": {
             "colorbar": {
              "outlinewidth": 0,
              "ticks": ""
             }
            },
            "type": "scattermapbox"
           }
          ],
          "scatterpolar": [
           {
            "marker": {
             "colorbar": {
              "outlinewidth": 0,
              "ticks": ""
             }
            },
            "type": "scatterpolar"
           }
          ],
          "scatterpolargl": [
           {
            "marker": {
             "colorbar": {
              "outlinewidth": 0,
              "ticks": ""
             }
            },
            "type": "scatterpolargl"
           }
          ],
          "scatterternary": [
           {
            "marker": {
             "colorbar": {
              "outlinewidth": 0,
              "ticks": ""
             }
            },
            "type": "scatterternary"
           }
          ],
          "surface": [
           {
            "colorbar": {
             "outlinewidth": 0,
             "ticks": ""
            },
            "colorscale": [
             [
              0,
              "#0d0887"
             ],
             [
              0.1111111111111111,
              "#46039f"
             ],
             [
              0.2222222222222222,
              "#7201a8"
             ],
             [
              0.3333333333333333,
              "#9c179e"
             ],
             [
              0.4444444444444444,
              "#bd3786"
             ],
             [
              0.5555555555555556,
              "#d8576b"
             ],
             [
              0.6666666666666666,
              "#ed7953"
             ],
             [
              0.7777777777777778,
              "#fb9f3a"
             ],
             [
              0.8888888888888888,
              "#fdca26"
             ],
             [
              1,
              "#f0f921"
             ]
            ],
            "type": "surface"
           }
          ],
          "table": [
           {
            "cells": {
             "fill": {
              "color": "#506784"
             },
             "line": {
              "color": "rgb(17,17,17)"
             }
            },
            "header": {
             "fill": {
              "color": "#2a3f5f"
             },
             "line": {
              "color": "rgb(17,17,17)"
             }
            },
            "type": "table"
           }
          ]
         },
         "layout": {
          "annotationdefaults": {
           "arrowcolor": "#f2f5fa",
           "arrowhead": 0,
           "arrowwidth": 1
          },
          "autotypenumbers": "strict",
          "coloraxis": {
           "colorbar": {
            "outlinewidth": 0,
            "ticks": ""
           }
          },
          "colorscale": {
           "diverging": [
            [
             0,
             "#8e0152"
            ],
            [
             0.1,
             "#c51b7d"
            ],
            [
             0.2,
             "#de77ae"
            ],
            [
             0.3,
             "#f1b6da"
            ],
            [
             0.4,
             "#fde0ef"
            ],
            [
             0.5,
             "#f7f7f7"
            ],
            [
             0.6,
             "#e6f5d0"
            ],
            [
             0.7,
             "#b8e186"
            ],
            [
             0.8,
             "#7fbc41"
            ],
            [
             0.9,
             "#4d9221"
            ],
            [
             1,
             "#276419"
            ]
           ],
           "sequential": [
            [
             0,
             "#0d0887"
            ],
            [
             0.1111111111111111,
             "#46039f"
            ],
            [
             0.2222222222222222,
             "#7201a8"
            ],
            [
             0.3333333333333333,
             "#9c179e"
            ],
            [
             0.4444444444444444,
             "#bd3786"
            ],
            [
             0.5555555555555556,
             "#d8576b"
            ],
            [
             0.6666666666666666,
             "#ed7953"
            ],
            [
             0.7777777777777778,
             "#fb9f3a"
            ],
            [
             0.8888888888888888,
             "#fdca26"
            ],
            [
             1,
             "#f0f921"
            ]
           ],
           "sequentialminus": [
            [
             0,
             "#0d0887"
            ],
            [
             0.1111111111111111,
             "#46039f"
            ],
            [
             0.2222222222222222,
             "#7201a8"
            ],
            [
             0.3333333333333333,
             "#9c179e"
            ],
            [
             0.4444444444444444,
             "#bd3786"
            ],
            [
             0.5555555555555556,
             "#d8576b"
            ],
            [
             0.6666666666666666,
             "#ed7953"
            ],
            [
             0.7777777777777778,
             "#fb9f3a"
            ],
            [
             0.8888888888888888,
             "#fdca26"
            ],
            [
             1,
             "#f0f921"
            ]
           ]
          },
          "colorway": [
           "#636efa",
           "#EF553B",
           "#00cc96",
           "#ab63fa",
           "#FFA15A",
           "#19d3f3",
           "#FF6692",
           "#B6E880",
           "#FF97FF",
           "#FECB52"
          ],
          "font": {
           "color": "#f2f5fa"
          },
          "geo": {
           "bgcolor": "rgb(17,17,17)",
           "lakecolor": "rgb(17,17,17)",
           "landcolor": "rgb(17,17,17)",
           "showlakes": true,
           "showland": true,
           "subunitcolor": "#506784"
          },
          "hoverlabel": {
           "align": "left"
          },
          "hovermode": "closest",
          "mapbox": {
           "style": "dark"
          },
          "paper_bgcolor": "rgb(17,17,17)",
          "plot_bgcolor": "rgb(17,17,17)",
          "polar": {
           "angularaxis": {
            "gridcolor": "#506784",
            "linecolor": "#506784",
            "ticks": ""
           },
           "bgcolor": "rgb(17,17,17)",
           "radialaxis": {
            "gridcolor": "#506784",
            "linecolor": "#506784",
            "ticks": ""
           }
          },
          "scene": {
           "xaxis": {
            "backgroundcolor": "rgb(17,17,17)",
            "gridcolor": "#506784",
            "gridwidth": 2,
            "linecolor": "#506784",
            "showbackground": true,
            "ticks": "",
            "zerolinecolor": "#C8D4E3"
           },
           "yaxis": {
            "backgroundcolor": "rgb(17,17,17)",
            "gridcolor": "#506784",
            "gridwidth": 2,
            "linecolor": "#506784",
            "showbackground": true,
            "ticks": "",
            "zerolinecolor": "#C8D4E3"
           },
           "zaxis": {
            "backgroundcolor": "rgb(17,17,17)",
            "gridcolor": "#506784",
            "gridwidth": 2,
            "linecolor": "#506784",
            "showbackground": true,
            "ticks": "",
            "zerolinecolor": "#C8D4E3"
           }
          },
          "shapedefaults": {
           "line": {
            "color": "#f2f5fa"
           }
          },
          "sliderdefaults": {
           "bgcolor": "#C8D4E3",
           "bordercolor": "rgb(17,17,17)",
           "borderwidth": 1,
           "tickwidth": 0
          },
          "ternary": {
           "aaxis": {
            "gridcolor": "#506784",
            "linecolor": "#506784",
            "ticks": ""
           },
           "baxis": {
            "gridcolor": "#506784",
            "linecolor": "#506784",
            "ticks": ""
           },
           "bgcolor": "rgb(17,17,17)",
           "caxis": {
            "gridcolor": "#506784",
            "linecolor": "#506784",
            "ticks": ""
           }
          },
          "title": {
           "x": 0.05
          },
          "updatemenudefaults": {
           "bgcolor": "#506784",
           "borderwidth": 0
          },
          "xaxis": {
           "automargin": true,
           "gridcolor": "#283442",
           "linecolor": "#506784",
           "ticks": "",
           "title": {
            "standoff": 15
           },
           "zerolinecolor": "#283442",
           "zerolinewidth": 2
          },
          "yaxis": {
           "automargin": true,
           "gridcolor": "#283442",
           "linecolor": "#506784",
           "ticks": "",
           "title": {
            "standoff": 15
           },
           "zerolinecolor": "#283442",
           "zerolinewidth": 2
          }
         }
        },
        "title": {
         "text": "Heatmap: Correlation between the variables"
        },
        "xaxis": {
         "anchor": "y",
         "domain": [
          0,
          1
         ]
        },
        "yaxis": {
         "anchor": "x",
         "autorange": "reversed",
         "domain": [
          0,
          1
         ]
        }
       }
      }
     },
     "metadata": {},
     "output_type": "display_data"
    }
   ],
   "source": [
    "for col in df_stocks_book_numeric_cols.columns:\n",
    "\n",
    "    df_stocks_book_numeric_cols[col] = pd.to_numeric(df_stocks_book_numeric_cols[col], errors='coerce')\n",
    "\n",
    "stocks_book_corr = df_stocks_book_numeric_cols.corr()\n",
    "\n",
    "n_cols = len(df_stocks_book_numeric_cols.columns)\n",
    "color_scale = [[0, 'rgb(150, 245, 231)'], [0.5, 'rgb(100, 195, 181)'], [1, 'rgb(50, 145, 131)']]\n",
    "\n",
    "fig = px.imshow(stocks_book_corr, text_auto=True, aspect=\"auto\", template=\"plotly_dark\", title=\"Heatmap: Correlation between the variables\", color_continuous_scale=color_scale)\n",
    "fig.show()"
   ]
  }
 ],
 "metadata": {
  "kernelspec": {
   "display_name": "Python 3",
   "language": "python",
   "name": "python3"
  },
  "language_info": {
   "codemirror_mode": {
    "name": "ipython",
    "version": 3
   },
   "file_extension": ".py",
   "mimetype": "text/x-python",
   "name": "python",
   "nbconvert_exporter": "python",
   "pygments_lexer": "ipython3",
   "version": "3.11.5"
  }
 },
 "nbformat": 4,
 "nbformat_minor": 2
}
