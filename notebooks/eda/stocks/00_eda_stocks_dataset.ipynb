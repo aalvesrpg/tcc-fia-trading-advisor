version https://git-lfs.github.com/spec/v1
oid sha256:9a15ae7fd80be13892872a28cf688f3d5c143d13aca556a40e7e7d7b6c095ca4
size 960498
