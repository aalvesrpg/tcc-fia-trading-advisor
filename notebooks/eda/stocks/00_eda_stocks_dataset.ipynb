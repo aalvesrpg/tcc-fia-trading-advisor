version https://git-lfs.github.com/spec/v1
oid sha256:bd570dcb225b9454eba49b37b6216243f5e046fea4ef733d30116938787d8d71
size 82229
