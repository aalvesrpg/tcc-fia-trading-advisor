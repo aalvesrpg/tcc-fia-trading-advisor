version https://git-lfs.github.com/spec/v1
oid sha256:aa62d144645adaca29767f824d3afe3cbb6d5901613c1fa33b2b8f1d3a1c2238
size 3838109
