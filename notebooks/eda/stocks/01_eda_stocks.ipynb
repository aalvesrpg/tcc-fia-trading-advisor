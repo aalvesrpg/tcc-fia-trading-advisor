version https://git-lfs.github.com/spec/v1
oid sha256:13cdad9bfa86f44b86031e3263f58e63e25dc03a870965fed889c7b8c113d91c
size 8383720
