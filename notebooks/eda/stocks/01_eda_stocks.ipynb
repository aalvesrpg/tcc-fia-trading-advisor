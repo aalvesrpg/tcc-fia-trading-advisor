version https://git-lfs.github.com/spec/v1
oid sha256:cedb4576a3a0133650f8a00356432f0a7a91bae90bc393e5a9d5909c9975dee3
size 91574
