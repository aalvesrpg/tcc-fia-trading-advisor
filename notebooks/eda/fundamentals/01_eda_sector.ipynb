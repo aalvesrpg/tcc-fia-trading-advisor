version https://git-lfs.github.com/spec/v1
oid sha256:bd90ef0395ac41cfe3d830e6d75a5f49c60a9db26c91d20737b4e7ce12f529dc
size 2189644
