version https://git-lfs.github.com/spec/v1
oid sha256:6cd63660c1a881f75e7d081ef89d673ab3e8744996166a6f7253abe189e76ee9
size 283021
