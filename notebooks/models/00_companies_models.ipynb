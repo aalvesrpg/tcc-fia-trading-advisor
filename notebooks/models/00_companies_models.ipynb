{
 "cells": [
  {
   "cell_type": "markdown",
   "metadata": {},
   "source": [
    "# Statistical and Machine Learning Models for Fundamentalist Data"
   ]
  },
  {
   "cell_type": "markdown",
   "metadata": {},
   "source": [
    "This notebook is a useful tool for investors interested in the Brazilian stock market. It integrates machine learning techniques and statistical models to analyze fundamentalist data of companies listed on the stock exchange. The aim is to provide in-depth analysis and facilitate investment decision-making, focusing on identifying opportunities and mitigating risks. It includes interactive visualizations and real-time updates, making it accessible and practical for both experienced investors and beginners."
   ]
  },
  {
   "cell_type": "markdown",
   "metadata": {},
   "source": [
    "## Initial Setup"
   ]
  },
  {
   "cell_type": "markdown",
   "metadata": {},
   "source": [
    "### Install Packages"
   ]
  },
  {
   "cell_type": "code",
   "execution_count": 408,
   "metadata": {},
   "outputs": [
    {
     "name": "stdout",
     "output_type": "stream",
     "text": [
      "Note: you may need to restart the kernel to use updated packages.\n",
      "Note: you may need to restart the kernel to use updated packages.\n",
      "Note: you may need to restart the kernel to use updated packages.\n"
     ]
    }
   ],
   "source": [
    "%pip install pandas -q\n",
    "%pip install plotly -q\n",
    "%pip install scikit-learn -q"
   ]
  },
  {
   "cell_type": "markdown",
   "metadata": {},
   "source": [
    "### Import libs"
   ]
  },
  {
   "cell_type": "code",
   "execution_count": 580,
   "metadata": {},
   "outputs": [],
   "source": [
    "import os\n",
    "from pathlib import Path\n",
    "import pandas as pd\n",
    "import numpy as np\n",
    "import plotly.express as px\n",
    "import plotly.graph_objects as go\n",
    "import plotly.subplots as sp\n",
    "from sklearn.cluster import KMeans, DBSCAN\n",
    "from sklearn.preprocessing import StandardScaler, OneHotEncoder, normalize\n",
    "from sklearn.decomposition import PCA\n",
    "from sklearn.manifold import TSNE\n",
    "from sklearn.metrics import silhouette_score as sil_score\n",
    "import plotly.express as px\n",
    "import warnings\n",
    "warnings.filterwarnings('ignore')"
   ]
  },
  {
   "cell_type": "markdown",
   "metadata": {},
   "source": [
    "### Create a file path default"
   ]
  },
  {
   "cell_type": "code",
   "execution_count": 410,
   "metadata": {},
   "outputs": [],
   "source": [
    "file_path_book = str(Path(os.getcwd()).parent.parent / \"data/book\")"
   ]
  },
  {
   "cell_type": "markdown",
   "metadata": {},
   "source": [
    "### Load data"
   ]
  },
  {
   "cell_type": "code",
   "execution_count": 411,
   "metadata": {},
   "outputs": [
    {
     "data": {
      "text/html": [
       "<div>\n",
       "<style scoped>\n",
       "    .dataframe tbody tr th:only-of-type {\n",
       "        vertical-align: middle;\n",
       "    }\n",
       "\n",
       "    .dataframe tbody tr th {\n",
       "        vertical-align: top;\n",
       "    }\n",
       "\n",
       "    .dataframe thead th {\n",
       "        text-align: right;\n",
       "    }\n",
       "</style>\n",
       "<table border=\"1\" class=\"dataframe\">\n",
       "  <thead>\n",
       "    <tr style=\"text-align: right;\">\n",
       "      <th></th>\n",
       "      <th>ticker</th>\n",
       "      <th>long_name</th>\n",
       "      <th>sector</th>\n",
       "      <th>industry</th>\n",
       "      <th>market_cap</th>\n",
       "      <th>enterprise_value</th>\n",
       "      <th>total_revenue</th>\n",
       "      <th>profit_margins</th>\n",
       "      <th>operating_margins</th>\n",
       "      <th>dividend_rate</th>\n",
       "      <th>beta</th>\n",
       "      <th>ebitda</th>\n",
       "      <th>trailing_pe</th>\n",
       "      <th>forward_pe</th>\n",
       "      <th>volume</th>\n",
       "      <th>average_volume</th>\n",
       "      <th>fifty_two_week_low</th>\n",
       "      <th>fifty_two_week_high</th>\n",
       "      <th>price_to_sales_trailing_12_months</th>\n",
       "      <th>fifty_day_average</th>\n",
       "      <th>two_hundred_day_average</th>\n",
       "      <th>trailing_annual_dividend_rate</th>\n",
       "      <th>trailing_annual_dividend_yield</th>\n",
       "      <th>book_value</th>\n",
       "      <th>price_to_book</th>\n",
       "      <th>total_cash</th>\n",
       "      <th>total_cash_per_share</th>\n",
       "      <th>total_debt</th>\n",
       "      <th>earnings_quarterly_growth</th>\n",
       "      <th>revenue_growth</th>\n",
       "      <th>gross_margins</th>\n",
       "      <th>ebitda_margins</th>\n",
       "      <th>return_on_assets</th>\n",
       "      <th>return_on_equity</th>\n",
       "      <th>gross_profits</th>\n",
       "      <th>total_assets_approx</th>\n",
       "      <th>asset_turnover</th>\n",
       "      <th>earnings_growth_rate</th>\n",
       "      <th>dividend_payout_ratio</th>\n",
       "      <th>equity</th>\n",
       "      <th>debt_to_equity</th>\n",
       "      <th>roi</th>\n",
       "      <th>roce</th>\n",
       "    </tr>\n",
       "  </thead>\n",
       "  <tbody>\n",
       "    <tr>\n",
       "      <th>0</th>\n",
       "      <td>ABCB4.SA</td>\n",
       "      <td>Banco ABC Brasil S.A.</td>\n",
       "      <td>Financial Services</td>\n",
       "      <td>Banks - Regional</td>\n",
       "      <td>4.265434e+09</td>\n",
       "      <td>1.477339e+10</td>\n",
       "      <td>1.941779e+09</td>\n",
       "      <td>0.41576</td>\n",
       "      <td>0.38826</td>\n",
       "      <td>1.56</td>\n",
       "      <td>0.679</td>\n",
       "      <td>0.000000e+00</td>\n",
       "      <td>4.069768</td>\n",
       "      <td>4.706601</td>\n",
       "      <td>92300.0</td>\n",
       "      <td>747165.0</td>\n",
       "      <td>15.85</td>\n",
       "      <td>21.99</td>\n",
       "      <td>2.196663</td>\n",
       "      <td>19.3382</td>\n",
       "      <td>18.14667</td>\n",
       "      <td>1.550</td>\n",
       "      <td>0.080687</td>\n",
       "      <td>24.518</td>\n",
       "      <td>0.785138</td>\n",
       "      <td>7.774306e+09</td>\n",
       "      <td>35.162</td>\n",
       "      <td>1.829846e+10</td>\n",
       "      <td>0.001</td>\n",
       "      <td>0.003</td>\n",
       "      <td>0.00000</td>\n",
       "      <td>0.00000</td>\n",
       "      <td>0.01530</td>\n",
       "      <td>0.15680</td>\n",
       "      <td>1.973086e+09</td>\n",
       "      <td>7.774306e+09</td>\n",
       "      <td>0.249769</td>\n",
       "      <td>0.1</td>\n",
       "      <td>155000.000000</td>\n",
       "      <td>-1.052416e+10</td>\n",
       "      <td>-1.738710</td>\n",
       "      <td>0.131438</td>\n",
       "      <td>0.000000</td>\n",
       "    </tr>\n",
       "    <tr>\n",
       "      <th>1</th>\n",
       "      <td>AGRO3.SA</td>\n",
       "      <td>BrasilAgro - Companhia Brasileira de Proprieda...</td>\n",
       "      <td>Consumer Defensive</td>\n",
       "      <td>Farm Products</td>\n",
       "      <td>2.466480e+09</td>\n",
       "      <td>2.912933e+09</td>\n",
       "      <td>1.249437e+09</td>\n",
       "      <td>0.21493</td>\n",
       "      <td>0.25031</td>\n",
       "      <td>3.21</td>\n",
       "      <td>0.432</td>\n",
       "      <td>2.648920e+08</td>\n",
       "      <td>9.450382</td>\n",
       "      <td>6.332481</td>\n",
       "      <td>298100.0</td>\n",
       "      <td>666692.0</td>\n",
       "      <td>22.29</td>\n",
       "      <td>32.71</td>\n",
       "      <td>1.974073</td>\n",
       "      <td>27.0106</td>\n",
       "      <td>25.58635</td>\n",
       "      <td>3.240</td>\n",
       "      <td>0.132029</td>\n",
       "      <td>22.237</td>\n",
       "      <td>1.113460</td>\n",
       "      <td>3.838370e+08</td>\n",
       "      <td>3.885</td>\n",
       "      <td>8.720750e+08</td>\n",
       "      <td>6.801</td>\n",
       "      <td>0.671</td>\n",
       "      <td>0.25252</td>\n",
       "      <td>0.21201</td>\n",
       "      <td>0.03839</td>\n",
       "      <td>0.12170</td>\n",
       "      <td>3.155040e+08</td>\n",
       "      <td>3.838370e+08</td>\n",
       "      <td>3.255124</td>\n",
       "      <td>680.1</td>\n",
       "      <td>47.640053</td>\n",
       "      <td>-4.882380e+08</td>\n",
       "      <td>-1.786168</td>\n",
       "      <td>0.428927</td>\n",
       "      <td>0.079343</td>\n",
       "    </tr>\n",
       "    <tr>\n",
       "      <th>2</th>\n",
       "      <td>RAIL3.SA</td>\n",
       "      <td>Rumo S.A.</td>\n",
       "      <td>Industrials</td>\n",
       "      <td>Railroads</td>\n",
       "      <td>4.228882e+10</td>\n",
       "      <td>5.524305e+10</td>\n",
       "      <td>1.031746e+10</td>\n",
       "      <td>0.07639</td>\n",
       "      <td>0.33544</td>\n",
       "      <td>0.07</td>\n",
       "      <td>0.227</td>\n",
       "      <td>4.522541e+09</td>\n",
       "      <td>54.309525</td>\n",
       "      <td>21.723810</td>\n",
       "      <td>5733400.0</td>\n",
       "      <td>14644522.0</td>\n",
       "      <td>16.21</td>\n",
       "      <td>24.44</td>\n",
       "      <td>4.098764</td>\n",
       "      <td>22.5852</td>\n",
       "      <td>20.95235</td>\n",
       "      <td>0.066</td>\n",
       "      <td>0.002993</td>\n",
       "      <td>8.334</td>\n",
       "      <td>2.736981</td>\n",
       "      <td>7.656040e+09</td>\n",
       "      <td>4.132</td>\n",
       "      <td>2.184320e+10</td>\n",
       "      <td>3.935</td>\n",
       "      <td>0.121</td>\n",
       "      <td>0.34493</td>\n",
       "      <td>0.43834</td>\n",
       "      <td>0.04252</td>\n",
       "      <td>0.05163</td>\n",
       "      <td>3.146360e+09</td>\n",
       "      <td>7.656040e+09</td>\n",
       "      <td>1.347623</td>\n",
       "      <td>393.5</td>\n",
       "      <td>1.677255</td>\n",
       "      <td>-1.418716e+10</td>\n",
       "      <td>-1.539646</td>\n",
       "      <td>0.186765</td>\n",
       "      <td>0.070519</td>\n",
       "    </tr>\n",
       "    <tr>\n",
       "      <th>3</th>\n",
       "      <td>ALPA3.SA</td>\n",
       "      <td>Alpargatas S.A.</td>\n",
       "      <td>Consumer Cyclical</td>\n",
       "      <td>Footwear &amp; Accessories</td>\n",
       "      <td>5.309793e+09</td>\n",
       "      <td>6.482982e+09</td>\n",
       "      <td>4.022153e+09</td>\n",
       "      <td>-0.05671</td>\n",
       "      <td>-0.06434</td>\n",
       "      <td>0.40</td>\n",
       "      <td>0.571</td>\n",
       "      <td>-1.980000e+05</td>\n",
       "      <td>0.000000</td>\n",
       "      <td>0.000000</td>\n",
       "      <td>1100.0</td>\n",
       "      <td>3953.0</td>\n",
       "      <td>7.27</td>\n",
       "      <td>17.80</td>\n",
       "      <td>1.320137</td>\n",
       "      <td>8.7146</td>\n",
       "      <td>9.63540</td>\n",
       "      <td>0.000</td>\n",
       "      <td>0.000000</td>\n",
       "      <td>7.867</td>\n",
       "      <td>1.008008</td>\n",
       "      <td>4.142880e+08</td>\n",
       "      <td>0.614</td>\n",
       "      <td>1.550341e+09</td>\n",
       "      <td>0.000</td>\n",
       "      <td>-0.127</td>\n",
       "      <td>0.43246</td>\n",
       "      <td>-0.00005</td>\n",
       "      <td>-0.00910</td>\n",
       "      <td>-0.04153</td>\n",
       "      <td>1.968303e+09</td>\n",
       "      <td>4.142880e+08</td>\n",
       "      <td>9.708591</td>\n",
       "      <td>0.0</td>\n",
       "      <td>0.000000</td>\n",
       "      <td>-1.136053e+09</td>\n",
       "      <td>-1.364673</td>\n",
       "      <td>0.620417</td>\n",
       "      <td>-0.000029</td>\n",
       "    </tr>\n",
       "    <tr>\n",
       "      <th>4</th>\n",
       "      <td>ALPA4.SA</td>\n",
       "      <td>Alpargatas S.A.</td>\n",
       "      <td>Consumer Cyclical</td>\n",
       "      <td>Footwear &amp; Accessories</td>\n",
       "      <td>5.350758e+09</td>\n",
       "      <td>6.395236e+09</td>\n",
       "      <td>4.022153e+09</td>\n",
       "      <td>-0.05671</td>\n",
       "      <td>-0.06434</td>\n",
       "      <td>0.43</td>\n",
       "      <td>0.571</td>\n",
       "      <td>-1.980000e+05</td>\n",
       "      <td>0.000000</td>\n",
       "      <td>14.555555</td>\n",
       "      <td>1132100.0</td>\n",
       "      <td>5605825.0</td>\n",
       "      <td>6.81</td>\n",
       "      <td>22.51</td>\n",
       "      <td>1.330322</td>\n",
       "      <td>8.3228</td>\n",
       "      <td>9.27290</td>\n",
       "      <td>0.000</td>\n",
       "      <td>0.000000</td>\n",
       "      <td>7.867</td>\n",
       "      <td>0.999110</td>\n",
       "      <td>4.142880e+08</td>\n",
       "      <td>0.614</td>\n",
       "      <td>1.550341e+09</td>\n",
       "      <td>0.000</td>\n",
       "      <td>-0.127</td>\n",
       "      <td>0.43246</td>\n",
       "      <td>-0.00005</td>\n",
       "      <td>-0.00910</td>\n",
       "      <td>-0.04153</td>\n",
       "      <td>1.968303e+09</td>\n",
       "      <td>4.142880e+08</td>\n",
       "      <td>9.708591</td>\n",
       "      <td>0.0</td>\n",
       "      <td>0.000000</td>\n",
       "      <td>-1.136053e+09</td>\n",
       "      <td>-1.364673</td>\n",
       "      <td>0.628930</td>\n",
       "      <td>-0.000029</td>\n",
       "    </tr>\n",
       "  </tbody>\n",
       "</table>\n",
       "</div>"
      ],
      "text/plain": [
       "     ticker                                          long_name  \\\n",
       "0  ABCB4.SA                              Banco ABC Brasil S.A.   \n",
       "1  AGRO3.SA  BrasilAgro - Companhia Brasileira de Proprieda...   \n",
       "2  RAIL3.SA                                          Rumo S.A.   \n",
       "3  ALPA3.SA                                    Alpargatas S.A.   \n",
       "4  ALPA4.SA                                    Alpargatas S.A.   \n",
       "\n",
       "               sector                industry    market_cap  enterprise_value  \\\n",
       "0  Financial Services        Banks - Regional  4.265434e+09      1.477339e+10   \n",
       "1  Consumer Defensive           Farm Products  2.466480e+09      2.912933e+09   \n",
       "2         Industrials               Railroads  4.228882e+10      5.524305e+10   \n",
       "3   Consumer Cyclical  Footwear & Accessories  5.309793e+09      6.482982e+09   \n",
       "4   Consumer Cyclical  Footwear & Accessories  5.350758e+09      6.395236e+09   \n",
       "\n",
       "   total_revenue  profit_margins  operating_margins  dividend_rate   beta  \\\n",
       "0   1.941779e+09         0.41576            0.38826           1.56  0.679   \n",
       "1   1.249437e+09         0.21493            0.25031           3.21  0.432   \n",
       "2   1.031746e+10         0.07639            0.33544           0.07  0.227   \n",
       "3   4.022153e+09        -0.05671           -0.06434           0.40  0.571   \n",
       "4   4.022153e+09        -0.05671           -0.06434           0.43  0.571   \n",
       "\n",
       "         ebitda  trailing_pe  forward_pe     volume  average_volume  \\\n",
       "0  0.000000e+00     4.069768    4.706601    92300.0        747165.0   \n",
       "1  2.648920e+08     9.450382    6.332481   298100.0        666692.0   \n",
       "2  4.522541e+09    54.309525   21.723810  5733400.0      14644522.0   \n",
       "3 -1.980000e+05     0.000000    0.000000     1100.0          3953.0   \n",
       "4 -1.980000e+05     0.000000   14.555555  1132100.0       5605825.0   \n",
       "\n",
       "   fifty_two_week_low  fifty_two_week_high  price_to_sales_trailing_12_months  \\\n",
       "0               15.85                21.99                           2.196663   \n",
       "1               22.29                32.71                           1.974073   \n",
       "2               16.21                24.44                           4.098764   \n",
       "3                7.27                17.80                           1.320137   \n",
       "4                6.81                22.51                           1.330322   \n",
       "\n",
       "   fifty_day_average  two_hundred_day_average  trailing_annual_dividend_rate  \\\n",
       "0            19.3382                 18.14667                          1.550   \n",
       "1            27.0106                 25.58635                          3.240   \n",
       "2            22.5852                 20.95235                          0.066   \n",
       "3             8.7146                  9.63540                          0.000   \n",
       "4             8.3228                  9.27290                          0.000   \n",
       "\n",
       "   trailing_annual_dividend_yield  book_value  price_to_book    total_cash  \\\n",
       "0                        0.080687      24.518       0.785138  7.774306e+09   \n",
       "1                        0.132029      22.237       1.113460  3.838370e+08   \n",
       "2                        0.002993       8.334       2.736981  7.656040e+09   \n",
       "3                        0.000000       7.867       1.008008  4.142880e+08   \n",
       "4                        0.000000       7.867       0.999110  4.142880e+08   \n",
       "\n",
       "   total_cash_per_share    total_debt  earnings_quarterly_growth  \\\n",
       "0                35.162  1.829846e+10                      0.001   \n",
       "1                 3.885  8.720750e+08                      6.801   \n",
       "2                 4.132  2.184320e+10                      3.935   \n",
       "3                 0.614  1.550341e+09                      0.000   \n",
       "4                 0.614  1.550341e+09                      0.000   \n",
       "\n",
       "   revenue_growth  gross_margins  ebitda_margins  return_on_assets  \\\n",
       "0           0.003        0.00000         0.00000           0.01530   \n",
       "1           0.671        0.25252         0.21201           0.03839   \n",
       "2           0.121        0.34493         0.43834           0.04252   \n",
       "3          -0.127        0.43246        -0.00005          -0.00910   \n",
       "4          -0.127        0.43246        -0.00005          -0.00910   \n",
       "\n",
       "   return_on_equity  gross_profits  total_assets_approx  asset_turnover  \\\n",
       "0           0.15680   1.973086e+09         7.774306e+09        0.249769   \n",
       "1           0.12170   3.155040e+08         3.838370e+08        3.255124   \n",
       "2           0.05163   3.146360e+09         7.656040e+09        1.347623   \n",
       "3          -0.04153   1.968303e+09         4.142880e+08        9.708591   \n",
       "4          -0.04153   1.968303e+09         4.142880e+08        9.708591   \n",
       "\n",
       "   earnings_growth_rate  dividend_payout_ratio        equity  debt_to_equity  \\\n",
       "0                   0.1          155000.000000 -1.052416e+10       -1.738710   \n",
       "1                 680.1              47.640053 -4.882380e+08       -1.786168   \n",
       "2                 393.5               1.677255 -1.418716e+10       -1.539646   \n",
       "3                   0.0               0.000000 -1.136053e+09       -1.364673   \n",
       "4                   0.0               0.000000 -1.136053e+09       -1.364673   \n",
       "\n",
       "        roi      roce  \n",
       "0  0.131438  0.000000  \n",
       "1  0.428927  0.079343  \n",
       "2  0.186765  0.070519  \n",
       "3  0.620417 -0.000029  \n",
       "4  0.628930 -0.000029  "
      ]
     },
     "execution_count": 411,
     "metadata": {},
     "output_type": "execute_result"
    }
   ],
   "source": [
    "df_fundamentals_book = pd.read_csv(file_path_book + \"/fundamentals_book.csv\")\n",
    "df_fundamentals_book.head(5)"
   ]
  },
  {
   "cell_type": "markdown",
   "metadata": {},
   "source": [
    "## Models"
   ]
  },
  {
   "cell_type": "markdown",
   "metadata": {},
   "source": [
    "#### Data normalization using StandardScaler"
   ]
  },
  {
   "cell_type": "code",
   "execution_count": 422,
   "metadata": {},
   "outputs": [],
   "source": [
    "numeric_columns = df_fundamentals_book.select_dtypes(include=['int64', 'float64']).columns\n",
    "categorical_columns = df_fundamentals_book.drop(['ticker', 'long_name', 'industry'], axis='columns').copy(deep=True)\n",
    "categorical_columns = categorical_columns.select_dtypes(include='object').columns"
   ]
  },
  {
   "cell_type": "markdown",
   "metadata": {},
   "source": [
    "#### Transforming categorical features into numerical using OneHotEncoder"
   ]
  },
  {
   "cell_type": "code",
   "execution_count": 423,
   "metadata": {},
   "outputs": [
    {
     "data": {
      "text/html": [
       "<div>\n",
       "<style scoped>\n",
       "    .dataframe tbody tr th:only-of-type {\n",
       "        vertical-align: middle;\n",
       "    }\n",
       "\n",
       "    .dataframe tbody tr th {\n",
       "        vertical-align: top;\n",
       "    }\n",
       "\n",
       "    .dataframe thead th {\n",
       "        text-align: right;\n",
       "    }\n",
       "</style>\n",
       "<table border=\"1\" class=\"dataframe\">\n",
       "  <thead>\n",
       "    <tr style=\"text-align: right;\">\n",
       "      <th></th>\n",
       "      <th>ticker</th>\n",
       "      <th>long_name</th>\n",
       "      <th>industry</th>\n",
       "      <th>market_cap</th>\n",
       "      <th>enterprise_value</th>\n",
       "      <th>total_revenue</th>\n",
       "      <th>profit_margins</th>\n",
       "      <th>operating_margins</th>\n",
       "      <th>dividend_rate</th>\n",
       "      <th>beta</th>\n",
       "      <th>ebitda</th>\n",
       "      <th>trailing_pe</th>\n",
       "      <th>forward_pe</th>\n",
       "      <th>volume</th>\n",
       "      <th>average_volume</th>\n",
       "      <th>fifty_two_week_low</th>\n",
       "      <th>fifty_two_week_high</th>\n",
       "      <th>price_to_sales_trailing_12_months</th>\n",
       "      <th>fifty_day_average</th>\n",
       "      <th>two_hundred_day_average</th>\n",
       "      <th>trailing_annual_dividend_rate</th>\n",
       "      <th>trailing_annual_dividend_yield</th>\n",
       "      <th>book_value</th>\n",
       "      <th>price_to_book</th>\n",
       "      <th>total_cash</th>\n",
       "      <th>total_cash_per_share</th>\n",
       "      <th>total_debt</th>\n",
       "      <th>earnings_quarterly_growth</th>\n",
       "      <th>revenue_growth</th>\n",
       "      <th>gross_margins</th>\n",
       "      <th>ebitda_margins</th>\n",
       "      <th>return_on_assets</th>\n",
       "      <th>return_on_equity</th>\n",
       "      <th>gross_profits</th>\n",
       "      <th>total_assets_approx</th>\n",
       "      <th>asset_turnover</th>\n",
       "      <th>earnings_growth_rate</th>\n",
       "      <th>dividend_payout_ratio</th>\n",
       "      <th>equity</th>\n",
       "      <th>debt_to_equity</th>\n",
       "      <th>roi</th>\n",
       "      <th>roce</th>\n",
       "      <th>sector_basic_materials</th>\n",
       "      <th>sector_communication_services</th>\n",
       "      <th>sector_consumer_cyclical</th>\n",
       "      <th>sector_consumer_defensive</th>\n",
       "      <th>sector_energy</th>\n",
       "      <th>sector_financial_services</th>\n",
       "      <th>sector_healthcare</th>\n",
       "      <th>sector_industrials</th>\n",
       "      <th>sector_real_estate</th>\n",
       "      <th>sector_technology</th>\n",
       "      <th>sector_utilities</th>\n",
       "    </tr>\n",
       "  </thead>\n",
       "  <tbody>\n",
       "    <tr>\n",
       "      <th>0</th>\n",
       "      <td>ABCB4.SA</td>\n",
       "      <td>Banco ABC Brasil S.A.</td>\n",
       "      <td>Banks - Regional</td>\n",
       "      <td>4.265434e+09</td>\n",
       "      <td>1.477339e+10</td>\n",
       "      <td>1.941779e+09</td>\n",
       "      <td>0.41576</td>\n",
       "      <td>0.38826</td>\n",
       "      <td>1.56</td>\n",
       "      <td>0.679</td>\n",
       "      <td>0.000000e+00</td>\n",
       "      <td>4.069768</td>\n",
       "      <td>4.706601</td>\n",
       "      <td>92300.0</td>\n",
       "      <td>747165.0</td>\n",
       "      <td>15.85</td>\n",
       "      <td>21.99</td>\n",
       "      <td>2.196663</td>\n",
       "      <td>19.3382</td>\n",
       "      <td>18.14667</td>\n",
       "      <td>1.550</td>\n",
       "      <td>0.080687</td>\n",
       "      <td>24.518</td>\n",
       "      <td>0.785138</td>\n",
       "      <td>7.774306e+09</td>\n",
       "      <td>35.162</td>\n",
       "      <td>1.829846e+10</td>\n",
       "      <td>0.001</td>\n",
       "      <td>0.003</td>\n",
       "      <td>0.00000</td>\n",
       "      <td>0.00000</td>\n",
       "      <td>0.01530</td>\n",
       "      <td>0.15680</td>\n",
       "      <td>1.973086e+09</td>\n",
       "      <td>7.774306e+09</td>\n",
       "      <td>0.249769</td>\n",
       "      <td>0.1</td>\n",
       "      <td>155000.000000</td>\n",
       "      <td>-1.052416e+10</td>\n",
       "      <td>-1.738710</td>\n",
       "      <td>0.131438</td>\n",
       "      <td>0.000000</td>\n",
       "      <td>0.0</td>\n",
       "      <td>0.0</td>\n",
       "      <td>0.0</td>\n",
       "      <td>0.0</td>\n",
       "      <td>0.0</td>\n",
       "      <td>1.0</td>\n",
       "      <td>0.0</td>\n",
       "      <td>0.0</td>\n",
       "      <td>0.0</td>\n",
       "      <td>0.0</td>\n",
       "      <td>0.0</td>\n",
       "    </tr>\n",
       "    <tr>\n",
       "      <th>1</th>\n",
       "      <td>AGRO3.SA</td>\n",
       "      <td>BrasilAgro - Companhia Brasileira de Proprieda...</td>\n",
       "      <td>Farm Products</td>\n",
       "      <td>2.466480e+09</td>\n",
       "      <td>2.912933e+09</td>\n",
       "      <td>1.249437e+09</td>\n",
       "      <td>0.21493</td>\n",
       "      <td>0.25031</td>\n",
       "      <td>3.21</td>\n",
       "      <td>0.432</td>\n",
       "      <td>2.648920e+08</td>\n",
       "      <td>9.450382</td>\n",
       "      <td>6.332481</td>\n",
       "      <td>298100.0</td>\n",
       "      <td>666692.0</td>\n",
       "      <td>22.29</td>\n",
       "      <td>32.71</td>\n",
       "      <td>1.974073</td>\n",
       "      <td>27.0106</td>\n",
       "      <td>25.58635</td>\n",
       "      <td>3.240</td>\n",
       "      <td>0.132029</td>\n",
       "      <td>22.237</td>\n",
       "      <td>1.113460</td>\n",
       "      <td>3.838370e+08</td>\n",
       "      <td>3.885</td>\n",
       "      <td>8.720750e+08</td>\n",
       "      <td>6.801</td>\n",
       "      <td>0.671</td>\n",
       "      <td>0.25252</td>\n",
       "      <td>0.21201</td>\n",
       "      <td>0.03839</td>\n",
       "      <td>0.12170</td>\n",
       "      <td>3.155040e+08</td>\n",
       "      <td>3.838370e+08</td>\n",
       "      <td>3.255124</td>\n",
       "      <td>680.1</td>\n",
       "      <td>47.640053</td>\n",
       "      <td>-4.882380e+08</td>\n",
       "      <td>-1.786168</td>\n",
       "      <td>0.428927</td>\n",
       "      <td>0.079343</td>\n",
       "      <td>0.0</td>\n",
       "      <td>0.0</td>\n",
       "      <td>0.0</td>\n",
       "      <td>1.0</td>\n",
       "      <td>0.0</td>\n",
       "      <td>0.0</td>\n",
       "      <td>0.0</td>\n",
       "      <td>0.0</td>\n",
       "      <td>0.0</td>\n",
       "      <td>0.0</td>\n",
       "      <td>0.0</td>\n",
       "    </tr>\n",
       "    <tr>\n",
       "      <th>2</th>\n",
       "      <td>RAIL3.SA</td>\n",
       "      <td>Rumo S.A.</td>\n",
       "      <td>Railroads</td>\n",
       "      <td>4.228882e+10</td>\n",
       "      <td>5.524305e+10</td>\n",
       "      <td>1.031746e+10</td>\n",
       "      <td>0.07639</td>\n",
       "      <td>0.33544</td>\n",
       "      <td>0.07</td>\n",
       "      <td>0.227</td>\n",
       "      <td>4.522541e+09</td>\n",
       "      <td>54.309525</td>\n",
       "      <td>21.723810</td>\n",
       "      <td>5733400.0</td>\n",
       "      <td>14644522.0</td>\n",
       "      <td>16.21</td>\n",
       "      <td>24.44</td>\n",
       "      <td>4.098764</td>\n",
       "      <td>22.5852</td>\n",
       "      <td>20.95235</td>\n",
       "      <td>0.066</td>\n",
       "      <td>0.002993</td>\n",
       "      <td>8.334</td>\n",
       "      <td>2.736981</td>\n",
       "      <td>7.656040e+09</td>\n",
       "      <td>4.132</td>\n",
       "      <td>2.184320e+10</td>\n",
       "      <td>3.935</td>\n",
       "      <td>0.121</td>\n",
       "      <td>0.34493</td>\n",
       "      <td>0.43834</td>\n",
       "      <td>0.04252</td>\n",
       "      <td>0.05163</td>\n",
       "      <td>3.146360e+09</td>\n",
       "      <td>7.656040e+09</td>\n",
       "      <td>1.347623</td>\n",
       "      <td>393.5</td>\n",
       "      <td>1.677255</td>\n",
       "      <td>-1.418716e+10</td>\n",
       "      <td>-1.539646</td>\n",
       "      <td>0.186765</td>\n",
       "      <td>0.070519</td>\n",
       "      <td>0.0</td>\n",
       "      <td>0.0</td>\n",
       "      <td>0.0</td>\n",
       "      <td>0.0</td>\n",
       "      <td>0.0</td>\n",
       "      <td>0.0</td>\n",
       "      <td>0.0</td>\n",
       "      <td>1.0</td>\n",
       "      <td>0.0</td>\n",
       "      <td>0.0</td>\n",
       "      <td>0.0</td>\n",
       "    </tr>\n",
       "    <tr>\n",
       "      <th>3</th>\n",
       "      <td>ALPA3.SA</td>\n",
       "      <td>Alpargatas S.A.</td>\n",
       "      <td>Footwear &amp; Accessories</td>\n",
       "      <td>5.309793e+09</td>\n",
       "      <td>6.482982e+09</td>\n",
       "      <td>4.022153e+09</td>\n",
       "      <td>-0.05671</td>\n",
       "      <td>-0.06434</td>\n",
       "      <td>0.40</td>\n",
       "      <td>0.571</td>\n",
       "      <td>-1.980000e+05</td>\n",
       "      <td>0.000000</td>\n",
       "      <td>0.000000</td>\n",
       "      <td>1100.0</td>\n",
       "      <td>3953.0</td>\n",
       "      <td>7.27</td>\n",
       "      <td>17.80</td>\n",
       "      <td>1.320137</td>\n",
       "      <td>8.7146</td>\n",
       "      <td>9.63540</td>\n",
       "      <td>0.000</td>\n",
       "      <td>0.000000</td>\n",
       "      <td>7.867</td>\n",
       "      <td>1.008008</td>\n",
       "      <td>4.142880e+08</td>\n",
       "      <td>0.614</td>\n",
       "      <td>1.550341e+09</td>\n",
       "      <td>0.000</td>\n",
       "      <td>-0.127</td>\n",
       "      <td>0.43246</td>\n",
       "      <td>-0.00005</td>\n",
       "      <td>-0.00910</td>\n",
       "      <td>-0.04153</td>\n",
       "      <td>1.968303e+09</td>\n",
       "      <td>4.142880e+08</td>\n",
       "      <td>9.708591</td>\n",
       "      <td>0.0</td>\n",
       "      <td>0.000000</td>\n",
       "      <td>-1.136053e+09</td>\n",
       "      <td>-1.364673</td>\n",
       "      <td>0.620417</td>\n",
       "      <td>-0.000029</td>\n",
       "      <td>0.0</td>\n",
       "      <td>0.0</td>\n",
       "      <td>1.0</td>\n",
       "      <td>0.0</td>\n",
       "      <td>0.0</td>\n",
       "      <td>0.0</td>\n",
       "      <td>0.0</td>\n",
       "      <td>0.0</td>\n",
       "      <td>0.0</td>\n",
       "      <td>0.0</td>\n",
       "      <td>0.0</td>\n",
       "    </tr>\n",
       "    <tr>\n",
       "      <th>4</th>\n",
       "      <td>ALPA4.SA</td>\n",
       "      <td>Alpargatas S.A.</td>\n",
       "      <td>Footwear &amp; Accessories</td>\n",
       "      <td>5.350758e+09</td>\n",
       "      <td>6.395236e+09</td>\n",
       "      <td>4.022153e+09</td>\n",
       "      <td>-0.05671</td>\n",
       "      <td>-0.06434</td>\n",
       "      <td>0.43</td>\n",
       "      <td>0.571</td>\n",
       "      <td>-1.980000e+05</td>\n",
       "      <td>0.000000</td>\n",
       "      <td>14.555555</td>\n",
       "      <td>1132100.0</td>\n",
       "      <td>5605825.0</td>\n",
       "      <td>6.81</td>\n",
       "      <td>22.51</td>\n",
       "      <td>1.330322</td>\n",
       "      <td>8.3228</td>\n",
       "      <td>9.27290</td>\n",
       "      <td>0.000</td>\n",
       "      <td>0.000000</td>\n",
       "      <td>7.867</td>\n",
       "      <td>0.999110</td>\n",
       "      <td>4.142880e+08</td>\n",
       "      <td>0.614</td>\n",
       "      <td>1.550341e+09</td>\n",
       "      <td>0.000</td>\n",
       "      <td>-0.127</td>\n",
       "      <td>0.43246</td>\n",
       "      <td>-0.00005</td>\n",
       "      <td>-0.00910</td>\n",
       "      <td>-0.04153</td>\n",
       "      <td>1.968303e+09</td>\n",
       "      <td>4.142880e+08</td>\n",
       "      <td>9.708591</td>\n",
       "      <td>0.0</td>\n",
       "      <td>0.000000</td>\n",
       "      <td>-1.136053e+09</td>\n",
       "      <td>-1.364673</td>\n",
       "      <td>0.628930</td>\n",
       "      <td>-0.000029</td>\n",
       "      <td>0.0</td>\n",
       "      <td>0.0</td>\n",
       "      <td>1.0</td>\n",
       "      <td>0.0</td>\n",
       "      <td>0.0</td>\n",
       "      <td>0.0</td>\n",
       "      <td>0.0</td>\n",
       "      <td>0.0</td>\n",
       "      <td>0.0</td>\n",
       "      <td>0.0</td>\n",
       "      <td>0.0</td>\n",
       "    </tr>\n",
       "  </tbody>\n",
       "</table>\n",
       "</div>"
      ],
      "text/plain": [
       "     ticker                                          long_name  \\\n",
       "0  ABCB4.SA                              Banco ABC Brasil S.A.   \n",
       "1  AGRO3.SA  BrasilAgro - Companhia Brasileira de Proprieda...   \n",
       "2  RAIL3.SA                                          Rumo S.A.   \n",
       "3  ALPA3.SA                                    Alpargatas S.A.   \n",
       "4  ALPA4.SA                                    Alpargatas S.A.   \n",
       "\n",
       "                 industry    market_cap  enterprise_value  total_revenue  \\\n",
       "0        Banks - Regional  4.265434e+09      1.477339e+10   1.941779e+09   \n",
       "1           Farm Products  2.466480e+09      2.912933e+09   1.249437e+09   \n",
       "2               Railroads  4.228882e+10      5.524305e+10   1.031746e+10   \n",
       "3  Footwear & Accessories  5.309793e+09      6.482982e+09   4.022153e+09   \n",
       "4  Footwear & Accessories  5.350758e+09      6.395236e+09   4.022153e+09   \n",
       "\n",
       "   profit_margins  operating_margins  dividend_rate   beta        ebitda  \\\n",
       "0         0.41576            0.38826           1.56  0.679  0.000000e+00   \n",
       "1         0.21493            0.25031           3.21  0.432  2.648920e+08   \n",
       "2         0.07639            0.33544           0.07  0.227  4.522541e+09   \n",
       "3        -0.05671           -0.06434           0.40  0.571 -1.980000e+05   \n",
       "4        -0.05671           -0.06434           0.43  0.571 -1.980000e+05   \n",
       "\n",
       "   trailing_pe  forward_pe     volume  average_volume  fifty_two_week_low  \\\n",
       "0     4.069768    4.706601    92300.0        747165.0               15.85   \n",
       "1     9.450382    6.332481   298100.0        666692.0               22.29   \n",
       "2    54.309525   21.723810  5733400.0      14644522.0               16.21   \n",
       "3     0.000000    0.000000     1100.0          3953.0                7.27   \n",
       "4     0.000000   14.555555  1132100.0       5605825.0                6.81   \n",
       "\n",
       "   fifty_two_week_high  price_to_sales_trailing_12_months  fifty_day_average  \\\n",
       "0                21.99                           2.196663            19.3382   \n",
       "1                32.71                           1.974073            27.0106   \n",
       "2                24.44                           4.098764            22.5852   \n",
       "3                17.80                           1.320137             8.7146   \n",
       "4                22.51                           1.330322             8.3228   \n",
       "\n",
       "   two_hundred_day_average  trailing_annual_dividend_rate  \\\n",
       "0                 18.14667                          1.550   \n",
       "1                 25.58635                          3.240   \n",
       "2                 20.95235                          0.066   \n",
       "3                  9.63540                          0.000   \n",
       "4                  9.27290                          0.000   \n",
       "\n",
       "   trailing_annual_dividend_yield  book_value  price_to_book    total_cash  \\\n",
       "0                        0.080687      24.518       0.785138  7.774306e+09   \n",
       "1                        0.132029      22.237       1.113460  3.838370e+08   \n",
       "2                        0.002993       8.334       2.736981  7.656040e+09   \n",
       "3                        0.000000       7.867       1.008008  4.142880e+08   \n",
       "4                        0.000000       7.867       0.999110  4.142880e+08   \n",
       "\n",
       "   total_cash_per_share    total_debt  earnings_quarterly_growth  \\\n",
       "0                35.162  1.829846e+10                      0.001   \n",
       "1                 3.885  8.720750e+08                      6.801   \n",
       "2                 4.132  2.184320e+10                      3.935   \n",
       "3                 0.614  1.550341e+09                      0.000   \n",
       "4                 0.614  1.550341e+09                      0.000   \n",
       "\n",
       "   revenue_growth  gross_margins  ebitda_margins  return_on_assets  \\\n",
       "0           0.003        0.00000         0.00000           0.01530   \n",
       "1           0.671        0.25252         0.21201           0.03839   \n",
       "2           0.121        0.34493         0.43834           0.04252   \n",
       "3          -0.127        0.43246        -0.00005          -0.00910   \n",
       "4          -0.127        0.43246        -0.00005          -0.00910   \n",
       "\n",
       "   return_on_equity  gross_profits  total_assets_approx  asset_turnover  \\\n",
       "0           0.15680   1.973086e+09         7.774306e+09        0.249769   \n",
       "1           0.12170   3.155040e+08         3.838370e+08        3.255124   \n",
       "2           0.05163   3.146360e+09         7.656040e+09        1.347623   \n",
       "3          -0.04153   1.968303e+09         4.142880e+08        9.708591   \n",
       "4          -0.04153   1.968303e+09         4.142880e+08        9.708591   \n",
       "\n",
       "   earnings_growth_rate  dividend_payout_ratio        equity  debt_to_equity  \\\n",
       "0                   0.1          155000.000000 -1.052416e+10       -1.738710   \n",
       "1                 680.1              47.640053 -4.882380e+08       -1.786168   \n",
       "2                 393.5               1.677255 -1.418716e+10       -1.539646   \n",
       "3                   0.0               0.000000 -1.136053e+09       -1.364673   \n",
       "4                   0.0               0.000000 -1.136053e+09       -1.364673   \n",
       "\n",
       "        roi      roce  sector_basic_materials  sector_communication_services  \\\n",
       "0  0.131438  0.000000                     0.0                            0.0   \n",
       "1  0.428927  0.079343                     0.0                            0.0   \n",
       "2  0.186765  0.070519                     0.0                            0.0   \n",
       "3  0.620417 -0.000029                     0.0                            0.0   \n",
       "4  0.628930 -0.000029                     0.0                            0.0   \n",
       "\n",
       "   sector_consumer_cyclical  sector_consumer_defensive  sector_energy  \\\n",
       "0                       0.0                        0.0            0.0   \n",
       "1                       0.0                        1.0            0.0   \n",
       "2                       0.0                        0.0            0.0   \n",
       "3                       1.0                        0.0            0.0   \n",
       "4                       1.0                        0.0            0.0   \n",
       "\n",
       "   sector_financial_services  sector_healthcare  sector_industrials  \\\n",
       "0                        1.0                0.0                 0.0   \n",
       "1                        0.0                0.0                 0.0   \n",
       "2                        0.0                0.0                 1.0   \n",
       "3                        0.0                0.0                 0.0   \n",
       "4                        0.0                0.0                 0.0   \n",
       "\n",
       "   sector_real_estate  sector_technology  sector_utilities  \n",
       "0                 0.0                0.0               0.0  \n",
       "1                 0.0                0.0               0.0  \n",
       "2                 0.0                0.0               0.0  \n",
       "3                 0.0                0.0               0.0  \n",
       "4                 0.0                0.0               0.0  "
      ]
     },
     "execution_count": 423,
     "metadata": {},
     "output_type": "execute_result"
    }
   ],
   "source": [
    "encoder = OneHotEncoder(sparse=False)\n",
    "encoded_categorical = encoder.fit_transform(df_fundamentals_book[categorical_columns])\n",
    "\n",
    "df_encoded = pd.DataFrame(encoded_categorical, columns=encoder.get_feature_names_out(categorical_columns))\n",
    "df_fundamentals_final = pd.concat([df_fundamentals_book.drop(categorical_columns, axis=1), df_encoded], axis=1)\n",
    "df_fundamentals_final.columns = ['_'.join(col.lower().replace('-', '').split()) for col in df_fundamentals_final.columns]\n",
    "\n",
    "df_fundamentals_final.head()"
   ]
  },
  {
   "cell_type": "markdown",
   "metadata": {},
   "source": [
    "#### Feature Selection using PCA"
   ]
  },
  {
   "cell_type": "code",
   "execution_count": 577,
   "metadata": {},
   "outputs": [
    {
     "data": {
      "application/vnd.plotly.v1+json": {
       "config": {
        "plotlyServerURL": "https://plot.ly"
       },
       "data": [
        {
         "alignmentgroup": "True",
         "hovertemplate": "Principal Component=%{x}<br>Explained Variance=%{y}<br>text=%{text}<extra></extra>",
         "legendgroup": "",
         "marker": {
          "color": "rgb(100, 195, 181)",
          "pattern": {
           "shape": ""
          }
         },
         "name": "",
         "offsetgroup": "",
         "orientation": "v",
         "showlegend": false,
         "text": [
          "83.11%",
          "11.82%",
          "3.60%",
          "1.12%",
          "0.29%"
         ],
         "textposition": "outside",
         "type": "bar",
         "x": [
          "PC1",
          "PC2",
          "PC3",
          "PC4",
          "PC5"
         ],
         "xaxis": "x",
         "y": [
          0.8311453282067462,
          0.11820560977479726,
          0.035959655250497144,
          0.011242656688248266,
          0.0028514856907217866
         ],
         "yaxis": "y"
        }
       ],
       "layout": {
        "barmode": "relative",
        "font": {
         "color": "white"
        },
        "height": 500,
        "legend": {
         "tracegroupgap": 0
        },
        "template": {
         "data": {
          "bar": [
           {
            "error_x": {
             "color": "#f2f5fa"
            },
            "error_y": {
             "color": "#f2f5fa"
            },
            "marker": {
             "line": {
              "color": "rgb(17,17,17)",
              "width": 0.5
             },
             "pattern": {
              "fillmode": "overlay",
              "size": 10,
              "solidity": 0.2
             }
            },
            "type": "bar"
           }
          ],
          "barpolar": [
           {
            "marker": {
             "line": {
              "color": "rgb(17,17,17)",
              "width": 0.5
             },
             "pattern": {
              "fillmode": "overlay",
              "size": 10,
              "solidity": 0.2
             }
            },
            "type": "barpolar"
           }
          ],
          "carpet": [
           {
            "aaxis": {
             "endlinecolor": "#A2B1C6",
             "gridcolor": "#506784",
             "linecolor": "#506784",
             "minorgridcolor": "#506784",
             "startlinecolor": "#A2B1C6"
            },
            "baxis": {
             "endlinecolor": "#A2B1C6",
             "gridcolor": "#506784",
             "linecolor": "#506784",
             "minorgridcolor": "#506784",
             "startlinecolor": "#A2B1C6"
            },
            "type": "carpet"
           }
          ],
          "choropleth": [
           {
            "colorbar": {
             "outlinewidth": 0,
             "ticks": ""
            },
            "type": "choropleth"
           }
          ],
          "contour": [
           {
            "colorbar": {
             "outlinewidth": 0,
             "ticks": ""
            },
            "colorscale": [
             [
              0,
              "#0d0887"
             ],
             [
              0.1111111111111111,
              "#46039f"
             ],
             [
              0.2222222222222222,
              "#7201a8"
             ],
             [
              0.3333333333333333,
              "#9c179e"
             ],
             [
              0.4444444444444444,
              "#bd3786"
             ],
             [
              0.5555555555555556,
              "#d8576b"
             ],
             [
              0.6666666666666666,
              "#ed7953"
             ],
             [
              0.7777777777777778,
              "#fb9f3a"
             ],
             [
              0.8888888888888888,
              "#fdca26"
             ],
             [
              1,
              "#f0f921"
             ]
            ],
            "type": "contour"
           }
          ],
          "contourcarpet": [
           {
            "colorbar": {
             "outlinewidth": 0,
             "ticks": ""
            },
            "type": "contourcarpet"
           }
          ],
          "heatmap": [
           {
            "colorbar": {
             "outlinewidth": 0,
             "ticks": ""
            },
            "colorscale": [
             [
              0,
              "#0d0887"
             ],
             [
              0.1111111111111111,
              "#46039f"
             ],
             [
              0.2222222222222222,
              "#7201a8"
             ],
             [
              0.3333333333333333,
              "#9c179e"
             ],
             [
              0.4444444444444444,
              "#bd3786"
             ],
             [
              0.5555555555555556,
              "#d8576b"
             ],
             [
              0.6666666666666666,
              "#ed7953"
             ],
             [
              0.7777777777777778,
              "#fb9f3a"
             ],
             [
              0.8888888888888888,
              "#fdca26"
             ],
             [
              1,
              "#f0f921"
             ]
            ],
            "type": "heatmap"
           }
          ],
          "heatmapgl": [
           {
            "colorbar": {
             "outlinewidth": 0,
             "ticks": ""
            },
            "colorscale": [
             [
              0,
              "#0d0887"
             ],
             [
              0.1111111111111111,
              "#46039f"
             ],
             [
              0.2222222222222222,
              "#7201a8"
             ],
             [
              0.3333333333333333,
              "#9c179e"
             ],
             [
              0.4444444444444444,
              "#bd3786"
             ],
             [
              0.5555555555555556,
              "#d8576b"
             ],
             [
              0.6666666666666666,
              "#ed7953"
             ],
             [
              0.7777777777777778,
              "#fb9f3a"
             ],
             [
              0.8888888888888888,
              "#fdca26"
             ],
             [
              1,
              "#f0f921"
             ]
            ],
            "type": "heatmapgl"
           }
          ],
          "histogram": [
           {
            "marker": {
             "pattern": {
              "fillmode": "overlay",
              "size": 10,
              "solidity": 0.2
             }
            },
            "type": "histogram"
           }
          ],
          "histogram2d": [
           {
            "colorbar": {
             "outlinewidth": 0,
             "ticks": ""
            },
            "colorscale": [
             [
              0,
              "#0d0887"
             ],
             [
              0.1111111111111111,
              "#46039f"
             ],
             [
              0.2222222222222222,
              "#7201a8"
             ],
             [
              0.3333333333333333,
              "#9c179e"
             ],
             [
              0.4444444444444444,
              "#bd3786"
             ],
             [
              0.5555555555555556,
              "#d8576b"
             ],
             [
              0.6666666666666666,
              "#ed7953"
             ],
             [
              0.7777777777777778,
              "#fb9f3a"
             ],
             [
              0.8888888888888888,
              "#fdca26"
             ],
             [
              1,
              "#f0f921"
             ]
            ],
            "type": "histogram2d"
           }
          ],
          "histogram2dcontour": [
           {
            "colorbar": {
             "outlinewidth": 0,
             "ticks": ""
            },
            "colorscale": [
             [
              0,
              "#0d0887"
             ],
             [
              0.1111111111111111,
              "#46039f"
             ],
             [
              0.2222222222222222,
              "#7201a8"
             ],
             [
              0.3333333333333333,
              "#9c179e"
             ],
             [
              0.4444444444444444,
              "#bd3786"
             ],
             [
              0.5555555555555556,
              "#d8576b"
             ],
             [
              0.6666666666666666,
              "#ed7953"
             ],
             [
              0.7777777777777778,
              "#fb9f3a"
             ],
             [
              0.8888888888888888,
              "#fdca26"
             ],
             [
              1,
              "#f0f921"
             ]
            ],
            "type": "histogram2dcontour"
           }
          ],
          "mesh3d": [
           {
            "colorbar": {
             "outlinewidth": 0,
             "ticks": ""
            },
            "type": "mesh3d"
           }
          ],
          "parcoords": [
           {
            "line": {
             "colorbar": {
              "outlinewidth": 0,
              "ticks": ""
             }
            },
            "type": "parcoords"
           }
          ],
          "pie": [
           {
            "automargin": true,
            "type": "pie"
           }
          ],
          "scatter": [
           {
            "marker": {
             "line": {
              "color": "#283442"
             }
            },
            "type": "scatter"
           }
          ],
          "scatter3d": [
           {
            "line": {
             "colorbar": {
              "outlinewidth": 0,
              "ticks": ""
             }
            },
            "marker": {
             "colorbar": {
              "outlinewidth": 0,
              "ticks": ""
             }
            },
            "type": "scatter3d"
           }
          ],
          "scattercarpet": [
           {
            "marker": {
             "colorbar": {
              "outlinewidth": 0,
              "ticks": ""
             }
            },
            "type": "scattercarpet"
           }
          ],
          "scattergeo": [
           {
            "marker": {
             "colorbar": {
              "outlinewidth": 0,
              "ticks": ""
             }
            },
            "type": "scattergeo"
           }
          ],
          "scattergl": [
           {
            "marker": {
             "line": {
              "color": "#283442"
             }
            },
            "type": "scattergl"
           }
          ],
          "scattermapbox": [
           {
            "marker": {
             "colorbar": {
              "outlinewidth": 0,
              "ticks": ""
             }
            },
            "type": "scattermapbox"
           }
          ],
          "scatterpolar": [
           {
            "marker": {
             "colorbar": {
              "outlinewidth": 0,
              "ticks": ""
             }
            },
            "type": "scatterpolar"
           }
          ],
          "scatterpolargl": [
           {
            "marker": {
             "colorbar": {
              "outlinewidth": 0,
              "ticks": ""
             }
            },
            "type": "scatterpolargl"
           }
          ],
          "scatterternary": [
           {
            "marker": {
             "colorbar": {
              "outlinewidth": 0,
              "ticks": ""
             }
            },
            "type": "scatterternary"
           }
          ],
          "surface": [
           {
            "colorbar": {
             "outlinewidth": 0,
             "ticks": ""
            },
            "colorscale": [
             [
              0,
              "#0d0887"
             ],
             [
              0.1111111111111111,
              "#46039f"
             ],
             [
              0.2222222222222222,
              "#7201a8"
             ],
             [
              0.3333333333333333,
              "#9c179e"
             ],
             [
              0.4444444444444444,
              "#bd3786"
             ],
             [
              0.5555555555555556,
              "#d8576b"
             ],
             [
              0.6666666666666666,
              "#ed7953"
             ],
             [
              0.7777777777777778,
              "#fb9f3a"
             ],
             [
              0.8888888888888888,
              "#fdca26"
             ],
             [
              1,
              "#f0f921"
             ]
            ],
            "type": "surface"
           }
          ],
          "table": [
           {
            "cells": {
             "fill": {
              "color": "#506784"
             },
             "line": {
              "color": "rgb(17,17,17)"
             }
            },
            "header": {
             "fill": {
              "color": "#2a3f5f"
             },
             "line": {
              "color": "rgb(17,17,17)"
             }
            },
            "type": "table"
           }
          ]
         },
         "layout": {
          "annotationdefaults": {
           "arrowcolor": "#f2f5fa",
           "arrowhead": 0,
           "arrowwidth": 1
          },
          "autotypenumbers": "strict",
          "coloraxis": {
           "colorbar": {
            "outlinewidth": 0,
            "ticks": ""
           }
          },
          "colorscale": {
           "diverging": [
            [
             0,
             "#8e0152"
            ],
            [
             0.1,
             "#c51b7d"
            ],
            [
             0.2,
             "#de77ae"
            ],
            [
             0.3,
             "#f1b6da"
            ],
            [
             0.4,
             "#fde0ef"
            ],
            [
             0.5,
             "#f7f7f7"
            ],
            [
             0.6,
             "#e6f5d0"
            ],
            [
             0.7,
             "#b8e186"
            ],
            [
             0.8,
             "#7fbc41"
            ],
            [
             0.9,
             "#4d9221"
            ],
            [
             1,
             "#276419"
            ]
           ],
           "sequential": [
            [
             0,
             "#0d0887"
            ],
            [
             0.1111111111111111,
             "#46039f"
            ],
            [
             0.2222222222222222,
             "#7201a8"
            ],
            [
             0.3333333333333333,
             "#9c179e"
            ],
            [
             0.4444444444444444,
             "#bd3786"
            ],
            [
             0.5555555555555556,
             "#d8576b"
            ],
            [
             0.6666666666666666,
             "#ed7953"
            ],
            [
             0.7777777777777778,
             "#fb9f3a"
            ],
            [
             0.8888888888888888,
             "#fdca26"
            ],
            [
             1,
             "#f0f921"
            ]
           ],
           "sequentialminus": [
            [
             0,
             "#0d0887"
            ],
            [
             0.1111111111111111,
             "#46039f"
            ],
            [
             0.2222222222222222,
             "#7201a8"
            ],
            [
             0.3333333333333333,
             "#9c179e"
            ],
            [
             0.4444444444444444,
             "#bd3786"
            ],
            [
             0.5555555555555556,
             "#d8576b"
            ],
            [
             0.6666666666666666,
             "#ed7953"
            ],
            [
             0.7777777777777778,
             "#fb9f3a"
            ],
            [
             0.8888888888888888,
             "#fdca26"
            ],
            [
             1,
             "#f0f921"
            ]
           ]
          },
          "colorway": [
           "#636efa",
           "#EF553B",
           "#00cc96",
           "#ab63fa",
           "#FFA15A",
           "#19d3f3",
           "#FF6692",
           "#B6E880",
           "#FF97FF",
           "#FECB52"
          ],
          "font": {
           "color": "#f2f5fa"
          },
          "geo": {
           "bgcolor": "rgb(17,17,17)",
           "lakecolor": "rgb(17,17,17)",
           "landcolor": "rgb(17,17,17)",
           "showlakes": true,
           "showland": true,
           "subunitcolor": "#506784"
          },
          "hoverlabel": {
           "align": "left"
          },
          "hovermode": "closest",
          "mapbox": {
           "style": "dark"
          },
          "paper_bgcolor": "rgb(17,17,17)",
          "plot_bgcolor": "rgb(17,17,17)",
          "polar": {
           "angularaxis": {
            "gridcolor": "#506784",
            "linecolor": "#506784",
            "ticks": ""
           },
           "bgcolor": "rgb(17,17,17)",
           "radialaxis": {
            "gridcolor": "#506784",
            "linecolor": "#506784",
            "ticks": ""
           }
          },
          "scene": {
           "xaxis": {
            "backgroundcolor": "rgb(17,17,17)",
            "gridcolor": "#506784",
            "gridwidth": 2,
            "linecolor": "#506784",
            "showbackground": true,
            "ticks": "",
            "zerolinecolor": "#C8D4E3"
           },
           "yaxis": {
            "backgroundcolor": "rgb(17,17,17)",
            "gridcolor": "#506784",
            "gridwidth": 2,
            "linecolor": "#506784",
            "showbackground": true,
            "ticks": "",
            "zerolinecolor": "#C8D4E3"
           },
           "zaxis": {
            "backgroundcolor": "rgb(17,17,17)",
            "gridcolor": "#506784",
            "gridwidth": 2,
            "linecolor": "#506784",
            "showbackground": true,
            "ticks": "",
            "zerolinecolor": "#C8D4E3"
           }
          },
          "shapedefaults": {
           "line": {
            "color": "#f2f5fa"
           }
          },
          "sliderdefaults": {
           "bgcolor": "#C8D4E3",
           "bordercolor": "rgb(17,17,17)",
           "borderwidth": 1,
           "tickwidth": 0
          },
          "ternary": {
           "aaxis": {
            "gridcolor": "#506784",
            "linecolor": "#506784",
            "ticks": ""
           },
           "baxis": {
            "gridcolor": "#506784",
            "linecolor": "#506784",
            "ticks": ""
           },
           "bgcolor": "rgb(17,17,17)",
           "caxis": {
            "gridcolor": "#506784",
            "linecolor": "#506784",
            "ticks": ""
           }
          },
          "title": {
           "x": 0.05
          },
          "updatemenudefaults": {
           "bgcolor": "#506784",
           "borderwidth": 0
          },
          "xaxis": {
           "automargin": true,
           "gridcolor": "#283442",
           "linecolor": "#506784",
           "ticks": "",
           "title": {
            "standoff": 15
           },
           "zerolinecolor": "#283442",
           "zerolinewidth": 2
          },
          "yaxis": {
           "automargin": true,
           "gridcolor": "#283442",
           "linecolor": "#506784",
           "ticks": "",
           "title": {
            "standoff": 15
           },
           "zerolinecolor": "#283442",
           "zerolinewidth": 2
          }
         }
        },
        "title": {
         "text": "Explained Variance by Each Principal Component"
        },
        "xaxis": {
         "anchor": "y",
         "domain": [
          0,
          1
         ],
         "title": {
          "text": "Principal Component"
         }
        },
        "yaxis": {
         "anchor": "x",
         "domain": [
          0,
          1
         ],
         "title": {
          "text": "Explained Variance"
         }
        }
       }
      }
     },
     "metadata": {},
     "output_type": "display_data"
    }
   ],
   "source": [
    "n_components = 5\n",
    "pca = PCA(n_components)\n",
    "pca_result = pca.fit_transform(df_fundamentals_final.select_dtypes(include=['int', 'float64', 'number']))\n",
    "explained_variance = pca.explained_variance_ratio_\n",
    "\n",
    "fig = px.bar(x=[f'PC{i+1}' for i in range(len(explained_variance))], y=explained_variance, labels={'x': 'Principal Component', 'y': 'Explained Variance'}, title='Explained Variance by Each Principal Component', color_discrete_sequence=['rgb(100, 195, 181)'], text=[f'{x:.2f}%' for x in explained_variance*100])\n",
    "fig.update_traces(textposition='outside')\n",
    "fig.update_layout(template='plotly_dark', font=dict(color='white'), height=500)\n",
    "fig.show()"
   ]
  },
  {
   "cell_type": "markdown",
   "metadata": {},
   "source": [
    "##### Visualizing the fields within each principal component."
   ]
  },
  {
   "cell_type": "code",
   "execution_count": 443,
   "metadata": {},
   "outputs": [
    {
     "data": {
      "application/vnd.plotly.v1+json": {
       "config": {
        "plotlyServerURL": "https://plot.ly"
       },
       "data": [
        {
         "line": {
          "color": "rgb(100, 195, 181)"
         },
         "mode": "lines+markers",
         "name": "Cumulative Variance Explained",
         "type": "scatter",
         "x": [
          1,
          2,
          3,
          4,
          5,
          6,
          7,
          8,
          9,
          10
         ],
         "y": [
          0.8311453282067462,
          0.9493509379815435,
          0.9853105932320406,
          0.9965532499202889,
          0.9994047356110107,
          0.9999264474931607,
          0.9999999974275376,
          0.9999999998941197,
          0.9999999999999337,
          0.999999999999998
         ]
        }
       ],
       "layout": {
        "font": {
         "color": "white"
        },
        "template": {
         "data": {
          "bar": [
           {
            "error_x": {
             "color": "#f2f5fa"
            },
            "error_y": {
             "color": "#f2f5fa"
            },
            "marker": {
             "line": {
              "color": "rgb(17,17,17)",
              "width": 0.5
             },
             "pattern": {
              "fillmode": "overlay",
              "size": 10,
              "solidity": 0.2
             }
            },
            "type": "bar"
           }
          ],
          "barpolar": [
           {
            "marker": {
             "line": {
              "color": "rgb(17,17,17)",
              "width": 0.5
             },
             "pattern": {
              "fillmode": "overlay",
              "size": 10,
              "solidity": 0.2
             }
            },
            "type": "barpolar"
           }
          ],
          "carpet": [
           {
            "aaxis": {
             "endlinecolor": "#A2B1C6",
             "gridcolor": "#506784",
             "linecolor": "#506784",
             "minorgridcolor": "#506784",
             "startlinecolor": "#A2B1C6"
            },
            "baxis": {
             "endlinecolor": "#A2B1C6",
             "gridcolor": "#506784",
             "linecolor": "#506784",
             "minorgridcolor": "#506784",
             "startlinecolor": "#A2B1C6"
            },
            "type": "carpet"
           }
          ],
          "choropleth": [
           {
            "colorbar": {
             "outlinewidth": 0,
             "ticks": ""
            },
            "type": "choropleth"
           }
          ],
          "contour": [
           {
            "colorbar": {
             "outlinewidth": 0,
             "ticks": ""
            },
            "colorscale": [
             [
              0,
              "#0d0887"
             ],
             [
              0.1111111111111111,
              "#46039f"
             ],
             [
              0.2222222222222222,
              "#7201a8"
             ],
             [
              0.3333333333333333,
              "#9c179e"
             ],
             [
              0.4444444444444444,
              "#bd3786"
             ],
             [
              0.5555555555555556,
              "#d8576b"
             ],
             [
              0.6666666666666666,
              "#ed7953"
             ],
             [
              0.7777777777777778,
              "#fb9f3a"
             ],
             [
              0.8888888888888888,
              "#fdca26"
             ],
             [
              1,
              "#f0f921"
             ]
            ],
            "type": "contour"
           }
          ],
          "contourcarpet": [
           {
            "colorbar": {
             "outlinewidth": 0,
             "ticks": ""
            },
            "type": "contourcarpet"
           }
          ],
          "heatmap": [
           {
            "colorbar": {
             "outlinewidth": 0,
             "ticks": ""
            },
            "colorscale": [
             [
              0,
              "#0d0887"
             ],
             [
              0.1111111111111111,
              "#46039f"
             ],
             [
              0.2222222222222222,
              "#7201a8"
             ],
             [
              0.3333333333333333,
              "#9c179e"
             ],
             [
              0.4444444444444444,
              "#bd3786"
             ],
             [
              0.5555555555555556,
              "#d8576b"
             ],
             [
              0.6666666666666666,
              "#ed7953"
             ],
             [
              0.7777777777777778,
              "#fb9f3a"
             ],
             [
              0.8888888888888888,
              "#fdca26"
             ],
             [
              1,
              "#f0f921"
             ]
            ],
            "type": "heatmap"
           }
          ],
          "heatmapgl": [
           {
            "colorbar": {
             "outlinewidth": 0,
             "ticks": ""
            },
            "colorscale": [
             [
              0,
              "#0d0887"
             ],
             [
              0.1111111111111111,
              "#46039f"
             ],
             [
              0.2222222222222222,
              "#7201a8"
             ],
             [
              0.3333333333333333,
              "#9c179e"
             ],
             [
              0.4444444444444444,
              "#bd3786"
             ],
             [
              0.5555555555555556,
              "#d8576b"
             ],
             [
              0.6666666666666666,
              "#ed7953"
             ],
             [
              0.7777777777777778,
              "#fb9f3a"
             ],
             [
              0.8888888888888888,
              "#fdca26"
             ],
             [
              1,
              "#f0f921"
             ]
            ],
            "type": "heatmapgl"
           }
          ],
          "histogram": [
           {
            "marker": {
             "pattern": {
              "fillmode": "overlay",
              "size": 10,
              "solidity": 0.2
             }
            },
            "type": "histogram"
           }
          ],
          "histogram2d": [
           {
            "colorbar": {
             "outlinewidth": 0,
             "ticks": ""
            },
            "colorscale": [
             [
              0,
              "#0d0887"
             ],
             [
              0.1111111111111111,
              "#46039f"
             ],
             [
              0.2222222222222222,
              "#7201a8"
             ],
             [
              0.3333333333333333,
              "#9c179e"
             ],
             [
              0.4444444444444444,
              "#bd3786"
             ],
             [
              0.5555555555555556,
              "#d8576b"
             ],
             [
              0.6666666666666666,
              "#ed7953"
             ],
             [
              0.7777777777777778,
              "#fb9f3a"
             ],
             [
              0.8888888888888888,
              "#fdca26"
             ],
             [
              1,
              "#f0f921"
             ]
            ],
            "type": "histogram2d"
           }
          ],
          "histogram2dcontour": [
           {
            "colorbar": {
             "outlinewidth": 0,
             "ticks": ""
            },
            "colorscale": [
             [
              0,
              "#0d0887"
             ],
             [
              0.1111111111111111,
              "#46039f"
             ],
             [
              0.2222222222222222,
              "#7201a8"
             ],
             [
              0.3333333333333333,
              "#9c179e"
             ],
             [
              0.4444444444444444,
              "#bd3786"
             ],
             [
              0.5555555555555556,
              "#d8576b"
             ],
             [
              0.6666666666666666,
              "#ed7953"
             ],
             [
              0.7777777777777778,
              "#fb9f3a"
             ],
             [
              0.8888888888888888,
              "#fdca26"
             ],
             [
              1,
              "#f0f921"
             ]
            ],
            "type": "histogram2dcontour"
           }
          ],
          "mesh3d": [
           {
            "colorbar": {
             "outlinewidth": 0,
             "ticks": ""
            },
            "type": "mesh3d"
           }
          ],
          "parcoords": [
           {
            "line": {
             "colorbar": {
              "outlinewidth": 0,
              "ticks": ""
             }
            },
            "type": "parcoords"
           }
          ],
          "pie": [
           {
            "automargin": true,
            "type": "pie"
           }
          ],
          "scatter": [
           {
            "marker": {
             "line": {
              "color": "#283442"
             }
            },
            "type": "scatter"
           }
          ],
          "scatter3d": [
           {
            "line": {
             "colorbar": {
              "outlinewidth": 0,
              "ticks": ""
             }
            },
            "marker": {
             "colorbar": {
              "outlinewidth": 0,
              "ticks": ""
             }
            },
            "type": "scatter3d"
           }
          ],
          "scattercarpet": [
           {
            "marker": {
             "colorbar": {
              "outlinewidth": 0,
              "ticks": ""
             }
            },
            "type": "scattercarpet"
           }
          ],
          "scattergeo": [
           {
            "marker": {
             "colorbar": {
              "outlinewidth": 0,
              "ticks": ""
             }
            },
            "type": "scattergeo"
           }
          ],
          "scattergl": [
           {
            "marker": {
             "line": {
              "color": "#283442"
             }
            },
            "type": "scattergl"
           }
          ],
          "scattermapbox": [
           {
            "marker": {
             "colorbar": {
              "outlinewidth": 0,
              "ticks": ""
             }
            },
            "type": "scattermapbox"
           }
          ],
          "scatterpolar": [
           {
            "marker": {
             "colorbar": {
              "outlinewidth": 0,
              "ticks": ""
             }
            },
            "type": "scatterpolar"
           }
          ],
          "scatterpolargl": [
           {
            "marker": {
             "colorbar": {
              "outlinewidth": 0,
              "ticks": ""
             }
            },
            "type": "scatterpolargl"
           }
          ],
          "scatterternary": [
           {
            "marker": {
             "colorbar": {
              "outlinewidth": 0,
              "ticks": ""
             }
            },
            "type": "scatterternary"
           }
          ],
          "surface": [
           {
            "colorbar": {
             "outlinewidth": 0,
             "ticks": ""
            },
            "colorscale": [
             [
              0,
              "#0d0887"
             ],
             [
              0.1111111111111111,
              "#46039f"
             ],
             [
              0.2222222222222222,
              "#7201a8"
             ],
             [
              0.3333333333333333,
              "#9c179e"
             ],
             [
              0.4444444444444444,
              "#bd3786"
             ],
             [
              0.5555555555555556,
              "#d8576b"
             ],
             [
              0.6666666666666666,
              "#ed7953"
             ],
             [
              0.7777777777777778,
              "#fb9f3a"
             ],
             [
              0.8888888888888888,
              "#fdca26"
             ],
             [
              1,
              "#f0f921"
             ]
            ],
            "type": "surface"
           }
          ],
          "table": [
           {
            "cells": {
             "fill": {
              "color": "#506784"
             },
             "line": {
              "color": "rgb(17,17,17)"
             }
            },
            "header": {
             "fill": {
              "color": "#2a3f5f"
             },
             "line": {
              "color": "rgb(17,17,17)"
             }
            },
            "type": "table"
           }
          ]
         },
         "layout": {
          "annotationdefaults": {
           "arrowcolor": "#f2f5fa",
           "arrowhead": 0,
           "arrowwidth": 1
          },
          "autotypenumbers": "strict",
          "coloraxis": {
           "colorbar": {
            "outlinewidth": 0,
            "ticks": ""
           }
          },
          "colorscale": {
           "diverging": [
            [
             0,
             "#8e0152"
            ],
            [
             0.1,
             "#c51b7d"
            ],
            [
             0.2,
             "#de77ae"
            ],
            [
             0.3,
             "#f1b6da"
            ],
            [
             0.4,
             "#fde0ef"
            ],
            [
             0.5,
             "#f7f7f7"
            ],
            [
             0.6,
             "#e6f5d0"
            ],
            [
             0.7,
             "#b8e186"
            ],
            [
             0.8,
             "#7fbc41"
            ],
            [
             0.9,
             "#4d9221"
            ],
            [
             1,
             "#276419"
            ]
           ],
           "sequential": [
            [
             0,
             "#0d0887"
            ],
            [
             0.1111111111111111,
             "#46039f"
            ],
            [
             0.2222222222222222,
             "#7201a8"
            ],
            [
             0.3333333333333333,
             "#9c179e"
            ],
            [
             0.4444444444444444,
             "#bd3786"
            ],
            [
             0.5555555555555556,
             "#d8576b"
            ],
            [
             0.6666666666666666,
             "#ed7953"
            ],
            [
             0.7777777777777778,
             "#fb9f3a"
            ],
            [
             0.8888888888888888,
             "#fdca26"
            ],
            [
             1,
             "#f0f921"
            ]
           ],
           "sequentialminus": [
            [
             0,
             "#0d0887"
            ],
            [
             0.1111111111111111,
             "#46039f"
            ],
            [
             0.2222222222222222,
             "#7201a8"
            ],
            [
             0.3333333333333333,
             "#9c179e"
            ],
            [
             0.4444444444444444,
             "#bd3786"
            ],
            [
             0.5555555555555556,
             "#d8576b"
            ],
            [
             0.6666666666666666,
             "#ed7953"
            ],
            [
             0.7777777777777778,
             "#fb9f3a"
            ],
            [
             0.8888888888888888,
             "#fdca26"
            ],
            [
             1,
             "#f0f921"
            ]
           ]
          },
          "colorway": [
           "#636efa",
           "#EF553B",
           "#00cc96",
           "#ab63fa",
           "#FFA15A",
           "#19d3f3",
           "#FF6692",
           "#B6E880",
           "#FF97FF",
           "#FECB52"
          ],
          "font": {
           "color": "#f2f5fa"
          },
          "geo": {
           "bgcolor": "rgb(17,17,17)",
           "lakecolor": "rgb(17,17,17)",
           "landcolor": "rgb(17,17,17)",
           "showlakes": true,
           "showland": true,
           "subunitcolor": "#506784"
          },
          "hoverlabel": {
           "align": "left"
          },
          "hovermode": "closest",
          "mapbox": {
           "style": "dark"
          },
          "paper_bgcolor": "rgb(17,17,17)",
          "plot_bgcolor": "rgb(17,17,17)",
          "polar": {
           "angularaxis": {
            "gridcolor": "#506784",
            "linecolor": "#506784",
            "ticks": ""
           },
           "bgcolor": "rgb(17,17,17)",
           "radialaxis": {
            "gridcolor": "#506784",
            "linecolor": "#506784",
            "ticks": ""
           }
          },
          "scene": {
           "xaxis": {
            "backgroundcolor": "rgb(17,17,17)",
            "gridcolor": "#506784",
            "gridwidth": 2,
            "linecolor": "#506784",
            "showbackground": true,
            "ticks": "",
            "zerolinecolor": "#C8D4E3"
           },
           "yaxis": {
            "backgroundcolor": "rgb(17,17,17)",
            "gridcolor": "#506784",
            "gridwidth": 2,
            "linecolor": "#506784",
            "showbackground": true,
            "ticks": "",
            "zerolinecolor": "#C8D4E3"
           },
           "zaxis": {
            "backgroundcolor": "rgb(17,17,17)",
            "gridcolor": "#506784",
            "gridwidth": 2,
            "linecolor": "#506784",
            "showbackground": true,
            "ticks": "",
            "zerolinecolor": "#C8D4E3"
           }
          },
          "shapedefaults": {
           "line": {
            "color": "#f2f5fa"
           }
          },
          "sliderdefaults": {
           "bgcolor": "#C8D4E3",
           "bordercolor": "rgb(17,17,17)",
           "borderwidth": 1,
           "tickwidth": 0
          },
          "ternary": {
           "aaxis": {
            "gridcolor": "#506784",
            "linecolor": "#506784",
            "ticks": ""
           },
           "baxis": {
            "gridcolor": "#506784",
            "linecolor": "#506784",
            "ticks": ""
           },
           "bgcolor": "rgb(17,17,17)",
           "caxis": {
            "gridcolor": "#506784",
            "linecolor": "#506784",
            "ticks": ""
           }
          },
          "title": {
           "x": 0.05
          },
          "updatemenudefaults": {
           "bgcolor": "#506784",
           "borderwidth": 0
          },
          "xaxis": {
           "automargin": true,
           "gridcolor": "#283442",
           "linecolor": "#506784",
           "ticks": "",
           "title": {
            "standoff": 15
           },
           "zerolinecolor": "#283442",
           "zerolinewidth": 2
          },
          "yaxis": {
           "automargin": true,
           "gridcolor": "#283442",
           "linecolor": "#506784",
           "ticks": "",
           "title": {
            "standoff": 15
           },
           "zerolinecolor": "#283442",
           "zerolinewidth": 2
          }
         }
        },
        "title": {
         "text": "Elbow Method for PCA Analysis"
        },
        "xaxis": {
         "tickmode": "linear",
         "title": {
          "text": "Number of Principal Components"
         }
        },
        "yaxis": {
         "tickformat": ".0%",
         "title": {
          "text": "Cumulative Variance Explained"
         }
        }
       }
      }
     },
     "metadata": {},
     "output_type": "display_data"
    }
   ],
   "source": [
    "pca = PCA(n_components=10)\n",
    "pca.fit(df_fundamentals_final.select_dtypes(include=['int', 'float64', 'number']))\n",
    "variance_explained = pca.explained_variance_ratio_\n",
    "cumulative_variance = np.cumsum(variance_explained)\n",
    "\n",
    "fig = go.Figure()\n",
    "fig.add_trace(go.Scatter(x=np.arange(1, len(variance_explained) + 1), y=cumulative_variance, mode='lines+markers', line=dict(color='rgb(100, 195, 181)'), name='Cumulative Variance Explained'))\n",
    "fig.update_layout(title='Elbow Method for PCA Analysis', xaxis_title='Number of Principal Components', yaxis_title='Cumulative Variance Explained', xaxis=dict(tickmode='linear'), yaxis=dict(tickformat='.0%'), template='plotly_dark', font=dict(color='white')) \n",
    "fig.show()"
   ]
  },
  {
   "cell_type": "code",
   "execution_count": 444,
   "metadata": {},
   "outputs": [],
   "source": [
    "pca = PCA(n_components=4)\n",
    "principal_components = pca.fit_transform(df_fundamentals_final.select_dtypes(include=['int', 'float64', 'number']))\n",
    "range_num_clusters = list(range(2, 10))\n",
    "silhouette_scores = []\n",
    "distortions = []\n",
    "\n",
    "for num_cluster in range_num_clusters:\n",
    "\n",
    "    kmeans = KMeans(n_clusters=num_cluster, max_iter=10_000, random_state=19051992)\n",
    "    cluster_labels = kmeans.fit_predict(principal_components)\n",
    "    silhouette_scores.append(sil_score(principal_components, cluster_labels))\n",
    "\n",
    "    distortions.append(KMeans(n_clusters=num_cluster, max_iter=10_000, random_state=19051992).fit(df_fundamentals_final.select_dtypes(include=['int', 'float64', 'number'])).inertia_)\n",
    "\n",
    "scaler = StandardScaler()\n",
    "silhouette_scores_scaled = scaler.fit_transform(np.array(silhouette_scores).reshape(-1, 1)).flatten()\n",
    "distortions_scaled = scaler.fit_transform(np.array(distortions).reshape(-1, 1)).flatten()"
   ]
  },
  {
   "cell_type": "code",
   "execution_count": 578,
   "metadata": {},
   "outputs": [
    {
     "data": {
      "application/vnd.plotly.v1+json": {
       "config": {
        "plotlyServerURL": "https://plot.ly"
       },
       "data": [
        {
         "mode": "lines+markers",
         "name": "Silhouette Score",
         "type": "scatter",
         "x": [
          2,
          3,
          4,
          5,
          6,
          7,
          8,
          9
         ],
         "y": [
          1.601794016148907,
          1.6675896027056285,
          0.0072997740499066415,
          -0.18421683507707365,
          -0.5672276441911006,
          -0.5031275464788653,
          -1.0165328542264882,
          -1.0055785129309216
         ]
        },
        {
         "mode": "lines+markers",
         "name": "Distortions",
         "type": "scatter",
         "x": [
          2,
          3,
          4,
          5,
          6,
          7,
          8,
          9
         ],
         "y": [
          2.2139433805233293,
          0.7728112260643458,
          0.21029810659580758,
          -0.19629895614857806,
          -0.4656065774948927,
          -0.6532591168630669,
          -0.8952787059326502,
          -0.9866093567442943
         ]
        }
       ],
       "layout": {
        "font": {
         "color": "white"
        },
        "template": {
         "data": {
          "bar": [
           {
            "error_x": {
             "color": "#f2f5fa"
            },
            "error_y": {
             "color": "#f2f5fa"
            },
            "marker": {
             "line": {
              "color": "rgb(17,17,17)",
              "width": 0.5
             },
             "pattern": {
              "fillmode": "overlay",
              "size": 10,
              "solidity": 0.2
             }
            },
            "type": "bar"
           }
          ],
          "barpolar": [
           {
            "marker": {
             "line": {
              "color": "rgb(17,17,17)",
              "width": 0.5
             },
             "pattern": {
              "fillmode": "overlay",
              "size": 10,
              "solidity": 0.2
             }
            },
            "type": "barpolar"
           }
          ],
          "carpet": [
           {
            "aaxis": {
             "endlinecolor": "#A2B1C6",
             "gridcolor": "#506784",
             "linecolor": "#506784",
             "minorgridcolor": "#506784",
             "startlinecolor": "#A2B1C6"
            },
            "baxis": {
             "endlinecolor": "#A2B1C6",
             "gridcolor": "#506784",
             "linecolor": "#506784",
             "minorgridcolor": "#506784",
             "startlinecolor": "#A2B1C6"
            },
            "type": "carpet"
           }
          ],
          "choropleth": [
           {
            "colorbar": {
             "outlinewidth": 0,
             "ticks": ""
            },
            "type": "choropleth"
           }
          ],
          "contour": [
           {
            "colorbar": {
             "outlinewidth": 0,
             "ticks": ""
            },
            "colorscale": [
             [
              0,
              "#0d0887"
             ],
             [
              0.1111111111111111,
              "#46039f"
             ],
             [
              0.2222222222222222,
              "#7201a8"
             ],
             [
              0.3333333333333333,
              "#9c179e"
             ],
             [
              0.4444444444444444,
              "#bd3786"
             ],
             [
              0.5555555555555556,
              "#d8576b"
             ],
             [
              0.6666666666666666,
              "#ed7953"
             ],
             [
              0.7777777777777778,
              "#fb9f3a"
             ],
             [
              0.8888888888888888,
              "#fdca26"
             ],
             [
              1,
              "#f0f921"
             ]
            ],
            "type": "contour"
           }
          ],
          "contourcarpet": [
           {
            "colorbar": {
             "outlinewidth": 0,
             "ticks": ""
            },
            "type": "contourcarpet"
           }
          ],
          "heatmap": [
           {
            "colorbar": {
             "outlinewidth": 0,
             "ticks": ""
            },
            "colorscale": [
             [
              0,
              "#0d0887"
             ],
             [
              0.1111111111111111,
              "#46039f"
             ],
             [
              0.2222222222222222,
              "#7201a8"
             ],
             [
              0.3333333333333333,
              "#9c179e"
             ],
             [
              0.4444444444444444,
              "#bd3786"
             ],
             [
              0.5555555555555556,
              "#d8576b"
             ],
             [
              0.6666666666666666,
              "#ed7953"
             ],
             [
              0.7777777777777778,
              "#fb9f3a"
             ],
             [
              0.8888888888888888,
              "#fdca26"
             ],
             [
              1,
              "#f0f921"
             ]
            ],
            "type": "heatmap"
           }
          ],
          "heatmapgl": [
           {
            "colorbar": {
             "outlinewidth": 0,
             "ticks": ""
            },
            "colorscale": [
             [
              0,
              "#0d0887"
             ],
             [
              0.1111111111111111,
              "#46039f"
             ],
             [
              0.2222222222222222,
              "#7201a8"
             ],
             [
              0.3333333333333333,
              "#9c179e"
             ],
             [
              0.4444444444444444,
              "#bd3786"
             ],
             [
              0.5555555555555556,
              "#d8576b"
             ],
             [
              0.6666666666666666,
              "#ed7953"
             ],
             [
              0.7777777777777778,
              "#fb9f3a"
             ],
             [
              0.8888888888888888,
              "#fdca26"
             ],
             [
              1,
              "#f0f921"
             ]
            ],
            "type": "heatmapgl"
           }
          ],
          "histogram": [
           {
            "marker": {
             "pattern": {
              "fillmode": "overlay",
              "size": 10,
              "solidity": 0.2
             }
            },
            "type": "histogram"
           }
          ],
          "histogram2d": [
           {
            "colorbar": {
             "outlinewidth": 0,
             "ticks": ""
            },
            "colorscale": [
             [
              0,
              "#0d0887"
             ],
             [
              0.1111111111111111,
              "#46039f"
             ],
             [
              0.2222222222222222,
              "#7201a8"
             ],
             [
              0.3333333333333333,
              "#9c179e"
             ],
             [
              0.4444444444444444,
              "#bd3786"
             ],
             [
              0.5555555555555556,
              "#d8576b"
             ],
             [
              0.6666666666666666,
              "#ed7953"
             ],
             [
              0.7777777777777778,
              "#fb9f3a"
             ],
             [
              0.8888888888888888,
              "#fdca26"
             ],
             [
              1,
              "#f0f921"
             ]
            ],
            "type": "histogram2d"
           }
          ],
          "histogram2dcontour": [
           {
            "colorbar": {
             "outlinewidth": 0,
             "ticks": ""
            },
            "colorscale": [
             [
              0,
              "#0d0887"
             ],
             [
              0.1111111111111111,
              "#46039f"
             ],
             [
              0.2222222222222222,
              "#7201a8"
             ],
             [
              0.3333333333333333,
              "#9c179e"
             ],
             [
              0.4444444444444444,
              "#bd3786"
             ],
             [
              0.5555555555555556,
              "#d8576b"
             ],
             [
              0.6666666666666666,
              "#ed7953"
             ],
             [
              0.7777777777777778,
              "#fb9f3a"
             ],
             [
              0.8888888888888888,
              "#fdca26"
             ],
             [
              1,
              "#f0f921"
             ]
            ],
            "type": "histogram2dcontour"
           }
          ],
          "mesh3d": [
           {
            "colorbar": {
             "outlinewidth": 0,
             "ticks": ""
            },
            "type": "mesh3d"
           }
          ],
          "parcoords": [
           {
            "line": {
             "colorbar": {
              "outlinewidth": 0,
              "ticks": ""
             }
            },
            "type": "parcoords"
           }
          ],
          "pie": [
           {
            "automargin": true,
            "type": "pie"
           }
          ],
          "scatter": [
           {
            "marker": {
             "line": {
              "color": "#283442"
             }
            },
            "type": "scatter"
           }
          ],
          "scatter3d": [
           {
            "line": {
             "colorbar": {
              "outlinewidth": 0,
              "ticks": ""
             }
            },
            "marker": {
             "colorbar": {
              "outlinewidth": 0,
              "ticks": ""
             }
            },
            "type": "scatter3d"
           }
          ],
          "scattercarpet": [
           {
            "marker": {
             "colorbar": {
              "outlinewidth": 0,
              "ticks": ""
             }
            },
            "type": "scattercarpet"
           }
          ],
          "scattergeo": [
           {
            "marker": {
             "colorbar": {
              "outlinewidth": 0,
              "ticks": ""
             }
            },
            "type": "scattergeo"
           }
          ],
          "scattergl": [
           {
            "marker": {
             "line": {
              "color": "#283442"
             }
            },
            "type": "scattergl"
           }
          ],
          "scattermapbox": [
           {
            "marker": {
             "colorbar": {
              "outlinewidth": 0,
              "ticks": ""
             }
            },
            "type": "scattermapbox"
           }
          ],
          "scatterpolar": [
           {
            "marker": {
             "colorbar": {
              "outlinewidth": 0,
              "ticks": ""
             }
            },
            "type": "scatterpolar"
           }
          ],
          "scatterpolargl": [
           {
            "marker": {
             "colorbar": {
              "outlinewidth": 0,
              "ticks": ""
             }
            },
            "type": "scatterpolargl"
           }
          ],
          "scatterternary": [
           {
            "marker": {
             "colorbar": {
              "outlinewidth": 0,
              "ticks": ""
             }
            },
            "type": "scatterternary"
           }
          ],
          "surface": [
           {
            "colorbar": {
             "outlinewidth": 0,
             "ticks": ""
            },
            "colorscale": [
             [
              0,
              "#0d0887"
             ],
             [
              0.1111111111111111,
              "#46039f"
             ],
             [
              0.2222222222222222,
              "#7201a8"
             ],
             [
              0.3333333333333333,
              "#9c179e"
             ],
             [
              0.4444444444444444,
              "#bd3786"
             ],
             [
              0.5555555555555556,
              "#d8576b"
             ],
             [
              0.6666666666666666,
              "#ed7953"
             ],
             [
              0.7777777777777778,
              "#fb9f3a"
             ],
             [
              0.8888888888888888,
              "#fdca26"
             ],
             [
              1,
              "#f0f921"
             ]
            ],
            "type": "surface"
           }
          ],
          "table": [
           {
            "cells": {
             "fill": {
              "color": "#506784"
             },
             "line": {
              "color": "rgb(17,17,17)"
             }
            },
            "header": {
             "fill": {
              "color": "#2a3f5f"
             },
             "line": {
              "color": "rgb(17,17,17)"
             }
            },
            "type": "table"
           }
          ]
         },
         "layout": {
          "annotationdefaults": {
           "arrowcolor": "#f2f5fa",
           "arrowhead": 0,
           "arrowwidth": 1
          },
          "autotypenumbers": "strict",
          "coloraxis": {
           "colorbar": {
            "outlinewidth": 0,
            "ticks": ""
           }
          },
          "colorscale": {
           "diverging": [
            [
             0,
             "#8e0152"
            ],
            [
             0.1,
             "#c51b7d"
            ],
            [
             0.2,
             "#de77ae"
            ],
            [
             0.3,
             "#f1b6da"
            ],
            [
             0.4,
             "#fde0ef"
            ],
            [
             0.5,
             "#f7f7f7"
            ],
            [
             0.6,
             "#e6f5d0"
            ],
            [
             0.7,
             "#b8e186"
            ],
            [
             0.8,
             "#7fbc41"
            ],
            [
             0.9,
             "#4d9221"
            ],
            [
             1,
             "#276419"
            ]
           ],
           "sequential": [
            [
             0,
             "#0d0887"
            ],
            [
             0.1111111111111111,
             "#46039f"
            ],
            [
             0.2222222222222222,
             "#7201a8"
            ],
            [
             0.3333333333333333,
             "#9c179e"
            ],
            [
             0.4444444444444444,
             "#bd3786"
            ],
            [
             0.5555555555555556,
             "#d8576b"
            ],
            [
             0.6666666666666666,
             "#ed7953"
            ],
            [
             0.7777777777777778,
             "#fb9f3a"
            ],
            [
             0.8888888888888888,
             "#fdca26"
            ],
            [
             1,
             "#f0f921"
            ]
           ],
           "sequentialminus": [
            [
             0,
             "#0d0887"
            ],
            [
             0.1111111111111111,
             "#46039f"
            ],
            [
             0.2222222222222222,
             "#7201a8"
            ],
            [
             0.3333333333333333,
             "#9c179e"
            ],
            [
             0.4444444444444444,
             "#bd3786"
            ],
            [
             0.5555555555555556,
             "#d8576b"
            ],
            [
             0.6666666666666666,
             "#ed7953"
            ],
            [
             0.7777777777777778,
             "#fb9f3a"
            ],
            [
             0.8888888888888888,
             "#fdca26"
            ],
            [
             1,
             "#f0f921"
            ]
           ]
          },
          "colorway": [
           "#636efa",
           "#EF553B",
           "#00cc96",
           "#ab63fa",
           "#FFA15A",
           "#19d3f3",
           "#FF6692",
           "#B6E880",
           "#FF97FF",
           "#FECB52"
          ],
          "font": {
           "color": "#f2f5fa"
          },
          "geo": {
           "bgcolor": "rgb(17,17,17)",
           "lakecolor": "rgb(17,17,17)",
           "landcolor": "rgb(17,17,17)",
           "showlakes": true,
           "showland": true,
           "subunitcolor": "#506784"
          },
          "hoverlabel": {
           "align": "left"
          },
          "hovermode": "closest",
          "mapbox": {
           "style": "dark"
          },
          "paper_bgcolor": "rgb(17,17,17)",
          "plot_bgcolor": "rgb(17,17,17)",
          "polar": {
           "angularaxis": {
            "gridcolor": "#506784",
            "linecolor": "#506784",
            "ticks": ""
           },
           "bgcolor": "rgb(17,17,17)",
           "radialaxis": {
            "gridcolor": "#506784",
            "linecolor": "#506784",
            "ticks": ""
           }
          },
          "scene": {
           "xaxis": {
            "backgroundcolor": "rgb(17,17,17)",
            "gridcolor": "#506784",
            "gridwidth": 2,
            "linecolor": "#506784",
            "showbackground": true,
            "ticks": "",
            "zerolinecolor": "#C8D4E3"
           },
           "yaxis": {
            "backgroundcolor": "rgb(17,17,17)",
            "gridcolor": "#506784",
            "gridwidth": 2,
            "linecolor": "#506784",
            "showbackground": true,
            "ticks": "",
            "zerolinecolor": "#C8D4E3"
           },
           "zaxis": {
            "backgroundcolor": "rgb(17,17,17)",
            "gridcolor": "#506784",
            "gridwidth": 2,
            "linecolor": "#506784",
            "showbackground": true,
            "ticks": "",
            "zerolinecolor": "#C8D4E3"
           }
          },
          "shapedefaults": {
           "line": {
            "color": "#f2f5fa"
           }
          },
          "sliderdefaults": {
           "bgcolor": "#C8D4E3",
           "bordercolor": "rgb(17,17,17)",
           "borderwidth": 1,
           "tickwidth": 0
          },
          "ternary": {
           "aaxis": {
            "gridcolor": "#506784",
            "linecolor": "#506784",
            "ticks": ""
           },
           "baxis": {
            "gridcolor": "#506784",
            "linecolor": "#506784",
            "ticks": ""
           },
           "bgcolor": "rgb(17,17,17)",
           "caxis": {
            "gridcolor": "#506784",
            "linecolor": "#506784",
            "ticks": ""
           }
          },
          "title": {
           "x": 0.05
          },
          "updatemenudefaults": {
           "bgcolor": "#506784",
           "borderwidth": 0
          },
          "xaxis": {
           "automargin": true,
           "gridcolor": "#283442",
           "linecolor": "#506784",
           "ticks": "",
           "title": {
            "standoff": 15
           },
           "zerolinecolor": "#283442",
           "zerolinewidth": 2
          },
          "yaxis": {
           "automargin": true,
           "gridcolor": "#283442",
           "linecolor": "#506784",
           "ticks": "",
           "title": {
            "standoff": 15
           },
           "zerolinecolor": "#283442",
           "zerolinewidth": 2
          }
         }
        },
        "title": {
         "text": "Elbow Method for Determining the Optimal Number of Clusters (Normalized)"
        },
        "xaxis": {
         "title": {
          "text": "Number of clusters"
         }
        },
        "yaxis": {
         "title": {
          "text": "Silhouette Score / Distortions (Normalized)"
         }
        }
       }
      }
     },
     "metadata": {},
     "output_type": "display_data"
    }
   ],
   "source": [
    "fig = go.Figure()\n",
    "fig.add_trace(go.Scatter(x=range_num_clusters, y=silhouette_scores_scaled, mode='lines+markers', name='Silhouette Score'))\n",
    "fig.add_trace(go.Scatter(x=range_num_clusters, y=distortions_scaled, mode='lines+markers', name='Distortions'))\n",
    "fig.update_layout(title='Elbow Method for Determining the Optimal Number of Clusters (Normalized)', xaxis_title='Number of clusters', yaxis_title='Silhouette Score / Distortions (Normalized)', template='plotly_dark', font=dict(color='white'))\n",
    "fig.show()"
   ]
  },
  {
   "cell_type": "code",
   "execution_count": 589,
   "metadata": {},
   "outputs": [
    {
     "data": {
      "application/vnd.plotly.v1+json": {
       "config": {
        "plotlyServerURL": "https://plot.ly"
       },
       "data": [
        {
         "hovertemplate": "PC1=%{x}<br>PC2=%{y}<br>cluster=%{marker.color}<extra></extra>",
         "legendgroup": "",
         "marker": {
          "color": [
           0,
           0,
           0,
           0,
           0,
           0,
           0,
           0,
           0,
           1,
           1,
           1,
           0,
           0,
           0,
           0,
           0,
           0,
           3,
           0,
           0,
           0,
           0,
           0,
           0,
           0,
           0,
           0,
           0,
           0,
           0,
           0,
           0,
           0,
           0,
           0,
           0,
           0,
           0,
           0,
           0,
           0,
           0,
           0,
           0,
           0,
           0,
           0,
           0,
           0,
           0,
           0,
           0,
           0,
           0,
           0,
           0,
           0,
           0,
           0,
           0,
           0,
           0,
           0,
           0,
           0,
           0,
           0,
           0,
           0,
           0,
           0,
           0,
           0,
           1,
           1,
           0,
           0,
           0,
           0,
           0,
           0,
           0,
           0,
           0,
           0,
           0,
           0,
           0,
           0,
           0,
           0,
           0,
           0,
           0,
           0,
           0,
           0,
           0,
           0,
           4,
           4,
           0,
           0,
           0,
           0,
           0,
           0,
           0,
           0,
           0,
           0,
           0,
           0,
           0,
           0,
           0,
           0,
           0,
           0,
           0,
           0,
           0,
           0,
           0,
           0,
           0,
           0,
           0,
           0,
           0,
           0,
           0,
           0,
           0,
           0,
           0,
           0,
           0,
           0,
           0,
           0,
           0,
           0,
           0,
           0,
           0,
           0,
           0,
           0,
           0,
           0,
           0,
           0,
           0,
           0,
           0,
           0,
           0,
           0,
           0,
           0,
           0,
           0,
           0,
           0,
           0,
           0,
           0,
           0,
           0,
           0,
           0,
           2,
           0,
           0,
           0,
           0,
           0,
           0,
           0,
           0,
           0,
           0,
           0,
           0,
           0,
           0,
           0,
           0,
           0,
           0,
           0,
           0,
           0,
           0,
           0,
           0,
           0,
           0,
           0,
           0,
           0,
           0,
           0,
           0,
           0,
           0,
           0,
           0,
           0,
           0,
           0,
           0,
           0,
           0,
           0,
           0,
           0,
           0,
           0,
           0,
           0,
           0,
           0,
           0,
           0,
           0,
           0,
           0,
           0,
           0,
           0,
           0,
           0,
           0,
           0,
           0,
           0,
           0,
           0,
           0,
           0,
           0,
           0,
           0,
           0,
           0,
           0,
           0,
           0,
           0,
           0,
           0,
           0,
           0,
           0,
           0,
           0,
           0,
           0,
           0,
           0,
           0,
           0,
           0,
           0,
           0,
           0,
           0,
           0,
           0,
           0,
           0,
           1,
           0,
           0,
           0,
           0,
           1,
           0,
           0,
           0,
           0,
           0,
           0,
           1,
           0,
           0,
           0,
           0
          ],
          "coloraxis": "coloraxis",
          "symbol": "circle"
         },
         "mode": "markers",
         "name": "",
         "orientation": "v",
         "showlegend": false,
         "type": "scatter",
         "x": [
          -25570247153.694115,
          -49862686105.16019,
          12751062519.267775,
          -45713389503.80613,
          -45756674748.325905,
          -31777193860.78563,
          -50772640707.77188,
          132029278681.38655,
          -44596406242.217316,
          1423175866177.326,
          904820045913.9713,
          915912303008.7789,
          -25314079790.849724,
          -19167836296.533154,
          10956895723.673685,
          -52719759096.1712,
          47382852726.88906,
          47451282787.48144,
          -51403725512.30328,
          -27666802979.936935,
          -11189370297.231249,
          -10733445210.882656,
          14327139682.08406,
          17698505722.68039,
          -52522290360.70036,
          -45003113917.984245,
          -24742385304.91801,
          -52550193347.693825,
          -30238564190.35066,
          -1919238628.814881,
          -6470900163.425703,
          -40101553888.70554,
          29157196279.38123,
          -7306205443.678695,
          -6529224365.270084,
          79168811672.60434,
          -40590210882.2929,
          28082835793.90315,
          -50255015929.100494,
          -39963267421.641014,
          -24469558318.70752,
          -48540120830.76752,
          -26327521598.253273,
          102299411496.94098,
          107696378976.00275,
          -15982229578.907091,
          12172958734.069485,
          47933492170.68644,
          -39876688669.28784,
          -52427890760.201645,
          -50309562860.271324,
          -50180960726.2563,
          -49659271495.578995,
          -49033344215.759735,
          -51391128435.75578,
          -50504273008.2312,
          -39146062867.655235,
          -50397802801.08881,
          -49850241036.50157,
          9771480168.277712,
          11394307430.852222,
          7882487586.115664,
          7944175038.30601,
          -8417769039.537899,
          -48333029560.40582,
          -50315928244.386856,
          -49342693538.6567,
          -2363353018.6384616,
          -19288632756.52193,
          -50899568342.779144,
          -51559430985.0692,
          -51578716182.35003,
          38345987525.74223,
          37485087634.478546,
          1222170888850.8264,
          1246349141280.9922,
          210399939103.85056,
          -52289795110.46648,
          -45546760122.59049,
          -41406513307.63282,
          -51260020220.50056,
          12067204538.42907,
          -47334838386.96402,
          -32915253712.450966,
          -47217154139.49498,
          -53013092068.47281,
          -33671123103.611885,
          -52980724572.26615,
          -37943666116.3686,
          -52057174440.28305,
          -21401192848.96232,
          -49508194373.33038,
          -2657000812.575716,
          75220196503.54848,
          -36603990519.90233,
          -36716140759.85873,
          -40236281170.482994,
          -47929652796.4044,
          -43481292499.75359,
          -49076278825.716835,
          926688976338.8545,
          903092752409.1527,
          -48981452168.96676,
          -45443511520.69621,
          -52567621794.9064,
          -47692668704.3902,
          -45312235509.94002,
          -44671713480.50867,
          -49755519365.35342,
          -36490749322.565544,
          -49883431412.91318,
          -52427055937.7884,
          -47198190189.43245,
          -49241772847.14945,
          -39986464432.46811,
          -39650489493.83177,
          -51944257424.21851,
          51214750707.42717,
          -53183076920.698204,
          -52292039421.60819,
          14154763365.883482,
          -49206121235.8607,
          -51153213284.346306,
          -52922446258.95074,
          -33681166096.274906,
          -53179808109.37451,
          -28104411589.637535,
          4258116161.594414,
          -52088392708.80234,
          -52888058619.550545,
          -52381598767.81644,
          -51495642299.40114,
          -38041674896.84929,
          -50451465480.765144,
          -51000179895.5583,
          -26043591562.477623,
          10208569261.022219,
          -44513164870.00169,
          -44194019253.06814,
          -30876174891.728085,
          -30950293059.15119,
          345923949362.60706,
          -53155721182.031136,
          47846729510.73365,
          -50686831416.55831,
          67420740020.425224,
          -26768209565.009785,
          -44996290144.63609,
          -52559211110.3162,
          -46091880422.054146,
          -39125983195.57293,
          -50522012086.14105,
          -36295881671.157005,
          347190364.39988875,
          -53091162068.61094,
          -43330374652.415474,
          -1104134017.8243697,
          -49905795685.974846,
          -43346429535.961845,
          -50652643125.85343,
          -52726426854.26353,
          -53201124899.92124,
          -49340453305.93702,
          -48153992697.15364,
          -49619385582.55696,
          -51671671590.717545,
          -43173276429.71018,
          -52306106464.90977,
          -44862936052.55514,
          -50108552391.1696,
          -53240239163.44039,
          -37880633061.07975,
          -56290462044.3102,
          -52234719263.80847,
          -27587934045.463177,
          -52839297560.806564,
          -52986099456.28669,
          -52455010194.092445,
          -53151449210.78873,
          -52986499796.80357,
          -52845328524.40335,
          -32127219855.069504,
          -31961018435.923733,
          -53388760461.06296,
          -50145391976.087265,
          -50227649284.140305,
          -53188844068.711586,
          -53211820870.1405,
          -53252570207.315186,
          -34433553028.93212,
          -52018792357.88609,
          -42828003963.78529,
          -42828535602.87295,
          -38394296397.239204,
          -40712617576.938774,
          -20958980852.66377,
          -20163580037.680077,
          -25347820710.72452,
          -56287723474.63461,
          -52185188458.61488,
          -52224572263.27697,
          -44948072888.1819,
          -52273228095.218094,
          -50126852720.14736,
          -52985914804.91892,
          -52997511397.451096,
          -52656936372.3583,
          -53240105367.02692,
          -52886825730.985725,
          -37173593911.63793,
          -51774306339.5227,
          22190900449.268482,
          -32661408673.576862,
          -53087644559.0819,
          -48267261121.14017,
          -53260625700.925934,
          -52560434729.19985,
          -53250659665.90312,
          -51007623301.95668,
          -50925265975.08261,
          12146043410.619492,
          -52418581231.71731,
          -53097540973.17787,
          -52775915483.8748,
          -53104467472.692085,
          -52502182097.05124,
          -49561188966.41184,
          -48222670873.55434,
          -53115013427.484726,
          -53165925887.7761,
          -21401735633.01406,
          -52770265828.84427,
          -52780435991.942604,
          -51826535280.252266,
          -51622047343.21673,
          -53167022359.219955,
          -53181279697.22155,
          -53182374591.57509,
          -52082479207.88015,
          -23019801605.467033,
          -43774110369.77402,
          -23262042338.549732,
          -48471103624.51476,
          -44831504153.76167,
          -50168126953.731155,
          -52884832274.76929,
          -53344754595.427536,
          -52486687000.68408,
          -52516740332.8315,
          -50377144844.74824,
          -51840591821.899254,
          -52776876434.46251,
          -26138354172.394615,
          -51397522731.83765,
          -51400181546.35746,
          -12241255742.682814,
          -49920764020.62316,
          -49440232869.4508,
          -49634128786.226814,
          -37966659424.53609,
          -42271710406.74373,
          129487924581.08714,
          41966807948.41342,
          -52764991873.53228,
          -52803122323.55552,
          -4147329927.857271,
          -33831226526.680088,
          -26241991238.01165,
          -26218488419.570526,
          -48450502540.734055,
          -33849026770.881634,
          -52986279770.55311,
          -53097214352.21038,
          -53145573728.99778,
          242905277376.83383,
          -52892905748.27164,
          -53251865037.13736,
          -51934003260.947174,
          -52811609162.5971,
          225515561903.8705,
          -52930279961.512825,
          -53295146087.44083,
          -32270936345.092476,
          -52997084493.5787,
          -53200044211.3033,
          -52891592660.69473,
          904820045914.0137,
          -29095289565.5688,
          -46685145746.92734,
          -45674492465.75543,
          -35589999531.6901
         ],
         "xaxis": "x",
         "y": [
          -16197667880.190676,
          -8158019081.785896,
          11942225024.376652,
          -4692508601.442989,
          -4695302930.033518,
          -2436413602.762517,
          -9181057726.235085,
          170327723291.27954,
          -3342571215.702665,
          -227785984264.31436,
          -200499145930.05786,
          -196484514874.23996,
          4270267728.8537173,
          -3257323439.412541,
          21918772116.834465,
          -9486037808.56159,
          20251250569.941677,
          20258253426.5423,
          -10390303666.803173,
          -16378466397.468649,
          -15406902106.185225,
          -15246561068.17439,
          28469856795.654396,
          2491384129.6722827,
          -9291584859.016203,
          -7546980394.056092,
          7672793653.340059,
          -9329171662.066156,
          1488532405.3678086,
          27537758931.05809,
          25884653109.277107,
          -5500319101.508172,
          31168763646.260468,
          10384591298.265099,
          10801520869.580133,
          12732598605.850418,
          -2885233258.317736,
          9324287305.857338,
          -9816948422.800592,
          -4540505629.108148,
          -2603201267.132457,
          -7533607742.124513,
          -7705667234.315058,
          38457296031.5769,
          40382852594.740105,
          3945871355.4812217,
          7044721337.490392,
          16326593556.344957,
          -5428724803.546438,
          -8995911996.898062,
          -7892206733.111179,
          -8127125825.76287,
          -7851277769.789889,
          -5713131739.427416,
          -6742697154.12705,
          -7400635174.394373,
          -3253024298.2299156,
          -9315627476.425129,
          -9908486579.997313,
          60867950334.67954,
          61483538501.64011,
          51692053793.11797,
          51755467735.1087,
          3894203209.5935473,
          -5142561604.680636,
          -10692828301.233614,
          -9982760863.78192,
          17477293670.971386,
          4890754788.890256,
          -8822532975.913795,
          -10364646998.013836,
          -10373186814.048077,
          40758044771.04175,
          40546269663.45042,
          -249536910122.58005,
          -240746073098.09332,
          196358893523.53375,
          -10272212137.09713,
          -8353139199.924305,
          -6414921078.967731,
          -7828821566.498346,
          8054327171.248357,
          -4004196689.16279,
          -5772655543.5123205,
          -6891924856.58818,
          -9785829043.259287,
          4381208929.987223,
          -10017614116.21001,
          2576326794.658157,
          -9669371611.30097,
          16120862914.838408,
          -8011814866.133121,
          -1302371515.4449875,
          53270405231.99759,
          -6918424546.252708,
          -435075965.00093436,
          -1844716583.6355038,
          -4724994744.512148,
          -12480363637.156584,
          -11109835818.89311,
          675853653822.0398,
          667075944539.9043,
          -4984126649.098352,
          -11547006656.288153,
          -9517334131.733719,
          -10715144651.137058,
          -4306267407.652734,
          -4036938229.1681285,
          -7483562375.753308,
          18042162377.735275,
          -8877946282.58356,
          -9310781911.441843,
          -7165947687.154607,
          -9576737137.432983,
          -2854090284.4884696,
          -2703619139.013745,
          -9782883052.591488,
          22407002463.288734,
          -10071296504.594952,
          -10320894163.878746,
          25181246678.028847,
          -9345344510.610582,
          -9937154872.505068,
          -9794923534.21821,
          -2765566112.4157696,
          -10044629880.981524,
          -1660753940.3492618,
          10695086896.206547,
          -9984132116.953138,
          -9725422787.841238,
          -10127213588.314447,
          -8180407396.253128,
          976198182.7264299,
          -9962325892.557709,
          -9361504287.36053,
          755488448.9448073,
          79357277458.96205,
          -1636746601.3558834,
          -1502040132.8311253,
          10362942136.449608,
          10356104927.793177,
          294233018154.9063,
          -9974797108.713205,
          67094956975.69495,
          -8136997307.130887,
          92187226556.00946,
          -16110913396.271133,
          -5635238616.777486,
          -9331202374.870216,
          -3546153346.1800156,
          -4411198676.87997,
          -7407312514.841781,
          -6306388908.544833,
          36410430550.559044,
          -9808056552.711636,
          -8924953813.04283,
          35237373752.11642,
          -8914253878.655216,
          -2176083542.3855586,
          -8406022449.428912,
          -9827767237.09358,
          -9921852343.506742,
          -6819268080.383274,
          -6058707461.411139,
          -7728816638.555503,
          -8888310919.204176,
          -4813856849.739208,
          -9197348275.214851,
          -589880352.566226,
          -7859391795.3017845,
          -10009790707.589983,
          -3334533611.1459017,
          -10717970769.545282,
          -7121767395.368756,
          -16355916904.254343,
          -9579618123.246943,
          -9663695993.186338,
          -9845586602.778282,
          -9880487667.58365,
          -9794103779.087559,
          -10165873242.611639,
          -12218292805.263306,
          -12167545394.977722,
          -10310882169.497202,
          -8415136391.099693,
          -8444631080.878352,
          -9964229051.320614,
          -9972442359.043417,
          -10026023806.96721,
          -4455106979.211898,
          -8987879208.131685,
          -19910516658.33664,
          -19910706678.91595,
          -13155662262.394634,
          -4739119778.468686,
          991057918.0657309,
          1276204475.1142957,
          7463000919.858983,
          -10714130940.685486,
          -8910146033.146954,
          -8929865756.327293,
          -5749870015.784299,
          -9793530016.420418,
          -9772458271.23372,
          -9990860303.560472,
          -9994196105.950153,
          -9409050913.697155,
          -10012520789.209995,
          -9688273851.555506,
          -2352751182.761195,
          -8860886637.477015,
          10356901976.16907,
          633151508.6107953,
          -9917339809.494305,
          -5421232421.895873,
          -10044163817.918459,
          -9810768231.164585,
          -9968221526.430555,
          -9090069441.949919,
          -9059255699.545519,
          8099465336.900807,
          -9545384287.275225,
          -9756385440.70204,
          -9285795273.448011,
          -9880398005.736044,
          -9677282590.151608,
          -6658247619.699773,
          -8124647613.381331,
          -9905232988.103773,
          -9923029159.598991,
          2268364988.754097,
          -9669845662.264431,
          -9673481241.878681,
          -8099430805.527026,
          -8029527044.8178005,
          -10040059492.4749,
          -9901462471.098467,
          -9901853816.45201,
          -9125020106.467463,
          1811101162.0934465,
          -1368872780.2295768,
          13065814856.665522,
          -5581399669.392414,
          -597097990.7294433,
          -9124805718.667797,
          -9709026523.02356,
          -10295496715.428352,
          -9310329006.351065,
          -9288675979.191875,
          -7672427425.094716,
          -8796152577.771513,
          -9672208777.976315,
          -6778631857.737991,
          -10114478535.663412,
          -10116993721.087769,
          -5168480646.958129,
          -8453735401.094349,
          -4233067822.5260816,
          -7734086368.9708605,
          -3383389966.6105375,
          -4916011158.4934,
          35005558954.133835,
          15614764577.763275,
          -10040175264.284338,
          -9813562154.422102,
          17291846774.398964,
          -7048377929.285143,
          -6084954683.657274,
          -6059670488.897262,
          -9591041596.499432,
          -7048061475.815382,
          -9664628335.077799,
          -9672154157.258278,
          -9878387352.579153,
          -92535487236.67244,
          -9690447391.873892,
          -10040685462.552626,
          -8829543523.97323,
          -9787891046.838999,
          -98023063444.61807,
          -9298886353.029926,
          -10056790485.442627,
          772735689.8623855,
          -9814717149.835894,
          -9980195596.368645,
          -9605726570.307049,
          -200499145929.9491,
          -4940023264.425077,
          -5043268390.319155,
          -6188679584.646425,
          -12102975188.946867
         ],
         "yaxis": "y"
        }
       ],
       "layout": {
        "coloraxis": {
         "colorbar": {
          "title": {
           "text": "cluster"
          }
         },
         "colorscale": [
          [
           0,
           "rgb(229, 134, 6)"
          ],
          [
           0.1,
           "rgb(93, 105, 177)"
          ],
          [
           0.2,
           "rgb(82, 188, 163)"
          ],
          [
           0.3,
           "rgb(153, 201, 69)"
          ],
          [
           0.4,
           "rgb(204, 97, 176)"
          ],
          [
           0.5,
           "rgb(36, 121, 108)"
          ],
          [
           0.6,
           "rgb(218, 165, 27)"
          ],
          [
           0.7,
           "rgb(47, 138, 196)"
          ],
          [
           0.8,
           "rgb(118, 78, 159)"
          ],
          [
           0.9,
           "rgb(237, 100, 90)"
          ],
          [
           1,
           "rgb(165, 170, 153)"
          ]
         ]
        },
        "font": {
         "color": "white"
        },
        "legend": {
         "tracegroupgap": 0
        },
        "template": {
         "data": {
          "bar": [
           {
            "error_x": {
             "color": "#f2f5fa"
            },
            "error_y": {
             "color": "#f2f5fa"
            },
            "marker": {
             "line": {
              "color": "rgb(17,17,17)",
              "width": 0.5
             },
             "pattern": {
              "fillmode": "overlay",
              "size": 10,
              "solidity": 0.2
             }
            },
            "type": "bar"
           }
          ],
          "barpolar": [
           {
            "marker": {
             "line": {
              "color": "rgb(17,17,17)",
              "width": 0.5
             },
             "pattern": {
              "fillmode": "overlay",
              "size": 10,
              "solidity": 0.2
             }
            },
            "type": "barpolar"
           }
          ],
          "carpet": [
           {
            "aaxis": {
             "endlinecolor": "#A2B1C6",
             "gridcolor": "#506784",
             "linecolor": "#506784",
             "minorgridcolor": "#506784",
             "startlinecolor": "#A2B1C6"
            },
            "baxis": {
             "endlinecolor": "#A2B1C6",
             "gridcolor": "#506784",
             "linecolor": "#506784",
             "minorgridcolor": "#506784",
             "startlinecolor": "#A2B1C6"
            },
            "type": "carpet"
           }
          ],
          "choropleth": [
           {
            "colorbar": {
             "outlinewidth": 0,
             "ticks": ""
            },
            "type": "choropleth"
           }
          ],
          "contour": [
           {
            "colorbar": {
             "outlinewidth": 0,
             "ticks": ""
            },
            "colorscale": [
             [
              0,
              "#0d0887"
             ],
             [
              0.1111111111111111,
              "#46039f"
             ],
             [
              0.2222222222222222,
              "#7201a8"
             ],
             [
              0.3333333333333333,
              "#9c179e"
             ],
             [
              0.4444444444444444,
              "#bd3786"
             ],
             [
              0.5555555555555556,
              "#d8576b"
             ],
             [
              0.6666666666666666,
              "#ed7953"
             ],
             [
              0.7777777777777778,
              "#fb9f3a"
             ],
             [
              0.8888888888888888,
              "#fdca26"
             ],
             [
              1,
              "#f0f921"
             ]
            ],
            "type": "contour"
           }
          ],
          "contourcarpet": [
           {
            "colorbar": {
             "outlinewidth": 0,
             "ticks": ""
            },
            "type": "contourcarpet"
           }
          ],
          "heatmap": [
           {
            "colorbar": {
             "outlinewidth": 0,
             "ticks": ""
            },
            "colorscale": [
             [
              0,
              "#0d0887"
             ],
             [
              0.1111111111111111,
              "#46039f"
             ],
             [
              0.2222222222222222,
              "#7201a8"
             ],
             [
              0.3333333333333333,
              "#9c179e"
             ],
             [
              0.4444444444444444,
              "#bd3786"
             ],
             [
              0.5555555555555556,
              "#d8576b"
             ],
             [
              0.6666666666666666,
              "#ed7953"
             ],
             [
              0.7777777777777778,
              "#fb9f3a"
             ],
             [
              0.8888888888888888,
              "#fdca26"
             ],
             [
              1,
              "#f0f921"
             ]
            ],
            "type": "heatmap"
           }
          ],
          "heatmapgl": [
           {
            "colorbar": {
             "outlinewidth": 0,
             "ticks": ""
            },
            "colorscale": [
             [
              0,
              "#0d0887"
             ],
             [
              0.1111111111111111,
              "#46039f"
             ],
             [
              0.2222222222222222,
              "#7201a8"
             ],
             [
              0.3333333333333333,
              "#9c179e"
             ],
             [
              0.4444444444444444,
              "#bd3786"
             ],
             [
              0.5555555555555556,
              "#d8576b"
             ],
             [
              0.6666666666666666,
              "#ed7953"
             ],
             [
              0.7777777777777778,
              "#fb9f3a"
             ],
             [
              0.8888888888888888,
              "#fdca26"
             ],
             [
              1,
              "#f0f921"
             ]
            ],
            "type": "heatmapgl"
           }
          ],
          "histogram": [
           {
            "marker": {
             "pattern": {
              "fillmode": "overlay",
              "size": 10,
              "solidity": 0.2
             }
            },
            "type": "histogram"
           }
          ],
          "histogram2d": [
           {
            "colorbar": {
             "outlinewidth": 0,
             "ticks": ""
            },
            "colorscale": [
             [
              0,
              "#0d0887"
             ],
             [
              0.1111111111111111,
              "#46039f"
             ],
             [
              0.2222222222222222,
              "#7201a8"
             ],
             [
              0.3333333333333333,
              "#9c179e"
             ],
             [
              0.4444444444444444,
              "#bd3786"
             ],
             [
              0.5555555555555556,
              "#d8576b"
             ],
             [
              0.6666666666666666,
              "#ed7953"
             ],
             [
              0.7777777777777778,
              "#fb9f3a"
             ],
             [
              0.8888888888888888,
              "#fdca26"
             ],
             [
              1,
              "#f0f921"
             ]
            ],
            "type": "histogram2d"
           }
          ],
          "histogram2dcontour": [
           {
            "colorbar": {
             "outlinewidth": 0,
             "ticks": ""
            },
            "colorscale": [
             [
              0,
              "#0d0887"
             ],
             [
              0.1111111111111111,
              "#46039f"
             ],
             [
              0.2222222222222222,
              "#7201a8"
             ],
             [
              0.3333333333333333,
              "#9c179e"
             ],
             [
              0.4444444444444444,
              "#bd3786"
             ],
             [
              0.5555555555555556,
              "#d8576b"
             ],
             [
              0.6666666666666666,
              "#ed7953"
             ],
             [
              0.7777777777777778,
              "#fb9f3a"
             ],
             [
              0.8888888888888888,
              "#fdca26"
             ],
             [
              1,
              "#f0f921"
             ]
            ],
            "type": "histogram2dcontour"
           }
          ],
          "mesh3d": [
           {
            "colorbar": {
             "outlinewidth": 0,
             "ticks": ""
            },
            "type": "mesh3d"
           }
          ],
          "parcoords": [
           {
            "line": {
             "colorbar": {
              "outlinewidth": 0,
              "ticks": ""
             }
            },
            "type": "parcoords"
           }
          ],
          "pie": [
           {
            "automargin": true,
            "type": "pie"
           }
          ],
          "scatter": [
           {
            "marker": {
             "line": {
              "color": "#283442"
             }
            },
            "type": "scatter"
           }
          ],
          "scatter3d": [
           {
            "line": {
             "colorbar": {
              "outlinewidth": 0,
              "ticks": ""
             }
            },
            "marker": {
             "colorbar": {
              "outlinewidth": 0,
              "ticks": ""
             }
            },
            "type": "scatter3d"
           }
          ],
          "scattercarpet": [
           {
            "marker": {
             "colorbar": {
              "outlinewidth": 0,
              "ticks": ""
             }
            },
            "type": "scattercarpet"
           }
          ],
          "scattergeo": [
           {
            "marker": {
             "colorbar": {
              "outlinewidth": 0,
              "ticks": ""
             }
            },
            "type": "scattergeo"
           }
          ],
          "scattergl": [
           {
            "marker": {
             "line": {
              "color": "#283442"
             }
            },
            "type": "scattergl"
           }
          ],
          "scattermapbox": [
           {
            "marker": {
             "colorbar": {
              "outlinewidth": 0,
              "ticks": ""
             }
            },
            "type": "scattermapbox"
           }
          ],
          "scatterpolar": [
           {
            "marker": {
             "colorbar": {
              "outlinewidth": 0,
              "ticks": ""
             }
            },
            "type": "scatterpolar"
           }
          ],
          "scatterpolargl": [
           {
            "marker": {
             "colorbar": {
              "outlinewidth": 0,
              "ticks": ""
             }
            },
            "type": "scatterpolargl"
           }
          ],
          "scatterternary": [
           {
            "marker": {
             "colorbar": {
              "outlinewidth": 0,
              "ticks": ""
             }
            },
            "type": "scatterternary"
           }
          ],
          "surface": [
           {
            "colorbar": {
             "outlinewidth": 0,
             "ticks": ""
            },
            "colorscale": [
             [
              0,
              "#0d0887"
             ],
             [
              0.1111111111111111,
              "#46039f"
             ],
             [
              0.2222222222222222,
              "#7201a8"
             ],
             [
              0.3333333333333333,
              "#9c179e"
             ],
             [
              0.4444444444444444,
              "#bd3786"
             ],
             [
              0.5555555555555556,
              "#d8576b"
             ],
             [
              0.6666666666666666,
              "#ed7953"
             ],
             [
              0.7777777777777778,
              "#fb9f3a"
             ],
             [
              0.8888888888888888,
              "#fdca26"
             ],
             [
              1,
              "#f0f921"
             ]
            ],
            "type": "surface"
           }
          ],
          "table": [
           {
            "cells": {
             "fill": {
              "color": "#506784"
             },
             "line": {
              "color": "rgb(17,17,17)"
             }
            },
            "header": {
             "fill": {
              "color": "#2a3f5f"
             },
             "line": {
              "color": "rgb(17,17,17)"
             }
            },
            "type": "table"
           }
          ]
         },
         "layout": {
          "annotationdefaults": {
           "arrowcolor": "#f2f5fa",
           "arrowhead": 0,
           "arrowwidth": 1
          },
          "autotypenumbers": "strict",
          "coloraxis": {
           "colorbar": {
            "outlinewidth": 0,
            "ticks": ""
           }
          },
          "colorscale": {
           "diverging": [
            [
             0,
             "#8e0152"
            ],
            [
             0.1,
             "#c51b7d"
            ],
            [
             0.2,
             "#de77ae"
            ],
            [
             0.3,
             "#f1b6da"
            ],
            [
             0.4,
             "#fde0ef"
            ],
            [
             0.5,
             "#f7f7f7"
            ],
            [
             0.6,
             "#e6f5d0"
            ],
            [
             0.7,
             "#b8e186"
            ],
            [
             0.8,
             "#7fbc41"
            ],
            [
             0.9,
             "#4d9221"
            ],
            [
             1,
             "#276419"
            ]
           ],
           "sequential": [
            [
             0,
             "#0d0887"
            ],
            [
             0.1111111111111111,
             "#46039f"
            ],
            [
             0.2222222222222222,
             "#7201a8"
            ],
            [
             0.3333333333333333,
             "#9c179e"
            ],
            [
             0.4444444444444444,
             "#bd3786"
            ],
            [
             0.5555555555555556,
             "#d8576b"
            ],
            [
             0.6666666666666666,
             "#ed7953"
            ],
            [
             0.7777777777777778,
             "#fb9f3a"
            ],
            [
             0.8888888888888888,
             "#fdca26"
            ],
            [
             1,
             "#f0f921"
            ]
           ],
           "sequentialminus": [
            [
             0,
             "#0d0887"
            ],
            [
             0.1111111111111111,
             "#46039f"
            ],
            [
             0.2222222222222222,
             "#7201a8"
            ],
            [
             0.3333333333333333,
             "#9c179e"
            ],
            [
             0.4444444444444444,
             "#bd3786"
            ],
            [
             0.5555555555555556,
             "#d8576b"
            ],
            [
             0.6666666666666666,
             "#ed7953"
            ],
            [
             0.7777777777777778,
             "#fb9f3a"
            ],
            [
             0.8888888888888888,
             "#fdca26"
            ],
            [
             1,
             "#f0f921"
            ]
           ]
          },
          "colorway": [
           "#636efa",
           "#EF553B",
           "#00cc96",
           "#ab63fa",
           "#FFA15A",
           "#19d3f3",
           "#FF6692",
           "#B6E880",
           "#FF97FF",
           "#FECB52"
          ],
          "font": {
           "color": "#f2f5fa"
          },
          "geo": {
           "bgcolor": "rgb(17,17,17)",
           "lakecolor": "rgb(17,17,17)",
           "landcolor": "rgb(17,17,17)",
           "showlakes": true,
           "showland": true,
           "subunitcolor": "#506784"
          },
          "hoverlabel": {
           "align": "left"
          },
          "hovermode": "closest",
          "mapbox": {
           "style": "dark"
          },
          "paper_bgcolor": "rgb(17,17,17)",
          "plot_bgcolor": "rgb(17,17,17)",
          "polar": {
           "angularaxis": {
            "gridcolor": "#506784",
            "linecolor": "#506784",
            "ticks": ""
           },
           "bgcolor": "rgb(17,17,17)",
           "radialaxis": {
            "gridcolor": "#506784",
            "linecolor": "#506784",
            "ticks": ""
           }
          },
          "scene": {
           "xaxis": {
            "backgroundcolor": "rgb(17,17,17)",
            "gridcolor": "#506784",
            "gridwidth": 2,
            "linecolor": "#506784",
            "showbackground": true,
            "ticks": "",
            "zerolinecolor": "#C8D4E3"
           },
           "yaxis": {
            "backgroundcolor": "rgb(17,17,17)",
            "gridcolor": "#506784",
            "gridwidth": 2,
            "linecolor": "#506784",
            "showbackground": true,
            "ticks": "",
            "zerolinecolor": "#C8D4E3"
           },
           "zaxis": {
            "backgroundcolor": "rgb(17,17,17)",
            "gridcolor": "#506784",
            "gridwidth": 2,
            "linecolor": "#506784",
            "showbackground": true,
            "ticks": "",
            "zerolinecolor": "#C8D4E3"
           }
          },
          "shapedefaults": {
           "line": {
            "color": "#f2f5fa"
           }
          },
          "sliderdefaults": {
           "bgcolor": "#C8D4E3",
           "bordercolor": "rgb(17,17,17)",
           "borderwidth": 1,
           "tickwidth": 0
          },
          "ternary": {
           "aaxis": {
            "gridcolor": "#506784",
            "linecolor": "#506784",
            "ticks": ""
           },
           "baxis": {
            "gridcolor": "#506784",
            "linecolor": "#506784",
            "ticks": ""
           },
           "bgcolor": "rgb(17,17,17)",
           "caxis": {
            "gridcolor": "#506784",
            "linecolor": "#506784",
            "ticks": ""
           }
          },
          "title": {
           "x": 0.05
          },
          "updatemenudefaults": {
           "bgcolor": "#506784",
           "borderwidth": 0
          },
          "xaxis": {
           "automargin": true,
           "gridcolor": "#283442",
           "linecolor": "#506784",
           "ticks": "",
           "title": {
            "standoff": 15
           },
           "zerolinecolor": "#283442",
           "zerolinewidth": 2
          },
          "yaxis": {
           "automargin": true,
           "gridcolor": "#283442",
           "linecolor": "#506784",
           "ticks": "",
           "title": {
            "standoff": 15
           },
           "zerolinecolor": "#283442",
           "zerolinewidth": 2
          }
         }
        },
        "title": {
         "text": "Visualização de Clusters com PCA"
        },
        "xaxis": {
         "anchor": "y",
         "domain": [
          0,
          1
         ],
         "title": {
          "text": "PC1"
         }
        },
        "yaxis": {
         "anchor": "x",
         "domain": [
          0,
          1
         ],
         "title": {
          "text": "PC2"
         }
        }
       }
      }
     },
     "metadata": {},
     "output_type": "display_data"
    }
   ],
   "source": [
    "df_pca = pd.DataFrame(principal_components[:, :2], columns=['PC1', 'PC2'])\n",
    "df_pca['cluster'] = cluster_labels\n",
    "\n",
    "fig = px.scatter(df_pca, x='PC1', y='PC2', color='cluster', title='Visualização de Clusters com PCA', color_continuous_scale=px.colors.qualitative.Vivid)\n",
    "fig.update_layout(template='plotly_dark', font=dict(color='white'))\n",
    "fig.show()\n"
   ]
  },
  {
   "cell_type": "code",
   "execution_count": 590,
   "metadata": {},
   "outputs": [
    {
     "data": {
      "application/vnd.plotly.v1+json": {
       "config": {
        "plotlyServerURL": "https://plot.ly"
       },
       "data": [
        {
         "hovertemplate": "TSNE1=%{x}<br>TSNE2=%{y}<br>cluster=%{marker.color}<extra></extra>",
         "legendgroup": "",
         "marker": {
          "color": [
           1,
           2,
           0,
           2,
           2,
           2,
           4,
           0,
           2,
           0,
           0,
           0,
           4,
           2,
           0,
           3,
           0,
           0,
           1,
           3,
           2,
           2,
           0,
           0,
           1,
           4,
           2,
           3,
           2,
           0,
           0,
           4,
           0,
           0,
           0,
           0,
           2,
           0,
           1,
           2,
           2,
           2,
           1,
           0,
           0,
           4,
           0,
           0,
           2,
           4,
           4,
           4,
           2,
           2,
           4,
           4,
           2,
           1,
           1,
           0,
           0,
           0,
           0,
           2,
           2,
           1,
           1,
           0,
           2,
           4,
           1,
           1,
           0,
           0,
           0,
           0,
           0,
           1,
           1,
           4,
           4,
           0,
           2,
           4,
           2,
           3,
           2,
           1,
           2,
           1,
           4,
           2,
           2,
           0,
           4,
           2,
           4,
           2,
           1,
           1,
           0,
           0,
           4,
           1,
           1,
           1,
           2,
           2,
           4,
           4,
           1,
           3,
           2,
           1,
           4,
           4,
           1,
           0,
           1,
           1,
           0,
           1,
           1,
           3,
           2,
           1,
           2,
           0,
           1,
           3,
           1,
           4,
           2,
           1,
           3,
           2,
           0,
           2,
           2,
           4,
           4,
           0,
           3,
           0,
           4,
           0,
           3,
           2,
           3,
           4,
           4,
           4,
           1,
           0,
           3,
           1,
           0,
           1,
           4,
           2,
           3,
           3,
           2,
           2,
           2,
           3,
           4,
           3,
           4,
           4,
           3,
           2,
           3,
           4,
           3,
           1,
           3,
           1,
           3,
           3,
           1,
           1,
           1,
           3,
           3,
           3,
           3,
           3,
           3,
           3,
           1,
           3,
           3,
           3,
           4,
           2,
           2,
           2,
           3,
           3,
           3,
           2,
           1,
           1,
           1,
           1,
           3,
           3,
           3,
           2,
           3,
           0,
           2,
           3,
           2,
           3,
           3,
           3,
           4,
           4,
           0,
           1,
           3,
           3,
           3,
           3,
           4,
           3,
           3,
           3,
           2,
           3,
           3,
           4,
           4,
           1,
           3,
           3,
           3,
           2,
           2,
           4,
           2,
           4,
           1,
           3,
           3,
           3,
           1,
           2,
           4,
           3,
           2,
           1,
           1,
           2,
           4,
           4,
           2,
           2,
           4,
           0,
           0,
           1,
           3,
           0,
           2,
           2,
           2,
           1,
           2,
           3,
           3,
           3,
           0,
           3,
           3,
           4,
           3,
           0,
           3,
           3,
           2,
           3,
           3,
           3,
           0,
           2,
           2,
           4,
           1
          ],
          "coloraxis": "coloraxis",
          "symbol": "circle"
         },
         "mode": "markers",
         "name": "",
         "orientation": "v",
         "showlegend": false,
         "type": "scatter",
         "x": [
          13.869391441345215,
          -0.43992602825164795,
          -25.90439796447754,
          -3.8834593296051025,
          -3.848221778869629,
          -8.067665100097656,
          6.334951877593994,
          -26.486299514770508,
          -4.2252607345581055,
          -29.46792221069336,
          -30.01064109802246,
          -29.77545166015625,
          -0.8754295706748962,
          -8.986292839050293,
          -27.48207664489746,
          3.7991585731506348,
          -28.532939910888672,
          -28.533218383789062,
          12.361727714538574,
          1.1837090253829956,
          -7.5788068771362305,
          -7.581409454345703,
          -25.25575828552246,
          -28.923934936523438,
          6.387551307678223,
          5.359428882598877,
          -4.136791706085205,
          3.7778496742248535,
          -6.384666442871094,
          -25.213619232177734,
          -24.988435745239258,
          2.3755404949188232,
          -27.276941299438477,
          -24.021757125854492,
          -24.10955810546875,
          -29.068544387817383,
          -4.7154011726379395,
          -28.999210357666016,
          10.54271411895752,
          -2.4085488319396973,
          -7.778631687164307,
          -0.16081441938877106,
          14.951309204101562,
          -28.223140716552734,
          -28.205617904663086,
          -1.2990469932556152,
          -28.31429100036621,
          -28.582212448120117,
          -3.7825028896331787,
          5.140939235687256,
          3.607661485671997,
          3.544307231903076,
          -1.4997464418411255,
          -2.3318512439727783,
          3.493971824645996,
          0.996636152267456,
          -5.539261341094971,
          8.952155113220215,
          11.586091041564941,
          -26.170154571533203,
          -26.307294845581055,
          -26.695024490356445,
          -26.75337791442871,
          -9.633913040161133,
          -3.4442083835601807,
          13.053853034973145,
          12.250601768493652,
          -24.648019790649414,
          -8.569588661193848,
          5.942678928375244,
          12.934836387634277,
          12.879965782165527,
          -26.196937561035156,
          -25.940908432006836,
          -30.149396896362305,
          -29.97030258178711,
          -27.728403091430664,
          12.022645950317383,
          14.338855743408203,
          2.9002442359924316,
          0.5591550469398499,
          -27.495922088623047,
          -3.4813575744628906,
          1.2776587009429932,
          -2.5061817169189453,
          6.405421733856201,
          -3.2946698665618896,
          9.688751220703125,
          -3.742765188217163,
          8.470202445983887,
          -1.3361117839813232,
          -0.3578735589981079,
          -10.47525405883789,
          -28.040855407714844,
          7.361640453338623,
          -7.474948883056641,
          1.1684750318527222,
          -4.268197536468506,
          14.17181396484375,
          13.391261100769043,
          -27.958293914794922,
          -27.951507568359375,
          2.3948495388031006,
          13.677648544311523,
          7.2735595703125,
          13.104159355163574,
          -1.9341384172439575,
          -2.3401858806610107,
          4.21312952041626,
          -1.7481555938720703,
          7.1268768310546875,
          4.02115535736084,
          -1.5942190885543823,
          9.623419761657715,
          1.9273319244384766,
          1.8918527364730835,
          10.185933113098145,
          -27.60306167602539,
          10.1677885055542,
          12.44450569152832,
          -25.953657150268555,
          14.056815147399902,
          10.004427909851074,
          6.397533416748047,
          -5.7923431396484375,
          9.782849311828613,
          -7.367125034332275,
          -25.200464248657227,
          10.996702194213867,
          6.479637622833252,
          11.30353832244873,
          1.0825070142745972,
          -6.851620674133301,
          12.107393264770508,
          7.434422969818115,
          -7.955059051513672,
          -26.95547866821289,
          -3.3579747676849365,
          -3.5982120037078857,
          -1.201345443725586,
          -1.2015880346298218,
          -27.419729232788086,
          8.566838264465332,
          -26.58885383605957,
          2.6594674587249756,
          -25.917917251586914,
          1.1895897388458252,
          -5.5996575355529785,
          3.595025062561035,
          1.3391698598861694,
          2.548866033554077,
          1.038849115371704,
          14.6194486618042,
          -24.987085342407227,
          6.834493160247803,
          12.080730438232422,
          -24.8806209564209,
          7.935957431793213,
          1.1344611644744873,
          -1.0407941341400146,
          6.146450042724609,
          8.127501487731934,
          -1.276708722114563,
          -2.1869680881500244,
          -0.41061481833457947,
          2.5215036869049072,
          2.7960422039031982,
          1.1243151426315308,
          -1.1712448596954346,
          1.6105139255523682,
          8.935282707214355,
          -4.8564066886901855,
          0.46684151887893677,
          3.708638906478882,
          1.1842302083969116,
          6.944261074066162,
          4.90771484375,
          9.982327461242676,
          7.585238456726074,
          6.848898410797119,
          11.254265785217285,
          14.919648170471191,
          14.937701225280762,
          0.3853641748428345,
          0.31878894567489624,
          0.3176412880420685,
          8.422064781188965,
          8.354292869567871,
          8.921913146972656,
          0.21273589134216309,
          6.42543363571167,
          1.0623340606689453,
          1.062330722808838,
          0.8230979442596436,
          2.861715793609619,
          -8.072340965270996,
          -8.158601760864258,
          -4.0301618576049805,
          0.46669113636016846,
          1.0487874746322632,
          1.1848468780517578,
          -3.6107115745544434,
          9.08107852935791,
          10.72865104675293,
          10.020119667053223,
          10.242300987243652,
          4.154253959655762,
          8.926090240478516,
          5.576275825500488,
          -5.274267196655273,
          0.24656900763511658,
          -28.280065536499023,
          -7.086803436279297,
          8.671388626098633,
          -2.829401731491089,
          9.33524227142334,
          7.8628435134887695,
          8.481100082397461,
          5.961625099182129,
          5.990060329437256,
          -27.502164840698242,
          7.761006832122803,
          5.866115093231201,
          3.2126059532165527,
          7.416154861450195,
          3.6385602951049805,
          3.6464314460754395,
          0.20948122441768646,
          7.7951765060424805,
          7.805027008056641,
          -7.726657390594482,
          4.216253280639648,
          4.228172302246094,
          3.097108840942383,
          2.72680401802063,
          9.574821472167969,
          7.612161636352539,
          7.608332633972168,
          0.8285764455795288,
          -8.494440078735352,
          -3.8971571922302246,
          -1.505287528038025,
          -3.2883851528167725,
          -1.1626354455947876,
          8.977602005004883,
          5.016109943389893,
          0.38590890169143677,
          0.8177124857902527,
          6.37650203704834,
          -2.13102388381958,
          4.317156791687012,
          4.2236008644104,
          -5.1341423988342285,
          12.634554862976074,
          12.589347839355469,
          -7.606313228607178,
          4.5813469886779785,
          -0.15623781085014343,
          -0.3413471281528473,
          -4.81286096572876,
          1.7529723644256592,
          -28.829551696777344,
          -28.908550262451172,
          10.686476707458496,
          7.482335090637207,
          -24.635509490966797,
          -8.330138206481934,
          -9.23664665222168,
          -9.237350463867188,
          14.340768814086914,
          -8.327397346496582,
          4.9215617179870605,
          5.00508451461792,
          7.489812850952148,
          -30.913789749145508,
          5.577190399169922,
          9.33701229095459,
          4.396161079406738,
          3.5524680614471436,
          -30.97060203552246,
          0.36163055896759033,
          9.457229614257812,
          -7.180729866027832,
          6.983483791351318,
          8.541386604309082,
          5.41850471496582,
          -30.01064109802246,
          -8.664653778076172,
          -4.8534135818481445,
          3.7702648639678955,
          14.61942195892334
         ],
         "xaxis": "x",
         "y": [
          -1.1724348068237305,
          3.041262626647949,
          -12.238304138183594,
          -0.6755585074424744,
          -0.698367178440094,
          -2.903177499771118,
          -1.6797634363174438,
          -11.285836219787598,
          -1.6484870910644531,
          -10.75405216217041,
          -10.389665603637695,
          -11.318978309631348,
          -8.238537788391113,
          1.1057534217834473,
          -7.84995698928833,
          5.198427677154541,
          -8.360736846923828,
          -8.368444442749023,
          3.00156831741333,
          12.970440864562988,
          5.434613227844238,
          5.43218469619751,
          -11.865058898925781,
          -11.743218421936035,
          0.6643433570861816,
          -2.3083953857421875,
          -5.415879726409912,
          7.013478755950928,
          0.3378711938858032,
          -9.051569938659668,
          -8.634666442871094,
          -3.9526796340942383,
          -10.310962677001953,
          -9.252935409545898,
          -9.412044525146484,
          -10.382258415222168,
          -0.15290826559066772,
          -8.903979301452637,
          0.7517533302307129,
          -1.406581997871399,
          2.6058197021484375,
          1.5398340225219727,
          -0.3694426417350769,
          -11.449959754943848,
          -11.491951942443848,
          -7.9709930419921875,
          -9.547554016113281,
          -10.726400375366211,
          1.619214653968811,
          1.298296332359314,
          -0.9292641282081604,
          0.2709069550037384,
          1.6964818239212036,
          -0.8225220441818237,
          -4.421145439147949,
          1.0229697227478027,
          -1.4721174240112305,
          -0.12010440975427628,
          1.4092737436294556,
          -8.252474784851074,
          -8.458612442016602,
          -7.864163398742676,
          -7.957906723022461,
          1.759819746017456,
          -1.3541948795318604,
          1.9097791910171509,
          2.087609052658081,
          -11.348358154296875,
          -3.895038366317749,
          -1.2702008485794067,
          3.163780689239502,
          3.11759352684021,
          -12.02949333190918,
          -11.838610649108887,
          -10.906837463378906,
          -11.349129676818848,
          -8.505696296691895,
          3.885439157485962,
          4.690430641174316,
          -3.54910945892334,
          1.6585662364959717,
          -11.471922874450684,
          -1.566476583480835,
          -3.8428282737731934,
          1.5047072172164917,
          6.3289337158203125,
          -4.665380954742432,
          5.934509754180908,
          -4.348056793212891,
          1.2468624114990234,
          -8.576318740844727,
          2.815880298614502,
          1.2498266696929932,
          -8.1622953414917,
          -2.3092257976531982,
          -3.4713504314422607,
          -6.499091625213623,
          -1.4391645193099976,
          0.11596018075942993,
          1.2339980602264404,
          -10.26764965057373,
          -10.191039085388184,
          -5.01231050491333,
          0.8504679799079895,
          1.1992387771606445,
          0.7278525829315186,
          -2.35231614112854,
          -2.2190613746643066,
          -2.4862921237945557,
          -7.8094024658203125,
          -0.23895275592803955,
          7.630452632904053,
          0.46242547035217285,
          0.8673814535140991,
          -5.613581657409668,
          -5.552981376647949,
          3.304231882095337,
          -11.833999633789062,
          6.897705554962158,
          4.045165061950684,
          -10.955455780029297,
          4.264770984649658,
          0.7921208143234253,
          8.89059829711914,
          0.11531554162502289,
          6.812544345855713,
          -2.7796785831451416,
          -11.758036613464355,
          4.9936842918396,
          8.198249816894531,
          3.919776439666748,
          1.9460394382476807,
          -3.814110517501831,
          1.9439897537231445,
          4.831412315368652,
          -3.456812620162964,
          -7.544497489929199,
          -2.936622142791748,
          -2.9167447090148926,
          -8.152567863464355,
          -8.150006294250488,
          -10.817388534545898,
          7.203144550323486,
          -10.762083053588867,
          0.7158018350601196,
          -11.317009925842285,
          12.9744291305542,
          -1.6964259147644043,
          7.283389568328857,
          -5.375968933105469,
          -3.9710121154785156,
          1.0059404373168945,
          2.8258399963378906,
          -10.23532772064209,
          7.431363105773926,
          0.36555996537208557,
          -11.145418167114258,
          0.32386514544487,
          -5.470550537109375,
          2.9542391300201416,
          5.142045021057129,
          7.65715217590332,
          -0.28414055705070496,
          -0.639034628868103,
          2.330575942993164,
          5.971388816833496,
          -5.620494365692139,
          4.423422336578369,
          -4.92425537109375,
          1.2337024211883545,
          7.155429840087891,
          0.39774438738822937,
          11.320574760437012,
          -4.339075565338135,
          12.970802307128906,
          1.278771996498108,
          8.305973052978516,
          4.929012298583984,
          8.156437873840332,
          6.327223300933838,
          5.509246349334717,
          -0.490078330039978,
          -0.4905678629875183,
          9.259116172790527,
          9.361320495605469,
          9.376758575439453,
          6.214144229888916,
          6.546542167663574,
          9.366128921508789,
          11.559021949768066,
          0.17331697046756744,
          12.754440307617188,
          12.75444221496582,
          11.379190444946289,
          -3.8194046020507812,
          2.1515114307403564,
          2.0775275230407715,
          -5.420229434967041,
          11.320565223693848,
          3.5547735691070557,
          3.6316041946411133,
          0.9604955315589905,
          2.309091806411743,
          0.9048449397087097,
          5.922565937042236,
          6.228478908538818,
          7.270661354064941,
          6.492575168609619,
          7.941799163818359,
          -0.009825908578932285,
          3.743159055709839,
          -10.642778396606445,
          -3.3170080184936523,
          7.737302780151367,
          -0.9069822430610657,
          7.83842134475708,
          5.485803127288818,
          8.014516830444336,
          -0.8208366632461548,
          -0.761741042137146,
          -11.548003196716309,
          1.615849256515503,
          8.737651824951172,
          6.922249794006348,
          8.73798942565918,
          4.4484944343566895,
          -2.3908724784851074,
          3.3420040607452393,
          6.000019550323486,
          6.5628156661987305,
          1.7988179922103882,
          4.549921035766602,
          4.610924243927002,
          -0.10431449115276337,
          0.04680962115526199,
          6.488945960998535,
          7.439729690551758,
          7.472184181213379,
          4.183407783508301,
          -3.5031254291534424,
          -2.8861844539642334,
          -8.317471504211426,
          -0.46621042490005493,
          -4.925168037414551,
          4.145885467529297,
          4.880269527435303,
          9.253020286560059,
          4.958115577697754,
          0.6791929602622986,
          1.5561414957046509,
          -0.06619123369455338,
          4.588296890258789,
          5.270552635192871,
          3.5142710208892822,
          3.477450132369995,
          5.303744792938232,
          -0.5706598162651062,
          -5.269355297088623,
          2.328859567642212,
          0.4558253586292267,
          -5.275343418121338,
          -11.035064697265625,
          -9.626632690429688,
          4.889094829559326,
          6.348055362701416,
          -9.610784530639648,
          -1.2118836641311646,
          -0.8293062448501587,
          -0.8382936716079712,
          4.856784820556641,
          -1.213529109954834,
          8.336946487426758,
          8.032635688781738,
          8.041153907775879,
          -11.16326904296875,
          8.064763069152832,
          7.715048313140869,
          -0.08112362027168274,
          4.64283561706543,
          -11.100634574890137,
          9.048863410949707,
          7.239503860473633,
          -3.3406174182891846,
          5.668471336364746,
          6.833549499511719,
          7.160435199737549,
          -10.389665603637695,
          -0.5421046018600464,
          -1.4305039644241333,
          -3.928772449493408,
          -0.37717267870903015
         ],
         "yaxis": "y"
        }
       ],
       "layout": {
        "coloraxis": {
         "colorbar": {
          "title": {
           "text": "cluster"
          }
         },
         "colorscale": [
          [
           0,
           "rgb(229, 134, 6)"
          ],
          [
           0.1,
           "rgb(93, 105, 177)"
          ],
          [
           0.2,
           "rgb(82, 188, 163)"
          ],
          [
           0.3,
           "rgb(153, 201, 69)"
          ],
          [
           0.4,
           "rgb(204, 97, 176)"
          ],
          [
           0.5,
           "rgb(36, 121, 108)"
          ],
          [
           0.6,
           "rgb(218, 165, 27)"
          ],
          [
           0.7,
           "rgb(47, 138, 196)"
          ],
          [
           0.8,
           "rgb(118, 78, 159)"
          ],
          [
           0.9,
           "rgb(237, 100, 90)"
          ],
          [
           1,
           "rgb(165, 170, 153)"
          ]
         ]
        },
        "font": {
         "color": "white"
        },
        "legend": {
         "tracegroupgap": 0
        },
        "template": {
         "data": {
          "bar": [
           {
            "error_x": {
             "color": "#f2f5fa"
            },
            "error_y": {
             "color": "#f2f5fa"
            },
            "marker": {
             "line": {
              "color": "rgb(17,17,17)",
              "width": 0.5
             },
             "pattern": {
              "fillmode": "overlay",
              "size": 10,
              "solidity": 0.2
             }
            },
            "type": "bar"
           }
          ],
          "barpolar": [
           {
            "marker": {
             "line": {
              "color": "rgb(17,17,17)",
              "width": 0.5
             },
             "pattern": {
              "fillmode": "overlay",
              "size": 10,
              "solidity": 0.2
             }
            },
            "type": "barpolar"
           }
          ],
          "carpet": [
           {
            "aaxis": {
             "endlinecolor": "#A2B1C6",
             "gridcolor": "#506784",
             "linecolor": "#506784",
             "minorgridcolor": "#506784",
             "startlinecolor": "#A2B1C6"
            },
            "baxis": {
             "endlinecolor": "#A2B1C6",
             "gridcolor": "#506784",
             "linecolor": "#506784",
             "minorgridcolor": "#506784",
             "startlinecolor": "#A2B1C6"
            },
            "type": "carpet"
           }
          ],
          "choropleth": [
           {
            "colorbar": {
             "outlinewidth": 0,
             "ticks": ""
            },
            "type": "choropleth"
           }
          ],
          "contour": [
           {
            "colorbar": {
             "outlinewidth": 0,
             "ticks": ""
            },
            "colorscale": [
             [
              0,
              "#0d0887"
             ],
             [
              0.1111111111111111,
              "#46039f"
             ],
             [
              0.2222222222222222,
              "#7201a8"
             ],
             [
              0.3333333333333333,
              "#9c179e"
             ],
             [
              0.4444444444444444,
              "#bd3786"
             ],
             [
              0.5555555555555556,
              "#d8576b"
             ],
             [
              0.6666666666666666,
              "#ed7953"
             ],
             [
              0.7777777777777778,
              "#fb9f3a"
             ],
             [
              0.8888888888888888,
              "#fdca26"
             ],
             [
              1,
              "#f0f921"
             ]
            ],
            "type": "contour"
           }
          ],
          "contourcarpet": [
           {
            "colorbar": {
             "outlinewidth": 0,
             "ticks": ""
            },
            "type": "contourcarpet"
           }
          ],
          "heatmap": [
           {
            "colorbar": {
             "outlinewidth": 0,
             "ticks": ""
            },
            "colorscale": [
             [
              0,
              "#0d0887"
             ],
             [
              0.1111111111111111,
              "#46039f"
             ],
             [
              0.2222222222222222,
              "#7201a8"
             ],
             [
              0.3333333333333333,
              "#9c179e"
             ],
             [
              0.4444444444444444,
              "#bd3786"
             ],
             [
              0.5555555555555556,
              "#d8576b"
             ],
             [
              0.6666666666666666,
              "#ed7953"
             ],
             [
              0.7777777777777778,
              "#fb9f3a"
             ],
             [
              0.8888888888888888,
              "#fdca26"
             ],
             [
              1,
              "#f0f921"
             ]
            ],
            "type": "heatmap"
           }
          ],
          "heatmapgl": [
           {
            "colorbar": {
             "outlinewidth": 0,
             "ticks": ""
            },
            "colorscale": [
             [
              0,
              "#0d0887"
             ],
             [
              0.1111111111111111,
              "#46039f"
             ],
             [
              0.2222222222222222,
              "#7201a8"
             ],
             [
              0.3333333333333333,
              "#9c179e"
             ],
             [
              0.4444444444444444,
              "#bd3786"
             ],
             [
              0.5555555555555556,
              "#d8576b"
             ],
             [
              0.6666666666666666,
              "#ed7953"
             ],
             [
              0.7777777777777778,
              "#fb9f3a"
             ],
             [
              0.8888888888888888,
              "#fdca26"
             ],
             [
              1,
              "#f0f921"
             ]
            ],
            "type": "heatmapgl"
           }
          ],
          "histogram": [
           {
            "marker": {
             "pattern": {
              "fillmode": "overlay",
              "size": 10,
              "solidity": 0.2
             }
            },
            "type": "histogram"
           }
          ],
          "histogram2d": [
           {
            "colorbar": {
             "outlinewidth": 0,
             "ticks": ""
            },
            "colorscale": [
             [
              0,
              "#0d0887"
             ],
             [
              0.1111111111111111,
              "#46039f"
             ],
             [
              0.2222222222222222,
              "#7201a8"
             ],
             [
              0.3333333333333333,
              "#9c179e"
             ],
             [
              0.4444444444444444,
              "#bd3786"
             ],
             [
              0.5555555555555556,
              "#d8576b"
             ],
             [
              0.6666666666666666,
              "#ed7953"
             ],
             [
              0.7777777777777778,
              "#fb9f3a"
             ],
             [
              0.8888888888888888,
              "#fdca26"
             ],
             [
              1,
              "#f0f921"
             ]
            ],
            "type": "histogram2d"
           }
          ],
          "histogram2dcontour": [
           {
            "colorbar": {
             "outlinewidth": 0,
             "ticks": ""
            },
            "colorscale": [
             [
              0,
              "#0d0887"
             ],
             [
              0.1111111111111111,
              "#46039f"
             ],
             [
              0.2222222222222222,
              "#7201a8"
             ],
             [
              0.3333333333333333,
              "#9c179e"
             ],
             [
              0.4444444444444444,
              "#bd3786"
             ],
             [
              0.5555555555555556,
              "#d8576b"
             ],
             [
              0.6666666666666666,
              "#ed7953"
             ],
             [
              0.7777777777777778,
              "#fb9f3a"
             ],
             [
              0.8888888888888888,
              "#fdca26"
             ],
             [
              1,
              "#f0f921"
             ]
            ],
            "type": "histogram2dcontour"
           }
          ],
          "mesh3d": [
           {
            "colorbar": {
             "outlinewidth": 0,
             "ticks": ""
            },
            "type": "mesh3d"
           }
          ],
          "parcoords": [
           {
            "line": {
             "colorbar": {
              "outlinewidth": 0,
              "ticks": ""
             }
            },
            "type": "parcoords"
           }
          ],
          "pie": [
           {
            "automargin": true,
            "type": "pie"
           }
          ],
          "scatter": [
           {
            "marker": {
             "line": {
              "color": "#283442"
             }
            },
            "type": "scatter"
           }
          ],
          "scatter3d": [
           {
            "line": {
             "colorbar": {
              "outlinewidth": 0,
              "ticks": ""
             }
            },
            "marker": {
             "colorbar": {
              "outlinewidth": 0,
              "ticks": ""
             }
            },
            "type": "scatter3d"
           }
          ],
          "scattercarpet": [
           {
            "marker": {
             "colorbar": {
              "outlinewidth": 0,
              "ticks": ""
             }
            },
            "type": "scattercarpet"
           }
          ],
          "scattergeo": [
           {
            "marker": {
             "colorbar": {
              "outlinewidth": 0,
              "ticks": ""
             }
            },
            "type": "scattergeo"
           }
          ],
          "scattergl": [
           {
            "marker": {
             "line": {
              "color": "#283442"
             }
            },
            "type": "scattergl"
           }
          ],
          "scattermapbox": [
           {
            "marker": {
             "colorbar": {
              "outlinewidth": 0,
              "ticks": ""
             }
            },
            "type": "scattermapbox"
           }
          ],
          "scatterpolar": [
           {
            "marker": {
             "colorbar": {
              "outlinewidth": 0,
              "ticks": ""
             }
            },
            "type": "scatterpolar"
           }
          ],
          "scatterpolargl": [
           {
            "marker": {
             "colorbar": {
              "outlinewidth": 0,
              "ticks": ""
             }
            },
            "type": "scatterpolargl"
           }
          ],
          "scatterternary": [
           {
            "marker": {
             "colorbar": {
              "outlinewidth": 0,
              "ticks": ""
             }
            },
            "type": "scatterternary"
           }
          ],
          "surface": [
           {
            "colorbar": {
             "outlinewidth": 0,
             "ticks": ""
            },
            "colorscale": [
             [
              0,
              "#0d0887"
             ],
             [
              0.1111111111111111,
              "#46039f"
             ],
             [
              0.2222222222222222,
              "#7201a8"
             ],
             [
              0.3333333333333333,
              "#9c179e"
             ],
             [
              0.4444444444444444,
              "#bd3786"
             ],
             [
              0.5555555555555556,
              "#d8576b"
             ],
             [
              0.6666666666666666,
              "#ed7953"
             ],
             [
              0.7777777777777778,
              "#fb9f3a"
             ],
             [
              0.8888888888888888,
              "#fdca26"
             ],
             [
              1,
              "#f0f921"
             ]
            ],
            "type": "surface"
           }
          ],
          "table": [
           {
            "cells": {
             "fill": {
              "color": "#506784"
             },
             "line": {
              "color": "rgb(17,17,17)"
             }
            },
            "header": {
             "fill": {
              "color": "#2a3f5f"
             },
             "line": {
              "color": "rgb(17,17,17)"
             }
            },
            "type": "table"
           }
          ]
         },
         "layout": {
          "annotationdefaults": {
           "arrowcolor": "#f2f5fa",
           "arrowhead": 0,
           "arrowwidth": 1
          },
          "autotypenumbers": "strict",
          "coloraxis": {
           "colorbar": {
            "outlinewidth": 0,
            "ticks": ""
           }
          },
          "colorscale": {
           "diverging": [
            [
             0,
             "#8e0152"
            ],
            [
             0.1,
             "#c51b7d"
            ],
            [
             0.2,
             "#de77ae"
            ],
            [
             0.3,
             "#f1b6da"
            ],
            [
             0.4,
             "#fde0ef"
            ],
            [
             0.5,
             "#f7f7f7"
            ],
            [
             0.6,
             "#e6f5d0"
            ],
            [
             0.7,
             "#b8e186"
            ],
            [
             0.8,
             "#7fbc41"
            ],
            [
             0.9,
             "#4d9221"
            ],
            [
             1,
             "#276419"
            ]
           ],
           "sequential": [
            [
             0,
             "#0d0887"
            ],
            [
             0.1111111111111111,
             "#46039f"
            ],
            [
             0.2222222222222222,
             "#7201a8"
            ],
            [
             0.3333333333333333,
             "#9c179e"
            ],
            [
             0.4444444444444444,
             "#bd3786"
            ],
            [
             0.5555555555555556,
             "#d8576b"
            ],
            [
             0.6666666666666666,
             "#ed7953"
            ],
            [
             0.7777777777777778,
             "#fb9f3a"
            ],
            [
             0.8888888888888888,
             "#fdca26"
            ],
            [
             1,
             "#f0f921"
            ]
           ],
           "sequentialminus": [
            [
             0,
             "#0d0887"
            ],
            [
             0.1111111111111111,
             "#46039f"
            ],
            [
             0.2222222222222222,
             "#7201a8"
            ],
            [
             0.3333333333333333,
             "#9c179e"
            ],
            [
             0.4444444444444444,
             "#bd3786"
            ],
            [
             0.5555555555555556,
             "#d8576b"
            ],
            [
             0.6666666666666666,
             "#ed7953"
            ],
            [
             0.7777777777777778,
             "#fb9f3a"
            ],
            [
             0.8888888888888888,
             "#fdca26"
            ],
            [
             1,
             "#f0f921"
            ]
           ]
          },
          "colorway": [
           "#636efa",
           "#EF553B",
           "#00cc96",
           "#ab63fa",
           "#FFA15A",
           "#19d3f3",
           "#FF6692",
           "#B6E880",
           "#FF97FF",
           "#FECB52"
          ],
          "font": {
           "color": "#f2f5fa"
          },
          "geo": {
           "bgcolor": "rgb(17,17,17)",
           "lakecolor": "rgb(17,17,17)",
           "landcolor": "rgb(17,17,17)",
           "showlakes": true,
           "showland": true,
           "subunitcolor": "#506784"
          },
          "hoverlabel": {
           "align": "left"
          },
          "hovermode": "closest",
          "mapbox": {
           "style": "dark"
          },
          "paper_bgcolor": "rgb(17,17,17)",
          "plot_bgcolor": "rgb(17,17,17)",
          "polar": {
           "angularaxis": {
            "gridcolor": "#506784",
            "linecolor": "#506784",
            "ticks": ""
           },
           "bgcolor": "rgb(17,17,17)",
           "radialaxis": {
            "gridcolor": "#506784",
            "linecolor": "#506784",
            "ticks": ""
           }
          },
          "scene": {
           "xaxis": {
            "backgroundcolor": "rgb(17,17,17)",
            "gridcolor": "#506784",
            "gridwidth": 2,
            "linecolor": "#506784",
            "showbackground": true,
            "ticks": "",
            "zerolinecolor": "#C8D4E3"
           },
           "yaxis": {
            "backgroundcolor": "rgb(17,17,17)",
            "gridcolor": "#506784",
            "gridwidth": 2,
            "linecolor": "#506784",
            "showbackground": true,
            "ticks": "",
            "zerolinecolor": "#C8D4E3"
           },
           "zaxis": {
            "backgroundcolor": "rgb(17,17,17)",
            "gridcolor": "#506784",
            "gridwidth": 2,
            "linecolor": "#506784",
            "showbackground": true,
            "ticks": "",
            "zerolinecolor": "#C8D4E3"
           }
          },
          "shapedefaults": {
           "line": {
            "color": "#f2f5fa"
           }
          },
          "sliderdefaults": {
           "bgcolor": "#C8D4E3",
           "bordercolor": "rgb(17,17,17)",
           "borderwidth": 1,
           "tickwidth": 0
          },
          "ternary": {
           "aaxis": {
            "gridcolor": "#506784",
            "linecolor": "#506784",
            "ticks": ""
           },
           "baxis": {
            "gridcolor": "#506784",
            "linecolor": "#506784",
            "ticks": ""
           },
           "bgcolor": "rgb(17,17,17)",
           "caxis": {
            "gridcolor": "#506784",
            "linecolor": "#506784",
            "ticks": ""
           }
          },
          "title": {
           "x": 0.05
          },
          "updatemenudefaults": {
           "bgcolor": "#506784",
           "borderwidth": 0
          },
          "xaxis": {
           "automargin": true,
           "gridcolor": "#283442",
           "linecolor": "#506784",
           "ticks": "",
           "title": {
            "standoff": 15
           },
           "zerolinecolor": "#283442",
           "zerolinewidth": 2
          },
          "yaxis": {
           "automargin": true,
           "gridcolor": "#283442",
           "linecolor": "#506784",
           "ticks": "",
           "title": {
            "standoff": 15
           },
           "zerolinecolor": "#283442",
           "zerolinewidth": 2
          }
         }
        },
        "title": {
         "text": "Visualization of Clusters with TSNE and Cosine Distance"
        },
        "xaxis": {
         "anchor": "y",
         "domain": [
          0,
          1
         ],
         "title": {
          "text": "TSNE1"
         }
        },
        "yaxis": {
         "anchor": "x",
         "domain": [
          0,
          1
         ],
         "title": {
          "text": "TSNE2"
         }
        }
       }
      }
     },
     "metadata": {},
     "output_type": "display_data"
    }
   ],
   "source": [
    "pca = PCA(n_components=5)\n",
    "principal_components = pca.fit_transform(df_fundamentals_final.select_dtypes(include=['int', 'float64', 'number']))\n",
    "\n",
    "tsne = TSNE(n_components=2, metric='cosine')\n",
    "tsne_results = tsne.fit_transform(principal_components)\n",
    "\n",
    "kmeans = KMeans(n_clusters=5, max_iter=10_000, random_state=19051992)\n",
    "clusters = kmeans.fit_predict(tsne_results)\n",
    "\n",
    "df_visualization = pd.DataFrame(tsne_results, columns=['TSNE1', 'TSNE2'])\n",
    "df_visualization['cluster'] = clusters\n",
    "\n",
    "fig = px.scatter(df_visualization, x='TSNE1', y='TSNE2', color='cluster', title='Visualization of Clusters with TSNE and Cosine Distance', color_continuous_scale=px.colors.qualitative.Vivid)\n",
    "fig.update_layout(template='plotly_dark', font=dict(color='white'))\n",
    "fig.show()"
   ]
  },
  {
   "cell_type": "code",
   "execution_count": 592,
   "metadata": {},
   "outputs": [
    {
     "data": {
      "text/plain": [
       "0    1\n",
       "1    2\n",
       "2    0\n",
       "3    2\n",
       "4    2\n",
       "Name: kmeans_cluster, dtype: int32"
      ]
     },
     "execution_count": 592,
     "metadata": {},
     "output_type": "execute_result"
    }
   ],
   "source": [
    "df_fundamentals_final['kmeans_cluster'] = clusters\n",
    "df_fundamentals_final['kmeans_cluster'].head()"
   ]
  }
 ],
 "metadata": {
  "kernelspec": {
   "display_name": "Python 3",
   "language": "python",
   "name": "python3"
  },
  "language_info": {
   "codemirror_mode": {
    "name": "ipython",
    "version": 3
   },
   "file_extension": ".py",
   "mimetype": "text/x-python",
   "name": "python",
   "nbconvert_exporter": "python",
   "pygments_lexer": "ipython3",
   "version": "3.11.5"
  }
 },
 "nbformat": 4,
 "nbformat_minor": 2
}
