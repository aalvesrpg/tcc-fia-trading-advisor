{
 "cells": [
  {
   "cell_type": "markdown",
   "metadata": {},
   "source": [
    "# Statistical and Machine Learning Models for Fundamentalist Data"
   ]
  },
  {
   "cell_type": "markdown",
   "metadata": {},
   "source": [
    "This notebook is a useful tool for investors interested in the Brazilian stock market. It integrates machine learning techniques and statistical models to analyze fundamentalist data of companies listed on the stock exchange. The aim is to provide in-depth analysis and facilitate investment decision-making, focusing on identifying opportunities and mitigating risks. It includes interactive visualizations and real-time updates, making it accessible and practical for both experienced investors and beginners."
   ]
  },
  {
   "cell_type": "markdown",
   "metadata": {},
   "source": [
    "## Initial Setup"
   ]
  },
  {
   "cell_type": "markdown",
   "metadata": {},
   "source": [
    "### Install Packages"
   ]
  },
  {
   "cell_type": "code",
   "execution_count": 17,
   "metadata": {},
   "outputs": [
    {
     "name": "stdout",
     "output_type": "stream",
     "text": [
      "Note: you may need to restart the kernel to use updated packages.\n",
      "Note: you may need to restart the kernel to use updated packages.\n",
      "Note: you may need to restart the kernel to use updated packages.\n"
     ]
    }
   ],
   "source": [
    "%pip install pandas -q\n",
    "%pip install plotly -q\n",
    "%pip install scikit-learn -q"
   ]
  },
  {
   "cell_type": "markdown",
   "metadata": {},
   "source": [
    "### Import libs"
   ]
  },
  {
   "cell_type": "code",
   "execution_count": 18,
   "metadata": {},
   "outputs": [],
   "source": [
    "import os\n",
    "from pathlib import Path\n",
    "import pandas as pd\n",
    "import numpy as np\n",
    "import plotly.express as px\n",
    "import plotly.graph_objects as go\n",
    "from sklearn.cluster import KMeans\n",
    "from sklearn.preprocessing import StandardScaler, OneHotEncoder\n",
    "from sklearn.decomposition import PCA\n",
    "from sklearn.manifold import TSNE\n",
    "from sklearn.metrics import silhouette_score as sil_score\n",
    "import plotly.express as px\n",
    "import warnings\n",
    "warnings.filterwarnings('ignore')"
   ]
  },
  {
   "cell_type": "markdown",
   "metadata": {},
   "source": [
    "### Create a file path default"
   ]
  },
  {
   "cell_type": "code",
   "execution_count": 19,
   "metadata": {},
   "outputs": [],
   "source": [
    "file_path_book = str(Path(os.getcwd()).parent.parent / \"data/book\")\n",
    "file_path_scored = str(Path(os.getcwd()).parent.parent / \"data/scored_base\")\n"
   ]
  },
  {
   "cell_type": "markdown",
   "metadata": {},
   "source": [
    "### Pandas Config"
   ]
  },
  {
   "cell_type": "code",
   "execution_count": 20,
   "metadata": {},
   "outputs": [],
   "source": [
    "pd.set_option('display.max_columns', None)\n",
    "pd.set_option('display.max_rows', None)"
   ]
  },
  {
   "cell_type": "markdown",
   "metadata": {},
   "source": [
    "### Load data"
   ]
  },
  {
   "cell_type": "code",
   "execution_count": 21,
   "metadata": {},
   "outputs": [
    {
     "data": {
      "text/html": [
       "<div>\n",
       "<style scoped>\n",
       "    .dataframe tbody tr th:only-of-type {\n",
       "        vertical-align: middle;\n",
       "    }\n",
       "\n",
       "    .dataframe tbody tr th {\n",
       "        vertical-align: top;\n",
       "    }\n",
       "\n",
       "    .dataframe thead th {\n",
       "        text-align: right;\n",
       "    }\n",
       "</style>\n",
       "<table border=\"1\" class=\"dataframe\">\n",
       "  <thead>\n",
       "    <tr style=\"text-align: right;\">\n",
       "      <th></th>\n",
       "      <th>ticker</th>\n",
       "      <th>long_name</th>\n",
       "      <th>sector</th>\n",
       "      <th>industry</th>\n",
       "      <th>market_cap</th>\n",
       "      <th>enterprise_value</th>\n",
       "      <th>total_revenue</th>\n",
       "      <th>profit_margins</th>\n",
       "      <th>operating_margins</th>\n",
       "      <th>dividend_rate</th>\n",
       "      <th>beta</th>\n",
       "      <th>ebitda</th>\n",
       "      <th>trailing_pe</th>\n",
       "      <th>forward_pe</th>\n",
       "      <th>volume</th>\n",
       "      <th>average_volume</th>\n",
       "      <th>fifty_two_week_low</th>\n",
       "      <th>fifty_two_week_high</th>\n",
       "      <th>price_to_sales_trailing_12_months</th>\n",
       "      <th>fifty_day_average</th>\n",
       "      <th>two_hundred_day_average</th>\n",
       "      <th>trailing_annual_dividend_rate</th>\n",
       "      <th>trailing_annual_dividend_yield</th>\n",
       "      <th>book_value</th>\n",
       "      <th>price_to_book</th>\n",
       "      <th>total_cash</th>\n",
       "      <th>total_cash_per_share</th>\n",
       "      <th>total_debt</th>\n",
       "      <th>earnings_quarterly_growth</th>\n",
       "      <th>revenue_growth</th>\n",
       "      <th>gross_margins</th>\n",
       "      <th>ebitda_margins</th>\n",
       "      <th>return_on_assets</th>\n",
       "      <th>return_on_equity</th>\n",
       "      <th>gross_profits</th>\n",
       "      <th>total_assets_approx</th>\n",
       "      <th>asset_turnover</th>\n",
       "      <th>earnings_growth_rate</th>\n",
       "      <th>dividend_payout_ratio</th>\n",
       "      <th>equity</th>\n",
       "      <th>debt_to_equity</th>\n",
       "      <th>roi</th>\n",
       "      <th>roce</th>\n",
       "    </tr>\n",
       "  </thead>\n",
       "  <tbody>\n",
       "    <tr>\n",
       "      <th>0</th>\n",
       "      <td>ABCB4.SA</td>\n",
       "      <td>Banco ABC Brasil S.A.</td>\n",
       "      <td>Financial Services</td>\n",
       "      <td>Banks - Regional</td>\n",
       "      <td>4.265434e+09</td>\n",
       "      <td>1.477339e+10</td>\n",
       "      <td>1.941779e+09</td>\n",
       "      <td>0.41576</td>\n",
       "      <td>0.38826</td>\n",
       "      <td>1.56</td>\n",
       "      <td>0.679</td>\n",
       "      <td>0.000000e+00</td>\n",
       "      <td>4.069768</td>\n",
       "      <td>4.706601</td>\n",
       "      <td>92300.0</td>\n",
       "      <td>747165.0</td>\n",
       "      <td>15.85</td>\n",
       "      <td>21.99</td>\n",
       "      <td>2.196663</td>\n",
       "      <td>19.3382</td>\n",
       "      <td>18.14667</td>\n",
       "      <td>1.550</td>\n",
       "      <td>0.080687</td>\n",
       "      <td>24.518</td>\n",
       "      <td>0.785138</td>\n",
       "      <td>7.774306e+09</td>\n",
       "      <td>35.162</td>\n",
       "      <td>1.829846e+10</td>\n",
       "      <td>0.001</td>\n",
       "      <td>0.003</td>\n",
       "      <td>0.00000</td>\n",
       "      <td>0.00000</td>\n",
       "      <td>0.01530</td>\n",
       "      <td>0.15680</td>\n",
       "      <td>1.973086e+09</td>\n",
       "      <td>7.774306e+09</td>\n",
       "      <td>0.249769</td>\n",
       "      <td>0.1</td>\n",
       "      <td>155000.000000</td>\n",
       "      <td>-1.052416e+10</td>\n",
       "      <td>-1.738710</td>\n",
       "      <td>0.131438</td>\n",
       "      <td>0.000000</td>\n",
       "    </tr>\n",
       "    <tr>\n",
       "      <th>1</th>\n",
       "      <td>AGRO3.SA</td>\n",
       "      <td>BrasilAgro - Companhia Brasileira de Proprieda...</td>\n",
       "      <td>Consumer Defensive</td>\n",
       "      <td>Farm Products</td>\n",
       "      <td>2.466480e+09</td>\n",
       "      <td>2.912933e+09</td>\n",
       "      <td>1.249437e+09</td>\n",
       "      <td>0.21493</td>\n",
       "      <td>0.25031</td>\n",
       "      <td>3.21</td>\n",
       "      <td>0.432</td>\n",
       "      <td>2.648920e+08</td>\n",
       "      <td>9.450382</td>\n",
       "      <td>6.332481</td>\n",
       "      <td>298100.0</td>\n",
       "      <td>666692.0</td>\n",
       "      <td>22.29</td>\n",
       "      <td>32.71</td>\n",
       "      <td>1.974073</td>\n",
       "      <td>27.0106</td>\n",
       "      <td>25.58635</td>\n",
       "      <td>3.240</td>\n",
       "      <td>0.132029</td>\n",
       "      <td>22.237</td>\n",
       "      <td>1.113460</td>\n",
       "      <td>3.838370e+08</td>\n",
       "      <td>3.885</td>\n",
       "      <td>8.720750e+08</td>\n",
       "      <td>6.801</td>\n",
       "      <td>0.671</td>\n",
       "      <td>0.25252</td>\n",
       "      <td>0.21201</td>\n",
       "      <td>0.03839</td>\n",
       "      <td>0.12170</td>\n",
       "      <td>3.155040e+08</td>\n",
       "      <td>3.838370e+08</td>\n",
       "      <td>3.255124</td>\n",
       "      <td>680.1</td>\n",
       "      <td>47.640053</td>\n",
       "      <td>-4.882380e+08</td>\n",
       "      <td>-1.786168</td>\n",
       "      <td>0.428927</td>\n",
       "      <td>0.079343</td>\n",
       "    </tr>\n",
       "    <tr>\n",
       "      <th>2</th>\n",
       "      <td>RAIL3.SA</td>\n",
       "      <td>Rumo S.A.</td>\n",
       "      <td>Industrials</td>\n",
       "      <td>Railroads</td>\n",
       "      <td>4.228882e+10</td>\n",
       "      <td>5.524305e+10</td>\n",
       "      <td>1.031746e+10</td>\n",
       "      <td>0.07639</td>\n",
       "      <td>0.33544</td>\n",
       "      <td>0.07</td>\n",
       "      <td>0.227</td>\n",
       "      <td>4.522541e+09</td>\n",
       "      <td>54.309525</td>\n",
       "      <td>21.723810</td>\n",
       "      <td>5733400.0</td>\n",
       "      <td>14644522.0</td>\n",
       "      <td>16.21</td>\n",
       "      <td>24.44</td>\n",
       "      <td>4.098764</td>\n",
       "      <td>22.5852</td>\n",
       "      <td>20.95235</td>\n",
       "      <td>0.066</td>\n",
       "      <td>0.002993</td>\n",
       "      <td>8.334</td>\n",
       "      <td>2.736981</td>\n",
       "      <td>7.656040e+09</td>\n",
       "      <td>4.132</td>\n",
       "      <td>2.184320e+10</td>\n",
       "      <td>3.935</td>\n",
       "      <td>0.121</td>\n",
       "      <td>0.34493</td>\n",
       "      <td>0.43834</td>\n",
       "      <td>0.04252</td>\n",
       "      <td>0.05163</td>\n",
       "      <td>3.146360e+09</td>\n",
       "      <td>7.656040e+09</td>\n",
       "      <td>1.347623</td>\n",
       "      <td>393.5</td>\n",
       "      <td>1.677255</td>\n",
       "      <td>-1.418716e+10</td>\n",
       "      <td>-1.539646</td>\n",
       "      <td>0.186765</td>\n",
       "      <td>0.070519</td>\n",
       "    </tr>\n",
       "    <tr>\n",
       "      <th>3</th>\n",
       "      <td>ALPA3.SA</td>\n",
       "      <td>Alpargatas S.A.</td>\n",
       "      <td>Consumer Cyclical</td>\n",
       "      <td>Footwear &amp; Accessories</td>\n",
       "      <td>5.309793e+09</td>\n",
       "      <td>6.482982e+09</td>\n",
       "      <td>4.022153e+09</td>\n",
       "      <td>-0.05671</td>\n",
       "      <td>-0.06434</td>\n",
       "      <td>0.40</td>\n",
       "      <td>0.571</td>\n",
       "      <td>-1.980000e+05</td>\n",
       "      <td>0.000000</td>\n",
       "      <td>0.000000</td>\n",
       "      <td>1100.0</td>\n",
       "      <td>3953.0</td>\n",
       "      <td>7.27</td>\n",
       "      <td>17.80</td>\n",
       "      <td>1.320137</td>\n",
       "      <td>8.7146</td>\n",
       "      <td>9.63540</td>\n",
       "      <td>0.000</td>\n",
       "      <td>0.000000</td>\n",
       "      <td>7.867</td>\n",
       "      <td>1.008008</td>\n",
       "      <td>4.142880e+08</td>\n",
       "      <td>0.614</td>\n",
       "      <td>1.550341e+09</td>\n",
       "      <td>0.000</td>\n",
       "      <td>-0.127</td>\n",
       "      <td>0.43246</td>\n",
       "      <td>-0.00005</td>\n",
       "      <td>-0.00910</td>\n",
       "      <td>-0.04153</td>\n",
       "      <td>1.968303e+09</td>\n",
       "      <td>4.142880e+08</td>\n",
       "      <td>9.708591</td>\n",
       "      <td>0.0</td>\n",
       "      <td>0.000000</td>\n",
       "      <td>-1.136053e+09</td>\n",
       "      <td>-1.364673</td>\n",
       "      <td>0.620417</td>\n",
       "      <td>-0.000029</td>\n",
       "    </tr>\n",
       "    <tr>\n",
       "      <th>4</th>\n",
       "      <td>ALPA4.SA</td>\n",
       "      <td>Alpargatas S.A.</td>\n",
       "      <td>Consumer Cyclical</td>\n",
       "      <td>Footwear &amp; Accessories</td>\n",
       "      <td>5.350758e+09</td>\n",
       "      <td>6.395236e+09</td>\n",
       "      <td>4.022153e+09</td>\n",
       "      <td>-0.05671</td>\n",
       "      <td>-0.06434</td>\n",
       "      <td>0.43</td>\n",
       "      <td>0.571</td>\n",
       "      <td>-1.980000e+05</td>\n",
       "      <td>0.000000</td>\n",
       "      <td>14.555555</td>\n",
       "      <td>1132100.0</td>\n",
       "      <td>5605825.0</td>\n",
       "      <td>6.81</td>\n",
       "      <td>22.51</td>\n",
       "      <td>1.330322</td>\n",
       "      <td>8.3228</td>\n",
       "      <td>9.27290</td>\n",
       "      <td>0.000</td>\n",
       "      <td>0.000000</td>\n",
       "      <td>7.867</td>\n",
       "      <td>0.999110</td>\n",
       "      <td>4.142880e+08</td>\n",
       "      <td>0.614</td>\n",
       "      <td>1.550341e+09</td>\n",
       "      <td>0.000</td>\n",
       "      <td>-0.127</td>\n",
       "      <td>0.43246</td>\n",
       "      <td>-0.00005</td>\n",
       "      <td>-0.00910</td>\n",
       "      <td>-0.04153</td>\n",
       "      <td>1.968303e+09</td>\n",
       "      <td>4.142880e+08</td>\n",
       "      <td>9.708591</td>\n",
       "      <td>0.0</td>\n",
       "      <td>0.000000</td>\n",
       "      <td>-1.136053e+09</td>\n",
       "      <td>-1.364673</td>\n",
       "      <td>0.628930</td>\n",
       "      <td>-0.000029</td>\n",
       "    </tr>\n",
       "  </tbody>\n",
       "</table>\n",
       "</div>"
      ],
      "text/plain": [
       "     ticker                                          long_name  \\\n",
       "0  ABCB4.SA                              Banco ABC Brasil S.A.   \n",
       "1  AGRO3.SA  BrasilAgro - Companhia Brasileira de Proprieda...   \n",
       "2  RAIL3.SA                                          Rumo S.A.   \n",
       "3  ALPA3.SA                                    Alpargatas S.A.   \n",
       "4  ALPA4.SA                                    Alpargatas S.A.   \n",
       "\n",
       "               sector                industry    market_cap  enterprise_value  \\\n",
       "0  Financial Services        Banks - Regional  4.265434e+09      1.477339e+10   \n",
       "1  Consumer Defensive           Farm Products  2.466480e+09      2.912933e+09   \n",
       "2         Industrials               Railroads  4.228882e+10      5.524305e+10   \n",
       "3   Consumer Cyclical  Footwear & Accessories  5.309793e+09      6.482982e+09   \n",
       "4   Consumer Cyclical  Footwear & Accessories  5.350758e+09      6.395236e+09   \n",
       "\n",
       "   total_revenue  profit_margins  operating_margins  dividend_rate   beta  \\\n",
       "0   1.941779e+09         0.41576            0.38826           1.56  0.679   \n",
       "1   1.249437e+09         0.21493            0.25031           3.21  0.432   \n",
       "2   1.031746e+10         0.07639            0.33544           0.07  0.227   \n",
       "3   4.022153e+09        -0.05671           -0.06434           0.40  0.571   \n",
       "4   4.022153e+09        -0.05671           -0.06434           0.43  0.571   \n",
       "\n",
       "         ebitda  trailing_pe  forward_pe     volume  average_volume  \\\n",
       "0  0.000000e+00     4.069768    4.706601    92300.0        747165.0   \n",
       "1  2.648920e+08     9.450382    6.332481   298100.0        666692.0   \n",
       "2  4.522541e+09    54.309525   21.723810  5733400.0      14644522.0   \n",
       "3 -1.980000e+05     0.000000    0.000000     1100.0          3953.0   \n",
       "4 -1.980000e+05     0.000000   14.555555  1132100.0       5605825.0   \n",
       "\n",
       "   fifty_two_week_low  fifty_two_week_high  price_to_sales_trailing_12_months  \\\n",
       "0               15.85                21.99                           2.196663   \n",
       "1               22.29                32.71                           1.974073   \n",
       "2               16.21                24.44                           4.098764   \n",
       "3                7.27                17.80                           1.320137   \n",
       "4                6.81                22.51                           1.330322   \n",
       "\n",
       "   fifty_day_average  two_hundred_day_average  trailing_annual_dividend_rate  \\\n",
       "0            19.3382                 18.14667                          1.550   \n",
       "1            27.0106                 25.58635                          3.240   \n",
       "2            22.5852                 20.95235                          0.066   \n",
       "3             8.7146                  9.63540                          0.000   \n",
       "4             8.3228                  9.27290                          0.000   \n",
       "\n",
       "   trailing_annual_dividend_yield  book_value  price_to_book    total_cash  \\\n",
       "0                        0.080687      24.518       0.785138  7.774306e+09   \n",
       "1                        0.132029      22.237       1.113460  3.838370e+08   \n",
       "2                        0.002993       8.334       2.736981  7.656040e+09   \n",
       "3                        0.000000       7.867       1.008008  4.142880e+08   \n",
       "4                        0.000000       7.867       0.999110  4.142880e+08   \n",
       "\n",
       "   total_cash_per_share    total_debt  earnings_quarterly_growth  \\\n",
       "0                35.162  1.829846e+10                      0.001   \n",
       "1                 3.885  8.720750e+08                      6.801   \n",
       "2                 4.132  2.184320e+10                      3.935   \n",
       "3                 0.614  1.550341e+09                      0.000   \n",
       "4                 0.614  1.550341e+09                      0.000   \n",
       "\n",
       "   revenue_growth  gross_margins  ebitda_margins  return_on_assets  \\\n",
       "0           0.003        0.00000         0.00000           0.01530   \n",
       "1           0.671        0.25252         0.21201           0.03839   \n",
       "2           0.121        0.34493         0.43834           0.04252   \n",
       "3          -0.127        0.43246        -0.00005          -0.00910   \n",
       "4          -0.127        0.43246        -0.00005          -0.00910   \n",
       "\n",
       "   return_on_equity  gross_profits  total_assets_approx  asset_turnover  \\\n",
       "0           0.15680   1.973086e+09         7.774306e+09        0.249769   \n",
       "1           0.12170   3.155040e+08         3.838370e+08        3.255124   \n",
       "2           0.05163   3.146360e+09         7.656040e+09        1.347623   \n",
       "3          -0.04153   1.968303e+09         4.142880e+08        9.708591   \n",
       "4          -0.04153   1.968303e+09         4.142880e+08        9.708591   \n",
       "\n",
       "   earnings_growth_rate  dividend_payout_ratio        equity  debt_to_equity  \\\n",
       "0                   0.1          155000.000000 -1.052416e+10       -1.738710   \n",
       "1                 680.1              47.640053 -4.882380e+08       -1.786168   \n",
       "2                 393.5               1.677255 -1.418716e+10       -1.539646   \n",
       "3                   0.0               0.000000 -1.136053e+09       -1.364673   \n",
       "4                   0.0               0.000000 -1.136053e+09       -1.364673   \n",
       "\n",
       "        roi      roce  \n",
       "0  0.131438  0.000000  \n",
       "1  0.428927  0.079343  \n",
       "2  0.186765  0.070519  \n",
       "3  0.620417 -0.000029  \n",
       "4  0.628930 -0.000029  "
      ]
     },
     "execution_count": 21,
     "metadata": {},
     "output_type": "execute_result"
    }
   ],
   "source": [
    "df_fundamentals_book = pd.read_csv(file_path_book + \"/fundamentals_book.csv\")\n",
    "df_fundamentals_book.head(5)"
   ]
  },
  {
   "cell_type": "markdown",
   "metadata": {},
   "source": [
    "## Models"
   ]
  },
  {
   "cell_type": "markdown",
   "metadata": {},
   "source": [
    "#### Transforming categorical features into numerical using OneHotEncoder"
   ]
  },
  {
   "cell_type": "code",
   "execution_count": 22,
   "metadata": {},
   "outputs": [
    {
     "data": {
      "text/html": [
       "<div>\n",
       "<style scoped>\n",
       "    .dataframe tbody tr th:only-of-type {\n",
       "        vertical-align: middle;\n",
       "    }\n",
       "\n",
       "    .dataframe tbody tr th {\n",
       "        vertical-align: top;\n",
       "    }\n",
       "\n",
       "    .dataframe thead th {\n",
       "        text-align: right;\n",
       "    }\n",
       "</style>\n",
       "<table border=\"1\" class=\"dataframe\">\n",
       "  <thead>\n",
       "    <tr style=\"text-align: right;\">\n",
       "      <th></th>\n",
       "      <th>ticker</th>\n",
       "      <th>long_name</th>\n",
       "      <th>industry</th>\n",
       "      <th>market_cap</th>\n",
       "      <th>enterprise_value</th>\n",
       "      <th>total_revenue</th>\n",
       "      <th>profit_margins</th>\n",
       "      <th>operating_margins</th>\n",
       "      <th>dividend_rate</th>\n",
       "      <th>beta</th>\n",
       "      <th>ebitda</th>\n",
       "      <th>trailing_pe</th>\n",
       "      <th>forward_pe</th>\n",
       "      <th>volume</th>\n",
       "      <th>average_volume</th>\n",
       "      <th>fifty_two_week_low</th>\n",
       "      <th>fifty_two_week_high</th>\n",
       "      <th>price_to_sales_trailing_12_months</th>\n",
       "      <th>fifty_day_average</th>\n",
       "      <th>two_hundred_day_average</th>\n",
       "      <th>trailing_annual_dividend_rate</th>\n",
       "      <th>trailing_annual_dividend_yield</th>\n",
       "      <th>book_value</th>\n",
       "      <th>price_to_book</th>\n",
       "      <th>total_cash</th>\n",
       "      <th>total_cash_per_share</th>\n",
       "      <th>total_debt</th>\n",
       "      <th>earnings_quarterly_growth</th>\n",
       "      <th>revenue_growth</th>\n",
       "      <th>gross_margins</th>\n",
       "      <th>ebitda_margins</th>\n",
       "      <th>return_on_assets</th>\n",
       "      <th>return_on_equity</th>\n",
       "      <th>gross_profits</th>\n",
       "      <th>total_assets_approx</th>\n",
       "      <th>asset_turnover</th>\n",
       "      <th>earnings_growth_rate</th>\n",
       "      <th>dividend_payout_ratio</th>\n",
       "      <th>equity</th>\n",
       "      <th>debt_to_equity</th>\n",
       "      <th>roi</th>\n",
       "      <th>roce</th>\n",
       "      <th>sector_basic_materials</th>\n",
       "      <th>sector_communication_services</th>\n",
       "      <th>sector_consumer_cyclical</th>\n",
       "      <th>sector_consumer_defensive</th>\n",
       "      <th>sector_energy</th>\n",
       "      <th>sector_financial_services</th>\n",
       "      <th>sector_healthcare</th>\n",
       "      <th>sector_industrials</th>\n",
       "      <th>sector_real_estate</th>\n",
       "      <th>sector_technology</th>\n",
       "      <th>sector_utilities</th>\n",
       "    </tr>\n",
       "  </thead>\n",
       "  <tbody>\n",
       "    <tr>\n",
       "      <th>0</th>\n",
       "      <td>ABCB4.SA</td>\n",
       "      <td>Banco ABC Brasil S.A.</td>\n",
       "      <td>Banks - Regional</td>\n",
       "      <td>4.265434e+09</td>\n",
       "      <td>1.477339e+10</td>\n",
       "      <td>1.941779e+09</td>\n",
       "      <td>0.41576</td>\n",
       "      <td>0.38826</td>\n",
       "      <td>1.56</td>\n",
       "      <td>0.679</td>\n",
       "      <td>0.000000e+00</td>\n",
       "      <td>4.069768</td>\n",
       "      <td>4.706601</td>\n",
       "      <td>92300.0</td>\n",
       "      <td>747165.0</td>\n",
       "      <td>15.85</td>\n",
       "      <td>21.99</td>\n",
       "      <td>2.196663</td>\n",
       "      <td>19.3382</td>\n",
       "      <td>18.14667</td>\n",
       "      <td>1.550</td>\n",
       "      <td>0.080687</td>\n",
       "      <td>24.518</td>\n",
       "      <td>0.785138</td>\n",
       "      <td>7.774306e+09</td>\n",
       "      <td>35.162</td>\n",
       "      <td>1.829846e+10</td>\n",
       "      <td>0.001</td>\n",
       "      <td>0.003</td>\n",
       "      <td>0.00000</td>\n",
       "      <td>0.00000</td>\n",
       "      <td>0.01530</td>\n",
       "      <td>0.15680</td>\n",
       "      <td>1.973086e+09</td>\n",
       "      <td>7.774306e+09</td>\n",
       "      <td>0.249769</td>\n",
       "      <td>0.1</td>\n",
       "      <td>155000.000000</td>\n",
       "      <td>-1.052416e+10</td>\n",
       "      <td>-1.738710</td>\n",
       "      <td>0.131438</td>\n",
       "      <td>0.000000</td>\n",
       "      <td>0.0</td>\n",
       "      <td>0.0</td>\n",
       "      <td>0.0</td>\n",
       "      <td>0.0</td>\n",
       "      <td>0.0</td>\n",
       "      <td>1.0</td>\n",
       "      <td>0.0</td>\n",
       "      <td>0.0</td>\n",
       "      <td>0.0</td>\n",
       "      <td>0.0</td>\n",
       "      <td>0.0</td>\n",
       "    </tr>\n",
       "    <tr>\n",
       "      <th>1</th>\n",
       "      <td>AGRO3.SA</td>\n",
       "      <td>BrasilAgro - Companhia Brasileira de Proprieda...</td>\n",
       "      <td>Farm Products</td>\n",
       "      <td>2.466480e+09</td>\n",
       "      <td>2.912933e+09</td>\n",
       "      <td>1.249437e+09</td>\n",
       "      <td>0.21493</td>\n",
       "      <td>0.25031</td>\n",
       "      <td>3.21</td>\n",
       "      <td>0.432</td>\n",
       "      <td>2.648920e+08</td>\n",
       "      <td>9.450382</td>\n",
       "      <td>6.332481</td>\n",
       "      <td>298100.0</td>\n",
       "      <td>666692.0</td>\n",
       "      <td>22.29</td>\n",
       "      <td>32.71</td>\n",
       "      <td>1.974073</td>\n",
       "      <td>27.0106</td>\n",
       "      <td>25.58635</td>\n",
       "      <td>3.240</td>\n",
       "      <td>0.132029</td>\n",
       "      <td>22.237</td>\n",
       "      <td>1.113460</td>\n",
       "      <td>3.838370e+08</td>\n",
       "      <td>3.885</td>\n",
       "      <td>8.720750e+08</td>\n",
       "      <td>6.801</td>\n",
       "      <td>0.671</td>\n",
       "      <td>0.25252</td>\n",
       "      <td>0.21201</td>\n",
       "      <td>0.03839</td>\n",
       "      <td>0.12170</td>\n",
       "      <td>3.155040e+08</td>\n",
       "      <td>3.838370e+08</td>\n",
       "      <td>3.255124</td>\n",
       "      <td>680.1</td>\n",
       "      <td>47.640053</td>\n",
       "      <td>-4.882380e+08</td>\n",
       "      <td>-1.786168</td>\n",
       "      <td>0.428927</td>\n",
       "      <td>0.079343</td>\n",
       "      <td>0.0</td>\n",
       "      <td>0.0</td>\n",
       "      <td>0.0</td>\n",
       "      <td>1.0</td>\n",
       "      <td>0.0</td>\n",
       "      <td>0.0</td>\n",
       "      <td>0.0</td>\n",
       "      <td>0.0</td>\n",
       "      <td>0.0</td>\n",
       "      <td>0.0</td>\n",
       "      <td>0.0</td>\n",
       "    </tr>\n",
       "    <tr>\n",
       "      <th>2</th>\n",
       "      <td>RAIL3.SA</td>\n",
       "      <td>Rumo S.A.</td>\n",
       "      <td>Railroads</td>\n",
       "      <td>4.228882e+10</td>\n",
       "      <td>5.524305e+10</td>\n",
       "      <td>1.031746e+10</td>\n",
       "      <td>0.07639</td>\n",
       "      <td>0.33544</td>\n",
       "      <td>0.07</td>\n",
       "      <td>0.227</td>\n",
       "      <td>4.522541e+09</td>\n",
       "      <td>54.309525</td>\n",
       "      <td>21.723810</td>\n",
       "      <td>5733400.0</td>\n",
       "      <td>14644522.0</td>\n",
       "      <td>16.21</td>\n",
       "      <td>24.44</td>\n",
       "      <td>4.098764</td>\n",
       "      <td>22.5852</td>\n",
       "      <td>20.95235</td>\n",
       "      <td>0.066</td>\n",
       "      <td>0.002993</td>\n",
       "      <td>8.334</td>\n",
       "      <td>2.736981</td>\n",
       "      <td>7.656040e+09</td>\n",
       "      <td>4.132</td>\n",
       "      <td>2.184320e+10</td>\n",
       "      <td>3.935</td>\n",
       "      <td>0.121</td>\n",
       "      <td>0.34493</td>\n",
       "      <td>0.43834</td>\n",
       "      <td>0.04252</td>\n",
       "      <td>0.05163</td>\n",
       "      <td>3.146360e+09</td>\n",
       "      <td>7.656040e+09</td>\n",
       "      <td>1.347623</td>\n",
       "      <td>393.5</td>\n",
       "      <td>1.677255</td>\n",
       "      <td>-1.418716e+10</td>\n",
       "      <td>-1.539646</td>\n",
       "      <td>0.186765</td>\n",
       "      <td>0.070519</td>\n",
       "      <td>0.0</td>\n",
       "      <td>0.0</td>\n",
       "      <td>0.0</td>\n",
       "      <td>0.0</td>\n",
       "      <td>0.0</td>\n",
       "      <td>0.0</td>\n",
       "      <td>0.0</td>\n",
       "      <td>1.0</td>\n",
       "      <td>0.0</td>\n",
       "      <td>0.0</td>\n",
       "      <td>0.0</td>\n",
       "    </tr>\n",
       "    <tr>\n",
       "      <th>3</th>\n",
       "      <td>ALPA3.SA</td>\n",
       "      <td>Alpargatas S.A.</td>\n",
       "      <td>Footwear &amp; Accessories</td>\n",
       "      <td>5.309793e+09</td>\n",
       "      <td>6.482982e+09</td>\n",
       "      <td>4.022153e+09</td>\n",
       "      <td>-0.05671</td>\n",
       "      <td>-0.06434</td>\n",
       "      <td>0.40</td>\n",
       "      <td>0.571</td>\n",
       "      <td>-1.980000e+05</td>\n",
       "      <td>0.000000</td>\n",
       "      <td>0.000000</td>\n",
       "      <td>1100.0</td>\n",
       "      <td>3953.0</td>\n",
       "      <td>7.27</td>\n",
       "      <td>17.80</td>\n",
       "      <td>1.320137</td>\n",
       "      <td>8.7146</td>\n",
       "      <td>9.63540</td>\n",
       "      <td>0.000</td>\n",
       "      <td>0.000000</td>\n",
       "      <td>7.867</td>\n",
       "      <td>1.008008</td>\n",
       "      <td>4.142880e+08</td>\n",
       "      <td>0.614</td>\n",
       "      <td>1.550341e+09</td>\n",
       "      <td>0.000</td>\n",
       "      <td>-0.127</td>\n",
       "      <td>0.43246</td>\n",
       "      <td>-0.00005</td>\n",
       "      <td>-0.00910</td>\n",
       "      <td>-0.04153</td>\n",
       "      <td>1.968303e+09</td>\n",
       "      <td>4.142880e+08</td>\n",
       "      <td>9.708591</td>\n",
       "      <td>0.0</td>\n",
       "      <td>0.000000</td>\n",
       "      <td>-1.136053e+09</td>\n",
       "      <td>-1.364673</td>\n",
       "      <td>0.620417</td>\n",
       "      <td>-0.000029</td>\n",
       "      <td>0.0</td>\n",
       "      <td>0.0</td>\n",
       "      <td>1.0</td>\n",
       "      <td>0.0</td>\n",
       "      <td>0.0</td>\n",
       "      <td>0.0</td>\n",
       "      <td>0.0</td>\n",
       "      <td>0.0</td>\n",
       "      <td>0.0</td>\n",
       "      <td>0.0</td>\n",
       "      <td>0.0</td>\n",
       "    </tr>\n",
       "    <tr>\n",
       "      <th>4</th>\n",
       "      <td>ALPA4.SA</td>\n",
       "      <td>Alpargatas S.A.</td>\n",
       "      <td>Footwear &amp; Accessories</td>\n",
       "      <td>5.350758e+09</td>\n",
       "      <td>6.395236e+09</td>\n",
       "      <td>4.022153e+09</td>\n",
       "      <td>-0.05671</td>\n",
       "      <td>-0.06434</td>\n",
       "      <td>0.43</td>\n",
       "      <td>0.571</td>\n",
       "      <td>-1.980000e+05</td>\n",
       "      <td>0.000000</td>\n",
       "      <td>14.555555</td>\n",
       "      <td>1132100.0</td>\n",
       "      <td>5605825.0</td>\n",
       "      <td>6.81</td>\n",
       "      <td>22.51</td>\n",
       "      <td>1.330322</td>\n",
       "      <td>8.3228</td>\n",
       "      <td>9.27290</td>\n",
       "      <td>0.000</td>\n",
       "      <td>0.000000</td>\n",
       "      <td>7.867</td>\n",
       "      <td>0.999110</td>\n",
       "      <td>4.142880e+08</td>\n",
       "      <td>0.614</td>\n",
       "      <td>1.550341e+09</td>\n",
       "      <td>0.000</td>\n",
       "      <td>-0.127</td>\n",
       "      <td>0.43246</td>\n",
       "      <td>-0.00005</td>\n",
       "      <td>-0.00910</td>\n",
       "      <td>-0.04153</td>\n",
       "      <td>1.968303e+09</td>\n",
       "      <td>4.142880e+08</td>\n",
       "      <td>9.708591</td>\n",
       "      <td>0.0</td>\n",
       "      <td>0.000000</td>\n",
       "      <td>-1.136053e+09</td>\n",
       "      <td>-1.364673</td>\n",
       "      <td>0.628930</td>\n",
       "      <td>-0.000029</td>\n",
       "      <td>0.0</td>\n",
       "      <td>0.0</td>\n",
       "      <td>1.0</td>\n",
       "      <td>0.0</td>\n",
       "      <td>0.0</td>\n",
       "      <td>0.0</td>\n",
       "      <td>0.0</td>\n",
       "      <td>0.0</td>\n",
       "      <td>0.0</td>\n",
       "      <td>0.0</td>\n",
       "      <td>0.0</td>\n",
       "    </tr>\n",
       "  </tbody>\n",
       "</table>\n",
       "</div>"
      ],
      "text/plain": [
       "     ticker                                          long_name  \\\n",
       "0  ABCB4.SA                              Banco ABC Brasil S.A.   \n",
       "1  AGRO3.SA  BrasilAgro - Companhia Brasileira de Proprieda...   \n",
       "2  RAIL3.SA                                          Rumo S.A.   \n",
       "3  ALPA3.SA                                    Alpargatas S.A.   \n",
       "4  ALPA4.SA                                    Alpargatas S.A.   \n",
       "\n",
       "                 industry    market_cap  enterprise_value  total_revenue  \\\n",
       "0        Banks - Regional  4.265434e+09      1.477339e+10   1.941779e+09   \n",
       "1           Farm Products  2.466480e+09      2.912933e+09   1.249437e+09   \n",
       "2               Railroads  4.228882e+10      5.524305e+10   1.031746e+10   \n",
       "3  Footwear & Accessories  5.309793e+09      6.482982e+09   4.022153e+09   \n",
       "4  Footwear & Accessories  5.350758e+09      6.395236e+09   4.022153e+09   \n",
       "\n",
       "   profit_margins  operating_margins  dividend_rate   beta        ebitda  \\\n",
       "0         0.41576            0.38826           1.56  0.679  0.000000e+00   \n",
       "1         0.21493            0.25031           3.21  0.432  2.648920e+08   \n",
       "2         0.07639            0.33544           0.07  0.227  4.522541e+09   \n",
       "3        -0.05671           -0.06434           0.40  0.571 -1.980000e+05   \n",
       "4        -0.05671           -0.06434           0.43  0.571 -1.980000e+05   \n",
       "\n",
       "   trailing_pe  forward_pe     volume  average_volume  fifty_two_week_low  \\\n",
       "0     4.069768    4.706601    92300.0        747165.0               15.85   \n",
       "1     9.450382    6.332481   298100.0        666692.0               22.29   \n",
       "2    54.309525   21.723810  5733400.0      14644522.0               16.21   \n",
       "3     0.000000    0.000000     1100.0          3953.0                7.27   \n",
       "4     0.000000   14.555555  1132100.0       5605825.0                6.81   \n",
       "\n",
       "   fifty_two_week_high  price_to_sales_trailing_12_months  fifty_day_average  \\\n",
       "0                21.99                           2.196663            19.3382   \n",
       "1                32.71                           1.974073            27.0106   \n",
       "2                24.44                           4.098764            22.5852   \n",
       "3                17.80                           1.320137             8.7146   \n",
       "4                22.51                           1.330322             8.3228   \n",
       "\n",
       "   two_hundred_day_average  trailing_annual_dividend_rate  \\\n",
       "0                 18.14667                          1.550   \n",
       "1                 25.58635                          3.240   \n",
       "2                 20.95235                          0.066   \n",
       "3                  9.63540                          0.000   \n",
       "4                  9.27290                          0.000   \n",
       "\n",
       "   trailing_annual_dividend_yield  book_value  price_to_book    total_cash  \\\n",
       "0                        0.080687      24.518       0.785138  7.774306e+09   \n",
       "1                        0.132029      22.237       1.113460  3.838370e+08   \n",
       "2                        0.002993       8.334       2.736981  7.656040e+09   \n",
       "3                        0.000000       7.867       1.008008  4.142880e+08   \n",
       "4                        0.000000       7.867       0.999110  4.142880e+08   \n",
       "\n",
       "   total_cash_per_share    total_debt  earnings_quarterly_growth  \\\n",
       "0                35.162  1.829846e+10                      0.001   \n",
       "1                 3.885  8.720750e+08                      6.801   \n",
       "2                 4.132  2.184320e+10                      3.935   \n",
       "3                 0.614  1.550341e+09                      0.000   \n",
       "4                 0.614  1.550341e+09                      0.000   \n",
       "\n",
       "   revenue_growth  gross_margins  ebitda_margins  return_on_assets  \\\n",
       "0           0.003        0.00000         0.00000           0.01530   \n",
       "1           0.671        0.25252         0.21201           0.03839   \n",
       "2           0.121        0.34493         0.43834           0.04252   \n",
       "3          -0.127        0.43246        -0.00005          -0.00910   \n",
       "4          -0.127        0.43246        -0.00005          -0.00910   \n",
       "\n",
       "   return_on_equity  gross_profits  total_assets_approx  asset_turnover  \\\n",
       "0           0.15680   1.973086e+09         7.774306e+09        0.249769   \n",
       "1           0.12170   3.155040e+08         3.838370e+08        3.255124   \n",
       "2           0.05163   3.146360e+09         7.656040e+09        1.347623   \n",
       "3          -0.04153   1.968303e+09         4.142880e+08        9.708591   \n",
       "4          -0.04153   1.968303e+09         4.142880e+08        9.708591   \n",
       "\n",
       "   earnings_growth_rate  dividend_payout_ratio        equity  debt_to_equity  \\\n",
       "0                   0.1          155000.000000 -1.052416e+10       -1.738710   \n",
       "1                 680.1              47.640053 -4.882380e+08       -1.786168   \n",
       "2                 393.5               1.677255 -1.418716e+10       -1.539646   \n",
       "3                   0.0               0.000000 -1.136053e+09       -1.364673   \n",
       "4                   0.0               0.000000 -1.136053e+09       -1.364673   \n",
       "\n",
       "        roi      roce  sector_basic_materials  sector_communication_services  \\\n",
       "0  0.131438  0.000000                     0.0                            0.0   \n",
       "1  0.428927  0.079343                     0.0                            0.0   \n",
       "2  0.186765  0.070519                     0.0                            0.0   \n",
       "3  0.620417 -0.000029                     0.0                            0.0   \n",
       "4  0.628930 -0.000029                     0.0                            0.0   \n",
       "\n",
       "   sector_consumer_cyclical  sector_consumer_defensive  sector_energy  \\\n",
       "0                       0.0                        0.0            0.0   \n",
       "1                       0.0                        1.0            0.0   \n",
       "2                       0.0                        0.0            0.0   \n",
       "3                       1.0                        0.0            0.0   \n",
       "4                       1.0                        0.0            0.0   \n",
       "\n",
       "   sector_financial_services  sector_healthcare  sector_industrials  \\\n",
       "0                        1.0                0.0                 0.0   \n",
       "1                        0.0                0.0                 0.0   \n",
       "2                        0.0                0.0                 1.0   \n",
       "3                        0.0                0.0                 0.0   \n",
       "4                        0.0                0.0                 0.0   \n",
       "\n",
       "   sector_real_estate  sector_technology  sector_utilities  \n",
       "0                 0.0                0.0               0.0  \n",
       "1                 0.0                0.0               0.0  \n",
       "2                 0.0                0.0               0.0  \n",
       "3                 0.0                0.0               0.0  \n",
       "4                 0.0                0.0               0.0  "
      ]
     },
     "execution_count": 22,
     "metadata": {},
     "output_type": "execute_result"
    }
   ],
   "source": [
    "numeric_columns = df_fundamentals_book.select_dtypes(include=['int64', 'float64']).columns\n",
    "categorical_columns = df_fundamentals_book.drop(['ticker', 'long_name', 'industry'], axis='columns').copy(deep=True)\n",
    "categorical_columns = categorical_columns.select_dtypes(include='object').columns\n",
    "\n",
    "encoder = OneHotEncoder(sparse=False)\n",
    "encoded_categorical = encoder.fit_transform(df_fundamentals_book[categorical_columns])\n",
    "\n",
    "df_encoded = pd.DataFrame(encoded_categorical, columns=encoder.get_feature_names_out(categorical_columns))\n",
    "df_fundamentals_final = pd.concat([df_fundamentals_book.drop(categorical_columns, axis=1), df_encoded], axis=1)\n",
    "df_fundamentals_final.columns = ['_'.join(col.lower().replace('-', '').split()) for col in df_fundamentals_final.columns]\n",
    "\n",
    "df_fundamentals_final.head()"
   ]
  },
  {
   "cell_type": "markdown",
   "metadata": {},
   "source": [
    "#### Feature Selection using PCA"
   ]
  },
  {
   "cell_type": "code",
   "execution_count": 23,
   "metadata": {},
   "outputs": [
    {
     "data": {
      "application/vnd.plotly.v1+json": {
       "config": {
        "plotlyServerURL": "https://plot.ly"
       },
       "data": [
        {
         "alignmentgroup": "True",
         "hovertemplate": "Principal Component=%{x}<br>Explained Variance=%{y}<br>text=%{text}<extra></extra>",
         "legendgroup": "",
         "marker": {
          "color": "rgb(100, 195, 181)",
          "pattern": {
           "shape": ""
          }
         },
         "name": "",
         "offsetgroup": "",
         "orientation": "v",
         "showlegend": false,
         "text": [
          "83.11%",
          "11.82%",
          "3.60%",
          "1.12%",
          "0.29%"
         ],
         "textposition": "outside",
         "type": "bar",
         "x": [
          "PC1",
          "PC2",
          "PC3",
          "PC4",
          "PC5"
         ],
         "xaxis": "x",
         "y": [
          0.8311453282067462,
          0.11820560977479726,
          0.035959655250497144,
          0.011242656688248266,
          0.0028514856907217866
         ],
         "yaxis": "y"
        }
       ],
       "layout": {
        "barmode": "relative",
        "font": {
         "color": "white"
        },
        "height": 500,
        "legend": {
         "tracegroupgap": 0
        },
        "template": {
         "data": {
          "bar": [
           {
            "error_x": {
             "color": "#f2f5fa"
            },
            "error_y": {
             "color": "#f2f5fa"
            },
            "marker": {
             "line": {
              "color": "rgb(17,17,17)",
              "width": 0.5
             },
             "pattern": {
              "fillmode": "overlay",
              "size": 10,
              "solidity": 0.2
             }
            },
            "type": "bar"
           }
          ],
          "barpolar": [
           {
            "marker": {
             "line": {
              "color": "rgb(17,17,17)",
              "width": 0.5
             },
             "pattern": {
              "fillmode": "overlay",
              "size": 10,
              "solidity": 0.2
             }
            },
            "type": "barpolar"
           }
          ],
          "carpet": [
           {
            "aaxis": {
             "endlinecolor": "#A2B1C6",
             "gridcolor": "#506784",
             "linecolor": "#506784",
             "minorgridcolor": "#506784",
             "startlinecolor": "#A2B1C6"
            },
            "baxis": {
             "endlinecolor": "#A2B1C6",
             "gridcolor": "#506784",
             "linecolor": "#506784",
             "minorgridcolor": "#506784",
             "startlinecolor": "#A2B1C6"
            },
            "type": "carpet"
           }
          ],
          "choropleth": [
           {
            "colorbar": {
             "outlinewidth": 0,
             "ticks": ""
            },
            "type": "choropleth"
           }
          ],
          "contour": [
           {
            "colorbar": {
             "outlinewidth": 0,
             "ticks": ""
            },
            "colorscale": [
             [
              0,
              "#0d0887"
             ],
             [
              0.1111111111111111,
              "#46039f"
             ],
             [
              0.2222222222222222,
              "#7201a8"
             ],
             [
              0.3333333333333333,
              "#9c179e"
             ],
             [
              0.4444444444444444,
              "#bd3786"
             ],
             [
              0.5555555555555556,
              "#d8576b"
             ],
             [
              0.6666666666666666,
              "#ed7953"
             ],
             [
              0.7777777777777778,
              "#fb9f3a"
             ],
             [
              0.8888888888888888,
              "#fdca26"
             ],
             [
              1,
              "#f0f921"
             ]
            ],
            "type": "contour"
           }
          ],
          "contourcarpet": [
           {
            "colorbar": {
             "outlinewidth": 0,
             "ticks": ""
            },
            "type": "contourcarpet"
           }
          ],
          "heatmap": [
           {
            "colorbar": {
             "outlinewidth": 0,
             "ticks": ""
            },
            "colorscale": [
             [
              0,
              "#0d0887"
             ],
             [
              0.1111111111111111,
              "#46039f"
             ],
             [
              0.2222222222222222,
              "#7201a8"
             ],
             [
              0.3333333333333333,
              "#9c179e"
             ],
             [
              0.4444444444444444,
              "#bd3786"
             ],
             [
              0.5555555555555556,
              "#d8576b"
             ],
             [
              0.6666666666666666,
              "#ed7953"
             ],
             [
              0.7777777777777778,
              "#fb9f3a"
             ],
             [
              0.8888888888888888,
              "#fdca26"
             ],
             [
              1,
              "#f0f921"
             ]
            ],
            "type": "heatmap"
           }
          ],
          "heatmapgl": [
           {
            "colorbar": {
             "outlinewidth": 0,
             "ticks": ""
            },
            "colorscale": [
             [
              0,
              "#0d0887"
             ],
             [
              0.1111111111111111,
              "#46039f"
             ],
             [
              0.2222222222222222,
              "#7201a8"
             ],
             [
              0.3333333333333333,
              "#9c179e"
             ],
             [
              0.4444444444444444,
              "#bd3786"
             ],
             [
              0.5555555555555556,
              "#d8576b"
             ],
             [
              0.6666666666666666,
              "#ed7953"
             ],
             [
              0.7777777777777778,
              "#fb9f3a"
             ],
             [
              0.8888888888888888,
              "#fdca26"
             ],
             [
              1,
              "#f0f921"
             ]
            ],
            "type": "heatmapgl"
           }
          ],
          "histogram": [
           {
            "marker": {
             "pattern": {
              "fillmode": "overlay",
              "size": 10,
              "solidity": 0.2
             }
            },
            "type": "histogram"
           }
          ],
          "histogram2d": [
           {
            "colorbar": {
             "outlinewidth": 0,
             "ticks": ""
            },
            "colorscale": [
             [
              0,
              "#0d0887"
             ],
             [
              0.1111111111111111,
              "#46039f"
             ],
             [
              0.2222222222222222,
              "#7201a8"
             ],
             [
              0.3333333333333333,
              "#9c179e"
             ],
             [
              0.4444444444444444,
              "#bd3786"
             ],
             [
              0.5555555555555556,
              "#d8576b"
             ],
             [
              0.6666666666666666,
              "#ed7953"
             ],
             [
              0.7777777777777778,
              "#fb9f3a"
             ],
             [
              0.8888888888888888,
              "#fdca26"
             ],
             [
              1,
              "#f0f921"
             ]
            ],
            "type": "histogram2d"
           }
          ],
          "histogram2dcontour": [
           {
            "colorbar": {
             "outlinewidth": 0,
             "ticks": ""
            },
            "colorscale": [
             [
              0,
              "#0d0887"
             ],
             [
              0.1111111111111111,
              "#46039f"
             ],
             [
              0.2222222222222222,
              "#7201a8"
             ],
             [
              0.3333333333333333,
              "#9c179e"
             ],
             [
              0.4444444444444444,
              "#bd3786"
             ],
             [
              0.5555555555555556,
              "#d8576b"
             ],
             [
              0.6666666666666666,
              "#ed7953"
             ],
             [
              0.7777777777777778,
              "#fb9f3a"
             ],
             [
              0.8888888888888888,
              "#fdca26"
             ],
             [
              1,
              "#f0f921"
             ]
            ],
            "type": "histogram2dcontour"
           }
          ],
          "mesh3d": [
           {
            "colorbar": {
             "outlinewidth": 0,
             "ticks": ""
            },
            "type": "mesh3d"
           }
          ],
          "parcoords": [
           {
            "line": {
             "colorbar": {
              "outlinewidth": 0,
              "ticks": ""
             }
            },
            "type": "parcoords"
           }
          ],
          "pie": [
           {
            "automargin": true,
            "type": "pie"
           }
          ],
          "scatter": [
           {
            "marker": {
             "line": {
              "color": "#283442"
             }
            },
            "type": "scatter"
           }
          ],
          "scatter3d": [
           {
            "line": {
             "colorbar": {
              "outlinewidth": 0,
              "ticks": ""
             }
            },
            "marker": {
             "colorbar": {
              "outlinewidth": 0,
              "ticks": ""
             }
            },
            "type": "scatter3d"
           }
          ],
          "scattercarpet": [
           {
            "marker": {
             "colorbar": {
              "outlinewidth": 0,
              "ticks": ""
             }
            },
            "type": "scattercarpet"
           }
          ],
          "scattergeo": [
           {
            "marker": {
             "colorbar": {
              "outlinewidth": 0,
              "ticks": ""
             }
            },
            "type": "scattergeo"
           }
          ],
          "scattergl": [
           {
            "marker": {
             "line": {
              "color": "#283442"
             }
            },
            "type": "scattergl"
           }
          ],
          "scattermapbox": [
           {
            "marker": {
             "colorbar": {
              "outlinewidth": 0,
              "ticks": ""
             }
            },
            "type": "scattermapbox"
           }
          ],
          "scatterpolar": [
           {
            "marker": {
             "colorbar": {
              "outlinewidth": 0,
              "ticks": ""
             }
            },
            "type": "scatterpolar"
           }
          ],
          "scatterpolargl": [
           {
            "marker": {
             "colorbar": {
              "outlinewidth": 0,
              "ticks": ""
             }
            },
            "type": "scatterpolargl"
           }
          ],
          "scatterternary": [
           {
            "marker": {
             "colorbar": {
              "outlinewidth": 0,
              "ticks": ""
             }
            },
            "type": "scatterternary"
           }
          ],
          "surface": [
           {
            "colorbar": {
             "outlinewidth": 0,
             "ticks": ""
            },
            "colorscale": [
             [
              0,
              "#0d0887"
             ],
             [
              0.1111111111111111,
              "#46039f"
             ],
             [
              0.2222222222222222,
              "#7201a8"
             ],
             [
              0.3333333333333333,
              "#9c179e"
             ],
             [
              0.4444444444444444,
              "#bd3786"
             ],
             [
              0.5555555555555556,
              "#d8576b"
             ],
             [
              0.6666666666666666,
              "#ed7953"
             ],
             [
              0.7777777777777778,
              "#fb9f3a"
             ],
             [
              0.8888888888888888,
              "#fdca26"
             ],
             [
              1,
              "#f0f921"
             ]
            ],
            "type": "surface"
           }
          ],
          "table": [
           {
            "cells": {
             "fill": {
              "color": "#506784"
             },
             "line": {
              "color": "rgb(17,17,17)"
             }
            },
            "header": {
             "fill": {
              "color": "#2a3f5f"
             },
             "line": {
              "color": "rgb(17,17,17)"
             }
            },
            "type": "table"
           }
          ]
         },
         "layout": {
          "annotationdefaults": {
           "arrowcolor": "#f2f5fa",
           "arrowhead": 0,
           "arrowwidth": 1
          },
          "autotypenumbers": "strict",
          "coloraxis": {
           "colorbar": {
            "outlinewidth": 0,
            "ticks": ""
           }
          },
          "colorscale": {
           "diverging": [
            [
             0,
             "#8e0152"
            ],
            [
             0.1,
             "#c51b7d"
            ],
            [
             0.2,
             "#de77ae"
            ],
            [
             0.3,
             "#f1b6da"
            ],
            [
             0.4,
             "#fde0ef"
            ],
            [
             0.5,
             "#f7f7f7"
            ],
            [
             0.6,
             "#e6f5d0"
            ],
            [
             0.7,
             "#b8e186"
            ],
            [
             0.8,
             "#7fbc41"
            ],
            [
             0.9,
             "#4d9221"
            ],
            [
             1,
             "#276419"
            ]
           ],
           "sequential": [
            [
             0,
             "#0d0887"
            ],
            [
             0.1111111111111111,
             "#46039f"
            ],
            [
             0.2222222222222222,
             "#7201a8"
            ],
            [
             0.3333333333333333,
             "#9c179e"
            ],
            [
             0.4444444444444444,
             "#bd3786"
            ],
            [
             0.5555555555555556,
             "#d8576b"
            ],
            [
             0.6666666666666666,
             "#ed7953"
            ],
            [
             0.7777777777777778,
             "#fb9f3a"
            ],
            [
             0.8888888888888888,
             "#fdca26"
            ],
            [
             1,
             "#f0f921"
            ]
           ],
           "sequentialminus": [
            [
             0,
             "#0d0887"
            ],
            [
             0.1111111111111111,
             "#46039f"
            ],
            [
             0.2222222222222222,
             "#7201a8"
            ],
            [
             0.3333333333333333,
             "#9c179e"
            ],
            [
             0.4444444444444444,
             "#bd3786"
            ],
            [
             0.5555555555555556,
             "#d8576b"
            ],
            [
             0.6666666666666666,
             "#ed7953"
            ],
            [
             0.7777777777777778,
             "#fb9f3a"
            ],
            [
             0.8888888888888888,
             "#fdca26"
            ],
            [
             1,
             "#f0f921"
            ]
           ]
          },
          "colorway": [
           "#636efa",
           "#EF553B",
           "#00cc96",
           "#ab63fa",
           "#FFA15A",
           "#19d3f3",
           "#FF6692",
           "#B6E880",
           "#FF97FF",
           "#FECB52"
          ],
          "font": {
           "color": "#f2f5fa"
          },
          "geo": {
           "bgcolor": "rgb(17,17,17)",
           "lakecolor": "rgb(17,17,17)",
           "landcolor": "rgb(17,17,17)",
           "showlakes": true,
           "showland": true,
           "subunitcolor": "#506784"
          },
          "hoverlabel": {
           "align": "left"
          },
          "hovermode": "closest",
          "mapbox": {
           "style": "dark"
          },
          "paper_bgcolor": "rgb(17,17,17)",
          "plot_bgcolor": "rgb(17,17,17)",
          "polar": {
           "angularaxis": {
            "gridcolor": "#506784",
            "linecolor": "#506784",
            "ticks": ""
           },
           "bgcolor": "rgb(17,17,17)",
           "radialaxis": {
            "gridcolor": "#506784",
            "linecolor": "#506784",
            "ticks": ""
           }
          },
          "scene": {
           "xaxis": {
            "backgroundcolor": "rgb(17,17,17)",
            "gridcolor": "#506784",
            "gridwidth": 2,
            "linecolor": "#506784",
            "showbackground": true,
            "ticks": "",
            "zerolinecolor": "#C8D4E3"
           },
           "yaxis": {
            "backgroundcolor": "rgb(17,17,17)",
            "gridcolor": "#506784",
            "gridwidth": 2,
            "linecolor": "#506784",
            "showbackground": true,
            "ticks": "",
            "zerolinecolor": "#C8D4E3"
           },
           "zaxis": {
            "backgroundcolor": "rgb(17,17,17)",
            "gridcolor": "#506784",
            "gridwidth": 2,
            "linecolor": "#506784",
            "showbackground": true,
            "ticks": "",
            "zerolinecolor": "#C8D4E3"
           }
          },
          "shapedefaults": {
           "line": {
            "color": "#f2f5fa"
           }
          },
          "sliderdefaults": {
           "bgcolor": "#C8D4E3",
           "bordercolor": "rgb(17,17,17)",
           "borderwidth": 1,
           "tickwidth": 0
          },
          "ternary": {
           "aaxis": {
            "gridcolor": "#506784",
            "linecolor": "#506784",
            "ticks": ""
           },
           "baxis": {
            "gridcolor": "#506784",
            "linecolor": "#506784",
            "ticks": ""
           },
           "bgcolor": "rgb(17,17,17)",
           "caxis": {
            "gridcolor": "#506784",
            "linecolor": "#506784",
            "ticks": ""
           }
          },
          "title": {
           "x": 0.05
          },
          "updatemenudefaults": {
           "bgcolor": "#506784",
           "borderwidth": 0
          },
          "xaxis": {
           "automargin": true,
           "gridcolor": "#283442",
           "linecolor": "#506784",
           "ticks": "",
           "title": {
            "standoff": 15
           },
           "zerolinecolor": "#283442",
           "zerolinewidth": 2
          },
          "yaxis": {
           "automargin": true,
           "gridcolor": "#283442",
           "linecolor": "#506784",
           "ticks": "",
           "title": {
            "standoff": 15
           },
           "zerolinecolor": "#283442",
           "zerolinewidth": 2
          }
         }
        },
        "title": {
         "text": "Explained Variance by Each Principal Component"
        },
        "xaxis": {
         "anchor": "y",
         "domain": [
          0,
          1
         ],
         "title": {
          "text": "Principal Component"
         }
        },
        "yaxis": {
         "anchor": "x",
         "domain": [
          0,
          1
         ],
         "title": {
          "text": "Explained Variance"
         }
        }
       }
      }
     },
     "metadata": {},
     "output_type": "display_data"
    }
   ],
   "source": [
    "n_components = 5\n",
    "pca = PCA(n_components)\n",
    "pca_result = pca.fit_transform(df_fundamentals_final.select_dtypes(include=['int', 'float64', 'number']))\n",
    "explained_variance = pca.explained_variance_ratio_\n",
    "\n",
    "variance_explained = pca.explained_variance_ratio_\n",
    "cumulative_variance = np.cumsum(variance_explained)\n",
    "\n",
    "fig = px.bar(x=[f'PC{i+1}' for i in range(len(explained_variance))], y=explained_variance, labels={'x': 'Principal Component', 'y': 'Explained Variance'}, title='Explained Variance by Each Principal Component', color_discrete_sequence=['rgb(100, 195, 181)'], text=[f'{x:.2f}%' for x in explained_variance*100])\n",
    "fig.update_traces(textposition='outside')\n",
    "fig.update_layout(template='plotly_dark', font=dict(color='white'), height=500)\n",
    "fig.show()"
   ]
  },
  {
   "cell_type": "markdown",
   "metadata": {},
   "source": [
    "**`PC1 Explained Variance` (83.11%)**:\n",
    "\n",
    "  - The first principal component `(PC1)` accounts for the majority of the variance in the dataset, suggesting a strong pattern or trend that PC1 represents.\n",
    "\n",
    "**`PC2 Explained Variance` (11.82%)**\n",
    "\n",
    "  - The second principal component `(PC2)` captures a significant but much smaller portion of the variance, indicating a secondary pattern in the data that's less dominant than `PC1`.\n",
    "\n",
    "**`PC3 to PC5 Explained Variance`** **Decreasing Significance**:\n",
    "\n",
    "  - `PC3` (**3.60%**), `PC4` (**1.12%**), and `PC5` (**0.29%**) explain increasingly smaller amounts of variance.\n",
    "  - These components might represent noise or less relevant underlying patterns in the dataset.\n",
    "\n",
    "**`Cumulative Explained Variance`**\n",
    "\n",
    "  - The first two components (`PC1` and `PC2) together explain **94.93%** of the variance.\n",
    "  - This high percentage suggests that the dataset can be effectively represented in a reduced dimensionality space with minimal loss of information.\n",
    "\n",
    "**`Implications for Trading Strategy`**\n",
    "\n",
    "  - Focusing on `PC1` and `PC2` could simplify the model without sacrificing significant predictive power.\n",
    "  - Further investigation is needed to understand what market factors or combinations of factors these principal components represent.\n",
    "  - Caution should be exercised when discarding the lower variance components, as they might capture important nuances in the data relevant for predictive accuracy in certain market conditions.\n"
   ]
  },
  {
   "cell_type": "code",
   "execution_count": 24,
   "metadata": {},
   "outputs": [
    {
     "data": {
      "text/html": [
       "<div>\n",
       "<style scoped>\n",
       "    .dataframe tbody tr th:only-of-type {\n",
       "        vertical-align: middle;\n",
       "    }\n",
       "\n",
       "    .dataframe tbody tr th {\n",
       "        vertical-align: top;\n",
       "    }\n",
       "\n",
       "    .dataframe thead th {\n",
       "        text-align: right;\n",
       "    }\n",
       "</style>\n",
       "<table border=\"1\" class=\"dataframe\">\n",
       "  <thead>\n",
       "    <tr style=\"text-align: right;\">\n",
       "      <th></th>\n",
       "      <th>0</th>\n",
       "      <th>1</th>\n",
       "      <th>2</th>\n",
       "      <th>3</th>\n",
       "      <th>4</th>\n",
       "      <th>5</th>\n",
       "      <th>6</th>\n",
       "      <th>7</th>\n",
       "      <th>8</th>\n",
       "      <th>9</th>\n",
       "      <th>10</th>\n",
       "      <th>11</th>\n",
       "      <th>12</th>\n",
       "      <th>13</th>\n",
       "      <th>14</th>\n",
       "      <th>15</th>\n",
       "      <th>16</th>\n",
       "      <th>17</th>\n",
       "      <th>18</th>\n",
       "      <th>19</th>\n",
       "    </tr>\n",
       "  </thead>\n",
       "  <tbody>\n",
       "    <tr>\n",
       "      <th>Component 1</th>\n",
       "      <td>enterprise_value</td>\n",
       "      <td>total_debt</td>\n",
       "      <td>equity</td>\n",
       "      <td>market_cap</td>\n",
       "      <td>total_assets_approx</td>\n",
       "      <td>total_cash</td>\n",
       "      <td>total_revenue</td>\n",
       "      <td>gross_profits</td>\n",
       "      <td>ebitda</td>\n",
       "      <td>average_volume</td>\n",
       "      <td>volume</td>\n",
       "      <td>asset_turnover</td>\n",
       "      <td>dividend_payout_ratio</td>\n",
       "      <td>dividend_rate</td>\n",
       "      <td>book_value</td>\n",
       "      <td>fifty_two_week_high</td>\n",
       "      <td>debt_to_equity</td>\n",
       "      <td>total_cash_per_share</td>\n",
       "      <td>two_hundred_day_average</td>\n",
       "      <td>fifty_two_week_low</td>\n",
       "    </tr>\n",
       "    <tr>\n",
       "      <th>Component 2</th>\n",
       "      <td>total_revenue</td>\n",
       "      <td>total_debt</td>\n",
       "      <td>market_cap</td>\n",
       "      <td>ebitda</td>\n",
       "      <td>gross_profits</td>\n",
       "      <td>enterprise_value</td>\n",
       "      <td>total_cash</td>\n",
       "      <td>total_assets_approx</td>\n",
       "      <td>equity</td>\n",
       "      <td>average_volume</td>\n",
       "      <td>volume</td>\n",
       "      <td>asset_turnover</td>\n",
       "      <td>dividend_payout_ratio</td>\n",
       "      <td>earnings_growth_rate</td>\n",
       "      <td>debt_to_equity</td>\n",
       "      <td>dividend_rate</td>\n",
       "      <td>book_value</td>\n",
       "      <td>total_cash_per_share</td>\n",
       "      <td>fifty_day_average</td>\n",
       "      <td>fifty_two_week_low</td>\n",
       "    </tr>\n",
       "    <tr>\n",
       "      <th>Component 3</th>\n",
       "      <td>total_assets_approx</td>\n",
       "      <td>total_cash</td>\n",
       "      <td>equity</td>\n",
       "      <td>market_cap</td>\n",
       "      <td>enterprise_value</td>\n",
       "      <td>total_revenue</td>\n",
       "      <td>gross_profits</td>\n",
       "      <td>total_debt</td>\n",
       "      <td>ebitda</td>\n",
       "      <td>average_volume</td>\n",
       "      <td>volume</td>\n",
       "      <td>dividend_payout_ratio</td>\n",
       "      <td>asset_turnover</td>\n",
       "      <td>debt_to_equity</td>\n",
       "      <td>fifty_two_week_high</td>\n",
       "      <td>earnings_growth_rate</td>\n",
       "      <td>total_cash_per_share</td>\n",
       "      <td>dividend_rate</td>\n",
       "      <td>two_hundred_day_average</td>\n",
       "      <td>fifty_day_average</td>\n",
       "    </tr>\n",
       "    <tr>\n",
       "      <th>Component 4</th>\n",
       "      <td>total_revenue</td>\n",
       "      <td>market_cap</td>\n",
       "      <td>enterprise_value</td>\n",
       "      <td>total_debt</td>\n",
       "      <td>equity</td>\n",
       "      <td>gross_profits</td>\n",
       "      <td>total_cash</td>\n",
       "      <td>total_assets_approx</td>\n",
       "      <td>ebitda</td>\n",
       "      <td>average_volume</td>\n",
       "      <td>volume</td>\n",
       "      <td>asset_turnover</td>\n",
       "      <td>dividend_payout_ratio</td>\n",
       "      <td>earnings_growth_rate</td>\n",
       "      <td>fifty_two_week_high</td>\n",
       "      <td>two_hundred_day_average</td>\n",
       "      <td>fifty_day_average</td>\n",
       "      <td>fifty_two_week_low</td>\n",
       "      <td>total_cash_per_share</td>\n",
       "      <td>trailing_pe</td>\n",
       "    </tr>\n",
       "    <tr>\n",
       "      <th>Component 5</th>\n",
       "      <td>gross_profits</td>\n",
       "      <td>ebitda</td>\n",
       "      <td>market_cap</td>\n",
       "      <td>total_revenue</td>\n",
       "      <td>enterprise_value</td>\n",
       "      <td>total_debt</td>\n",
       "      <td>equity</td>\n",
       "      <td>total_cash</td>\n",
       "      <td>total_assets_approx</td>\n",
       "      <td>average_volume</td>\n",
       "      <td>volume</td>\n",
       "      <td>asset_turnover</td>\n",
       "      <td>dividend_payout_ratio</td>\n",
       "      <td>earnings_growth_rate</td>\n",
       "      <td>dividend_rate</td>\n",
       "      <td>fifty_two_week_high</td>\n",
       "      <td>book_value</td>\n",
       "      <td>total_cash_per_share</td>\n",
       "      <td>forward_pe</td>\n",
       "      <td>fifty_two_week_low</td>\n",
       "    </tr>\n",
       "  </tbody>\n",
       "</table>\n",
       "</div>"
      ],
      "text/plain": [
       "                              0           1                 2              3   \\\n",
       "Component 1     enterprise_value  total_debt            equity     market_cap   \n",
       "Component 2        total_revenue  total_debt        market_cap         ebitda   \n",
       "Component 3  total_assets_approx  total_cash            equity     market_cap   \n",
       "Component 4        total_revenue  market_cap  enterprise_value     total_debt   \n",
       "Component 5        gross_profits      ebitda        market_cap  total_revenue   \n",
       "\n",
       "                              4                 5              6   \\\n",
       "Component 1  total_assets_approx        total_cash  total_revenue   \n",
       "Component 2        gross_profits  enterprise_value     total_cash   \n",
       "Component 3     enterprise_value     total_revenue  gross_profits   \n",
       "Component 4               equity     gross_profits     total_cash   \n",
       "Component 5     enterprise_value        total_debt         equity   \n",
       "\n",
       "                              7                    8               9       10  \\\n",
       "Component 1        gross_profits               ebitda  average_volume  volume   \n",
       "Component 2  total_assets_approx               equity  average_volume  volume   \n",
       "Component 3           total_debt               ebitda  average_volume  volume   \n",
       "Component 4  total_assets_approx               ebitda  average_volume  volume   \n",
       "Component 5           total_cash  total_assets_approx  average_volume  volume   \n",
       "\n",
       "                                11                     12  \\\n",
       "Component 1         asset_turnover  dividend_payout_ratio   \n",
       "Component 2         asset_turnover  dividend_payout_ratio   \n",
       "Component 3  dividend_payout_ratio         asset_turnover   \n",
       "Component 4         asset_turnover  dividend_payout_ratio   \n",
       "Component 5         asset_turnover  dividend_payout_ratio   \n",
       "\n",
       "                               13                   14  \\\n",
       "Component 1         dividend_rate           book_value   \n",
       "Component 2  earnings_growth_rate       debt_to_equity   \n",
       "Component 3        debt_to_equity  fifty_two_week_high   \n",
       "Component 4  earnings_growth_rate  fifty_two_week_high   \n",
       "Component 5  earnings_growth_rate        dividend_rate   \n",
       "\n",
       "                                  15                    16  \\\n",
       "Component 1      fifty_two_week_high        debt_to_equity   \n",
       "Component 2            dividend_rate            book_value   \n",
       "Component 3     earnings_growth_rate  total_cash_per_share   \n",
       "Component 4  two_hundred_day_average     fifty_day_average   \n",
       "Component 5      fifty_two_week_high            book_value   \n",
       "\n",
       "                               17                       18                  19  \n",
       "Component 1  total_cash_per_share  two_hundred_day_average  fifty_two_week_low  \n",
       "Component 2  total_cash_per_share        fifty_day_average  fifty_two_week_low  \n",
       "Component 3         dividend_rate  two_hundred_day_average   fifty_day_average  \n",
       "Component 4    fifty_two_week_low     total_cash_per_share         trailing_pe  \n",
       "Component 5  total_cash_per_share               forward_pe  fifty_two_week_low  "
      ]
     },
     "execution_count": 24,
     "metadata": {},
     "output_type": "execute_result"
    }
   ],
   "source": [
    "components = pca.components_\n",
    "component_loadings = pd.DataFrame(components, columns=df_fundamentals_final.select_dtypes(include=['int', 'float64', 'number']).columns)\n",
    "\n",
    "n_components_to_display = 5  \n",
    "n_top_features = 20  \n",
    "top_features_per_component = []\n",
    "\n",
    "for i in range(n_components):\n",
    "    component = component_loadings.iloc[i]\n",
    "    top_features = component.abs().nlargest(n_top_features).index.tolist()\n",
    "    top_features_per_component.append(top_features)\n",
    "\n",
    "df_top_features = pd.DataFrame(top_features_per_component, index=[f'Component {i+1}' for i in range(n_components)])\n",
    "df_top_features"
   ]
  },
  {
   "cell_type": "markdown",
   "metadata": {},
   "source": [
    "**`Component 1 Analysis`**:\n",
    "  - *Dominant Metrics*: enterprise value, total debt, equity, market cap, total assets.\n",
    "  - *Interpretation*: This component may represent the overall size and leverage of companies, as it loads heavily on enterprise value and total debt.\n",
    "\n",
    "**`Component 2 Analysis`**:\n",
    "  - *Dominant Metrics*: total revenue, total debt, market cap, ebitda.\n",
    "  - *Interpretation*: This could be capturing companies' operational performance, given the emphasis on revenue and earnings before interest, taxes, depreciation, and amortization (EBITDA).\n",
    "\n",
    "**`Component 3 Analysis`**:\n",
    "  - *Dominant Metrics*: total assets, total cash, equity.\n",
    "  - *Interpretation*: Appears to reflect the liquidity and solvency aspects of companies, highlighting the significance of cash holdings and assets.\n",
    "\n",
    "**`Component 4 Analysis`**:\n",
    "  - *Dominant Metrics*: total revenue, market cap, enterprise value.\n",
    "  - *Interpretation*: This component seems to capture the growth aspect of the companies by loading on total revenue and market capitalization.\n",
    "\n",
    "**`Component 5 Analysis`**:\n",
    "  - *Dominant Metrics*: gross profits, ebitda, market cap.\n",
    "  - *Interpretation*: May represent profitability and efficiency, as it is heavily influenced by profit-related metrics.\n",
    "\n",
    "**`Implications for Quantitative Trading`**:\n",
    "  - When developing trading strategies, these components could be used to classify companies into different profiles, like size & leverage, operational performance, liquidity, growth, and profitability.\n",
    "  - A trading strategy might be developed to exploit patterns found in companies with similar loadings on these components.\n",
    "  - It's important to note that PCA is sensitive to the scale of the variables, and thus the data should be appropriately normalized if it's not already.\n"
   ]
  },
  {
   "cell_type": "code",
   "execution_count": 25,
   "metadata": {},
   "outputs": [
    {
     "data": {
      "application/vnd.plotly.v1+json": {
       "config": {
        "plotlyServerURL": "https://plot.ly"
       },
       "data": [
        {
         "line": {
          "color": "rgb(100, 195, 181)"
         },
         "mode": "lines+markers",
         "name": "Cumulative Variance Explained",
         "type": "scatter",
         "x": [
          1,
          2,
          3,
          4,
          5
         ],
         "y": [
          0.8311453282067462,
          0.9493509379815435,
          0.9853105932320406,
          0.9965532499202889,
          0.9994047356110107
         ]
        }
       ],
       "layout": {
        "font": {
         "color": "white"
        },
        "template": {
         "data": {
          "bar": [
           {
            "error_x": {
             "color": "#f2f5fa"
            },
            "error_y": {
             "color": "#f2f5fa"
            },
            "marker": {
             "line": {
              "color": "rgb(17,17,17)",
              "width": 0.5
             },
             "pattern": {
              "fillmode": "overlay",
              "size": 10,
              "solidity": 0.2
             }
            },
            "type": "bar"
           }
          ],
          "barpolar": [
           {
            "marker": {
             "line": {
              "color": "rgb(17,17,17)",
              "width": 0.5
             },
             "pattern": {
              "fillmode": "overlay",
              "size": 10,
              "solidity": 0.2
             }
            },
            "type": "barpolar"
           }
          ],
          "carpet": [
           {
            "aaxis": {
             "endlinecolor": "#A2B1C6",
             "gridcolor": "#506784",
             "linecolor": "#506784",
             "minorgridcolor": "#506784",
             "startlinecolor": "#A2B1C6"
            },
            "baxis": {
             "endlinecolor": "#A2B1C6",
             "gridcolor": "#506784",
             "linecolor": "#506784",
             "minorgridcolor": "#506784",
             "startlinecolor": "#A2B1C6"
            },
            "type": "carpet"
           }
          ],
          "choropleth": [
           {
            "colorbar": {
             "outlinewidth": 0,
             "ticks": ""
            },
            "type": "choropleth"
           }
          ],
          "contour": [
           {
            "colorbar": {
             "outlinewidth": 0,
             "ticks": ""
            },
            "colorscale": [
             [
              0,
              "#0d0887"
             ],
             [
              0.1111111111111111,
              "#46039f"
             ],
             [
              0.2222222222222222,
              "#7201a8"
             ],
             [
              0.3333333333333333,
              "#9c179e"
             ],
             [
              0.4444444444444444,
              "#bd3786"
             ],
             [
              0.5555555555555556,
              "#d8576b"
             ],
             [
              0.6666666666666666,
              "#ed7953"
             ],
             [
              0.7777777777777778,
              "#fb9f3a"
             ],
             [
              0.8888888888888888,
              "#fdca26"
             ],
             [
              1,
              "#f0f921"
             ]
            ],
            "type": "contour"
           }
          ],
          "contourcarpet": [
           {
            "colorbar": {
             "outlinewidth": 0,
             "ticks": ""
            },
            "type": "contourcarpet"
           }
          ],
          "heatmap": [
           {
            "colorbar": {
             "outlinewidth": 0,
             "ticks": ""
            },
            "colorscale": [
             [
              0,
              "#0d0887"
             ],
             [
              0.1111111111111111,
              "#46039f"
             ],
             [
              0.2222222222222222,
              "#7201a8"
             ],
             [
              0.3333333333333333,
              "#9c179e"
             ],
             [
              0.4444444444444444,
              "#bd3786"
             ],
             [
              0.5555555555555556,
              "#d8576b"
             ],
             [
              0.6666666666666666,
              "#ed7953"
             ],
             [
              0.7777777777777778,
              "#fb9f3a"
             ],
             [
              0.8888888888888888,
              "#fdca26"
             ],
             [
              1,
              "#f0f921"
             ]
            ],
            "type": "heatmap"
           }
          ],
          "heatmapgl": [
           {
            "colorbar": {
             "outlinewidth": 0,
             "ticks": ""
            },
            "colorscale": [
             [
              0,
              "#0d0887"
             ],
             [
              0.1111111111111111,
              "#46039f"
             ],
             [
              0.2222222222222222,
              "#7201a8"
             ],
             [
              0.3333333333333333,
              "#9c179e"
             ],
             [
              0.4444444444444444,
              "#bd3786"
             ],
             [
              0.5555555555555556,
              "#d8576b"
             ],
             [
              0.6666666666666666,
              "#ed7953"
             ],
             [
              0.7777777777777778,
              "#fb9f3a"
             ],
             [
              0.8888888888888888,
              "#fdca26"
             ],
             [
              1,
              "#f0f921"
             ]
            ],
            "type": "heatmapgl"
           }
          ],
          "histogram": [
           {
            "marker": {
             "pattern": {
              "fillmode": "overlay",
              "size": 10,
              "solidity": 0.2
             }
            },
            "type": "histogram"
           }
          ],
          "histogram2d": [
           {
            "colorbar": {
             "outlinewidth": 0,
             "ticks": ""
            },
            "colorscale": [
             [
              0,
              "#0d0887"
             ],
             [
              0.1111111111111111,
              "#46039f"
             ],
             [
              0.2222222222222222,
              "#7201a8"
             ],
             [
              0.3333333333333333,
              "#9c179e"
             ],
             [
              0.4444444444444444,
              "#bd3786"
             ],
             [
              0.5555555555555556,
              "#d8576b"
             ],
             [
              0.6666666666666666,
              "#ed7953"
             ],
             [
              0.7777777777777778,
              "#fb9f3a"
             ],
             [
              0.8888888888888888,
              "#fdca26"
             ],
             [
              1,
              "#f0f921"
             ]
            ],
            "type": "histogram2d"
           }
          ],
          "histogram2dcontour": [
           {
            "colorbar": {
             "outlinewidth": 0,
             "ticks": ""
            },
            "colorscale": [
             [
              0,
              "#0d0887"
             ],
             [
              0.1111111111111111,
              "#46039f"
             ],
             [
              0.2222222222222222,
              "#7201a8"
             ],
             [
              0.3333333333333333,
              "#9c179e"
             ],
             [
              0.4444444444444444,
              "#bd3786"
             ],
             [
              0.5555555555555556,
              "#d8576b"
             ],
             [
              0.6666666666666666,
              "#ed7953"
             ],
             [
              0.7777777777777778,
              "#fb9f3a"
             ],
             [
              0.8888888888888888,
              "#fdca26"
             ],
             [
              1,
              "#f0f921"
             ]
            ],
            "type": "histogram2dcontour"
           }
          ],
          "mesh3d": [
           {
            "colorbar": {
             "outlinewidth": 0,
             "ticks": ""
            },
            "type": "mesh3d"
           }
          ],
          "parcoords": [
           {
            "line": {
             "colorbar": {
              "outlinewidth": 0,
              "ticks": ""
             }
            },
            "type": "parcoords"
           }
          ],
          "pie": [
           {
            "automargin": true,
            "type": "pie"
           }
          ],
          "scatter": [
           {
            "marker": {
             "line": {
              "color": "#283442"
             }
            },
            "type": "scatter"
           }
          ],
          "scatter3d": [
           {
            "line": {
             "colorbar": {
              "outlinewidth": 0,
              "ticks": ""
             }
            },
            "marker": {
             "colorbar": {
              "outlinewidth": 0,
              "ticks": ""
             }
            },
            "type": "scatter3d"
           }
          ],
          "scattercarpet": [
           {
            "marker": {
             "colorbar": {
              "outlinewidth": 0,
              "ticks": ""
             }
            },
            "type": "scattercarpet"
           }
          ],
          "scattergeo": [
           {
            "marker": {
             "colorbar": {
              "outlinewidth": 0,
              "ticks": ""
             }
            },
            "type": "scattergeo"
           }
          ],
          "scattergl": [
           {
            "marker": {
             "line": {
              "color": "#283442"
             }
            },
            "type": "scattergl"
           }
          ],
          "scattermapbox": [
           {
            "marker": {
             "colorbar": {
              "outlinewidth": 0,
              "ticks": ""
             }
            },
            "type": "scattermapbox"
           }
          ],
          "scatterpolar": [
           {
            "marker": {
             "colorbar": {
              "outlinewidth": 0,
              "ticks": ""
             }
            },
            "type": "scatterpolar"
           }
          ],
          "scatterpolargl": [
           {
            "marker": {
             "colorbar": {
              "outlinewidth": 0,
              "ticks": ""
             }
            },
            "type": "scatterpolargl"
           }
          ],
          "scatterternary": [
           {
            "marker": {
             "colorbar": {
              "outlinewidth": 0,
              "ticks": ""
             }
            },
            "type": "scatterternary"
           }
          ],
          "surface": [
           {
            "colorbar": {
             "outlinewidth": 0,
             "ticks": ""
            },
            "colorscale": [
             [
              0,
              "#0d0887"
             ],
             [
              0.1111111111111111,
              "#46039f"
             ],
             [
              0.2222222222222222,
              "#7201a8"
             ],
             [
              0.3333333333333333,
              "#9c179e"
             ],
             [
              0.4444444444444444,
              "#bd3786"
             ],
             [
              0.5555555555555556,
              "#d8576b"
             ],
             [
              0.6666666666666666,
              "#ed7953"
             ],
             [
              0.7777777777777778,
              "#fb9f3a"
             ],
             [
              0.8888888888888888,
              "#fdca26"
             ],
             [
              1,
              "#f0f921"
             ]
            ],
            "type": "surface"
           }
          ],
          "table": [
           {
            "cells": {
             "fill": {
              "color": "#506784"
             },
             "line": {
              "color": "rgb(17,17,17)"
             }
            },
            "header": {
             "fill": {
              "color": "#2a3f5f"
             },
             "line": {
              "color": "rgb(17,17,17)"
             }
            },
            "type": "table"
           }
          ]
         },
         "layout": {
          "annotationdefaults": {
           "arrowcolor": "#f2f5fa",
           "arrowhead": 0,
           "arrowwidth": 1
          },
          "autotypenumbers": "strict",
          "coloraxis": {
           "colorbar": {
            "outlinewidth": 0,
            "ticks": ""
           }
          },
          "colorscale": {
           "diverging": [
            [
             0,
             "#8e0152"
            ],
            [
             0.1,
             "#c51b7d"
            ],
            [
             0.2,
             "#de77ae"
            ],
            [
             0.3,
             "#f1b6da"
            ],
            [
             0.4,
             "#fde0ef"
            ],
            [
             0.5,
             "#f7f7f7"
            ],
            [
             0.6,
             "#e6f5d0"
            ],
            [
             0.7,
             "#b8e186"
            ],
            [
             0.8,
             "#7fbc41"
            ],
            [
             0.9,
             "#4d9221"
            ],
            [
             1,
             "#276419"
            ]
           ],
           "sequential": [
            [
             0,
             "#0d0887"
            ],
            [
             0.1111111111111111,
             "#46039f"
            ],
            [
             0.2222222222222222,
             "#7201a8"
            ],
            [
             0.3333333333333333,
             "#9c179e"
            ],
            [
             0.4444444444444444,
             "#bd3786"
            ],
            [
             0.5555555555555556,
             "#d8576b"
            ],
            [
             0.6666666666666666,
             "#ed7953"
            ],
            [
             0.7777777777777778,
             "#fb9f3a"
            ],
            [
             0.8888888888888888,
             "#fdca26"
            ],
            [
             1,
             "#f0f921"
            ]
           ],
           "sequentialminus": [
            [
             0,
             "#0d0887"
            ],
            [
             0.1111111111111111,
             "#46039f"
            ],
            [
             0.2222222222222222,
             "#7201a8"
            ],
            [
             0.3333333333333333,
             "#9c179e"
            ],
            [
             0.4444444444444444,
             "#bd3786"
            ],
            [
             0.5555555555555556,
             "#d8576b"
            ],
            [
             0.6666666666666666,
             "#ed7953"
            ],
            [
             0.7777777777777778,
             "#fb9f3a"
            ],
            [
             0.8888888888888888,
             "#fdca26"
            ],
            [
             1,
             "#f0f921"
            ]
           ]
          },
          "colorway": [
           "#636efa",
           "#EF553B",
           "#00cc96",
           "#ab63fa",
           "#FFA15A",
           "#19d3f3",
           "#FF6692",
           "#B6E880",
           "#FF97FF",
           "#FECB52"
          ],
          "font": {
           "color": "#f2f5fa"
          },
          "geo": {
           "bgcolor": "rgb(17,17,17)",
           "lakecolor": "rgb(17,17,17)",
           "landcolor": "rgb(17,17,17)",
           "showlakes": true,
           "showland": true,
           "subunitcolor": "#506784"
          },
          "hoverlabel": {
           "align": "left"
          },
          "hovermode": "closest",
          "mapbox": {
           "style": "dark"
          },
          "paper_bgcolor": "rgb(17,17,17)",
          "plot_bgcolor": "rgb(17,17,17)",
          "polar": {
           "angularaxis": {
            "gridcolor": "#506784",
            "linecolor": "#506784",
            "ticks": ""
           },
           "bgcolor": "rgb(17,17,17)",
           "radialaxis": {
            "gridcolor": "#506784",
            "linecolor": "#506784",
            "ticks": ""
           }
          },
          "scene": {
           "xaxis": {
            "backgroundcolor": "rgb(17,17,17)",
            "gridcolor": "#506784",
            "gridwidth": 2,
            "linecolor": "#506784",
            "showbackground": true,
            "ticks": "",
            "zerolinecolor": "#C8D4E3"
           },
           "yaxis": {
            "backgroundcolor": "rgb(17,17,17)",
            "gridcolor": "#506784",
            "gridwidth": 2,
            "linecolor": "#506784",
            "showbackground": true,
            "ticks": "",
            "zerolinecolor": "#C8D4E3"
           },
           "zaxis": {
            "backgroundcolor": "rgb(17,17,17)",
            "gridcolor": "#506784",
            "gridwidth": 2,
            "linecolor": "#506784",
            "showbackground": true,
            "ticks": "",
            "zerolinecolor": "#C8D4E3"
           }
          },
          "shapedefaults": {
           "line": {
            "color": "#f2f5fa"
           }
          },
          "sliderdefaults": {
           "bgcolor": "#C8D4E3",
           "bordercolor": "rgb(17,17,17)",
           "borderwidth": 1,
           "tickwidth": 0
          },
          "ternary": {
           "aaxis": {
            "gridcolor": "#506784",
            "linecolor": "#506784",
            "ticks": ""
           },
           "baxis": {
            "gridcolor": "#506784",
            "linecolor": "#506784",
            "ticks": ""
           },
           "bgcolor": "rgb(17,17,17)",
           "caxis": {
            "gridcolor": "#506784",
            "linecolor": "#506784",
            "ticks": ""
           }
          },
          "title": {
           "x": 0.05
          },
          "updatemenudefaults": {
           "bgcolor": "#506784",
           "borderwidth": 0
          },
          "xaxis": {
           "automargin": true,
           "gridcolor": "#283442",
           "linecolor": "#506784",
           "ticks": "",
           "title": {
            "standoff": 15
           },
           "zerolinecolor": "#283442",
           "zerolinewidth": 2
          },
          "yaxis": {
           "automargin": true,
           "gridcolor": "#283442",
           "linecolor": "#506784",
           "ticks": "",
           "title": {
            "standoff": 15
           },
           "zerolinecolor": "#283442",
           "zerolinewidth": 2
          }
         }
        },
        "title": {
         "text": "Elbow Method for PCA Analysis"
        },
        "xaxis": {
         "tickmode": "linear",
         "title": {
          "text": "Number of Principal Components"
         }
        },
        "yaxis": {
         "tickformat": ".0%",
         "title": {
          "text": "Cumulative Variance Explained"
         }
        }
       }
      }
     },
     "metadata": {},
     "output_type": "display_data"
    }
   ],
   "source": [
    "pca.fit(df_fundamentals_final.select_dtypes(include=['int', 'float64', 'number']))\n",
    "variance_explained = pca.explained_variance_ratio_\n",
    "cumulative_variance = np.cumsum(variance_explained)\n",
    "\n",
    "fig = go.Figure()\n",
    "fig.add_trace(go.Scatter(x=np.arange(1, len(variance_explained) + 1), y=cumulative_variance, mode='lines+markers', line=dict(color='rgb(100, 195, 181)'), name='Cumulative Variance Explained'))\n",
    "fig.update_layout(title='Elbow Method for PCA Analysis', xaxis_title='Number of Principal Components', yaxis_title='Cumulative Variance Explained', xaxis=dict(tickmode='linear'), yaxis=dict(tickformat='.0%'), template='plotly_dark', font=dict(color='white')) \n",
    "fig.show()"
   ]
  },
  {
   "cell_type": "markdown",
   "metadata": {},
   "source": [
    "**`Scree Plot Analysis`**:\n",
    "  - The plot indicates that the first principal component explains just over 85% of the variance.\n",
    "  - Upon adding the second component, the explained variance increases to around 90%.\n",
    "  - The third component brings the cumulative explained variance to approximately 95%.\n",
    "  - Adding the fourth and fifth components does not significantly increase the explained variance, as it remains close to 100%.\n",
    "\n",
    "**`Elbow Method Observation`**:\n",
    "  - The \"elbow\" in the graph seems to occur at the third component, which is where the rate of increase in explained variance significantly tapers off.\n",
    "  - This suggests that most of the variability in the data can be captured by the first three components.\n",
    "\n",
    "**`Implications for Dimensionality Reduction`**:\n",
    "  - For dimensionality reduction, it would be reasonable to choose three principal components since they explain the majority of the variance.\n",
    "  - Choosing more than three components may not add substantial information and could lead to overfitting in a predictive model.\n",
    "\n",
    "**`Recommendation for Quantitative Analysis`**:\n",
    "  - In a quantitative trading context, this could imply that a model can be sufficiently informed with three aggregated metrics derived from the original variables, thus simplifying the model and potentially increasing computational efficiency.\n",
    "\n",
    "**`Considerations for Trading Models`**:\n",
    "  - It's essential to consider the nature of the financial data and market conditions when deciding on the number of components to use.\n",
    "  - A qualitative review of what each principal component represents in terms of financial metrics should be performed to ensure that important information is not omitted from the model.\n"
   ]
  },
  {
   "cell_type": "markdown",
   "metadata": {},
   "source": [
    "#### Selecting the Ideal Number of Clusters"
   ]
  },
  {
   "cell_type": "code",
   "execution_count": 26,
   "metadata": {},
   "outputs": [],
   "source": [
    "n_components = 4"
   ]
  },
  {
   "cell_type": "markdown",
   "metadata": {},
   "source": [
    "- Based on the analyses conducted so far, I am choosing to work with 4 components"
   ]
  },
  {
   "cell_type": "code",
   "execution_count": 27,
   "metadata": {},
   "outputs": [
    {
     "data": {
      "application/vnd.plotly.v1+json": {
       "config": {
        "plotlyServerURL": "https://plot.ly"
       },
       "data": [
        {
         "mode": "lines+markers",
         "name": "Silhouette Score",
         "type": "scatter",
         "x": [
          2,
          3,
          4,
          5,
          6,
          7,
          8,
          9
         ],
         "y": [
          1.6207024176336362,
          1.6838260294353058,
          -0.10899746780608713,
          -0.12389023079312794,
          -0.4324531077216186,
          -0.9146617980637753,
          -0.8520709504800775,
          -0.8724548922042553
         ]
        },
        {
         "mode": "lines+markers",
         "name": "Distortions",
         "type": "scatter",
         "x": [
          2,
          3,
          4,
          5,
          6,
          7,
          8,
          9
         ],
         "y": [
          2.2086852719246006,
          0.7762528616566191,
          0.22124768435383968,
          -0.18836371044813469,
          -0.4586463186416447,
          -0.6958113674990322,
          -0.8862066623333241,
          -0.9771577590129245
         ]
        }
       ],
       "layout": {
        "font": {
         "color": "white"
        },
        "template": {
         "data": {
          "bar": [
           {
            "error_x": {
             "color": "#f2f5fa"
            },
            "error_y": {
             "color": "#f2f5fa"
            },
            "marker": {
             "line": {
              "color": "rgb(17,17,17)",
              "width": 0.5
             },
             "pattern": {
              "fillmode": "overlay",
              "size": 10,
              "solidity": 0.2
             }
            },
            "type": "bar"
           }
          ],
          "barpolar": [
           {
            "marker": {
             "line": {
              "color": "rgb(17,17,17)",
              "width": 0.5
             },
             "pattern": {
              "fillmode": "overlay",
              "size": 10,
              "solidity": 0.2
             }
            },
            "type": "barpolar"
           }
          ],
          "carpet": [
           {
            "aaxis": {
             "endlinecolor": "#A2B1C6",
             "gridcolor": "#506784",
             "linecolor": "#506784",
             "minorgridcolor": "#506784",
             "startlinecolor": "#A2B1C6"
            },
            "baxis": {
             "endlinecolor": "#A2B1C6",
             "gridcolor": "#506784",
             "linecolor": "#506784",
             "minorgridcolor": "#506784",
             "startlinecolor": "#A2B1C6"
            },
            "type": "carpet"
           }
          ],
          "choropleth": [
           {
            "colorbar": {
             "outlinewidth": 0,
             "ticks": ""
            },
            "type": "choropleth"
           }
          ],
          "contour": [
           {
            "colorbar": {
             "outlinewidth": 0,
             "ticks": ""
            },
            "colorscale": [
             [
              0,
              "#0d0887"
             ],
             [
              0.1111111111111111,
              "#46039f"
             ],
             [
              0.2222222222222222,
              "#7201a8"
             ],
             [
              0.3333333333333333,
              "#9c179e"
             ],
             [
              0.4444444444444444,
              "#bd3786"
             ],
             [
              0.5555555555555556,
              "#d8576b"
             ],
             [
              0.6666666666666666,
              "#ed7953"
             ],
             [
              0.7777777777777778,
              "#fb9f3a"
             ],
             [
              0.8888888888888888,
              "#fdca26"
             ],
             [
              1,
              "#f0f921"
             ]
            ],
            "type": "contour"
           }
          ],
          "contourcarpet": [
           {
            "colorbar": {
             "outlinewidth": 0,
             "ticks": ""
            },
            "type": "contourcarpet"
           }
          ],
          "heatmap": [
           {
            "colorbar": {
             "outlinewidth": 0,
             "ticks": ""
            },
            "colorscale": [
             [
              0,
              "#0d0887"
             ],
             [
              0.1111111111111111,
              "#46039f"
             ],
             [
              0.2222222222222222,
              "#7201a8"
             ],
             [
              0.3333333333333333,
              "#9c179e"
             ],
             [
              0.4444444444444444,
              "#bd3786"
             ],
             [
              0.5555555555555556,
              "#d8576b"
             ],
             [
              0.6666666666666666,
              "#ed7953"
             ],
             [
              0.7777777777777778,
              "#fb9f3a"
             ],
             [
              0.8888888888888888,
              "#fdca26"
             ],
             [
              1,
              "#f0f921"
             ]
            ],
            "type": "heatmap"
           }
          ],
          "heatmapgl": [
           {
            "colorbar": {
             "outlinewidth": 0,
             "ticks": ""
            },
            "colorscale": [
             [
              0,
              "#0d0887"
             ],
             [
              0.1111111111111111,
              "#46039f"
             ],
             [
              0.2222222222222222,
              "#7201a8"
             ],
             [
              0.3333333333333333,
              "#9c179e"
             ],
             [
              0.4444444444444444,
              "#bd3786"
             ],
             [
              0.5555555555555556,
              "#d8576b"
             ],
             [
              0.6666666666666666,
              "#ed7953"
             ],
             [
              0.7777777777777778,
              "#fb9f3a"
             ],
             [
              0.8888888888888888,
              "#fdca26"
             ],
             [
              1,
              "#f0f921"
             ]
            ],
            "type": "heatmapgl"
           }
          ],
          "histogram": [
           {
            "marker": {
             "pattern": {
              "fillmode": "overlay",
              "size": 10,
              "solidity": 0.2
             }
            },
            "type": "histogram"
           }
          ],
          "histogram2d": [
           {
            "colorbar": {
             "outlinewidth": 0,
             "ticks": ""
            },
            "colorscale": [
             [
              0,
              "#0d0887"
             ],
             [
              0.1111111111111111,
              "#46039f"
             ],
             [
              0.2222222222222222,
              "#7201a8"
             ],
             [
              0.3333333333333333,
              "#9c179e"
             ],
             [
              0.4444444444444444,
              "#bd3786"
             ],
             [
              0.5555555555555556,
              "#d8576b"
             ],
             [
              0.6666666666666666,
              "#ed7953"
             ],
             [
              0.7777777777777778,
              "#fb9f3a"
             ],
             [
              0.8888888888888888,
              "#fdca26"
             ],
             [
              1,
              "#f0f921"
             ]
            ],
            "type": "histogram2d"
           }
          ],
          "histogram2dcontour": [
           {
            "colorbar": {
             "outlinewidth": 0,
             "ticks": ""
            },
            "colorscale": [
             [
              0,
              "#0d0887"
             ],
             [
              0.1111111111111111,
              "#46039f"
             ],
             [
              0.2222222222222222,
              "#7201a8"
             ],
             [
              0.3333333333333333,
              "#9c179e"
             ],
             [
              0.4444444444444444,
              "#bd3786"
             ],
             [
              0.5555555555555556,
              "#d8576b"
             ],
             [
              0.6666666666666666,
              "#ed7953"
             ],
             [
              0.7777777777777778,
              "#fb9f3a"
             ],
             [
              0.8888888888888888,
              "#fdca26"
             ],
             [
              1,
              "#f0f921"
             ]
            ],
            "type": "histogram2dcontour"
           }
          ],
          "mesh3d": [
           {
            "colorbar": {
             "outlinewidth": 0,
             "ticks": ""
            },
            "type": "mesh3d"
           }
          ],
          "parcoords": [
           {
            "line": {
             "colorbar": {
              "outlinewidth": 0,
              "ticks": ""
             }
            },
            "type": "parcoords"
           }
          ],
          "pie": [
           {
            "automargin": true,
            "type": "pie"
           }
          ],
          "scatter": [
           {
            "marker": {
             "line": {
              "color": "#283442"
             }
            },
            "type": "scatter"
           }
          ],
          "scatter3d": [
           {
            "line": {
             "colorbar": {
              "outlinewidth": 0,
              "ticks": ""
             }
            },
            "marker": {
             "colorbar": {
              "outlinewidth": 0,
              "ticks": ""
             }
            },
            "type": "scatter3d"
           }
          ],
          "scattercarpet": [
           {
            "marker": {
             "colorbar": {
              "outlinewidth": 0,
              "ticks": ""
             }
            },
            "type": "scattercarpet"
           }
          ],
          "scattergeo": [
           {
            "marker": {
             "colorbar": {
              "outlinewidth": 0,
              "ticks": ""
             }
            },
            "type": "scattergeo"
           }
          ],
          "scattergl": [
           {
            "marker": {
             "line": {
              "color": "#283442"
             }
            },
            "type": "scattergl"
           }
          ],
          "scattermapbox": [
           {
            "marker": {
             "colorbar": {
              "outlinewidth": 0,
              "ticks": ""
             }
            },
            "type": "scattermapbox"
           }
          ],
          "scatterpolar": [
           {
            "marker": {
             "colorbar": {
              "outlinewidth": 0,
              "ticks": ""
             }
            },
            "type": "scatterpolar"
           }
          ],
          "scatterpolargl": [
           {
            "marker": {
             "colorbar": {
              "outlinewidth": 0,
              "ticks": ""
             }
            },
            "type": "scatterpolargl"
           }
          ],
          "scatterternary": [
           {
            "marker": {
             "colorbar": {
              "outlinewidth": 0,
              "ticks": ""
             }
            },
            "type": "scatterternary"
           }
          ],
          "surface": [
           {
            "colorbar": {
             "outlinewidth": 0,
             "ticks": ""
            },
            "colorscale": [
             [
              0,
              "#0d0887"
             ],
             [
              0.1111111111111111,
              "#46039f"
             ],
             [
              0.2222222222222222,
              "#7201a8"
             ],
             [
              0.3333333333333333,
              "#9c179e"
             ],
             [
              0.4444444444444444,
              "#bd3786"
             ],
             [
              0.5555555555555556,
              "#d8576b"
             ],
             [
              0.6666666666666666,
              "#ed7953"
             ],
             [
              0.7777777777777778,
              "#fb9f3a"
             ],
             [
              0.8888888888888888,
              "#fdca26"
             ],
             [
              1,
              "#f0f921"
             ]
            ],
            "type": "surface"
           }
          ],
          "table": [
           {
            "cells": {
             "fill": {
              "color": "#506784"
             },
             "line": {
              "color": "rgb(17,17,17)"
             }
            },
            "header": {
             "fill": {
              "color": "#2a3f5f"
             },
             "line": {
              "color": "rgb(17,17,17)"
             }
            },
            "type": "table"
           }
          ]
         },
         "layout": {
          "annotationdefaults": {
           "arrowcolor": "#f2f5fa",
           "arrowhead": 0,
           "arrowwidth": 1
          },
          "autotypenumbers": "strict",
          "coloraxis": {
           "colorbar": {
            "outlinewidth": 0,
            "ticks": ""
           }
          },
          "colorscale": {
           "diverging": [
            [
             0,
             "#8e0152"
            ],
            [
             0.1,
             "#c51b7d"
            ],
            [
             0.2,
             "#de77ae"
            ],
            [
             0.3,
             "#f1b6da"
            ],
            [
             0.4,
             "#fde0ef"
            ],
            [
             0.5,
             "#f7f7f7"
            ],
            [
             0.6,
             "#e6f5d0"
            ],
            [
             0.7,
             "#b8e186"
            ],
            [
             0.8,
             "#7fbc41"
            ],
            [
             0.9,
             "#4d9221"
            ],
            [
             1,
             "#276419"
            ]
           ],
           "sequential": [
            [
             0,
             "#0d0887"
            ],
            [
             0.1111111111111111,
             "#46039f"
            ],
            [
             0.2222222222222222,
             "#7201a8"
            ],
            [
             0.3333333333333333,
             "#9c179e"
            ],
            [
             0.4444444444444444,
             "#bd3786"
            ],
            [
             0.5555555555555556,
             "#d8576b"
            ],
            [
             0.6666666666666666,
             "#ed7953"
            ],
            [
             0.7777777777777778,
             "#fb9f3a"
            ],
            [
             0.8888888888888888,
             "#fdca26"
            ],
            [
             1,
             "#f0f921"
            ]
           ],
           "sequentialminus": [
            [
             0,
             "#0d0887"
            ],
            [
             0.1111111111111111,
             "#46039f"
            ],
            [
             0.2222222222222222,
             "#7201a8"
            ],
            [
             0.3333333333333333,
             "#9c179e"
            ],
            [
             0.4444444444444444,
             "#bd3786"
            ],
            [
             0.5555555555555556,
             "#d8576b"
            ],
            [
             0.6666666666666666,
             "#ed7953"
            ],
            [
             0.7777777777777778,
             "#fb9f3a"
            ],
            [
             0.8888888888888888,
             "#fdca26"
            ],
            [
             1,
             "#f0f921"
            ]
           ]
          },
          "colorway": [
           "#636efa",
           "#EF553B",
           "#00cc96",
           "#ab63fa",
           "#FFA15A",
           "#19d3f3",
           "#FF6692",
           "#B6E880",
           "#FF97FF",
           "#FECB52"
          ],
          "font": {
           "color": "#f2f5fa"
          },
          "geo": {
           "bgcolor": "rgb(17,17,17)",
           "lakecolor": "rgb(17,17,17)",
           "landcolor": "rgb(17,17,17)",
           "showlakes": true,
           "showland": true,
           "subunitcolor": "#506784"
          },
          "hoverlabel": {
           "align": "left"
          },
          "hovermode": "closest",
          "mapbox": {
           "style": "dark"
          },
          "paper_bgcolor": "rgb(17,17,17)",
          "plot_bgcolor": "rgb(17,17,17)",
          "polar": {
           "angularaxis": {
            "gridcolor": "#506784",
            "linecolor": "#506784",
            "ticks": ""
           },
           "bgcolor": "rgb(17,17,17)",
           "radialaxis": {
            "gridcolor": "#506784",
            "linecolor": "#506784",
            "ticks": ""
           }
          },
          "scene": {
           "xaxis": {
            "backgroundcolor": "rgb(17,17,17)",
            "gridcolor": "#506784",
            "gridwidth": 2,
            "linecolor": "#506784",
            "showbackground": true,
            "ticks": "",
            "zerolinecolor": "#C8D4E3"
           },
           "yaxis": {
            "backgroundcolor": "rgb(17,17,17)",
            "gridcolor": "#506784",
            "gridwidth": 2,
            "linecolor": "#506784",
            "showbackground": true,
            "ticks": "",
            "zerolinecolor": "#C8D4E3"
           },
           "zaxis": {
            "backgroundcolor": "rgb(17,17,17)",
            "gridcolor": "#506784",
            "gridwidth": 2,
            "linecolor": "#506784",
            "showbackground": true,
            "ticks": "",
            "zerolinecolor": "#C8D4E3"
           }
          },
          "shapedefaults": {
           "line": {
            "color": "#f2f5fa"
           }
          },
          "sliderdefaults": {
           "bgcolor": "#C8D4E3",
           "bordercolor": "rgb(17,17,17)",
           "borderwidth": 1,
           "tickwidth": 0
          },
          "ternary": {
           "aaxis": {
            "gridcolor": "#506784",
            "linecolor": "#506784",
            "ticks": ""
           },
           "baxis": {
            "gridcolor": "#506784",
            "linecolor": "#506784",
            "ticks": ""
           },
           "bgcolor": "rgb(17,17,17)",
           "caxis": {
            "gridcolor": "#506784",
            "linecolor": "#506784",
            "ticks": ""
           }
          },
          "title": {
           "x": 0.05
          },
          "updatemenudefaults": {
           "bgcolor": "#506784",
           "borderwidth": 0
          },
          "xaxis": {
           "automargin": true,
           "gridcolor": "#283442",
           "linecolor": "#506784",
           "ticks": "",
           "title": {
            "standoff": 15
           },
           "zerolinecolor": "#283442",
           "zerolinewidth": 2
          },
          "yaxis": {
           "automargin": true,
           "gridcolor": "#283442",
           "linecolor": "#506784",
           "ticks": "",
           "title": {
            "standoff": 15
           },
           "zerolinecolor": "#283442",
           "zerolinewidth": 2
          }
         }
        },
        "title": {
         "text": "Elbow Method for Determining the Optimal Number of Clusters (Normalized)"
        },
        "xaxis": {
         "title": {
          "text": "Number of clusters"
         }
        },
        "yaxis": {
         "title": {
          "text": "Silhouette Score / Distortions (Normalized)"
         }
        }
       }
      }
     },
     "metadata": {},
     "output_type": "display_data"
    }
   ],
   "source": [
    "pca = PCA(n_components)\n",
    "principal_components = pca.fit_transform(df_fundamentals_final.select_dtypes(include=['int', 'float64', 'number']))\n",
    "range_num_clusters = list(range(2, 10))\n",
    "silhouette_scores = []\n",
    "distortions = []\n",
    "\n",
    "for num_cluster in range_num_clusters:\n",
    "\n",
    "    kmeans = KMeans(n_clusters=num_cluster, max_iter=10_000, random_state=19051992)\n",
    "    cluster_labels = kmeans.fit_predict(principal_components)\n",
    "    silhouette_scores.append(sil_score(principal_components, cluster_labels))\n",
    "\n",
    "    distortions.append(KMeans(n_clusters=num_cluster, max_iter=10_000, random_state=19051992).fit(df_fundamentals_final.select_dtypes(include=['int', 'float64', 'number'])).inertia_)\n",
    "\n",
    "scaler = StandardScaler()\n",
    "silhouette_scores_scaled = scaler.fit_transform(np.array(silhouette_scores).reshape(-1, 1)).flatten()\n",
    "distortions_scaled = scaler.fit_transform(np.array(distortions).reshape(-1, 1)).flatten()\n",
    "\n",
    "fig = go.Figure()\n",
    "fig.add_trace(go.Scatter(x=range_num_clusters, y=silhouette_scores_scaled, mode='lines+markers', name='Silhouette Score'))\n",
    "fig.add_trace(go.Scatter(x=range_num_clusters, y=distortions_scaled, mode='lines+markers', name='Distortions'))\n",
    "fig.update_layout(title='Elbow Method for Determining the Optimal Number of Clusters (Normalized)', xaxis_title='Number of clusters', yaxis_title='Silhouette Score / Distortions (Normalized)', template='plotly_dark', font=dict(color='white'))\n",
    "fig.show()"
   ]
  },
  {
   "cell_type": "markdown",
   "metadata": {},
   "source": [
    "**`Elbow Method for Optimal Clusters`**:\n",
    "\n",
    "  - The graph plots two lines representing normalized silhouette scores and distortions against the number of clusters.\n",
    "  - The silhouette score measures how similar an object is to its own cluster compared to other clusters. A higher silhouette score indicates better-defined clusters.\n",
    "  - Distortions typically represent the within-cluster sum of squares and decrease with increasing number of clusters.\n",
    "\n",
    "**`Silhouette Score Analysis`**:\n",
    "\n",
    "  - The silhouette score starts high at **2 clusters** and decreases as more clusters are added, with noticeable changes up to **4 clusters**.\n",
    "  - The score stabilizes after five clusters, suggesting limited improvement in cluster definition beyond this point.\n",
    "  - Based on the visualization of cluster distributions, we prefer to proceed with **5 clusters** as the data points appear more tightly grouped compared to **4 clusters**, indicating better cohesion within clusters.\n",
    "\n",
    "**`Distortion Analysis`**:\n",
    "\n",
    "  - The distortions decrease rapidly as the number of clusters increases from **2** to **4**, suggesting significant improvement in the compactness of clusters.\n",
    "  - There is an \"elbow\" at three clusters where the rate of decrease sharply changes, indicating that adding more clusters beyond this point yields diminishing returns in terms of reduced distortions.\n",
    "\n",
    "**`Optimal Number of Clusters`**:\n",
    "\n",
    "  - Considering both metrics, **3 clusters** could be the optimal number for this particular clustering scenario.\n",
    "  - However, the elbow at **3 clusters** for distortions and the relatively high silhouette score at this point suggest that **3 clusters** provide a good balance between cluster compactness and separation."
   ]
  },
  {
   "cell_type": "markdown",
   "metadata": {},
   "source": [
    "#### Running Model (Kmeans)"
   ]
  },
  {
   "cell_type": "code",
   "execution_count": 28,
   "metadata": {},
   "outputs": [
    {
     "data": {
      "application/vnd.plotly.v1+json": {
       "config": {
        "plotlyServerURL": "https://plot.ly"
       },
       "data": [
        {
         "hovertemplate": "PC1=%{x}<br>PC2=%{y}<br>cluster=%{marker.color}<extra></extra>",
         "legendgroup": "",
         "marker": {
          "color": [
           0,
           0,
           4,
           0,
           0,
           0,
           0,
           7,
           0,
           3,
           1,
           1,
           0,
           0,
           4,
           0,
           4,
           4,
           0,
           0,
           0,
           0,
           4,
           4,
           0,
           0,
           0,
           0,
           0,
           4,
           4,
           0,
           4,
           0,
           0,
           4,
           0,
           4,
           0,
           0,
           0,
           0,
           0,
           4,
           4,
           0,
           4,
           4,
           0,
           0,
           0,
           0,
           0,
           0,
           0,
           0,
           0,
           0,
           0,
           4,
           4,
           4,
           4,
           0,
           0,
           0,
           0,
           4,
           0,
           0,
           0,
           0,
           4,
           4,
           5,
           5,
           8,
           0,
           0,
           0,
           0,
           4,
           0,
           0,
           0,
           0,
           0,
           0,
           0,
           0,
           0,
           0,
           0,
           4,
           0,
           0,
           0,
           0,
           0,
           0,
           2,
           2,
           0,
           0,
           0,
           0,
           0,
           0,
           0,
           0,
           0,
           0,
           0,
           0,
           0,
           0,
           0,
           4,
           0,
           0,
           4,
           0,
           0,
           0,
           0,
           0,
           0,
           4,
           0,
           0,
           0,
           0,
           0,
           0,
           0,
           0,
           4,
           0,
           0,
           0,
           0,
           7,
           0,
           4,
           0,
           4,
           0,
           0,
           0,
           0,
           0,
           0,
           0,
           4,
           0,
           0,
           4,
           0,
           0,
           0,
           0,
           0,
           0,
           0,
           0,
           0,
           0,
           0,
           0,
           0,
           0,
           0,
           0,
           0,
           0,
           0,
           0,
           0,
           0,
           0,
           0,
           0,
           0,
           0,
           0,
           0,
           0,
           0,
           0,
           0,
           0,
           0,
           0,
           0,
           0,
           0,
           0,
           0,
           0,
           0,
           0,
           0,
           0,
           0,
           0,
           0,
           0,
           0,
           0,
           0,
           0,
           4,
           0,
           0,
           0,
           0,
           0,
           0,
           0,
           0,
           4,
           0,
           0,
           0,
           0,
           0,
           0,
           0,
           0,
           0,
           0,
           0,
           0,
           0,
           0,
           0,
           0,
           0,
           0,
           0,
           0,
           0,
           0,
           0,
           0,
           0,
           0,
           0,
           0,
           0,
           0,
           0,
           0,
           0,
           0,
           0,
           0,
           0,
           0,
           0,
           0,
           4,
           4,
           0,
           0,
           4,
           0,
           0,
           0,
           0,
           0,
           0,
           0,
           0,
           6,
           0,
           0,
           0,
           0,
           6,
           0,
           0,
           0,
           0,
           0,
           0,
           1,
           0,
           0,
           0,
           0
          ],
          "coloraxis": "coloraxis",
          "symbol": "circle"
         },
         "mode": "markers",
         "name": "",
         "orientation": "v",
         "showlegend": false,
         "type": "scatter",
         "x": [
          -25570247153.694115,
          -49862686105.16019,
          12751062519.267775,
          -45713389503.80613,
          -45756674748.325905,
          -31777193860.78563,
          -50772640707.77188,
          132029278681.38655,
          -44596406242.217316,
          1423175866177.326,
          904820045913.9713,
          915912303008.7789,
          -25314079790.849724,
          -19167836296.533154,
          10956895723.673685,
          -52719759096.1712,
          47382852726.88906,
          47451282787.48144,
          -51403725512.30328,
          -27666802979.936935,
          -11189370297.231249,
          -10733445210.882656,
          14327139682.08406,
          17698505722.68039,
          -52522290360.70036,
          -45003113917.984245,
          -24742385304.91801,
          -52550193347.693825,
          -30238564190.35066,
          -1919238628.814881,
          -6470900163.425703,
          -40101553888.70554,
          29157196279.38123,
          -7306205443.678695,
          -6529224365.270084,
          79168811672.60434,
          -40590210882.2929,
          28082835793.90315,
          -50255015929.100494,
          -39963267421.641014,
          -24469558318.70752,
          -48540120830.76752,
          -26327521598.253273,
          102299411496.94098,
          107696378976.00275,
          -15982229578.907091,
          12172958734.069485,
          47933492170.68644,
          -39876688669.28784,
          -52427890760.201645,
          -50309562860.271324,
          -50180960726.2563,
          -49659271495.578995,
          -49033344215.759735,
          -51391128435.75578,
          -50504273008.2312,
          -39146062867.655235,
          -50397802801.08881,
          -49850241036.50157,
          9771480168.277712,
          11394307430.852222,
          7882487586.115664,
          7944175038.30601,
          -8417769039.537899,
          -48333029560.40582,
          -50315928244.386856,
          -49342693538.6567,
          -2363353018.6384616,
          -19288632756.52193,
          -50899568342.779144,
          -51559430985.0692,
          -51578716182.35003,
          38345987525.74223,
          37485087634.478546,
          1222170888850.8264,
          1246349141280.9922,
          210399939103.85056,
          -52289795110.46648,
          -45546760122.59049,
          -41406513307.63282,
          -51260020220.50056,
          12067204538.42907,
          -47334838386.96402,
          -32915253712.450966,
          -47217154139.49498,
          -53013092068.47281,
          -33671123103.611885,
          -52980724572.26615,
          -37943666116.3686,
          -52057174440.28305,
          -21401192848.96232,
          -49508194373.33038,
          -2657000812.575716,
          75220196503.54848,
          -36603990519.90233,
          -36716140759.85873,
          -40236281170.482994,
          -47929652796.4044,
          -43481292499.75359,
          -49076278825.716835,
          926688976338.8545,
          903092752409.1527,
          -48981452168.96676,
          -45443511520.69621,
          -52567621794.9064,
          -47692668704.3902,
          -45312235509.94002,
          -44671713480.50867,
          -49755519365.35342,
          -36490749322.565544,
          -49883431412.91318,
          -52427055937.7884,
          -47198190189.43245,
          -49241772847.14945,
          -39986464432.46811,
          -39650489493.83177,
          -51944257424.21851,
          51214750707.42717,
          -53183076920.698204,
          -52292039421.60819,
          14154763365.883482,
          -49206121235.8607,
          -51153213284.346306,
          -52922446258.95074,
          -33681166096.274906,
          -53179808109.37451,
          -28104411589.637535,
          4258116161.594414,
          -52088392708.80234,
          -52888058619.550545,
          -52381598767.81644,
          -51495642299.40114,
          -38041674896.84929,
          -50451465480.765144,
          -51000179895.5583,
          -26043591562.477623,
          10208569261.022219,
          -44513164870.00169,
          -44194019253.06814,
          -30876174891.728085,
          -30950293059.15119,
          345923949362.60706,
          -53155721182.031136,
          47846729510.73365,
          -50686831416.55831,
          67420740020.425224,
          -26768209565.009785,
          -44996290144.63609,
          -52559211110.3162,
          -46091880422.054146,
          -39125983195.57293,
          -50522012086.14105,
          -36295881671.157005,
          347190364.39988875,
          -53091162068.61094,
          -43330374652.415474,
          -1104134017.8243697,
          -49905795685.974846,
          -43346429535.961845,
          -50652643125.85343,
          -52726426854.26353,
          -53201124899.92124,
          -49340453305.93702,
          -48153992697.15364,
          -49619385582.55696,
          -51671671590.717545,
          -43173276429.71018,
          -52306106464.90977,
          -44862936052.55514,
          -50108552391.1696,
          -53240239163.44039,
          -37880633061.07975,
          -56290462044.3102,
          -52234719263.80847,
          -27587934045.463177,
          -52839297560.806564,
          -52986099456.28669,
          -52455010194.092445,
          -53151449210.78873,
          -52986499796.80357,
          -52845328524.40335,
          -32127219855.069504,
          -31961018435.923733,
          -53388760461.06296,
          -50145391976.087265,
          -50227649284.140305,
          -53188844068.711586,
          -53211820870.1405,
          -53252570207.315186,
          -34433553028.93212,
          -52018792357.88609,
          -42828003963.78529,
          -42828535602.87295,
          -38394296397.239204,
          -40712617576.938774,
          -20958980852.66377,
          -20163580037.680077,
          -25347820710.72452,
          -56287723474.63461,
          -52185188458.61488,
          -52224572263.27697,
          -44948072888.1819,
          -52273228095.218094,
          -50126852720.14736,
          -52985914804.91892,
          -52997511397.451096,
          -52656936372.3583,
          -53240105367.02692,
          -52886825730.985725,
          -37173593911.63793,
          -51774306339.5227,
          22190900449.268482,
          -32661408673.576862,
          -53087644559.0819,
          -48267261121.14017,
          -53260625700.925934,
          -52560434729.19985,
          -53250659665.90312,
          -51007623301.95668,
          -50925265975.08261,
          12146043410.619492,
          -52418581231.71731,
          -53097540973.17787,
          -52775915483.8748,
          -53104467472.692085,
          -52502182097.05124,
          -49561188966.41184,
          -48222670873.55434,
          -53115013427.484726,
          -53165925887.7761,
          -21401735633.01406,
          -52770265828.84427,
          -52780435991.942604,
          -51826535280.252266,
          -51622047343.21673,
          -53167022359.219955,
          -53181279697.22155,
          -53182374591.57509,
          -52082479207.88015,
          -23019801605.467033,
          -43774110369.77402,
          -23262042338.549732,
          -48471103624.51476,
          -44831504153.76167,
          -50168126953.731155,
          -52884832274.76929,
          -53344754595.427536,
          -52486687000.68408,
          -52516740332.8315,
          -50377144844.74824,
          -51840591821.899254,
          -52776876434.46251,
          -26138354172.394615,
          -51397522731.83765,
          -51400181546.35746,
          -12241255742.682814,
          -49920764020.62316,
          -49440232869.4508,
          -49634128786.226814,
          -37966659424.53609,
          -42271710406.74373,
          129487924581.08714,
          41966807948.41342,
          -52764991873.53228,
          -52803122323.55552,
          -4147329927.857271,
          -33831226526.680088,
          -26241991238.01165,
          -26218488419.570526,
          -48450502540.734055,
          -33849026770.881634,
          -52986279770.55311,
          -53097214352.21038,
          -53145573728.99778,
          242905277376.83383,
          -52892905748.27164,
          -53251865037.13736,
          -51934003260.947174,
          -52811609162.5971,
          225515561903.8705,
          -52930279961.512825,
          -53295146087.44083,
          -32270936345.092476,
          -52997084493.5787,
          -53200044211.3033,
          -52891592660.69473,
          904820045914.0137,
          -29095289565.5688,
          -46685145746.92734,
          -45674492465.75543,
          -35589999531.6901
         ],
         "xaxis": "x",
         "y": [
          -16197667880.190676,
          -8158019081.785896,
          11942225024.376652,
          -4692508601.442989,
          -4695302930.033518,
          -2436413602.762517,
          -9181057726.235085,
          170327723291.27954,
          -3342571215.702665,
          -227785984264.31436,
          -200499145930.05786,
          -196484514874.23996,
          4270267728.8537173,
          -3257323439.412541,
          21918772116.834465,
          -9486037808.56159,
          20251250569.941677,
          20258253426.5423,
          -10390303666.803173,
          -16378466397.468649,
          -15406902106.185225,
          -15246561068.17439,
          28469856795.654396,
          2491384129.6722827,
          -9291584859.016203,
          -7546980394.056092,
          7672793653.340059,
          -9329171662.066156,
          1488532405.3678086,
          27537758931.05809,
          25884653109.277107,
          -5500319101.508172,
          31168763646.260468,
          10384591298.265099,
          10801520869.580133,
          12732598605.850418,
          -2885233258.317736,
          9324287305.857338,
          -9816948422.800592,
          -4540505629.108148,
          -2603201267.132457,
          -7533607742.124513,
          -7705667234.315058,
          38457296031.5769,
          40382852594.740105,
          3945871355.4812217,
          7044721337.490392,
          16326593556.344957,
          -5428724803.546438,
          -8995911996.898062,
          -7892206733.111179,
          -8127125825.76287,
          -7851277769.789889,
          -5713131739.427416,
          -6742697154.12705,
          -7400635174.394373,
          -3253024298.2299156,
          -9315627476.425129,
          -9908486579.997313,
          60867950334.67954,
          61483538501.64011,
          51692053793.11797,
          51755467735.1087,
          3894203209.5935473,
          -5142561604.680636,
          -10692828301.233614,
          -9982760863.78192,
          17477293670.971386,
          4890754788.890256,
          -8822532975.913795,
          -10364646998.013836,
          -10373186814.048077,
          40758044771.04175,
          40546269663.45042,
          -249536910122.58005,
          -240746073098.09332,
          196358893523.53375,
          -10272212137.09713,
          -8353139199.924305,
          -6414921078.967731,
          -7828821566.498346,
          8054327171.248357,
          -4004196689.16279,
          -5772655543.5123205,
          -6891924856.58818,
          -9785829043.259287,
          4381208929.987223,
          -10017614116.21001,
          2576326794.658157,
          -9669371611.30097,
          16120862914.838408,
          -8011814866.133121,
          -1302371515.4449875,
          53270405231.99759,
          -6918424546.252708,
          -435075965.00093436,
          -1844716583.6355038,
          -4724994744.512148,
          -12480363637.156584,
          -11109835818.89311,
          675853653822.0398,
          667075944539.9043,
          -4984126649.098352,
          -11547006656.288153,
          -9517334131.733719,
          -10715144651.137058,
          -4306267407.652734,
          -4036938229.1681285,
          -7483562375.753308,
          18042162377.735275,
          -8877946282.58356,
          -9310781911.441843,
          -7165947687.154607,
          -9576737137.432983,
          -2854090284.4884696,
          -2703619139.013745,
          -9782883052.591488,
          22407002463.288734,
          -10071296504.594952,
          -10320894163.878746,
          25181246678.028847,
          -9345344510.610582,
          -9937154872.505068,
          -9794923534.21821,
          -2765566112.4157696,
          -10044629880.981524,
          -1660753940.3492618,
          10695086896.206547,
          -9984132116.953138,
          -9725422787.841238,
          -10127213588.314447,
          -8180407396.253128,
          976198182.7264299,
          -9962325892.557709,
          -9361504287.36053,
          755488448.9448073,
          79357277458.96205,
          -1636746601.3558834,
          -1502040132.8311253,
          10362942136.449608,
          10356104927.793177,
          294233018154.9063,
          -9974797108.713205,
          67094956975.69495,
          -8136997307.130887,
          92187226556.00946,
          -16110913396.271133,
          -5635238616.777486,
          -9331202374.870216,
          -3546153346.1800156,
          -4411198676.87997,
          -7407312514.841781,
          -6306388908.544833,
          36410430550.559044,
          -9808056552.711636,
          -8924953813.04283,
          35237373752.11642,
          -8914253878.655216,
          -2176083542.3855586,
          -8406022449.428912,
          -9827767237.09358,
          -9921852343.506742,
          -6819268080.383274,
          -6058707461.411139,
          -7728816638.555503,
          -8888310919.204176,
          -4813856849.739208,
          -9197348275.214851,
          -589880352.566226,
          -7859391795.3017845,
          -10009790707.589983,
          -3334533611.1459017,
          -10717970769.545282,
          -7121767395.368756,
          -16355916904.254343,
          -9579618123.246943,
          -9663695993.186338,
          -9845586602.778282,
          -9880487667.58365,
          -9794103779.087559,
          -10165873242.611639,
          -12218292805.263306,
          -12167545394.977722,
          -10310882169.497202,
          -8415136391.099693,
          -8444631080.878352,
          -9964229051.320614,
          -9972442359.043417,
          -10026023806.96721,
          -4455106979.211898,
          -8987879208.131685,
          -19910516658.33664,
          -19910706678.91595,
          -13155662262.394634,
          -4739119778.468686,
          991057918.0657309,
          1276204475.1142957,
          7463000919.858983,
          -10714130940.685486,
          -8910146033.146954,
          -8929865756.327293,
          -5749870015.784299,
          -9793530016.420418,
          -9772458271.23372,
          -9990860303.560472,
          -9994196105.950153,
          -9409050913.697155,
          -10012520789.209995,
          -9688273851.555506,
          -2352751182.761195,
          -8860886637.477015,
          10356901976.16907,
          633151508.6107953,
          -9917339809.494305,
          -5421232421.895873,
          -10044163817.918459,
          -9810768231.164585,
          -9968221526.430555,
          -9090069441.949919,
          -9059255699.545519,
          8099465336.900807,
          -9545384287.275225,
          -9756385440.70204,
          -9285795273.448011,
          -9880398005.736044,
          -9677282590.151608,
          -6658247619.699773,
          -8124647613.381331,
          -9905232988.103773,
          -9923029159.598991,
          2268364988.754097,
          -9669845662.264431,
          -9673481241.878681,
          -8099430805.527026,
          -8029527044.8178005,
          -10040059492.4749,
          -9901462471.098467,
          -9901853816.45201,
          -9125020106.467463,
          1811101162.0934465,
          -1368872780.2295768,
          13065814856.665522,
          -5581399669.392414,
          -597097990.7294433,
          -9124805718.667797,
          -9709026523.02356,
          -10295496715.428352,
          -9310329006.351065,
          -9288675979.191875,
          -7672427425.094716,
          -8796152577.771513,
          -9672208777.976315,
          -6778631857.737991,
          -10114478535.663412,
          -10116993721.087769,
          -5168480646.958129,
          -8453735401.094349,
          -4233067822.5260816,
          -7734086368.9708605,
          -3383389966.6105375,
          -4916011158.4934,
          35005558954.133835,
          15614764577.763275,
          -10040175264.284338,
          -9813562154.422102,
          17291846774.398964,
          -7048377929.285143,
          -6084954683.657274,
          -6059670488.897262,
          -9591041596.499432,
          -7048061475.815382,
          -9664628335.077799,
          -9672154157.258278,
          -9878387352.579153,
          -92535487236.67244,
          -9690447391.873892,
          -10040685462.552626,
          -8829543523.97323,
          -9787891046.838999,
          -98023063444.61807,
          -9298886353.029926,
          -10056790485.442627,
          772735689.8623855,
          -9814717149.835894,
          -9980195596.368645,
          -9605726570.307049,
          -200499145929.9491,
          -4940023264.425077,
          -5043268390.319155,
          -6188679584.646425,
          -12102975188.946867
         ],
         "yaxis": "y"
        }
       ],
       "layout": {
        "coloraxis": {
         "colorbar": {
          "title": {
           "text": "cluster"
          }
         },
         "colorscale": [
          [
           0,
           "rgb(229, 134, 6)"
          ],
          [
           0.1,
           "rgb(93, 105, 177)"
          ],
          [
           0.2,
           "rgb(82, 188, 163)"
          ],
          [
           0.3,
           "rgb(153, 201, 69)"
          ],
          [
           0.4,
           "rgb(204, 97, 176)"
          ],
          [
           0.5,
           "rgb(36, 121, 108)"
          ],
          [
           0.6,
           "rgb(218, 165, 27)"
          ],
          [
           0.7,
           "rgb(47, 138, 196)"
          ],
          [
           0.8,
           "rgb(118, 78, 159)"
          ],
          [
           0.9,
           "rgb(237, 100, 90)"
          ],
          [
           1,
           "rgb(165, 170, 153)"
          ]
         ]
        },
        "font": {
         "color": "white"
        },
        "legend": {
         "tracegroupgap": 0
        },
        "template": {
         "data": {
          "bar": [
           {
            "error_x": {
             "color": "#f2f5fa"
            },
            "error_y": {
             "color": "#f2f5fa"
            },
            "marker": {
             "line": {
              "color": "rgb(17,17,17)",
              "width": 0.5
             },
             "pattern": {
              "fillmode": "overlay",
              "size": 10,
              "solidity": 0.2
             }
            },
            "type": "bar"
           }
          ],
          "barpolar": [
           {
            "marker": {
             "line": {
              "color": "rgb(17,17,17)",
              "width": 0.5
             },
             "pattern": {
              "fillmode": "overlay",
              "size": 10,
              "solidity": 0.2
             }
            },
            "type": "barpolar"
           }
          ],
          "carpet": [
           {
            "aaxis": {
             "endlinecolor": "#A2B1C6",
             "gridcolor": "#506784",
             "linecolor": "#506784",
             "minorgridcolor": "#506784",
             "startlinecolor": "#A2B1C6"
            },
            "baxis": {
             "endlinecolor": "#A2B1C6",
             "gridcolor": "#506784",
             "linecolor": "#506784",
             "minorgridcolor": "#506784",
             "startlinecolor": "#A2B1C6"
            },
            "type": "carpet"
           }
          ],
          "choropleth": [
           {
            "colorbar": {
             "outlinewidth": 0,
             "ticks": ""
            },
            "type": "choropleth"
           }
          ],
          "contour": [
           {
            "colorbar": {
             "outlinewidth": 0,
             "ticks": ""
            },
            "colorscale": [
             [
              0,
              "#0d0887"
             ],
             [
              0.1111111111111111,
              "#46039f"
             ],
             [
              0.2222222222222222,
              "#7201a8"
             ],
             [
              0.3333333333333333,
              "#9c179e"
             ],
             [
              0.4444444444444444,
              "#bd3786"
             ],
             [
              0.5555555555555556,
              "#d8576b"
             ],
             [
              0.6666666666666666,
              "#ed7953"
             ],
             [
              0.7777777777777778,
              "#fb9f3a"
             ],
             [
              0.8888888888888888,
              "#fdca26"
             ],
             [
              1,
              "#f0f921"
             ]
            ],
            "type": "contour"
           }
          ],
          "contourcarpet": [
           {
            "colorbar": {
             "outlinewidth": 0,
             "ticks": ""
            },
            "type": "contourcarpet"
           }
          ],
          "heatmap": [
           {
            "colorbar": {
             "outlinewidth": 0,
             "ticks": ""
            },
            "colorscale": [
             [
              0,
              "#0d0887"
             ],
             [
              0.1111111111111111,
              "#46039f"
             ],
             [
              0.2222222222222222,
              "#7201a8"
             ],
             [
              0.3333333333333333,
              "#9c179e"
             ],
             [
              0.4444444444444444,
              "#bd3786"
             ],
             [
              0.5555555555555556,
              "#d8576b"
             ],
             [
              0.6666666666666666,
              "#ed7953"
             ],
             [
              0.7777777777777778,
              "#fb9f3a"
             ],
             [
              0.8888888888888888,
              "#fdca26"
             ],
             [
              1,
              "#f0f921"
             ]
            ],
            "type": "heatmap"
           }
          ],
          "heatmapgl": [
           {
            "colorbar": {
             "outlinewidth": 0,
             "ticks": ""
            },
            "colorscale": [
             [
              0,
              "#0d0887"
             ],
             [
              0.1111111111111111,
              "#46039f"
             ],
             [
              0.2222222222222222,
              "#7201a8"
             ],
             [
              0.3333333333333333,
              "#9c179e"
             ],
             [
              0.4444444444444444,
              "#bd3786"
             ],
             [
              0.5555555555555556,
              "#d8576b"
             ],
             [
              0.6666666666666666,
              "#ed7953"
             ],
             [
              0.7777777777777778,
              "#fb9f3a"
             ],
             [
              0.8888888888888888,
              "#fdca26"
             ],
             [
              1,
              "#f0f921"
             ]
            ],
            "type": "heatmapgl"
           }
          ],
          "histogram": [
           {
            "marker": {
             "pattern": {
              "fillmode": "overlay",
              "size": 10,
              "solidity": 0.2
             }
            },
            "type": "histogram"
           }
          ],
          "histogram2d": [
           {
            "colorbar": {
             "outlinewidth": 0,
             "ticks": ""
            },
            "colorscale": [
             [
              0,
              "#0d0887"
             ],
             [
              0.1111111111111111,
              "#46039f"
             ],
             [
              0.2222222222222222,
              "#7201a8"
             ],
             [
              0.3333333333333333,
              "#9c179e"
             ],
             [
              0.4444444444444444,
              "#bd3786"
             ],
             [
              0.5555555555555556,
              "#d8576b"
             ],
             [
              0.6666666666666666,
              "#ed7953"
             ],
             [
              0.7777777777777778,
              "#fb9f3a"
             ],
             [
              0.8888888888888888,
              "#fdca26"
             ],
             [
              1,
              "#f0f921"
             ]
            ],
            "type": "histogram2d"
           }
          ],
          "histogram2dcontour": [
           {
            "colorbar": {
             "outlinewidth": 0,
             "ticks": ""
            },
            "colorscale": [
             [
              0,
              "#0d0887"
             ],
             [
              0.1111111111111111,
              "#46039f"
             ],
             [
              0.2222222222222222,
              "#7201a8"
             ],
             [
              0.3333333333333333,
              "#9c179e"
             ],
             [
              0.4444444444444444,
              "#bd3786"
             ],
             [
              0.5555555555555556,
              "#d8576b"
             ],
             [
              0.6666666666666666,
              "#ed7953"
             ],
             [
              0.7777777777777778,
              "#fb9f3a"
             ],
             [
              0.8888888888888888,
              "#fdca26"
             ],
             [
              1,
              "#f0f921"
             ]
            ],
            "type": "histogram2dcontour"
           }
          ],
          "mesh3d": [
           {
            "colorbar": {
             "outlinewidth": 0,
             "ticks": ""
            },
            "type": "mesh3d"
           }
          ],
          "parcoords": [
           {
            "line": {
             "colorbar": {
              "outlinewidth": 0,
              "ticks": ""
             }
            },
            "type": "parcoords"
           }
          ],
          "pie": [
           {
            "automargin": true,
            "type": "pie"
           }
          ],
          "scatter": [
           {
            "marker": {
             "line": {
              "color": "#283442"
             }
            },
            "type": "scatter"
           }
          ],
          "scatter3d": [
           {
            "line": {
             "colorbar": {
              "outlinewidth": 0,
              "ticks": ""
             }
            },
            "marker": {
             "colorbar": {
              "outlinewidth": 0,
              "ticks": ""
             }
            },
            "type": "scatter3d"
           }
          ],
          "scattercarpet": [
           {
            "marker": {
             "colorbar": {
              "outlinewidth": 0,
              "ticks": ""
             }
            },
            "type": "scattercarpet"
           }
          ],
          "scattergeo": [
           {
            "marker": {
             "colorbar": {
              "outlinewidth": 0,
              "ticks": ""
             }
            },
            "type": "scattergeo"
           }
          ],
          "scattergl": [
           {
            "marker": {
             "line": {
              "color": "#283442"
             }
            },
            "type": "scattergl"
           }
          ],
          "scattermapbox": [
           {
            "marker": {
             "colorbar": {
              "outlinewidth": 0,
              "ticks": ""
             }
            },
            "type": "scattermapbox"
           }
          ],
          "scatterpolar": [
           {
            "marker": {
             "colorbar": {
              "outlinewidth": 0,
              "ticks": ""
             }
            },
            "type": "scatterpolar"
           }
          ],
          "scatterpolargl": [
           {
            "marker": {
             "colorbar": {
              "outlinewidth": 0,
              "ticks": ""
             }
            },
            "type": "scatterpolargl"
           }
          ],
          "scatterternary": [
           {
            "marker": {
             "colorbar": {
              "outlinewidth": 0,
              "ticks": ""
             }
            },
            "type": "scatterternary"
           }
          ],
          "surface": [
           {
            "colorbar": {
             "outlinewidth": 0,
             "ticks": ""
            },
            "colorscale": [
             [
              0,
              "#0d0887"
             ],
             [
              0.1111111111111111,
              "#46039f"
             ],
             [
              0.2222222222222222,
              "#7201a8"
             ],
             [
              0.3333333333333333,
              "#9c179e"
             ],
             [
              0.4444444444444444,
              "#bd3786"
             ],
             [
              0.5555555555555556,
              "#d8576b"
             ],
             [
              0.6666666666666666,
              "#ed7953"
             ],
             [
              0.7777777777777778,
              "#fb9f3a"
             ],
             [
              0.8888888888888888,
              "#fdca26"
             ],
             [
              1,
              "#f0f921"
             ]
            ],
            "type": "surface"
           }
          ],
          "table": [
           {
            "cells": {
             "fill": {
              "color": "#506784"
             },
             "line": {
              "color": "rgb(17,17,17)"
             }
            },
            "header": {
             "fill": {
              "color": "#2a3f5f"
             },
             "line": {
              "color": "rgb(17,17,17)"
             }
            },
            "type": "table"
           }
          ]
         },
         "layout": {
          "annotationdefaults": {
           "arrowcolor": "#f2f5fa",
           "arrowhead": 0,
           "arrowwidth": 1
          },
          "autotypenumbers": "strict",
          "coloraxis": {
           "colorbar": {
            "outlinewidth": 0,
            "ticks": ""
           }
          },
          "colorscale": {
           "diverging": [
            [
             0,
             "#8e0152"
            ],
            [
             0.1,
             "#c51b7d"
            ],
            [
             0.2,
             "#de77ae"
            ],
            [
             0.3,
             "#f1b6da"
            ],
            [
             0.4,
             "#fde0ef"
            ],
            [
             0.5,
             "#f7f7f7"
            ],
            [
             0.6,
             "#e6f5d0"
            ],
            [
             0.7,
             "#b8e186"
            ],
            [
             0.8,
             "#7fbc41"
            ],
            [
             0.9,
             "#4d9221"
            ],
            [
             1,
             "#276419"
            ]
           ],
           "sequential": [
            [
             0,
             "#0d0887"
            ],
            [
             0.1111111111111111,
             "#46039f"
            ],
            [
             0.2222222222222222,
             "#7201a8"
            ],
            [
             0.3333333333333333,
             "#9c179e"
            ],
            [
             0.4444444444444444,
             "#bd3786"
            ],
            [
             0.5555555555555556,
             "#d8576b"
            ],
            [
             0.6666666666666666,
             "#ed7953"
            ],
            [
             0.7777777777777778,
             "#fb9f3a"
            ],
            [
             0.8888888888888888,
             "#fdca26"
            ],
            [
             1,
             "#f0f921"
            ]
           ],
           "sequentialminus": [
            [
             0,
             "#0d0887"
            ],
            [
             0.1111111111111111,
             "#46039f"
            ],
            [
             0.2222222222222222,
             "#7201a8"
            ],
            [
             0.3333333333333333,
             "#9c179e"
            ],
            [
             0.4444444444444444,
             "#bd3786"
            ],
            [
             0.5555555555555556,
             "#d8576b"
            ],
            [
             0.6666666666666666,
             "#ed7953"
            ],
            [
             0.7777777777777778,
             "#fb9f3a"
            ],
            [
             0.8888888888888888,
             "#fdca26"
            ],
            [
             1,
             "#f0f921"
            ]
           ]
          },
          "colorway": [
           "#636efa",
           "#EF553B",
           "#00cc96",
           "#ab63fa",
           "#FFA15A",
           "#19d3f3",
           "#FF6692",
           "#B6E880",
           "#FF97FF",
           "#FECB52"
          ],
          "font": {
           "color": "#f2f5fa"
          },
          "geo": {
           "bgcolor": "rgb(17,17,17)",
           "lakecolor": "rgb(17,17,17)",
           "landcolor": "rgb(17,17,17)",
           "showlakes": true,
           "showland": true,
           "subunitcolor": "#506784"
          },
          "hoverlabel": {
           "align": "left"
          },
          "hovermode": "closest",
          "mapbox": {
           "style": "dark"
          },
          "paper_bgcolor": "rgb(17,17,17)",
          "plot_bgcolor": "rgb(17,17,17)",
          "polar": {
           "angularaxis": {
            "gridcolor": "#506784",
            "linecolor": "#506784",
            "ticks": ""
           },
           "bgcolor": "rgb(17,17,17)",
           "radialaxis": {
            "gridcolor": "#506784",
            "linecolor": "#506784",
            "ticks": ""
           }
          },
          "scene": {
           "xaxis": {
            "backgroundcolor": "rgb(17,17,17)",
            "gridcolor": "#506784",
            "gridwidth": 2,
            "linecolor": "#506784",
            "showbackground": true,
            "ticks": "",
            "zerolinecolor": "#C8D4E3"
           },
           "yaxis": {
            "backgroundcolor": "rgb(17,17,17)",
            "gridcolor": "#506784",
            "gridwidth": 2,
            "linecolor": "#506784",
            "showbackground": true,
            "ticks": "",
            "zerolinecolor": "#C8D4E3"
           },
           "zaxis": {
            "backgroundcolor": "rgb(17,17,17)",
            "gridcolor": "#506784",
            "gridwidth": 2,
            "linecolor": "#506784",
            "showbackground": true,
            "ticks": "",
            "zerolinecolor": "#C8D4E3"
           }
          },
          "shapedefaults": {
           "line": {
            "color": "#f2f5fa"
           }
          },
          "sliderdefaults": {
           "bgcolor": "#C8D4E3",
           "bordercolor": "rgb(17,17,17)",
           "borderwidth": 1,
           "tickwidth": 0
          },
          "ternary": {
           "aaxis": {
            "gridcolor": "#506784",
            "linecolor": "#506784",
            "ticks": ""
           },
           "baxis": {
            "gridcolor": "#506784",
            "linecolor": "#506784",
            "ticks": ""
           },
           "bgcolor": "rgb(17,17,17)",
           "caxis": {
            "gridcolor": "#506784",
            "linecolor": "#506784",
            "ticks": ""
           }
          },
          "title": {
           "x": 0.05
          },
          "updatemenudefaults": {
           "bgcolor": "#506784",
           "borderwidth": 0
          },
          "xaxis": {
           "automargin": true,
           "gridcolor": "#283442",
           "linecolor": "#506784",
           "ticks": "",
           "title": {
            "standoff": 15
           },
           "zerolinecolor": "#283442",
           "zerolinewidth": 2
          },
          "yaxis": {
           "automargin": true,
           "gridcolor": "#283442",
           "linecolor": "#506784",
           "ticks": "",
           "title": {
            "standoff": 15
           },
           "zerolinecolor": "#283442",
           "zerolinewidth": 2
          }
         }
        },
        "title": {
         "text": "Visualization of Clusters with PCA"
        },
        "xaxis": {
         "anchor": "y",
         "domain": [
          0,
          1
         ],
         "title": {
          "text": "PC1"
         }
        },
        "yaxis": {
         "anchor": "x",
         "domain": [
          0,
          1
         ],
         "title": {
          "text": "PC2"
         }
        }
       }
      }
     },
     "metadata": {},
     "output_type": "display_data"
    }
   ],
   "source": [
    "df_pca = pd.DataFrame(principal_components[:, :2], columns=['PC1', 'PC2'])\n",
    "df_pca['cluster'] = cluster_labels\n",
    "\n",
    "fig = px.scatter(df_pca, x='PC1', y='PC2', color='cluster', title='Visualization of Clusters with PCA', color_continuous_scale=px.colors.qualitative.Vivid)\n",
    "fig.update_layout(template='plotly_dark', font=dict(color='white'))\n",
    "fig.show()\n"
   ]
  },
  {
   "cell_type": "code",
   "execution_count": 29,
   "metadata": {},
   "outputs": [],
   "source": [
    "def calcular_coesao(X, labels, centroids):\n",
    "    coesao = 0\n",
    "    for i in range(len(centroids)):\n",
    "        cluster_points = X[labels == i]\n",
    "        coesao += np.sum((cluster_points - centroids[i])**2)\n",
    "    return coesao\n",
    "\n",
    "def calcular_separacao(centroids):\n",
    "    separacao = 0\n",
    "    for i in range(len(centroids)):\n",
    "        for j in range(i+1, len(centroids)):\n",
    "            separacao += np.sum((centroids[i] - centroids[j])**2)\n",
    "    return separacao"
   ]
  },
  {
   "cell_type": "code",
   "execution_count": 30,
   "metadata": {},
   "outputs": [
    {
     "data": {
      "application/vnd.plotly.v1+json": {
       "config": {
        "plotlyServerURL": "https://plot.ly"
       },
       "data": [
        {
         "marker": {
          "color": "rgb(229, 134, 6)"
         },
         "mode": "markers",
         "name": "Cluster 0",
         "type": "scatter",
         "x": [
          -1.2765135765075684,
          3.6289474964141846,
          3.590632677078247,
          7.248490810394287,
          -1.353803277015686,
          4.22789192199707,
          8.266947746276855,
          7.172321319580078,
          4.829420566558838,
          4.832578182220459,
          -0.47670674324035645,
          6.935074329376221,
          6.572798252105713,
          3.288087844848633,
          4.864053249359131,
          2.157841920852661,
          5.036538124084473,
          -0.9949406385421753,
          8.192939758300781,
          1.2565808296203613,
          -0.6763498783111572,
          -1.7968772649765015,
          -0.2726515829563141,
          2.3174052238464355,
          2.1579391956329346,
          -0.4222906231880188,
          4.888070583343506,
          7.671460151672363,
          3.0392818450927734,
          6.848176956176758,
          -1.9128139019012451,
          2.4631874561309814,
          -0.7148511409759521,
          3.7815208435058594,
          4.256659507751465,
          0.44948509335517883,
          6.275634288787842,
          5.929961681365967,
          8.803619384765625,
          -1.0308681726455688,
          8.498541831970215,
          6.23710298538208,
          5.126679420471191,
          3.715747833251953,
          3.280679225921631,
          3.10740327835083,
          3.268734931945801,
          0.4585937261581421,
          8.26667308807373,
          0.960816502571106,
          4.021834373474121,
          4.021195411682129,
          5.8084211349487305,
          6.540315628051758,
          -1.331566572189331,
          5.585716724395752,
          6.676934242248535,
          4.520025253295898,
          4.684917449951172,
          8.33542537689209,
          8.333290100097656,
          -1.40469229221344,
          4.126697063446045,
          3.7228567600250244,
          3.0035765171051025,
          -0.4633203446865082,
          4.164828777313232,
          -1.0569345951080322,
          1.282731294631958,
          2.160200595855713,
          -0.4672228991985321,
          -3.4997313022613525,
          3.1558926105499268,
          -3.0953266620635986,
          4.659905433654785,
          -1.1290462017059326,
          4.966235637664795,
          1.8659350872039795,
          2.588331460952759,
          6.451182842254639,
          6.585213661193848,
          6.883652210235596,
          -2.532345771789551,
          -2.6791889667510986,
          1.6090059280395508,
          5.516712665557861,
          -2.248771905899048,
          6.095553874969482,
          2.695173740386963,
          -1.5473284721374512,
          -1.6796149015426636,
          0.8525003790855408,
          -1.8437309265136719,
          6.618947505950928,
          -1.1001147031784058,
          -0.9542190432548523,
          -2.763514518737793,
          6.999406337738037,
          4.902406692504883,
          8.631841659545898,
          2.943603038787842,
          4.6606574058532715,
          -3.547191619873047,
          0.41932472586631775,
          -1.8500452041625977,
          4.362823009490967,
          4.89863920211792,
          -1.9929229021072388,
          3.706066608428955,
          -0.4829626977443695,
          4.92457389831543,
          3.7692458629608154,
          8.574125289916992,
          8.798267364501953,
          8.785574913024902,
          8.572153091430664,
          -1.8282568454742432,
          6.159467697143555,
          8.921969413757324,
          4.037869930267334,
          1.9943692684173584
         ],
         "y": [
          4.06352424621582,
          4.897164821624756,
          4.874927520751953,
          7.941680908203125,
          -3.6996889114379883,
          5.02145528793335,
          -1.1902178525924683,
          -5.789349555969238,
          -7.797114372253418,
          -7.796518325805664,
          -3.030473470687866,
          1.9165085554122925,
          3.9102671146392822,
          -3.9339866638183594,
          4.363138198852539,
          5.540935039520264,
          -5.219660758972168,
          3.1398770809173584,
          -0.7241239547729492,
          3.484454870223999,
          -1.1560328006744385,
          -0.3996683955192566,
          5.107736587524414,
          5.19079065322876,
          -2.500638008117676,
          1.905684232711792,
          5.99848747253418,
          -5.044196128845215,
          5.821117877960205,
          9.012147903442383,
          -3.3927977085113525,
          -4.060768127441406,
          2.5945205688476562,
          4.303271293640137,
          -5.012186050415039,
          4.39024543762207,
          1.9310716390609741,
          2.564685106277466,
          -1.0559661388397217,
          4.198733329772949,
          -5.648029804229736,
          8.057787895202637,
          -2.1203339099884033,
          5.847524642944336,
          -2.527961492538452,
          2.8518753051757812,
          3.3557448387145996,
          -2.46651291847229,
          -0.24927328526973724,
          5.918238162994385,
          -1.9897459745407104,
          -1.986008644104004,
          5.4589762687683105,
          7.463852405548096,
          2.132159948348999,
          8.050555229187012,
          8.334665298461914,
          2.9698877334594727,
          3.114201068878174,
          -0.8769937753677368,
          -0.875113308429718,
          0.3332047462463379,
          6.649184703826904,
          -1.6765815019607544,
          -3.7287955284118652,
          1.8396954536437988,
          -1.403072476387024,
          4.6659135818481445,
          6.410390853881836,
          4.634799480438232,
          3.8185250759124756,
          1.5245420932769775,
          -1.8793919086456299,
          3.6677114963531494,
          0.07776995748281479,
          1.438305139541626,
          5.181105136871338,
          -2.488576889038086,
          -3.613065481185913,
          -4.946473121643066,
          -4.995362281799316,
          1.8691495656967163,
          2.9666895866394043,
          2.8346385955810547,
          3.7817087173461914,
          4.356070041656494,
          4.004393100738525,
          7.478174686431885,
          5.29649019241333,
          -2.8857009410858154,
          -2.8676140308380127,
          -1.9250876903533936,
          3.9155969619750977,
          -4.38203763961792,
          -0.28978079557418823,
          0.11250266432762146,
          3.7821309566497803,
          8.727500915527344,
          3.2730870246887207,
          -0.7939010858535767,
          4.903026580810547,
          0.050448328256607056,
          4.072719097137451,
          5.349132061004639,
          -1.242181658744812,
          -5.480143070220947,
          -7.64769983291626,
          -1.9592430591583252,
          -0.302952378988266,
          3.793565273284912,
          5.124978065490723,
          -2.4240496158599854,
          6.728990077972412,
          7.538069725036621,
          7.545506477355957,
          6.72715950012207,
          -1.3001289367675781,
          7.575421333312988,
          6.8377814292907715,
          6.178848743438721,
          -2.7969770431518555
         ]
        },
        {
         "marker": {
          "color": "rgb(93, 105, 177)"
         },
         "mode": "markers",
         "name": "Cluster 1",
         "type": "scatter",
         "x": [
          25.755741119384766,
          25.850114822387695,
          28.575132369995117,
          28.807458877563477,
          28.804365158081055,
          25.626144409179688,
          26.82972526550293,
          26.83139419555664,
          24.922666549682617,
          28.110254287719727,
          23.793195724487305,
          23.37963104248047,
          26.204818725585938,
          22.572690963745117,
          22.72929573059082,
          27.981307983398438,
          27.378631591796875,
          27.466955184936523,
          27.493213653564453,
          26.99320411682129,
          27.63181495666504,
          24.426591873168945,
          24.647891998291016,
          24.776758193969727,
          24.922405242919922,
          24.2333984375,
          25.970043182373047,
          25.65146255493164,
          29.149112701416016,
          29.11573028564453,
          26.077247619628906,
          26.800657272338867,
          26.256574630737305,
          26.78228759765625,
          26.745439529418945,
          27.231508255004883,
          25.262571334838867,
          24.938669204711914,
          25.03609275817871,
          26.493019104003906,
          25.70403289794922,
          25.449068069458008,
          24.03148078918457,
          24.323238372802734,
          27.346181869506836,
          26.8916015625,
          27.896276473999023,
          27.54118537902832,
          23.38665771484375,
          29.94428253173828,
          29.978515625,
          28.807458877563477
         ],
         "y": [
          3.690828323364258,
          2.5003793239593506,
          1.5967578887939453,
          0.5545351505279541,
          1.0347061157226562,
          -1.0686511993408203,
          -0.8943003416061401,
          -0.8860854506492615,
          3.4137346744537354,
          2.3028223514556885,
          0.6479277014732361,
          0.3411301374435425,
          1.3233410120010376,
          1.1147427558898926,
          1.2098615169525146,
          0.8348245620727539,
          -0.5308986902236938,
          2.054788589477539,
          2.118911027908325,
          0.2966819405555725,
          1.2642847299575806,
          -0.2713692784309387,
          -0.10171262919902802,
          -0.8081621527671814,
          -0.7068464159965515,
          3.371711015701294,
          3.3786022663116455,
          3.297285795211792,
          1.1772090196609497,
          1.5542198419570923,
          -0.5067020654678345,
          2.368067979812622,
          -0.9627292156219482,
          1.1412756443023682,
          1.065732717514038,
          2.6050121784210205,
          2.445923089981079,
          3.6194679737091064,
          -1.2383637428283691,
          1.8077600002288818,
          1.9816350936889648,
          2.817868947982788,
          1.9446078538894653,
          2.9929113388061523,
          1.2590805292129517,
          2.5979204177856445,
          1.5316866636276245,
          0.17615756392478943,
          1.2943437099456787,
          0.9572551846504211,
          0.8580737113952637,
          0.5545351505279541
         ]
        },
        {
         "marker": {
          "color": "rgb(82, 188, 163)"
         },
         "mode": "markers",
         "name": "Cluster 2",
         "type": "scatter",
         "x": [
          -12.735634803771973,
          -7.735039234161377,
          -13.663056373596191,
          -9.080073356628418,
          -3.387469530105591,
          -5.4799017906188965,
          -11.703807830810547,
          -14.429363250732422,
          -3.503587245941162,
          -2.8966333866119385,
          -12.77880573272705,
          -14.18028736114502,
          -13.573253631591797,
          -14.309356689453125,
          -14.2520112991333,
          -13.421847343444824,
          -15.814488410949707,
          -8.465160369873047,
          -11.73514461517334,
          -4.516956329345703,
          -11.466944694519043,
          -14.222821235656738,
          -14.239543914794922,
          -14.253451347351074,
          -4.256636142730713,
          -13.702635765075684,
          -2.6752402782440186,
          -5.2469635009765625,
          -10.312939643859863,
          -11.630423545837402,
          -11.519638061523438,
          -13.88541316986084,
          -15.511397361755371,
          -11.024271011352539,
          -7.624013423919678,
          -10.875801086425781,
          -12.206632614135742,
          -7.559292793273926,
          -12.714960098266602,
          -13.190254211425781,
          -7.369060516357422,
          -9.850468635559082,
          -9.092623710632324,
          -5.462215423583984,
          -15.907294273376465,
          -8.115338325500488,
          -12.6451997756958,
          -3.693331241607666,
          -9.572211265563965,
          -9.35074234008789,
          -10.182547569274902,
          -7.422299385070801,
          -9.081013679504395,
          -4.250630855560303,
          -6.201715469360352,
          -12.014984130859375,
          -8.59546947479248,
          -8.625752449035645,
          -12.69387435913086,
          -14.35356616973877,
          -14.365691184997559,
          -6.162503719329834,
          -6.083670616149902,
          -6.095310688018799,
          -10.391105651855469,
          -10.138226509094238,
          -7.520543098449707,
          -7.259743690490723,
          -2.7932755947113037,
          -8.837584495544434,
          -8.837581634521484,
          -7.887327671051025,
          -7.422070026397705,
          -10.400091171264648,
          -11.951373100280762,
          -11.345237731933594,
          -11.038856506347656,
          -5.910402774810791,
          -10.791905403137207,
          -6.748319149017334,
          -9.907203674316406,
          -10.300189971923828,
          -10.09579849243164,
          -9.650083541870117,
          -4.828701019287109,
          -7.113804817199707,
          -4.825783729553223,
          -8.638150215148926,
          -7.99743127822876,
          -9.796904563903809,
          -9.497213363647461,
          -8.4520902633667,
          -8.228996276855469,
          -11.110297203063965,
          -9.02530574798584,
          -9.021126747131348,
          -13.977893829345703,
          -8.868069648742676,
          -6.158604621887207,
          -3.3995630741119385,
          -8.406383514404297,
          -14.09795093536377,
          -14.062944412231445,
          -12.009357452392578,
          -9.236462593078613,
          -15.820003509521484,
          -6.190456390380859,
          -6.416028022766113,
          -8.575706481933594,
          -6.823845863342285,
          -10.39003849029541,
          -7.618018627166748,
          -5.946166515350342,
          -10.888362884521484,
          -9.161057472229004,
          -9.921760559082031,
          -6.727778911590576,
          -14.233307838439941
         ],
         "y": [
          4.463878154754639,
          -7.38992977142334,
          -0.7667171359062195,
          6.958578109741211,
          -2.7215824127197266,
          -0.5943776369094849,
          0.5455977320671082,
          3.7619588375091553,
          -1.368363380432129,
          -4.374938488006592,
          0.4364297389984131,
          0.5096536874771118,
          0.06030787527561188,
          -0.7667725086212158,
          -0.7325468063354492,
          -1.5724046230316162,
          -2.429616689682007,
          -5.583686351776123,
          -4.127386093139648,
          -3.6929891109466553,
          1.937744140625,
          2.8728537559509277,
          1.384982943534851,
          1.8959881067276,
          -2.9996743202209473,
          1.7684427499771118,
          -3.378185987472534,
          -1.3660387992858887,
          0.20995554327964783,
          -1.5873165130615234,
          -4.513360500335693,
          -1.674950361251831,
          -2.0229756832122803,
          0.3702866733074188,
          -2.392470598220825,
          -3.7421019077301025,
          -2.4381470680236816,
          -3.2997543811798096,
          -1.676174521446228,
          0.13056719303131104,
          -4.790683746337891,
          -4.237742900848389,
          6.9540276527404785,
          -0.5837053060531616,
          -0.14954324066638947,
          -4.130001544952393,
          1.8572003841400146,
          -3.882640838623047,
          -6.901429176330566,
          -3.6409549713134766,
          -4.7019805908203125,
          6.196733474731445,
          6.958297252655029,
          -2.75982403755188,
          -2.354796886444092,
          -3.1502797603607178,
          -3.7010586261749268,
          -5.096941947937012,
          -3.0174124240875244,
          3.865941047668457,
          3.875465154647827,
          4.443223476409912,
          4.434655666351318,
          4.442530155181885,
          -5.61074686050415,
          -5.3521037101745605,
          -5.968878269195557,
          6.510283470153809,
          -2.599168062210083,
          6.903672218322754,
          6.903678894042969,
          6.057548522949219,
          6.1968865394592285,
          -1.2448909282684326,
          0.5050407648086548,
          -3.399045467376709,
          -3.1705009937286377,
          -1.0982532501220703,
          -5.146862030029297,
          -2.782731771469116,
          -3.4243481159210205,
          -4.1795878410339355,
          -6.510432720184326,
          -3.552790403366089,
          -3.1239821910858154,
          -2.088470697402954,
          -0.26202499866485596,
          -2.5360047817230225,
          -8.14074420928955,
          -5.84626579284668,
          -5.265597820281982,
          -8.016618728637695,
          -7.717855930328369,
          -4.020124912261963,
          -4.241337776184082,
          -4.227733612060547,
          -3.866400718688965,
          -7.509415149688721,
          4.441251754760742,
          -2.7134082317352295,
          -7.955587387084961,
          -1.2114472389221191,
          -1.1862294673919678,
          -2.558678388595581,
          -5.468017578125,
          -2.5017261505126953,
          -2.375138521194458,
          -1.8900412321090698,
          -3.9127683639526367,
          -2.6820757389068604,
          -4.355838775634766,
          -7.9672417640686035,
          4.3656229972839355,
          -4.709558486938477,
          -6.123747825622559,
          -4.9382195472717285,
          -3.4642181396484375,
          3.563150644302368
         ]
        },
        {
         "marker": {
          "color": "rgb(153, 201, 69)"
         },
         "mode": "markers",
         "name": "Cluster 3",
         "type": "scatter",
         "x": [],
         "y": []
        },
        {
         "marker": {
          "color": "rgb(204, 97, 176)"
         },
         "mode": "markers",
         "name": "Cluster 4",
         "type": "scatter",
         "x": [],
         "y": []
        },
        {
         "marker": {
          "color": "white",
          "size": 10
         },
         "mode": "markers",
         "name": "Centroides",
         "type": "scatter",
         "x": [
          3.11630916595459,
          26.337604522705078,
          -9.57339859008789
         ],
         "y": [
          1.5638070106506348,
          1.2523612976074219,
          -1.6224223375320435
         ]
        }
       ],
       "layout": {
        "annotations": [
         {
          "showarrow": false,
          "text": "Cohesion: 6920.75, Separation: 2008.37",
          "x": 29.978515625,
          "y": 9.012147903442383,
          "yshift": 10
         }
        ],
        "font": {
         "color": "white"
        },
        "template": {
         "data": {
          "bar": [
           {
            "error_x": {
             "color": "#f2f5fa"
            },
            "error_y": {
             "color": "#f2f5fa"
            },
            "marker": {
             "line": {
              "color": "rgb(17,17,17)",
              "width": 0.5
             },
             "pattern": {
              "fillmode": "overlay",
              "size": 10,
              "solidity": 0.2
             }
            },
            "type": "bar"
           }
          ],
          "barpolar": [
           {
            "marker": {
             "line": {
              "color": "rgb(17,17,17)",
              "width": 0.5
             },
             "pattern": {
              "fillmode": "overlay",
              "size": 10,
              "solidity": 0.2
             }
            },
            "type": "barpolar"
           }
          ],
          "carpet": [
           {
            "aaxis": {
             "endlinecolor": "#A2B1C6",
             "gridcolor": "#506784",
             "linecolor": "#506784",
             "minorgridcolor": "#506784",
             "startlinecolor": "#A2B1C6"
            },
            "baxis": {
             "endlinecolor": "#A2B1C6",
             "gridcolor": "#506784",
             "linecolor": "#506784",
             "minorgridcolor": "#506784",
             "startlinecolor": "#A2B1C6"
            },
            "type": "carpet"
           }
          ],
          "choropleth": [
           {
            "colorbar": {
             "outlinewidth": 0,
             "ticks": ""
            },
            "type": "choropleth"
           }
          ],
          "contour": [
           {
            "colorbar": {
             "outlinewidth": 0,
             "ticks": ""
            },
            "colorscale": [
             [
              0,
              "#0d0887"
             ],
             [
              0.1111111111111111,
              "#46039f"
             ],
             [
              0.2222222222222222,
              "#7201a8"
             ],
             [
              0.3333333333333333,
              "#9c179e"
             ],
             [
              0.4444444444444444,
              "#bd3786"
             ],
             [
              0.5555555555555556,
              "#d8576b"
             ],
             [
              0.6666666666666666,
              "#ed7953"
             ],
             [
              0.7777777777777778,
              "#fb9f3a"
             ],
             [
              0.8888888888888888,
              "#fdca26"
             ],
             [
              1,
              "#f0f921"
             ]
            ],
            "type": "contour"
           }
          ],
          "contourcarpet": [
           {
            "colorbar": {
             "outlinewidth": 0,
             "ticks": ""
            },
            "type": "contourcarpet"
           }
          ],
          "heatmap": [
           {
            "colorbar": {
             "outlinewidth": 0,
             "ticks": ""
            },
            "colorscale": [
             [
              0,
              "#0d0887"
             ],
             [
              0.1111111111111111,
              "#46039f"
             ],
             [
              0.2222222222222222,
              "#7201a8"
             ],
             [
              0.3333333333333333,
              "#9c179e"
             ],
             [
              0.4444444444444444,
              "#bd3786"
             ],
             [
              0.5555555555555556,
              "#d8576b"
             ],
             [
              0.6666666666666666,
              "#ed7953"
             ],
             [
              0.7777777777777778,
              "#fb9f3a"
             ],
             [
              0.8888888888888888,
              "#fdca26"
             ],
             [
              1,
              "#f0f921"
             ]
            ],
            "type": "heatmap"
           }
          ],
          "heatmapgl": [
           {
            "colorbar": {
             "outlinewidth": 0,
             "ticks": ""
            },
            "colorscale": [
             [
              0,
              "#0d0887"
             ],
             [
              0.1111111111111111,
              "#46039f"
             ],
             [
              0.2222222222222222,
              "#7201a8"
             ],
             [
              0.3333333333333333,
              "#9c179e"
             ],
             [
              0.4444444444444444,
              "#bd3786"
             ],
             [
              0.5555555555555556,
              "#d8576b"
             ],
             [
              0.6666666666666666,
              "#ed7953"
             ],
             [
              0.7777777777777778,
              "#fb9f3a"
             ],
             [
              0.8888888888888888,
              "#fdca26"
             ],
             [
              1,
              "#f0f921"
             ]
            ],
            "type": "heatmapgl"
           }
          ],
          "histogram": [
           {
            "marker": {
             "pattern": {
              "fillmode": "overlay",
              "size": 10,
              "solidity": 0.2
             }
            },
            "type": "histogram"
           }
          ],
          "histogram2d": [
           {
            "colorbar": {
             "outlinewidth": 0,
             "ticks": ""
            },
            "colorscale": [
             [
              0,
              "#0d0887"
             ],
             [
              0.1111111111111111,
              "#46039f"
             ],
             [
              0.2222222222222222,
              "#7201a8"
             ],
             [
              0.3333333333333333,
              "#9c179e"
             ],
             [
              0.4444444444444444,
              "#bd3786"
             ],
             [
              0.5555555555555556,
              "#d8576b"
             ],
             [
              0.6666666666666666,
              "#ed7953"
             ],
             [
              0.7777777777777778,
              "#fb9f3a"
             ],
             [
              0.8888888888888888,
              "#fdca26"
             ],
             [
              1,
              "#f0f921"
             ]
            ],
            "type": "histogram2d"
           }
          ],
          "histogram2dcontour": [
           {
            "colorbar": {
             "outlinewidth": 0,
             "ticks": ""
            },
            "colorscale": [
             [
              0,
              "#0d0887"
             ],
             [
              0.1111111111111111,
              "#46039f"
             ],
             [
              0.2222222222222222,
              "#7201a8"
             ],
             [
              0.3333333333333333,
              "#9c179e"
             ],
             [
              0.4444444444444444,
              "#bd3786"
             ],
             [
              0.5555555555555556,
              "#d8576b"
             ],
             [
              0.6666666666666666,
              "#ed7953"
             ],
             [
              0.7777777777777778,
              "#fb9f3a"
             ],
             [
              0.8888888888888888,
              "#fdca26"
             ],
             [
              1,
              "#f0f921"
             ]
            ],
            "type": "histogram2dcontour"
           }
          ],
          "mesh3d": [
           {
            "colorbar": {
             "outlinewidth": 0,
             "ticks": ""
            },
            "type": "mesh3d"
           }
          ],
          "parcoords": [
           {
            "line": {
             "colorbar": {
              "outlinewidth": 0,
              "ticks": ""
             }
            },
            "type": "parcoords"
           }
          ],
          "pie": [
           {
            "automargin": true,
            "type": "pie"
           }
          ],
          "scatter": [
           {
            "marker": {
             "line": {
              "color": "#283442"
             }
            },
            "type": "scatter"
           }
          ],
          "scatter3d": [
           {
            "line": {
             "colorbar": {
              "outlinewidth": 0,
              "ticks": ""
             }
            },
            "marker": {
             "colorbar": {
              "outlinewidth": 0,
              "ticks": ""
             }
            },
            "type": "scatter3d"
           }
          ],
          "scattercarpet": [
           {
            "marker": {
             "colorbar": {
              "outlinewidth": 0,
              "ticks": ""
             }
            },
            "type": "scattercarpet"
           }
          ],
          "scattergeo": [
           {
            "marker": {
             "colorbar": {
              "outlinewidth": 0,
              "ticks": ""
             }
            },
            "type": "scattergeo"
           }
          ],
          "scattergl": [
           {
            "marker": {
             "line": {
              "color": "#283442"
             }
            },
            "type": "scattergl"
           }
          ],
          "scattermapbox": [
           {
            "marker": {
             "colorbar": {
              "outlinewidth": 0,
              "ticks": ""
             }
            },
            "type": "scattermapbox"
           }
          ],
          "scatterpolar": [
           {
            "marker": {
             "colorbar": {
              "outlinewidth": 0,
              "ticks": ""
             }
            },
            "type": "scatterpolar"
           }
          ],
          "scatterpolargl": [
           {
            "marker": {
             "colorbar": {
              "outlinewidth": 0,
              "ticks": ""
             }
            },
            "type": "scatterpolargl"
           }
          ],
          "scatterternary": [
           {
            "marker": {
             "colorbar": {
              "outlinewidth": 0,
              "ticks": ""
             }
            },
            "type": "scatterternary"
           }
          ],
          "surface": [
           {
            "colorbar": {
             "outlinewidth": 0,
             "ticks": ""
            },
            "colorscale": [
             [
              0,
              "#0d0887"
             ],
             [
              0.1111111111111111,
              "#46039f"
             ],
             [
              0.2222222222222222,
              "#7201a8"
             ],
             [
              0.3333333333333333,
              "#9c179e"
             ],
             [
              0.4444444444444444,
              "#bd3786"
             ],
             [
              0.5555555555555556,
              "#d8576b"
             ],
             [
              0.6666666666666666,
              "#ed7953"
             ],
             [
              0.7777777777777778,
              "#fb9f3a"
             ],
             [
              0.8888888888888888,
              "#fdca26"
             ],
             [
              1,
              "#f0f921"
             ]
            ],
            "type": "surface"
           }
          ],
          "table": [
           {
            "cells": {
             "fill": {
              "color": "#506784"
             },
             "line": {
              "color": "rgb(17,17,17)"
             }
            },
            "header": {
             "fill": {
              "color": "#2a3f5f"
             },
             "line": {
              "color": "rgb(17,17,17)"
             }
            },
            "type": "table"
           }
          ]
         },
         "layout": {
          "annotationdefaults": {
           "arrowcolor": "#f2f5fa",
           "arrowhead": 0,
           "arrowwidth": 1
          },
          "autotypenumbers": "strict",
          "coloraxis": {
           "colorbar": {
            "outlinewidth": 0,
            "ticks": ""
           }
          },
          "colorscale": {
           "diverging": [
            [
             0,
             "#8e0152"
            ],
            [
             0.1,
             "#c51b7d"
            ],
            [
             0.2,
             "#de77ae"
            ],
            [
             0.3,
             "#f1b6da"
            ],
            [
             0.4,
             "#fde0ef"
            ],
            [
             0.5,
             "#f7f7f7"
            ],
            [
             0.6,
             "#e6f5d0"
            ],
            [
             0.7,
             "#b8e186"
            ],
            [
             0.8,
             "#7fbc41"
            ],
            [
             0.9,
             "#4d9221"
            ],
            [
             1,
             "#276419"
            ]
           ],
           "sequential": [
            [
             0,
             "#0d0887"
            ],
            [
             0.1111111111111111,
             "#46039f"
            ],
            [
             0.2222222222222222,
             "#7201a8"
            ],
            [
             0.3333333333333333,
             "#9c179e"
            ],
            [
             0.4444444444444444,
             "#bd3786"
            ],
            [
             0.5555555555555556,
             "#d8576b"
            ],
            [
             0.6666666666666666,
             "#ed7953"
            ],
            [
             0.7777777777777778,
             "#fb9f3a"
            ],
            [
             0.8888888888888888,
             "#fdca26"
            ],
            [
             1,
             "#f0f921"
            ]
           ],
           "sequentialminus": [
            [
             0,
             "#0d0887"
            ],
            [
             0.1111111111111111,
             "#46039f"
            ],
            [
             0.2222222222222222,
             "#7201a8"
            ],
            [
             0.3333333333333333,
             "#9c179e"
            ],
            [
             0.4444444444444444,
             "#bd3786"
            ],
            [
             0.5555555555555556,
             "#d8576b"
            ],
            [
             0.6666666666666666,
             "#ed7953"
            ],
            [
             0.7777777777777778,
             "#fb9f3a"
            ],
            [
             0.8888888888888888,
             "#fdca26"
            ],
            [
             1,
             "#f0f921"
            ]
           ]
          },
          "colorway": [
           "#636efa",
           "#EF553B",
           "#00cc96",
           "#ab63fa",
           "#FFA15A",
           "#19d3f3",
           "#FF6692",
           "#B6E880",
           "#FF97FF",
           "#FECB52"
          ],
          "font": {
           "color": "#f2f5fa"
          },
          "geo": {
           "bgcolor": "rgb(17,17,17)",
           "lakecolor": "rgb(17,17,17)",
           "landcolor": "rgb(17,17,17)",
           "showlakes": true,
           "showland": true,
           "subunitcolor": "#506784"
          },
          "hoverlabel": {
           "align": "left"
          },
          "hovermode": "closest",
          "mapbox": {
           "style": "dark"
          },
          "paper_bgcolor": "rgb(17,17,17)",
          "plot_bgcolor": "rgb(17,17,17)",
          "polar": {
           "angularaxis": {
            "gridcolor": "#506784",
            "linecolor": "#506784",
            "ticks": ""
           },
           "bgcolor": "rgb(17,17,17)",
           "radialaxis": {
            "gridcolor": "#506784",
            "linecolor": "#506784",
            "ticks": ""
           }
          },
          "scene": {
           "xaxis": {
            "backgroundcolor": "rgb(17,17,17)",
            "gridcolor": "#506784",
            "gridwidth": 2,
            "linecolor": "#506784",
            "showbackground": true,
            "ticks": "",
            "zerolinecolor": "#C8D4E3"
           },
           "yaxis": {
            "backgroundcolor": "rgb(17,17,17)",
            "gridcolor": "#506784",
            "gridwidth": 2,
            "linecolor": "#506784",
            "showbackground": true,
            "ticks": "",
            "zerolinecolor": "#C8D4E3"
           },
           "zaxis": {
            "backgroundcolor": "rgb(17,17,17)",
            "gridcolor": "#506784",
            "gridwidth": 2,
            "linecolor": "#506784",
            "showbackground": true,
            "ticks": "",
            "zerolinecolor": "#C8D4E3"
           }
          },
          "shapedefaults": {
           "line": {
            "color": "#f2f5fa"
           }
          },
          "sliderdefaults": {
           "bgcolor": "#C8D4E3",
           "bordercolor": "rgb(17,17,17)",
           "borderwidth": 1,
           "tickwidth": 0
          },
          "ternary": {
           "aaxis": {
            "gridcolor": "#506784",
            "linecolor": "#506784",
            "ticks": ""
           },
           "baxis": {
            "gridcolor": "#506784",
            "linecolor": "#506784",
            "ticks": ""
           },
           "bgcolor": "rgb(17,17,17)",
           "caxis": {
            "gridcolor": "#506784",
            "linecolor": "#506784",
            "ticks": ""
           }
          },
          "title": {
           "x": 0.05
          },
          "updatemenudefaults": {
           "bgcolor": "#506784",
           "borderwidth": 0
          },
          "xaxis": {
           "automargin": true,
           "gridcolor": "#283442",
           "linecolor": "#506784",
           "ticks": "",
           "title": {
            "standoff": 15
           },
           "zerolinecolor": "#283442",
           "zerolinewidth": 2
          },
          "yaxis": {
           "automargin": true,
           "gridcolor": "#283442",
           "linecolor": "#506784",
           "ticks": "",
           "title": {
            "standoff": 15
           },
           "zerolinecolor": "#283442",
           "zerolinewidth": 2
          }
         }
        },
        "title": {
         "text": "Visualization of Clusters with TSNE and Cosine Distance"
        }
       }
      }
     },
     "metadata": {},
     "output_type": "display_data"
    }
   ],
   "source": [
    "pca = PCA(n_components)\n",
    "principal_components = pca.fit_transform(df_fundamentals_final.select_dtypes(include=['int', 'float64', 'number']))\n",
    "\n",
    "tsne = TSNE(n_components=2, metric='cosine')\n",
    "tsne_results = tsne.fit_transform(principal_components)\n",
    "\n",
    "kmeans = KMeans(n_clusters=3, max_iter=10_000, random_state=19051992)\n",
    "clusters = kmeans.fit_predict(tsne_results)\n",
    "\n",
    "df_visualization = pd.DataFrame(tsne_results, columns=['TSNE1', 'TSNE2'])\n",
    "df_visualization['cluster'] = clusters\n",
    "\n",
    "labels = kmeans.labels_\n",
    "centroids = kmeans.cluster_centers_\n",
    "\n",
    "fig = go.Figure()\n",
    "for i in range(5):\n",
    "    cluster_points = df_visualization[df_visualization['cluster'] == i]\n",
    "    fig.add_trace(go.Scatter(x=cluster_points['TSNE1'], y=cluster_points['TSNE2'], mode='markers', name=f'Cluster {i}', marker=dict(color=px.colors.qualitative.Vivid[i])))\n",
    "fig.add_trace(go.Scatter(x=centroids[:, 0], y=centroids[:, 1], mode='markers', marker=dict(size=10, color='white'), name='Centroides'))\n",
    "fig.update_layout(title='Visualization of Clusters with TSNE and Cosine Distance', template='plotly_dark', font=dict(color='white'))\n",
    "\n",
    "cohesion = calcular_coesao(tsne_results, clusters, centroids)\n",
    "separation = calcular_separacao(centroids)\n",
    "\n",
    "fig.add_annotation(x=max(tsne_results[:, 0]), y=max(tsne_results[:, 1]), text=f'Cohesion: {cohesion:.2f}, Separation: {separation:.2f}', showarrow=False, yshift=10)\n",
    "fig.show()"
   ]
  },
  {
   "cell_type": "markdown",
   "metadata": {},
   "source": [
    "**`t-SNE and Cosine Distance Cluster Visualization`**\n",
    "\n",
    "- **Visualization Technique**: Uses t-SNE for dimensionality reduction and cosine distance to measure similarity.\n",
    "- **Clusters Identified**: Three distinct clusters labeled as Cluster 0 (orange), Cluster 1 (blue), and Cluster 2 (green).\n",
    "- **Centroids**: Marked with white dots, representing the central point of each cluster.\n",
    "\n",
    "**`Quantitative Measures`**\n",
    "\n",
    "- **Cohesion**: 6920.75\n",
    "  - Indicates a strong within-cluster similarity among data points.\n",
    "\n",
    "- **Separation**: 2008.37\n",
    "  - Reflects the distinctness of each cluster from the others.\n",
    "\n",
    "**`Observations`**\n",
    "\n",
    "- **Cluster 0** (orange) and **Cluster 1** (blue) are more dispersed compared to **Cluster 2** (green), which is more compact.\n",
    "- The centroids are well-placed within each cluster, suggesting accurate representation of the central tendency.\n",
    "- The high cohesion score implies that t-SNE and cosine distance effectively grouped similar data points together.\n",
    "\n",
    "**`Implications`**\n",
    "\n",
    "- The clear separation and high cohesion indicate that the clustering method has successfully identified meaningful groups within the data.\n",
    "- This visualization can inform decision-making in scenarios where data segmentation is crucial, such as customer segmentation, targeted marketing, or portfolio management in finance.\n",
    "\n"
   ]
  },
  {
   "cell_type": "markdown",
   "metadata": {},
   "source": [
    "#### Inserting the clusters into the base"
   ]
  },
  {
   "cell_type": "code",
   "execution_count": 31,
   "metadata": {},
   "outputs": [
    {
     "data": {
      "text/html": [
       "<div>\n",
       "<style scoped>\n",
       "    .dataframe tbody tr th:only-of-type {\n",
       "        vertical-align: middle;\n",
       "    }\n",
       "\n",
       "    .dataframe tbody tr th {\n",
       "        vertical-align: top;\n",
       "    }\n",
       "\n",
       "    .dataframe thead th {\n",
       "        text-align: right;\n",
       "    }\n",
       "</style>\n",
       "<table border=\"1\" class=\"dataframe\">\n",
       "  <thead>\n",
       "    <tr style=\"text-align: right;\">\n",
       "      <th></th>\n",
       "      <th>ticker</th>\n",
       "      <th>long_name</th>\n",
       "      <th>industry</th>\n",
       "      <th>market_cap</th>\n",
       "      <th>enterprise_value</th>\n",
       "      <th>total_revenue</th>\n",
       "      <th>profit_margins</th>\n",
       "      <th>operating_margins</th>\n",
       "      <th>dividend_rate</th>\n",
       "      <th>beta</th>\n",
       "      <th>ebitda</th>\n",
       "      <th>trailing_pe</th>\n",
       "      <th>forward_pe</th>\n",
       "      <th>volume</th>\n",
       "      <th>average_volume</th>\n",
       "      <th>fifty_two_week_low</th>\n",
       "      <th>fifty_two_week_high</th>\n",
       "      <th>price_to_sales_trailing_12_months</th>\n",
       "      <th>fifty_day_average</th>\n",
       "      <th>two_hundred_day_average</th>\n",
       "      <th>trailing_annual_dividend_rate</th>\n",
       "      <th>trailing_annual_dividend_yield</th>\n",
       "      <th>book_value</th>\n",
       "      <th>price_to_book</th>\n",
       "      <th>total_cash</th>\n",
       "      <th>total_cash_per_share</th>\n",
       "      <th>total_debt</th>\n",
       "      <th>earnings_quarterly_growth</th>\n",
       "      <th>revenue_growth</th>\n",
       "      <th>gross_margins</th>\n",
       "      <th>ebitda_margins</th>\n",
       "      <th>return_on_assets</th>\n",
       "      <th>return_on_equity</th>\n",
       "      <th>gross_profits</th>\n",
       "      <th>total_assets_approx</th>\n",
       "      <th>asset_turnover</th>\n",
       "      <th>earnings_growth_rate</th>\n",
       "      <th>dividend_payout_ratio</th>\n",
       "      <th>equity</th>\n",
       "      <th>debt_to_equity</th>\n",
       "      <th>roi</th>\n",
       "      <th>roce</th>\n",
       "      <th>sector_basic_materials</th>\n",
       "      <th>sector_communication_services</th>\n",
       "      <th>sector_consumer_cyclical</th>\n",
       "      <th>sector_consumer_defensive</th>\n",
       "      <th>sector_energy</th>\n",
       "      <th>sector_financial_services</th>\n",
       "      <th>sector_healthcare</th>\n",
       "      <th>sector_industrials</th>\n",
       "      <th>sector_real_estate</th>\n",
       "      <th>sector_technology</th>\n",
       "      <th>sector_utilities</th>\n",
       "      <th>kmeans_cluster</th>\n",
       "    </tr>\n",
       "  </thead>\n",
       "  <tbody>\n",
       "    <tr>\n",
       "      <th>0</th>\n",
       "      <td>ABCB4.SA</td>\n",
       "      <td>Banco ABC Brasil S.A.</td>\n",
       "      <td>Banks - Regional</td>\n",
       "      <td>4.265434e+09</td>\n",
       "      <td>1.477339e+10</td>\n",
       "      <td>1.941779e+09</td>\n",
       "      <td>0.41576</td>\n",
       "      <td>0.38826</td>\n",
       "      <td>1.56</td>\n",
       "      <td>0.679</td>\n",
       "      <td>0.000000e+00</td>\n",
       "      <td>4.069768</td>\n",
       "      <td>4.706601</td>\n",
       "      <td>92300.0</td>\n",
       "      <td>747165.0</td>\n",
       "      <td>15.85</td>\n",
       "      <td>21.99</td>\n",
       "      <td>2.196663</td>\n",
       "      <td>19.3382</td>\n",
       "      <td>18.14667</td>\n",
       "      <td>1.550</td>\n",
       "      <td>0.080687</td>\n",
       "      <td>24.518</td>\n",
       "      <td>0.785138</td>\n",
       "      <td>7.774306e+09</td>\n",
       "      <td>35.162</td>\n",
       "      <td>1.829846e+10</td>\n",
       "      <td>0.001</td>\n",
       "      <td>0.003</td>\n",
       "      <td>0.00000</td>\n",
       "      <td>0.00000</td>\n",
       "      <td>0.01530</td>\n",
       "      <td>0.15680</td>\n",
       "      <td>1.973086e+09</td>\n",
       "      <td>7.774306e+09</td>\n",
       "      <td>0.249769</td>\n",
       "      <td>0.1</td>\n",
       "      <td>155000.000000</td>\n",
       "      <td>-1.052416e+10</td>\n",
       "      <td>-1.738710</td>\n",
       "      <td>0.131438</td>\n",
       "      <td>0.000000</td>\n",
       "      <td>0.0</td>\n",
       "      <td>0.0</td>\n",
       "      <td>0.0</td>\n",
       "      <td>0.0</td>\n",
       "      <td>0.0</td>\n",
       "      <td>1.0</td>\n",
       "      <td>0.0</td>\n",
       "      <td>0.0</td>\n",
       "      <td>0.0</td>\n",
       "      <td>0.0</td>\n",
       "      <td>0.0</td>\n",
       "      <td>2</td>\n",
       "    </tr>\n",
       "    <tr>\n",
       "      <th>1</th>\n",
       "      <td>AGRO3.SA</td>\n",
       "      <td>BrasilAgro - Companhia Brasileira de Proprieda...</td>\n",
       "      <td>Farm Products</td>\n",
       "      <td>2.466480e+09</td>\n",
       "      <td>2.912933e+09</td>\n",
       "      <td>1.249437e+09</td>\n",
       "      <td>0.21493</td>\n",
       "      <td>0.25031</td>\n",
       "      <td>3.21</td>\n",
       "      <td>0.432</td>\n",
       "      <td>2.648920e+08</td>\n",
       "      <td>9.450382</td>\n",
       "      <td>6.332481</td>\n",
       "      <td>298100.0</td>\n",
       "      <td>666692.0</td>\n",
       "      <td>22.29</td>\n",
       "      <td>32.71</td>\n",
       "      <td>1.974073</td>\n",
       "      <td>27.0106</td>\n",
       "      <td>25.58635</td>\n",
       "      <td>3.240</td>\n",
       "      <td>0.132029</td>\n",
       "      <td>22.237</td>\n",
       "      <td>1.113460</td>\n",
       "      <td>3.838370e+08</td>\n",
       "      <td>3.885</td>\n",
       "      <td>8.720750e+08</td>\n",
       "      <td>6.801</td>\n",
       "      <td>0.671</td>\n",
       "      <td>0.25252</td>\n",
       "      <td>0.21201</td>\n",
       "      <td>0.03839</td>\n",
       "      <td>0.12170</td>\n",
       "      <td>3.155040e+08</td>\n",
       "      <td>3.838370e+08</td>\n",
       "      <td>3.255124</td>\n",
       "      <td>680.1</td>\n",
       "      <td>47.640053</td>\n",
       "      <td>-4.882380e+08</td>\n",
       "      <td>-1.786168</td>\n",
       "      <td>0.428927</td>\n",
       "      <td>0.079343</td>\n",
       "      <td>0.0</td>\n",
       "      <td>0.0</td>\n",
       "      <td>0.0</td>\n",
       "      <td>1.0</td>\n",
       "      <td>0.0</td>\n",
       "      <td>0.0</td>\n",
       "      <td>0.0</td>\n",
       "      <td>0.0</td>\n",
       "      <td>0.0</td>\n",
       "      <td>0.0</td>\n",
       "      <td>0.0</td>\n",
       "      <td>0</td>\n",
       "    </tr>\n",
       "    <tr>\n",
       "      <th>2</th>\n",
       "      <td>RAIL3.SA</td>\n",
       "      <td>Rumo S.A.</td>\n",
       "      <td>Railroads</td>\n",
       "      <td>4.228882e+10</td>\n",
       "      <td>5.524305e+10</td>\n",
       "      <td>1.031746e+10</td>\n",
       "      <td>0.07639</td>\n",
       "      <td>0.33544</td>\n",
       "      <td>0.07</td>\n",
       "      <td>0.227</td>\n",
       "      <td>4.522541e+09</td>\n",
       "      <td>54.309525</td>\n",
       "      <td>21.723810</td>\n",
       "      <td>5733400.0</td>\n",
       "      <td>14644522.0</td>\n",
       "      <td>16.21</td>\n",
       "      <td>24.44</td>\n",
       "      <td>4.098764</td>\n",
       "      <td>22.5852</td>\n",
       "      <td>20.95235</td>\n",
       "      <td>0.066</td>\n",
       "      <td>0.002993</td>\n",
       "      <td>8.334</td>\n",
       "      <td>2.736981</td>\n",
       "      <td>7.656040e+09</td>\n",
       "      <td>4.132</td>\n",
       "      <td>2.184320e+10</td>\n",
       "      <td>3.935</td>\n",
       "      <td>0.121</td>\n",
       "      <td>0.34493</td>\n",
       "      <td>0.43834</td>\n",
       "      <td>0.04252</td>\n",
       "      <td>0.05163</td>\n",
       "      <td>3.146360e+09</td>\n",
       "      <td>7.656040e+09</td>\n",
       "      <td>1.347623</td>\n",
       "      <td>393.5</td>\n",
       "      <td>1.677255</td>\n",
       "      <td>-1.418716e+10</td>\n",
       "      <td>-1.539646</td>\n",
       "      <td>0.186765</td>\n",
       "      <td>0.070519</td>\n",
       "      <td>0.0</td>\n",
       "      <td>0.0</td>\n",
       "      <td>0.0</td>\n",
       "      <td>0.0</td>\n",
       "      <td>0.0</td>\n",
       "      <td>0.0</td>\n",
       "      <td>0.0</td>\n",
       "      <td>1.0</td>\n",
       "      <td>0.0</td>\n",
       "      <td>0.0</td>\n",
       "      <td>0.0</td>\n",
       "      <td>1</td>\n",
       "    </tr>\n",
       "    <tr>\n",
       "      <th>3</th>\n",
       "      <td>ALPA3.SA</td>\n",
       "      <td>Alpargatas S.A.</td>\n",
       "      <td>Footwear &amp; Accessories</td>\n",
       "      <td>5.309793e+09</td>\n",
       "      <td>6.482982e+09</td>\n",
       "      <td>4.022153e+09</td>\n",
       "      <td>-0.05671</td>\n",
       "      <td>-0.06434</td>\n",
       "      <td>0.40</td>\n",
       "      <td>0.571</td>\n",
       "      <td>-1.980000e+05</td>\n",
       "      <td>0.000000</td>\n",
       "      <td>0.000000</td>\n",
       "      <td>1100.0</td>\n",
       "      <td>3953.0</td>\n",
       "      <td>7.27</td>\n",
       "      <td>17.80</td>\n",
       "      <td>1.320137</td>\n",
       "      <td>8.7146</td>\n",
       "      <td>9.63540</td>\n",
       "      <td>0.000</td>\n",
       "      <td>0.000000</td>\n",
       "      <td>7.867</td>\n",
       "      <td>1.008008</td>\n",
       "      <td>4.142880e+08</td>\n",
       "      <td>0.614</td>\n",
       "      <td>1.550341e+09</td>\n",
       "      <td>0.000</td>\n",
       "      <td>-0.127</td>\n",
       "      <td>0.43246</td>\n",
       "      <td>-0.00005</td>\n",
       "      <td>-0.00910</td>\n",
       "      <td>-0.04153</td>\n",
       "      <td>1.968303e+09</td>\n",
       "      <td>4.142880e+08</td>\n",
       "      <td>9.708591</td>\n",
       "      <td>0.0</td>\n",
       "      <td>0.000000</td>\n",
       "      <td>-1.136053e+09</td>\n",
       "      <td>-1.364673</td>\n",
       "      <td>0.620417</td>\n",
       "      <td>-0.000029</td>\n",
       "      <td>0.0</td>\n",
       "      <td>0.0</td>\n",
       "      <td>1.0</td>\n",
       "      <td>0.0</td>\n",
       "      <td>0.0</td>\n",
       "      <td>0.0</td>\n",
       "      <td>0.0</td>\n",
       "      <td>0.0</td>\n",
       "      <td>0.0</td>\n",
       "      <td>0.0</td>\n",
       "      <td>0.0</td>\n",
       "      <td>0</td>\n",
       "    </tr>\n",
       "    <tr>\n",
       "      <th>4</th>\n",
       "      <td>ALPA4.SA</td>\n",
       "      <td>Alpargatas S.A.</td>\n",
       "      <td>Footwear &amp; Accessories</td>\n",
       "      <td>5.350758e+09</td>\n",
       "      <td>6.395236e+09</td>\n",
       "      <td>4.022153e+09</td>\n",
       "      <td>-0.05671</td>\n",
       "      <td>-0.06434</td>\n",
       "      <td>0.43</td>\n",
       "      <td>0.571</td>\n",
       "      <td>-1.980000e+05</td>\n",
       "      <td>0.000000</td>\n",
       "      <td>14.555555</td>\n",
       "      <td>1132100.0</td>\n",
       "      <td>5605825.0</td>\n",
       "      <td>6.81</td>\n",
       "      <td>22.51</td>\n",
       "      <td>1.330322</td>\n",
       "      <td>8.3228</td>\n",
       "      <td>9.27290</td>\n",
       "      <td>0.000</td>\n",
       "      <td>0.000000</td>\n",
       "      <td>7.867</td>\n",
       "      <td>0.999110</td>\n",
       "      <td>4.142880e+08</td>\n",
       "      <td>0.614</td>\n",
       "      <td>1.550341e+09</td>\n",
       "      <td>0.000</td>\n",
       "      <td>-0.127</td>\n",
       "      <td>0.43246</td>\n",
       "      <td>-0.00005</td>\n",
       "      <td>-0.00910</td>\n",
       "      <td>-0.04153</td>\n",
       "      <td>1.968303e+09</td>\n",
       "      <td>4.142880e+08</td>\n",
       "      <td>9.708591</td>\n",
       "      <td>0.0</td>\n",
       "      <td>0.000000</td>\n",
       "      <td>-1.136053e+09</td>\n",
       "      <td>-1.364673</td>\n",
       "      <td>0.628930</td>\n",
       "      <td>-0.000029</td>\n",
       "      <td>0.0</td>\n",
       "      <td>0.0</td>\n",
       "      <td>1.0</td>\n",
       "      <td>0.0</td>\n",
       "      <td>0.0</td>\n",
       "      <td>0.0</td>\n",
       "      <td>0.0</td>\n",
       "      <td>0.0</td>\n",
       "      <td>0.0</td>\n",
       "      <td>0.0</td>\n",
       "      <td>0.0</td>\n",
       "      <td>0</td>\n",
       "    </tr>\n",
       "  </tbody>\n",
       "</table>\n",
       "</div>"
      ],
      "text/plain": [
       "     ticker                                          long_name  \\\n",
       "0  ABCB4.SA                              Banco ABC Brasil S.A.   \n",
       "1  AGRO3.SA  BrasilAgro - Companhia Brasileira de Proprieda...   \n",
       "2  RAIL3.SA                                          Rumo S.A.   \n",
       "3  ALPA3.SA                                    Alpargatas S.A.   \n",
       "4  ALPA4.SA                                    Alpargatas S.A.   \n",
       "\n",
       "                 industry    market_cap  enterprise_value  total_revenue  \\\n",
       "0        Banks - Regional  4.265434e+09      1.477339e+10   1.941779e+09   \n",
       "1           Farm Products  2.466480e+09      2.912933e+09   1.249437e+09   \n",
       "2               Railroads  4.228882e+10      5.524305e+10   1.031746e+10   \n",
       "3  Footwear & Accessories  5.309793e+09      6.482982e+09   4.022153e+09   \n",
       "4  Footwear & Accessories  5.350758e+09      6.395236e+09   4.022153e+09   \n",
       "\n",
       "   profit_margins  operating_margins  dividend_rate   beta        ebitda  \\\n",
       "0         0.41576            0.38826           1.56  0.679  0.000000e+00   \n",
       "1         0.21493            0.25031           3.21  0.432  2.648920e+08   \n",
       "2         0.07639            0.33544           0.07  0.227  4.522541e+09   \n",
       "3        -0.05671           -0.06434           0.40  0.571 -1.980000e+05   \n",
       "4        -0.05671           -0.06434           0.43  0.571 -1.980000e+05   \n",
       "\n",
       "   trailing_pe  forward_pe     volume  average_volume  fifty_two_week_low  \\\n",
       "0     4.069768    4.706601    92300.0        747165.0               15.85   \n",
       "1     9.450382    6.332481   298100.0        666692.0               22.29   \n",
       "2    54.309525   21.723810  5733400.0      14644522.0               16.21   \n",
       "3     0.000000    0.000000     1100.0          3953.0                7.27   \n",
       "4     0.000000   14.555555  1132100.0       5605825.0                6.81   \n",
       "\n",
       "   fifty_two_week_high  price_to_sales_trailing_12_months  fifty_day_average  \\\n",
       "0                21.99                           2.196663            19.3382   \n",
       "1                32.71                           1.974073            27.0106   \n",
       "2                24.44                           4.098764            22.5852   \n",
       "3                17.80                           1.320137             8.7146   \n",
       "4                22.51                           1.330322             8.3228   \n",
       "\n",
       "   two_hundred_day_average  trailing_annual_dividend_rate  \\\n",
       "0                 18.14667                          1.550   \n",
       "1                 25.58635                          3.240   \n",
       "2                 20.95235                          0.066   \n",
       "3                  9.63540                          0.000   \n",
       "4                  9.27290                          0.000   \n",
       "\n",
       "   trailing_annual_dividend_yield  book_value  price_to_book    total_cash  \\\n",
       "0                        0.080687      24.518       0.785138  7.774306e+09   \n",
       "1                        0.132029      22.237       1.113460  3.838370e+08   \n",
       "2                        0.002993       8.334       2.736981  7.656040e+09   \n",
       "3                        0.000000       7.867       1.008008  4.142880e+08   \n",
       "4                        0.000000       7.867       0.999110  4.142880e+08   \n",
       "\n",
       "   total_cash_per_share    total_debt  earnings_quarterly_growth  \\\n",
       "0                35.162  1.829846e+10                      0.001   \n",
       "1                 3.885  8.720750e+08                      6.801   \n",
       "2                 4.132  2.184320e+10                      3.935   \n",
       "3                 0.614  1.550341e+09                      0.000   \n",
       "4                 0.614  1.550341e+09                      0.000   \n",
       "\n",
       "   revenue_growth  gross_margins  ebitda_margins  return_on_assets  \\\n",
       "0           0.003        0.00000         0.00000           0.01530   \n",
       "1           0.671        0.25252         0.21201           0.03839   \n",
       "2           0.121        0.34493         0.43834           0.04252   \n",
       "3          -0.127        0.43246        -0.00005          -0.00910   \n",
       "4          -0.127        0.43246        -0.00005          -0.00910   \n",
       "\n",
       "   return_on_equity  gross_profits  total_assets_approx  asset_turnover  \\\n",
       "0           0.15680   1.973086e+09         7.774306e+09        0.249769   \n",
       "1           0.12170   3.155040e+08         3.838370e+08        3.255124   \n",
       "2           0.05163   3.146360e+09         7.656040e+09        1.347623   \n",
       "3          -0.04153   1.968303e+09         4.142880e+08        9.708591   \n",
       "4          -0.04153   1.968303e+09         4.142880e+08        9.708591   \n",
       "\n",
       "   earnings_growth_rate  dividend_payout_ratio        equity  debt_to_equity  \\\n",
       "0                   0.1          155000.000000 -1.052416e+10       -1.738710   \n",
       "1                 680.1              47.640053 -4.882380e+08       -1.786168   \n",
       "2                 393.5               1.677255 -1.418716e+10       -1.539646   \n",
       "3                   0.0               0.000000 -1.136053e+09       -1.364673   \n",
       "4                   0.0               0.000000 -1.136053e+09       -1.364673   \n",
       "\n",
       "        roi      roce  sector_basic_materials  sector_communication_services  \\\n",
       "0  0.131438  0.000000                     0.0                            0.0   \n",
       "1  0.428927  0.079343                     0.0                            0.0   \n",
       "2  0.186765  0.070519                     0.0                            0.0   \n",
       "3  0.620417 -0.000029                     0.0                            0.0   \n",
       "4  0.628930 -0.000029                     0.0                            0.0   \n",
       "\n",
       "   sector_consumer_cyclical  sector_consumer_defensive  sector_energy  \\\n",
       "0                       0.0                        0.0            0.0   \n",
       "1                       0.0                        1.0            0.0   \n",
       "2                       0.0                        0.0            0.0   \n",
       "3                       1.0                        0.0            0.0   \n",
       "4                       1.0                        0.0            0.0   \n",
       "\n",
       "   sector_financial_services  sector_healthcare  sector_industrials  \\\n",
       "0                        1.0                0.0                 0.0   \n",
       "1                        0.0                0.0                 0.0   \n",
       "2                        0.0                0.0                 1.0   \n",
       "3                        0.0                0.0                 0.0   \n",
       "4                        0.0                0.0                 0.0   \n",
       "\n",
       "   sector_real_estate  sector_technology  sector_utilities  kmeans_cluster  \n",
       "0                 0.0                0.0               0.0               2  \n",
       "1                 0.0                0.0               0.0               0  \n",
       "2                 0.0                0.0               0.0               1  \n",
       "3                 0.0                0.0               0.0               0  \n",
       "4                 0.0                0.0               0.0               0  "
      ]
     },
     "execution_count": 31,
     "metadata": {},
     "output_type": "execute_result"
    }
   ],
   "source": [
    "df_fundamentals_final['kmeans_cluster'] = clusters\n",
    "df_fundamentals_final.head()"
   ]
  },
  {
   "cell_type": "markdown",
   "metadata": {},
   "source": [
    "##### Save File"
   ]
  },
  {
   "cell_type": "code",
   "execution_count": 32,
   "metadata": {},
   "outputs": [],
   "source": [
    "Path(file_path_book).mkdir(parents=True, exist_ok=True)\n",
    "df_fundamentals_book.to_csv(file_path_scored + \"/fundamentals_scored_clusters.csv\", index=False)"
   ]
  },
  {
   "cell_type": "markdown",
   "metadata": {},
   "source": [
    "## TL/DR"
   ]
  },
  {
   "cell_type": "markdown",
   "metadata": {},
   "source": [
    "**Decision Summary on Clustering**\n",
    "\n",
    "- **`Selected Number of Clusters`**: After consideration, the decision is to proceed with `3 clusters`.\n",
    "\n",
    "- **`Methodological Foundation`**: The Elbow Method suggested that **3** clusters strike a good balance between simplicity and meaningful data segmentation.\n",
    "\n",
    "- **`t-SNE Visualization Support`**: The t-SNE visualizations confirmed that `3 clusters` have clear boundaries and show a strong degree of separation.\n",
    "\n",
    "- **`Cohesion and Separation Metric`**: The selected clusters exhibit **high cohesion** and **adequate separation**, indicating a robust clustering model.\n",
    "\n",
    "- **`Practicality and Simplicity`**: A model with **3 clusters** is preferred for its practicality and ease of interpretation in strategic applications.\n",
    "\n",
    "- **`Flexibility for Future Analysis`**: The clustering approach with `3 clusters` allows for scalability and adaptability in future analyses.\n",
    "\n",
    "- **`Use Case Application`**: The three-cluster model is well-suited for applications such as `customer segmentation` and `market analysis`, providing broad yet distinct segments for strategic initiatives.\n",
    "\n",
    "The focus on **3 clusters** aligns with a strategic direction that prioritizes a more generalized understanding of the dataset, facilitating clearer communication and decision-making processes.\n"
   ]
  }
 ],
 "metadata": {
  "kernelspec": {
   "display_name": "Python 3",
   "language": "python",
   "name": "python3"
  },
  "language_info": {
   "codemirror_mode": {
    "name": "ipython",
    "version": 3
   },
   "file_extension": ".py",
   "mimetype": "text/x-python",
   "name": "python",
   "nbconvert_exporter": "python",
   "pygments_lexer": "ipython3",
   "version": "3.11.5"
  }
 },
 "nbformat": 4,
 "nbformat_minor": 2
}
